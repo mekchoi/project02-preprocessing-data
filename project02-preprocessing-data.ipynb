{
 "cells": [
  {
   "cell_type": "markdown",
   "metadata": {},
   "source": [
    "<div style=\"border:solid black 2px; padding: 20px\"><h1 style=\"color:green; margin-bottom:20px\">Reviewer's comment v1</h1>\n",
    "Halo Chulsum!\n",
    "\n",
    "Perkenalkan saya Naufal, disini saya akan mereview tugas Chulsum ya.\n",
    "\n",
    "Saya akan memberikan beberapa komen seperti dibawah ini, tolong jangan dipindah, dirubah, maupun dihapus ya.\n",
    "\n",
    "Komen yang saya berikan akan muncul dalam warna hijau, kuning, atau pun merah seperti ini:\n",
    "\n",
    "<div class=\"alert alert-success\">\n",
    "<b>Reviewer's comment</b> <a class=\"tocSkip\"></a>\n",
    "\n",
    "Bagus, semua berjalan lancar.\n",
    "\n",
    "</div>\n",
    "\n",
    "<div class=\"alert alert-warning\">\n",
    "<b>Reviewer's comment</b> <a class=\"tocSkip\"></a>\n",
    "\n",
    "Terdapat beberapa catatan.\n",
    "\n",
    "</div>\n",
    "\n",
    "<div class=\"alert alert-danger\">\n",
    "<b>Reviewer's comment</b> <a class=\"tocSkip\"></a>\n",
    "\n",
    "Perlu beberapa perbaikan\n",
    "\n",
    "</div>\n",
    "\n",
    "Dan tentu saja Chulsum dapat menjawab saya dengan menggunakan ini\n",
    "\n",
    "<div class=\"alert alert-block alert-info\">\n",
    "<b>Student answer.</b> <a class=\"tocSkip\"></a>\n",
    "</div>"
   ]
  },
  {
   "cell_type": "markdown",
   "metadata": {},
   "source": [
    "<div style=\"border:solid black 2px; padding: 20px\">\n",
    "<b>Reviewer's comment v1:</b>\n",
    "    \n",
    "<b>Overall Feedback</b> \n",
    "    \n",
    "- Project ini merupakan lompatan yang sangat jauh dibandingkan project sebelumnya maka dari itu saya berterima kasih telah memberikan waktu dan usaha yang tidak sedikit dalam pengerjaannya.\n",
    "- Namun terdapat beberapa poin kritikal seperti intruksi-instruksi yang ada sebaiknya ditulis ulang sedemikian rupa agar seolah-olah Chulsum sendiri yang memiliki inisiatif dalam alur pengerjaan project ini dan melatih sense of business dalam konteks project ini. \n",
    "    \n",
    "Untuk perbaikan nya ditunggu ya!\n",
    "</div>\n",
    "\n",
    "        "
   ]
  },
  {
   "cell_type": "markdown",
   "metadata": {},
   "source": [
    "<div style=\"border:solid black 2px; padding: 20px\">\n",
    "<b>Reviewer's comment v2:</b>\n",
    "    \n",
    "<b>Overall Feedback</b> \n",
    "    \n",
    "Well-done! Perbaikan yang dilakukan sudah bagus dan efisien. Dengan begitu project ini bisa disetujui dan melanjutkan ke tahapan berikutnya. Walaupun masih terdapat catatan bahwa fungsi yang dibuat masih belum sepenuhnya efisien namun bisa menjadi bahan untuk improvement kedepanya. Keep up the good work ya! 💪💪\n",
    "</div>\n",
    "\n",
    "        "
   ]
  },
  {
   "cell_type": "markdown",
   "metadata": {},
   "source": [
    "# Menganalisis risiko peminjam gagal membayar\n",
    "\n",
    "Proyek Anda ialah menyiapkan laporan untuk bank bagian kredit. Anda harus mencari tahu pengaruh status perkawinan seorang nasabah dan jumlah anak terhadap probabilitas ketepatan waktu dalam melunasi pinjaman. Bank sudah memiliki beberapa data mengenai kelayakan kredit nasabah.\n",
    "\n",
    "Laporan Anda akan dipertimbangkan pada saat membuat **penilaian kredit** untuk calon nasabah. **Penilaian kredit** digunakan untuk mengevaluasi kemampuan calon peminjam untuk melunasi pinjaman mereka."
   ]
  },
  {
   "cell_type": "markdown",
   "metadata": {},
   "source": [
    "<div class=\"alert alert-danger\">\n",
    "<b>Reviewer's comment v1</b> <a class=\"tocSkip\"></a>\n",
    "\n",
    "Sebelum melangkah lebih jauh dalam project ini, instruksi atau petunjuk yang ditandai dalam `[]` bisa dihapus ya. Sebaiknya Chulsum menjelaskan terkait projek ini terkait tujuan dan langkah-langkah yang akan diambil dalam pengerjaanya.\n",
    "\n",
    "</div>"
   ]
  },
  {
   "cell_type": "markdown",
   "metadata": {},
   "source": [
    "## Buka *file* data dan baca informasi umumnya. \n"
   ]
  },
  {
   "cell_type": "code",
   "execution_count": 1,
   "metadata": {},
   "outputs": [],
   "source": [
    "# memuat library\n",
    "\n",
    "import pandas as pd, numpy as np"
   ]
  },
  {
   "cell_type": "code",
   "execution_count": 2,
   "metadata": {},
   "outputs": [
    {
     "data": {
      "text/html": [
       "<div>\n",
       "<style scoped>\n",
       "    .dataframe tbody tr th:only-of-type {\n",
       "        vertical-align: middle;\n",
       "    }\n",
       "\n",
       "    .dataframe tbody tr th {\n",
       "        vertical-align: top;\n",
       "    }\n",
       "\n",
       "    .dataframe thead th {\n",
       "        text-align: right;\n",
       "    }\n",
       "</style>\n",
       "<table border=\"1\" class=\"dataframe\">\n",
       "  <thead>\n",
       "    <tr style=\"text-align: right;\">\n",
       "      <th></th>\n",
       "      <th>children</th>\n",
       "      <th>days_employed</th>\n",
       "      <th>dob_years</th>\n",
       "      <th>education</th>\n",
       "      <th>education_id</th>\n",
       "      <th>family_status</th>\n",
       "      <th>family_status_id</th>\n",
       "      <th>gender</th>\n",
       "      <th>income_type</th>\n",
       "      <th>debt</th>\n",
       "      <th>total_income</th>\n",
       "      <th>purpose</th>\n",
       "    </tr>\n",
       "  </thead>\n",
       "  <tbody>\n",
       "    <tr>\n",
       "      <th>0</th>\n",
       "      <td>1</td>\n",
       "      <td>-8437.673028</td>\n",
       "      <td>42</td>\n",
       "      <td>bachelor's degree</td>\n",
       "      <td>0</td>\n",
       "      <td>married</td>\n",
       "      <td>0</td>\n",
       "      <td>F</td>\n",
       "      <td>employee</td>\n",
       "      <td>0</td>\n",
       "      <td>40620.102</td>\n",
       "      <td>purchase of the house</td>\n",
       "    </tr>\n",
       "    <tr>\n",
       "      <th>1</th>\n",
       "      <td>1</td>\n",
       "      <td>-4024.803754</td>\n",
       "      <td>36</td>\n",
       "      <td>secondary education</td>\n",
       "      <td>1</td>\n",
       "      <td>married</td>\n",
       "      <td>0</td>\n",
       "      <td>F</td>\n",
       "      <td>employee</td>\n",
       "      <td>0</td>\n",
       "      <td>17932.802</td>\n",
       "      <td>car purchase</td>\n",
       "    </tr>\n",
       "    <tr>\n",
       "      <th>2</th>\n",
       "      <td>0</td>\n",
       "      <td>-5623.422610</td>\n",
       "      <td>33</td>\n",
       "      <td>Secondary Education</td>\n",
       "      <td>1</td>\n",
       "      <td>married</td>\n",
       "      <td>0</td>\n",
       "      <td>M</td>\n",
       "      <td>employee</td>\n",
       "      <td>0</td>\n",
       "      <td>23341.752</td>\n",
       "      <td>purchase of the house</td>\n",
       "    </tr>\n",
       "    <tr>\n",
       "      <th>3</th>\n",
       "      <td>3</td>\n",
       "      <td>-4124.747207</td>\n",
       "      <td>32</td>\n",
       "      <td>secondary education</td>\n",
       "      <td>1</td>\n",
       "      <td>married</td>\n",
       "      <td>0</td>\n",
       "      <td>M</td>\n",
       "      <td>employee</td>\n",
       "      <td>0</td>\n",
       "      <td>42820.568</td>\n",
       "      <td>supplementary education</td>\n",
       "    </tr>\n",
       "    <tr>\n",
       "      <th>4</th>\n",
       "      <td>0</td>\n",
       "      <td>340266.072047</td>\n",
       "      <td>53</td>\n",
       "      <td>secondary education</td>\n",
       "      <td>1</td>\n",
       "      <td>civil partnership</td>\n",
       "      <td>1</td>\n",
       "      <td>F</td>\n",
       "      <td>retiree</td>\n",
       "      <td>0</td>\n",
       "      <td>25378.572</td>\n",
       "      <td>to have a wedding</td>\n",
       "    </tr>\n",
       "    <tr>\n",
       "      <th>...</th>\n",
       "      <td>...</td>\n",
       "      <td>...</td>\n",
       "      <td>...</td>\n",
       "      <td>...</td>\n",
       "      <td>...</td>\n",
       "      <td>...</td>\n",
       "      <td>...</td>\n",
       "      <td>...</td>\n",
       "      <td>...</td>\n",
       "      <td>...</td>\n",
       "      <td>...</td>\n",
       "      <td>...</td>\n",
       "    </tr>\n",
       "    <tr>\n",
       "      <th>21520</th>\n",
       "      <td>1</td>\n",
       "      <td>-4529.316663</td>\n",
       "      <td>43</td>\n",
       "      <td>secondary education</td>\n",
       "      <td>1</td>\n",
       "      <td>civil partnership</td>\n",
       "      <td>1</td>\n",
       "      <td>F</td>\n",
       "      <td>business</td>\n",
       "      <td>0</td>\n",
       "      <td>35966.698</td>\n",
       "      <td>housing transactions</td>\n",
       "    </tr>\n",
       "    <tr>\n",
       "      <th>21521</th>\n",
       "      <td>0</td>\n",
       "      <td>343937.404131</td>\n",
       "      <td>67</td>\n",
       "      <td>secondary education</td>\n",
       "      <td>1</td>\n",
       "      <td>married</td>\n",
       "      <td>0</td>\n",
       "      <td>F</td>\n",
       "      <td>retiree</td>\n",
       "      <td>0</td>\n",
       "      <td>24959.969</td>\n",
       "      <td>purchase of a car</td>\n",
       "    </tr>\n",
       "    <tr>\n",
       "      <th>21522</th>\n",
       "      <td>1</td>\n",
       "      <td>-2113.346888</td>\n",
       "      <td>38</td>\n",
       "      <td>secondary education</td>\n",
       "      <td>1</td>\n",
       "      <td>civil partnership</td>\n",
       "      <td>1</td>\n",
       "      <td>M</td>\n",
       "      <td>employee</td>\n",
       "      <td>1</td>\n",
       "      <td>14347.610</td>\n",
       "      <td>property</td>\n",
       "    </tr>\n",
       "    <tr>\n",
       "      <th>21523</th>\n",
       "      <td>3</td>\n",
       "      <td>-3112.481705</td>\n",
       "      <td>38</td>\n",
       "      <td>secondary education</td>\n",
       "      <td>1</td>\n",
       "      <td>married</td>\n",
       "      <td>0</td>\n",
       "      <td>M</td>\n",
       "      <td>employee</td>\n",
       "      <td>1</td>\n",
       "      <td>39054.888</td>\n",
       "      <td>buying my own car</td>\n",
       "    </tr>\n",
       "    <tr>\n",
       "      <th>21524</th>\n",
       "      <td>2</td>\n",
       "      <td>-1984.507589</td>\n",
       "      <td>40</td>\n",
       "      <td>secondary education</td>\n",
       "      <td>1</td>\n",
       "      <td>married</td>\n",
       "      <td>0</td>\n",
       "      <td>F</td>\n",
       "      <td>employee</td>\n",
       "      <td>0</td>\n",
       "      <td>13127.587</td>\n",
       "      <td>to buy a car</td>\n",
       "    </tr>\n",
       "  </tbody>\n",
       "</table>\n",
       "<p>21525 rows × 12 columns</p>\n",
       "</div>"
      ],
      "text/plain": [
       "       children  days_employed  dob_years            education  education_id  \\\n",
       "0             1   -8437.673028         42    bachelor's degree             0   \n",
       "1             1   -4024.803754         36  secondary education             1   \n",
       "2             0   -5623.422610         33  Secondary Education             1   \n",
       "3             3   -4124.747207         32  secondary education             1   \n",
       "4             0  340266.072047         53  secondary education             1   \n",
       "...         ...            ...        ...                  ...           ...   \n",
       "21520         1   -4529.316663         43  secondary education             1   \n",
       "21521         0  343937.404131         67  secondary education             1   \n",
       "21522         1   -2113.346888         38  secondary education             1   \n",
       "21523         3   -3112.481705         38  secondary education             1   \n",
       "21524         2   -1984.507589         40  secondary education             1   \n",
       "\n",
       "           family_status  family_status_id gender income_type  debt  \\\n",
       "0                married                 0      F    employee     0   \n",
       "1                married                 0      F    employee     0   \n",
       "2                married                 0      M    employee     0   \n",
       "3                married                 0      M    employee     0   \n",
       "4      civil partnership                 1      F     retiree     0   \n",
       "...                  ...               ...    ...         ...   ...   \n",
       "21520  civil partnership                 1      F    business     0   \n",
       "21521            married                 0      F     retiree     0   \n",
       "21522  civil partnership                 1      M    employee     1   \n",
       "21523            married                 0      M    employee     1   \n",
       "21524            married                 0      F    employee     0   \n",
       "\n",
       "       total_income                  purpose  \n",
       "0         40620.102    purchase of the house  \n",
       "1         17932.802             car purchase  \n",
       "2         23341.752    purchase of the house  \n",
       "3         42820.568  supplementary education  \n",
       "4         25378.572        to have a wedding  \n",
       "...             ...                      ...  \n",
       "21520     35966.698     housing transactions  \n",
       "21521     24959.969        purchase of a car  \n",
       "21522     14347.610                 property  \n",
       "21523     39054.888        buying my own car  \n",
       "21524     13127.587             to buy a car  \n",
       "\n",
       "[21525 rows x 12 columns]"
      ]
     },
     "execution_count": 2,
     "metadata": {},
     "output_type": "execute_result"
    }
   ],
   "source": [
    "# memuat data\n",
    "\n",
    "path = '/datasets/credit_scoring_eng.csv'\n",
    "df = pd.read_csv(path)\n",
    "\n",
    "df"
   ]
  },
  {
   "cell_type": "markdown",
   "metadata": {},
   "source": [
    "<div class=\"alert alert-danger\">\n",
    "<b>Reviewer's comment v1</b> <a class=\"tocSkip\"></a>\n",
    "\n",
    "Akan lebih baik lagi apabila langkah memuat library dan data dipisah di dua sel yang berbeda. Hal ini akan meminimalisir perulangan ketika dilakukan muat ulang data saja tanpa muat ulang library yang sudah termuat sebelumnya.\n",
    "\n",
    "</div>"
   ]
  },
  {
   "cell_type": "markdown",
   "metadata": {},
   "source": [
    "## Soal 1. Eksplorasi Data\n",
    "\n",
    "**Deskripsi Data**\n",
    "- *`children`* - jumlah anak dalam keluarga\n",
    "- *`days_employed`* - pengalaman kerja dalam hari\n",
    "- *`dob_years`* - usia klien dalam tahun\n",
    "- *`education`* - pendidikan klien\n",
    "- *`education_id`* - tanda pengenal pendidikan\n",
    "- *`family_status`* - status perkawinan\n",
    "- *`family_status_id`* - tanda pengenal status perkawinan\n",
    "- *`gender`* - jenis kelamin klien\n",
    "- *`income_type`* - jenis pekerjaan\n",
    "- *`debt`* - apakah klien memiliki hutang pembayaran pinjaman\n",
    "- *`total_income`* - pendapatan bulanan\n",
    "- *`purpose`* - tujuan mendapatkan pinjaman"
   ]
  },
  {
   "cell_type": "code",
   "execution_count": 3,
   "metadata": {},
   "outputs": [
    {
     "data": {
      "text/plain": [
       "(21525, 12)"
      ]
     },
     "execution_count": 3,
     "metadata": {},
     "output_type": "execute_result"
    }
   ],
   "source": [
    "# banyak baris dan kolom yang dimiliki oleh dataset\n",
    "\n",
    "df.shape"
   ]
  },
  {
   "cell_type": "code",
   "execution_count": 4,
   "metadata": {
    "scrolled": true
   },
   "outputs": [
    {
     "data": {
      "text/html": [
       "<div>\n",
       "<style scoped>\n",
       "    .dataframe tbody tr th:only-of-type {\n",
       "        vertical-align: middle;\n",
       "    }\n",
       "\n",
       "    .dataframe tbody tr th {\n",
       "        vertical-align: top;\n",
       "    }\n",
       "\n",
       "    .dataframe thead th {\n",
       "        text-align: right;\n",
       "    }\n",
       "</style>\n",
       "<table border=\"1\" class=\"dataframe\">\n",
       "  <thead>\n",
       "    <tr style=\"text-align: right;\">\n",
       "      <th></th>\n",
       "      <th>children</th>\n",
       "      <th>days_employed</th>\n",
       "      <th>dob_years</th>\n",
       "      <th>education</th>\n",
       "      <th>education_id</th>\n",
       "      <th>family_status</th>\n",
       "      <th>family_status_id</th>\n",
       "      <th>gender</th>\n",
       "      <th>income_type</th>\n",
       "      <th>debt</th>\n",
       "      <th>total_income</th>\n",
       "      <th>purpose</th>\n",
       "    </tr>\n",
       "  </thead>\n",
       "  <tbody>\n",
       "    <tr>\n",
       "      <th>0</th>\n",
       "      <td>1</td>\n",
       "      <td>-8437.673028</td>\n",
       "      <td>42</td>\n",
       "      <td>bachelor's degree</td>\n",
       "      <td>0</td>\n",
       "      <td>married</td>\n",
       "      <td>0</td>\n",
       "      <td>F</td>\n",
       "      <td>employee</td>\n",
       "      <td>0</td>\n",
       "      <td>40620.102</td>\n",
       "      <td>purchase of the house</td>\n",
       "    </tr>\n",
       "    <tr>\n",
       "      <th>1</th>\n",
       "      <td>1</td>\n",
       "      <td>-4024.803754</td>\n",
       "      <td>36</td>\n",
       "      <td>secondary education</td>\n",
       "      <td>1</td>\n",
       "      <td>married</td>\n",
       "      <td>0</td>\n",
       "      <td>F</td>\n",
       "      <td>employee</td>\n",
       "      <td>0</td>\n",
       "      <td>17932.802</td>\n",
       "      <td>car purchase</td>\n",
       "    </tr>\n",
       "    <tr>\n",
       "      <th>2</th>\n",
       "      <td>0</td>\n",
       "      <td>-5623.422610</td>\n",
       "      <td>33</td>\n",
       "      <td>Secondary Education</td>\n",
       "      <td>1</td>\n",
       "      <td>married</td>\n",
       "      <td>0</td>\n",
       "      <td>M</td>\n",
       "      <td>employee</td>\n",
       "      <td>0</td>\n",
       "      <td>23341.752</td>\n",
       "      <td>purchase of the house</td>\n",
       "    </tr>\n",
       "    <tr>\n",
       "      <th>3</th>\n",
       "      <td>3</td>\n",
       "      <td>-4124.747207</td>\n",
       "      <td>32</td>\n",
       "      <td>secondary education</td>\n",
       "      <td>1</td>\n",
       "      <td>married</td>\n",
       "      <td>0</td>\n",
       "      <td>M</td>\n",
       "      <td>employee</td>\n",
       "      <td>0</td>\n",
       "      <td>42820.568</td>\n",
       "      <td>supplementary education</td>\n",
       "    </tr>\n",
       "    <tr>\n",
       "      <th>4</th>\n",
       "      <td>0</td>\n",
       "      <td>340266.072047</td>\n",
       "      <td>53</td>\n",
       "      <td>secondary education</td>\n",
       "      <td>1</td>\n",
       "      <td>civil partnership</td>\n",
       "      <td>1</td>\n",
       "      <td>F</td>\n",
       "      <td>retiree</td>\n",
       "      <td>0</td>\n",
       "      <td>25378.572</td>\n",
       "      <td>to have a wedding</td>\n",
       "    </tr>\n",
       "  </tbody>\n",
       "</table>\n",
       "</div>"
      ],
      "text/plain": [
       "   children  days_employed  dob_years            education  education_id  \\\n",
       "0         1   -8437.673028         42    bachelor's degree             0   \n",
       "1         1   -4024.803754         36  secondary education             1   \n",
       "2         0   -5623.422610         33  Secondary Education             1   \n",
       "3         3   -4124.747207         32  secondary education             1   \n",
       "4         0  340266.072047         53  secondary education             1   \n",
       "\n",
       "       family_status  family_status_id gender income_type  debt  total_income  \\\n",
       "0            married                 0      F    employee     0     40620.102   \n",
       "1            married                 0      F    employee     0     17932.802   \n",
       "2            married                 0      M    employee     0     23341.752   \n",
       "3            married                 0      M    employee     0     42820.568   \n",
       "4  civil partnership                 1      F     retiree     0     25378.572   \n",
       "\n",
       "                   purpose  \n",
       "0    purchase of the house  \n",
       "1             car purchase  \n",
       "2    purchase of the house  \n",
       "3  supplementary education  \n",
       "4        to have a wedding  "
      ]
     },
     "execution_count": 4,
     "metadata": {},
     "output_type": "execute_result"
    }
   ],
   "source": [
    "# menampilkan 5 baris pertama\n",
    "\n",
    "df.head(5)"
   ]
  },
  {
   "cell_type": "markdown",
   "metadata": {},
   "source": [
    "Terdapat beberapa nilai pada data yang bermasalah. Salah satunya yaitu pada kolom `days_employed` terdapat nilai negatif padahal deskripsi dari kolom tersebut adalah pengalaman kerja dalam hari (tidak mungkin hari negatif). Bisa jadi terdapat data bermasalah lain pada data, maka dari itu diperlukan pengecekan dan pembetulan lebih lanjut"
   ]
  },
  {
   "cell_type": "code",
   "execution_count": 5,
   "metadata": {
    "scrolled": true
   },
   "outputs": [
    {
     "name": "stdout",
     "output_type": "stream",
     "text": [
      "<class 'pandas.core.frame.DataFrame'>\n",
      "RangeIndex: 21525 entries, 0 to 21524\n",
      "Data columns (total 12 columns):\n",
      " #   Column            Non-Null Count  Dtype  \n",
      "---  ------            --------------  -----  \n",
      " 0   children          21525 non-null  int64  \n",
      " 1   days_employed     19351 non-null  float64\n",
      " 2   dob_years         21525 non-null  int64  \n",
      " 3   education         21525 non-null  object \n",
      " 4   education_id      21525 non-null  int64  \n",
      " 5   family_status     21525 non-null  object \n",
      " 6   family_status_id  21525 non-null  int64  \n",
      " 7   gender            21525 non-null  object \n",
      " 8   income_type       21525 non-null  object \n",
      " 9   debt              21525 non-null  int64  \n",
      " 10  total_income      19351 non-null  float64\n",
      " 11  purpose           21525 non-null  object \n",
      "dtypes: float64(2), int64(5), object(5)\n",
      "memory usage: 2.0+ MB\n"
     ]
    }
   ],
   "source": [
    "# mendapatkan informasi data\n",
    "\n",
    "df.info()"
   ]
  },
  {
   "cell_type": "code",
   "execution_count": 6,
   "metadata": {},
   "outputs": [
    {
     "data": {
      "text/plain": [
       "children               0\n",
       "days_employed       2174\n",
       "dob_years              0\n",
       "education              0\n",
       "education_id           0\n",
       "family_status          0\n",
       "family_status_id       0\n",
       "gender                 0\n",
       "income_type            0\n",
       "debt                   0\n",
       "total_income        2174\n",
       "purpose                0\n",
       "dtype: int64"
      ]
     },
     "execution_count": 6,
     "metadata": {},
     "output_type": "execute_result"
    }
   ],
   "source": [
    "# menampilkan jumlah nilai kosong tiap kolom \n",
    "\n",
    "df.isna().sum()"
   ]
  },
  {
   "cell_type": "markdown",
   "metadata": {},
   "source": [
    "<div class=\"alert alert-danger\">\n",
    "<b>Reviewer's comment v1</b> <a class=\"tocSkip\"></a>\n",
    "\n",
    "Hindari menampilkan multipel output pada satu sel. Pemisahan satu output dalam satu sel akan mempermudah memahami konteks di setiap output dan dapat dijelaskan step by step nya.\n",
    "</div>"
   ]
  },
  {
   "cell_type": "markdown",
   "metadata": {},
   "source": [
    "Terdapat nilai hilang di kolom `days_employed` dan `total_income` dengan jumlah yang sama"
   ]
  },
  {
   "cell_type": "code",
   "execution_count": 7,
   "metadata": {
    "scrolled": false
   },
   "outputs": [
    {
     "data": {
      "text/html": [
       "<div>\n",
       "<style scoped>\n",
       "    .dataframe tbody tr th:only-of-type {\n",
       "        vertical-align: middle;\n",
       "    }\n",
       "\n",
       "    .dataframe tbody tr th {\n",
       "        vertical-align: top;\n",
       "    }\n",
       "\n",
       "    .dataframe thead th {\n",
       "        text-align: right;\n",
       "    }\n",
       "</style>\n",
       "<table border=\"1\" class=\"dataframe\">\n",
       "  <thead>\n",
       "    <tr style=\"text-align: right;\">\n",
       "      <th></th>\n",
       "      <th>children</th>\n",
       "      <th>days_employed</th>\n",
       "      <th>dob_years</th>\n",
       "      <th>education</th>\n",
       "      <th>education_id</th>\n",
       "      <th>family_status</th>\n",
       "      <th>family_status_id</th>\n",
       "      <th>gender</th>\n",
       "      <th>income_type</th>\n",
       "      <th>debt</th>\n",
       "      <th>total_income</th>\n",
       "      <th>purpose</th>\n",
       "    </tr>\n",
       "  </thead>\n",
       "  <tbody>\n",
       "    <tr>\n",
       "      <th>12</th>\n",
       "      <td>0</td>\n",
       "      <td>NaN</td>\n",
       "      <td>65</td>\n",
       "      <td>secondary education</td>\n",
       "      <td>1</td>\n",
       "      <td>civil partnership</td>\n",
       "      <td>1</td>\n",
       "      <td>M</td>\n",
       "      <td>retiree</td>\n",
       "      <td>0</td>\n",
       "      <td>NaN</td>\n",
       "      <td>to have a wedding</td>\n",
       "    </tr>\n",
       "    <tr>\n",
       "      <th>26</th>\n",
       "      <td>0</td>\n",
       "      <td>NaN</td>\n",
       "      <td>41</td>\n",
       "      <td>secondary education</td>\n",
       "      <td>1</td>\n",
       "      <td>married</td>\n",
       "      <td>0</td>\n",
       "      <td>M</td>\n",
       "      <td>civil servant</td>\n",
       "      <td>0</td>\n",
       "      <td>NaN</td>\n",
       "      <td>education</td>\n",
       "    </tr>\n",
       "    <tr>\n",
       "      <th>29</th>\n",
       "      <td>0</td>\n",
       "      <td>NaN</td>\n",
       "      <td>63</td>\n",
       "      <td>secondary education</td>\n",
       "      <td>1</td>\n",
       "      <td>unmarried</td>\n",
       "      <td>4</td>\n",
       "      <td>F</td>\n",
       "      <td>retiree</td>\n",
       "      <td>0</td>\n",
       "      <td>NaN</td>\n",
       "      <td>building a real estate</td>\n",
       "    </tr>\n",
       "    <tr>\n",
       "      <th>41</th>\n",
       "      <td>0</td>\n",
       "      <td>NaN</td>\n",
       "      <td>50</td>\n",
       "      <td>secondary education</td>\n",
       "      <td>1</td>\n",
       "      <td>married</td>\n",
       "      <td>0</td>\n",
       "      <td>F</td>\n",
       "      <td>civil servant</td>\n",
       "      <td>0</td>\n",
       "      <td>NaN</td>\n",
       "      <td>second-hand car purchase</td>\n",
       "    </tr>\n",
       "    <tr>\n",
       "      <th>55</th>\n",
       "      <td>0</td>\n",
       "      <td>NaN</td>\n",
       "      <td>54</td>\n",
       "      <td>secondary education</td>\n",
       "      <td>1</td>\n",
       "      <td>civil partnership</td>\n",
       "      <td>1</td>\n",
       "      <td>F</td>\n",
       "      <td>retiree</td>\n",
       "      <td>1</td>\n",
       "      <td>NaN</td>\n",
       "      <td>to have a wedding</td>\n",
       "    </tr>\n",
       "    <tr>\n",
       "      <th>...</th>\n",
       "      <td>...</td>\n",
       "      <td>...</td>\n",
       "      <td>...</td>\n",
       "      <td>...</td>\n",
       "      <td>...</td>\n",
       "      <td>...</td>\n",
       "      <td>...</td>\n",
       "      <td>...</td>\n",
       "      <td>...</td>\n",
       "      <td>...</td>\n",
       "      <td>...</td>\n",
       "      <td>...</td>\n",
       "    </tr>\n",
       "    <tr>\n",
       "      <th>21489</th>\n",
       "      <td>2</td>\n",
       "      <td>NaN</td>\n",
       "      <td>47</td>\n",
       "      <td>Secondary Education</td>\n",
       "      <td>1</td>\n",
       "      <td>married</td>\n",
       "      <td>0</td>\n",
       "      <td>M</td>\n",
       "      <td>business</td>\n",
       "      <td>0</td>\n",
       "      <td>NaN</td>\n",
       "      <td>purchase of a car</td>\n",
       "    </tr>\n",
       "    <tr>\n",
       "      <th>21495</th>\n",
       "      <td>1</td>\n",
       "      <td>NaN</td>\n",
       "      <td>50</td>\n",
       "      <td>secondary education</td>\n",
       "      <td>1</td>\n",
       "      <td>civil partnership</td>\n",
       "      <td>1</td>\n",
       "      <td>F</td>\n",
       "      <td>employee</td>\n",
       "      <td>0</td>\n",
       "      <td>NaN</td>\n",
       "      <td>wedding ceremony</td>\n",
       "    </tr>\n",
       "    <tr>\n",
       "      <th>21497</th>\n",
       "      <td>0</td>\n",
       "      <td>NaN</td>\n",
       "      <td>48</td>\n",
       "      <td>BACHELOR'S DEGREE</td>\n",
       "      <td>0</td>\n",
       "      <td>married</td>\n",
       "      <td>0</td>\n",
       "      <td>F</td>\n",
       "      <td>business</td>\n",
       "      <td>0</td>\n",
       "      <td>NaN</td>\n",
       "      <td>building a property</td>\n",
       "    </tr>\n",
       "    <tr>\n",
       "      <th>21502</th>\n",
       "      <td>1</td>\n",
       "      <td>NaN</td>\n",
       "      <td>42</td>\n",
       "      <td>secondary education</td>\n",
       "      <td>1</td>\n",
       "      <td>married</td>\n",
       "      <td>0</td>\n",
       "      <td>F</td>\n",
       "      <td>employee</td>\n",
       "      <td>0</td>\n",
       "      <td>NaN</td>\n",
       "      <td>building a real estate</td>\n",
       "    </tr>\n",
       "    <tr>\n",
       "      <th>21510</th>\n",
       "      <td>2</td>\n",
       "      <td>NaN</td>\n",
       "      <td>28</td>\n",
       "      <td>secondary education</td>\n",
       "      <td>1</td>\n",
       "      <td>married</td>\n",
       "      <td>0</td>\n",
       "      <td>F</td>\n",
       "      <td>employee</td>\n",
       "      <td>0</td>\n",
       "      <td>NaN</td>\n",
       "      <td>car purchase</td>\n",
       "    </tr>\n",
       "  </tbody>\n",
       "</table>\n",
       "<p>2174 rows × 12 columns</p>\n",
       "</div>"
      ],
      "text/plain": [
       "       children  days_employed  dob_years            education  education_id  \\\n",
       "12            0            NaN         65  secondary education             1   \n",
       "26            0            NaN         41  secondary education             1   \n",
       "29            0            NaN         63  secondary education             1   \n",
       "41            0            NaN         50  secondary education             1   \n",
       "55            0            NaN         54  secondary education             1   \n",
       "...         ...            ...        ...                  ...           ...   \n",
       "21489         2            NaN         47  Secondary Education             1   \n",
       "21495         1            NaN         50  secondary education             1   \n",
       "21497         0            NaN         48    BACHELOR'S DEGREE             0   \n",
       "21502         1            NaN         42  secondary education             1   \n",
       "21510         2            NaN         28  secondary education             1   \n",
       "\n",
       "           family_status  family_status_id gender    income_type  debt  \\\n",
       "12     civil partnership                 1      M        retiree     0   \n",
       "26               married                 0      M  civil servant     0   \n",
       "29             unmarried                 4      F        retiree     0   \n",
       "41               married                 0      F  civil servant     0   \n",
       "55     civil partnership                 1      F        retiree     1   \n",
       "...                  ...               ...    ...            ...   ...   \n",
       "21489            married                 0      M       business     0   \n",
       "21495  civil partnership                 1      F       employee     0   \n",
       "21497            married                 0      F       business     0   \n",
       "21502            married                 0      F       employee     0   \n",
       "21510            married                 0      F       employee     0   \n",
       "\n",
       "       total_income                   purpose  \n",
       "12              NaN         to have a wedding  \n",
       "26              NaN                 education  \n",
       "29              NaN    building a real estate  \n",
       "41              NaN  second-hand car purchase  \n",
       "55              NaN         to have a wedding  \n",
       "...             ...                       ...  \n",
       "21489           NaN         purchase of a car  \n",
       "21495           NaN          wedding ceremony  \n",
       "21497           NaN       building a property  \n",
       "21502           NaN    building a real estate  \n",
       "21510           NaN              car purchase  \n",
       "\n",
       "[2174 rows x 12 columns]"
      ]
     },
     "execution_count": 7,
     "metadata": {},
     "output_type": "execute_result"
    }
   ],
   "source": [
    "# menampilkan tabel yang telah difilter dengan nilai yang hilang di kolom days_employed dengan data yang hilang\n",
    "\n",
    "df.loc[df['days_employed'].isna()] "
   ]
  },
  {
   "cell_type": "markdown",
   "metadata": {},
   "source": [
    "Setelah dilakukan pemfilteran pada baris dengan nilai kosong diketahui bahwa letak nilai kosong pada tiap baris sama-sama berada di kedua kolom tersebut (simetris). Untuk memastikan asumsi tersebut, perlu dilakukan pengecekan lebih lanjut"
   ]
  },
  {
   "cell_type": "code",
   "execution_count": 8,
   "metadata": {},
   "outputs": [
    {
     "data": {
      "text/html": [
       "<div>\n",
       "<style scoped>\n",
       "    .dataframe tbody tr th:only-of-type {\n",
       "        vertical-align: middle;\n",
       "    }\n",
       "\n",
       "    .dataframe tbody tr th {\n",
       "        vertical-align: top;\n",
       "    }\n",
       "\n",
       "    .dataframe thead th {\n",
       "        text-align: right;\n",
       "    }\n",
       "</style>\n",
       "<table border=\"1\" class=\"dataframe\">\n",
       "  <thead>\n",
       "    <tr style=\"text-align: right;\">\n",
       "      <th></th>\n",
       "      <th>children</th>\n",
       "      <th>days_employed</th>\n",
       "      <th>dob_years</th>\n",
       "      <th>education</th>\n",
       "      <th>education_id</th>\n",
       "      <th>family_status</th>\n",
       "      <th>family_status_id</th>\n",
       "      <th>gender</th>\n",
       "      <th>income_type</th>\n",
       "      <th>debt</th>\n",
       "      <th>total_income</th>\n",
       "      <th>purpose</th>\n",
       "    </tr>\n",
       "  </thead>\n",
       "  <tbody>\n",
       "    <tr>\n",
       "      <th>12</th>\n",
       "      <td>0</td>\n",
       "      <td>NaN</td>\n",
       "      <td>65</td>\n",
       "      <td>secondary education</td>\n",
       "      <td>1</td>\n",
       "      <td>civil partnership</td>\n",
       "      <td>1</td>\n",
       "      <td>M</td>\n",
       "      <td>retiree</td>\n",
       "      <td>0</td>\n",
       "      <td>NaN</td>\n",
       "      <td>to have a wedding</td>\n",
       "    </tr>\n",
       "    <tr>\n",
       "      <th>26</th>\n",
       "      <td>0</td>\n",
       "      <td>NaN</td>\n",
       "      <td>41</td>\n",
       "      <td>secondary education</td>\n",
       "      <td>1</td>\n",
       "      <td>married</td>\n",
       "      <td>0</td>\n",
       "      <td>M</td>\n",
       "      <td>civil servant</td>\n",
       "      <td>0</td>\n",
       "      <td>NaN</td>\n",
       "      <td>education</td>\n",
       "    </tr>\n",
       "    <tr>\n",
       "      <th>29</th>\n",
       "      <td>0</td>\n",
       "      <td>NaN</td>\n",
       "      <td>63</td>\n",
       "      <td>secondary education</td>\n",
       "      <td>1</td>\n",
       "      <td>unmarried</td>\n",
       "      <td>4</td>\n",
       "      <td>F</td>\n",
       "      <td>retiree</td>\n",
       "      <td>0</td>\n",
       "      <td>NaN</td>\n",
       "      <td>building a real estate</td>\n",
       "    </tr>\n",
       "    <tr>\n",
       "      <th>41</th>\n",
       "      <td>0</td>\n",
       "      <td>NaN</td>\n",
       "      <td>50</td>\n",
       "      <td>secondary education</td>\n",
       "      <td>1</td>\n",
       "      <td>married</td>\n",
       "      <td>0</td>\n",
       "      <td>F</td>\n",
       "      <td>civil servant</td>\n",
       "      <td>0</td>\n",
       "      <td>NaN</td>\n",
       "      <td>second-hand car purchase</td>\n",
       "    </tr>\n",
       "    <tr>\n",
       "      <th>55</th>\n",
       "      <td>0</td>\n",
       "      <td>NaN</td>\n",
       "      <td>54</td>\n",
       "      <td>secondary education</td>\n",
       "      <td>1</td>\n",
       "      <td>civil partnership</td>\n",
       "      <td>1</td>\n",
       "      <td>F</td>\n",
       "      <td>retiree</td>\n",
       "      <td>1</td>\n",
       "      <td>NaN</td>\n",
       "      <td>to have a wedding</td>\n",
       "    </tr>\n",
       "    <tr>\n",
       "      <th>...</th>\n",
       "      <td>...</td>\n",
       "      <td>...</td>\n",
       "      <td>...</td>\n",
       "      <td>...</td>\n",
       "      <td>...</td>\n",
       "      <td>...</td>\n",
       "      <td>...</td>\n",
       "      <td>...</td>\n",
       "      <td>...</td>\n",
       "      <td>...</td>\n",
       "      <td>...</td>\n",
       "      <td>...</td>\n",
       "    </tr>\n",
       "    <tr>\n",
       "      <th>21489</th>\n",
       "      <td>2</td>\n",
       "      <td>NaN</td>\n",
       "      <td>47</td>\n",
       "      <td>Secondary Education</td>\n",
       "      <td>1</td>\n",
       "      <td>married</td>\n",
       "      <td>0</td>\n",
       "      <td>M</td>\n",
       "      <td>business</td>\n",
       "      <td>0</td>\n",
       "      <td>NaN</td>\n",
       "      <td>purchase of a car</td>\n",
       "    </tr>\n",
       "    <tr>\n",
       "      <th>21495</th>\n",
       "      <td>1</td>\n",
       "      <td>NaN</td>\n",
       "      <td>50</td>\n",
       "      <td>secondary education</td>\n",
       "      <td>1</td>\n",
       "      <td>civil partnership</td>\n",
       "      <td>1</td>\n",
       "      <td>F</td>\n",
       "      <td>employee</td>\n",
       "      <td>0</td>\n",
       "      <td>NaN</td>\n",
       "      <td>wedding ceremony</td>\n",
       "    </tr>\n",
       "    <tr>\n",
       "      <th>21497</th>\n",
       "      <td>0</td>\n",
       "      <td>NaN</td>\n",
       "      <td>48</td>\n",
       "      <td>BACHELOR'S DEGREE</td>\n",
       "      <td>0</td>\n",
       "      <td>married</td>\n",
       "      <td>0</td>\n",
       "      <td>F</td>\n",
       "      <td>business</td>\n",
       "      <td>0</td>\n",
       "      <td>NaN</td>\n",
       "      <td>building a property</td>\n",
       "    </tr>\n",
       "    <tr>\n",
       "      <th>21502</th>\n",
       "      <td>1</td>\n",
       "      <td>NaN</td>\n",
       "      <td>42</td>\n",
       "      <td>secondary education</td>\n",
       "      <td>1</td>\n",
       "      <td>married</td>\n",
       "      <td>0</td>\n",
       "      <td>F</td>\n",
       "      <td>employee</td>\n",
       "      <td>0</td>\n",
       "      <td>NaN</td>\n",
       "      <td>building a real estate</td>\n",
       "    </tr>\n",
       "    <tr>\n",
       "      <th>21510</th>\n",
       "      <td>2</td>\n",
       "      <td>NaN</td>\n",
       "      <td>28</td>\n",
       "      <td>secondary education</td>\n",
       "      <td>1</td>\n",
       "      <td>married</td>\n",
       "      <td>0</td>\n",
       "      <td>F</td>\n",
       "      <td>employee</td>\n",
       "      <td>0</td>\n",
       "      <td>NaN</td>\n",
       "      <td>car purchase</td>\n",
       "    </tr>\n",
       "  </tbody>\n",
       "</table>\n",
       "<p>2174 rows × 12 columns</p>\n",
       "</div>"
      ],
      "text/plain": [
       "       children  days_employed  dob_years            education  education_id  \\\n",
       "12            0            NaN         65  secondary education             1   \n",
       "26            0            NaN         41  secondary education             1   \n",
       "29            0            NaN         63  secondary education             1   \n",
       "41            0            NaN         50  secondary education             1   \n",
       "55            0            NaN         54  secondary education             1   \n",
       "...         ...            ...        ...                  ...           ...   \n",
       "21489         2            NaN         47  Secondary Education             1   \n",
       "21495         1            NaN         50  secondary education             1   \n",
       "21497         0            NaN         48    BACHELOR'S DEGREE             0   \n",
       "21502         1            NaN         42  secondary education             1   \n",
       "21510         2            NaN         28  secondary education             1   \n",
       "\n",
       "           family_status  family_status_id gender    income_type  debt  \\\n",
       "12     civil partnership                 1      M        retiree     0   \n",
       "26               married                 0      M  civil servant     0   \n",
       "29             unmarried                 4      F        retiree     0   \n",
       "41               married                 0      F  civil servant     0   \n",
       "55     civil partnership                 1      F        retiree     1   \n",
       "...                  ...               ...    ...            ...   ...   \n",
       "21489            married                 0      M       business     0   \n",
       "21495  civil partnership                 1      F       employee     0   \n",
       "21497            married                 0      F       business     0   \n",
       "21502            married                 0      F       employee     0   \n",
       "21510            married                 0      F       employee     0   \n",
       "\n",
       "       total_income                   purpose  \n",
       "12              NaN         to have a wedding  \n",
       "26              NaN                 education  \n",
       "29              NaN    building a real estate  \n",
       "41              NaN  second-hand car purchase  \n",
       "55              NaN         to have a wedding  \n",
       "...             ...                       ...  \n",
       "21489           NaN         purchase of a car  \n",
       "21495           NaN          wedding ceremony  \n",
       "21497           NaN       building a property  \n",
       "21502           NaN    building a real estate  \n",
       "21510           NaN              car purchase  \n",
       "\n",
       "[2174 rows x 12 columns]"
      ]
     },
     "execution_count": 8,
     "metadata": {},
     "output_type": "execute_result"
    }
   ],
   "source": [
    "# menerapkan beberapa persyaratan untuk memfilter data dan melihat jumlah baris dalam tabel yang difilter.\n",
    "\n",
    "data_null = df.loc[(df['days_employed'].isna()) & (df['total_income'].isna())]\n",
    "data_null"
   ]
  },
  {
   "cell_type": "markdown",
   "metadata": {},
   "source": [
    "**Kesimpulan sementara** \n",
    "\n",
    "Jumlah baris dalam tabel yang difilter sesuai dengan jumlah nilai yang hilang. Ada kemungkinan kolom `days_employed` dan `total_income` saling berhubungan tetapi masih belum dapat dipastikan apa hubungan dari kedua kolom tersebut.\n",
    "\n",
    "Langkah selanjutnya yaitu memeriksa persentase nilai yang hilang dengan seluruh kumpulan data, kemudian membandingkan value dan distribusi antara data seluruh dataset dengan data yang terfilter berdasarkan nilai kosong "
   ]
  },
  {
   "cell_type": "markdown",
   "metadata": {},
   "source": [
    "<div class=\"alert alert-danger\">\n",
    "<b>Reviewer's comment v1</b> <a class=\"tocSkip\"></a>\n",
    "\n",
    "Kemungkinan masih ada error di bagian translasi, sebaiknya menggunakan `kesimpulan sementara` dibandingkan `kesimpulan menengah`.\n",
    "</div>"
   ]
  },
  {
   "cell_type": "code",
   "execution_count": 9,
   "metadata": {},
   "outputs": [
    {
     "data": {
      "text/plain": [
       "children             0.0\n",
       "days_employed       10.1\n",
       "dob_years            0.0\n",
       "education            0.0\n",
       "education_id         0.0\n",
       "family_status        0.0\n",
       "family_status_id     0.0\n",
       "gender               0.0\n",
       "income_type          0.0\n",
       "debt                 0.0\n",
       "total_income        10.1\n",
       "purpose              0.0\n",
       "dtype: float64"
      ]
     },
     "execution_count": 9,
     "metadata": {},
     "output_type": "execute_result"
    }
   ],
   "source": [
    "# Memeriksa persentase nilai yang hilang yang dibandingkan dengan seluruh kumpulan data\n",
    "\n",
    "round(df.isna().sum() / len(df) * 100, 2)"
   ]
  },
  {
   "cell_type": "code",
   "execution_count": 10,
   "metadata": {},
   "outputs": [
    {
     "data": {
      "text/plain": [
       "['business', 'civil servant', 'employee', 'entrepreneur', 'retiree']"
      ]
     },
     "execution_count": 10,
     "metadata": {},
     "output_type": "execute_result"
    }
   ],
   "source": [
    "# Menampilkan unique value di kolom income_type yang terdapat missing value pada kolom total_income nya\n",
    "\n",
    "sorted(df.loc[df['total_income'].isna(), 'income_type'].unique())"
   ]
  },
  {
   "cell_type": "code",
   "execution_count": 11,
   "metadata": {},
   "outputs": [
    {
     "data": {
      "text/plain": [
       "['business',\n",
       " 'civil servant',\n",
       " 'employee',\n",
       " 'entrepreneur',\n",
       " 'paternity / maternity leave',\n",
       " 'retiree',\n",
       " 'student',\n",
       " 'unemployed']"
      ]
     },
     "execution_count": 11,
     "metadata": {},
     "output_type": "execute_result"
    }
   ],
   "source": [
    "# Menampilkan unique value di kolom income_type\n",
    "\n",
    "sorted(df['income_type'].unique())"
   ]
  },
  {
   "cell_type": "code",
   "execution_count": 12,
   "metadata": {},
   "outputs": [
    {
     "data": {
      "text/html": [
       "<div>\n",
       "<style scoped>\n",
       "    .dataframe tbody tr th:only-of-type {\n",
       "        vertical-align: middle;\n",
       "    }\n",
       "\n",
       "    .dataframe tbody tr th {\n",
       "        vertical-align: top;\n",
       "    }\n",
       "\n",
       "    .dataframe thead th {\n",
       "        text-align: right;\n",
       "    }\n",
       "</style>\n",
       "<table border=\"1\" class=\"dataframe\">\n",
       "  <thead>\n",
       "    <tr style=\"text-align: right;\">\n",
       "      <th></th>\n",
       "      <th>children</th>\n",
       "      <th>days_employed</th>\n",
       "      <th>dob_years</th>\n",
       "      <th>education</th>\n",
       "      <th>education_id</th>\n",
       "      <th>family_status</th>\n",
       "      <th>family_status_id</th>\n",
       "      <th>gender</th>\n",
       "      <th>income_type</th>\n",
       "      <th>debt</th>\n",
       "      <th>total_income</th>\n",
       "      <th>purpose</th>\n",
       "    </tr>\n",
       "  </thead>\n",
       "  <tbody>\n",
       "    <tr>\n",
       "      <th>12</th>\n",
       "      <td>0</td>\n",
       "      <td>NaN</td>\n",
       "      <td>65</td>\n",
       "      <td>secondary education</td>\n",
       "      <td>1</td>\n",
       "      <td>civil partnership</td>\n",
       "      <td>1</td>\n",
       "      <td>M</td>\n",
       "      <td>retiree</td>\n",
       "      <td>0</td>\n",
       "      <td>NaN</td>\n",
       "      <td>to have a wedding</td>\n",
       "    </tr>\n",
       "    <tr>\n",
       "      <th>29</th>\n",
       "      <td>0</td>\n",
       "      <td>NaN</td>\n",
       "      <td>63</td>\n",
       "      <td>secondary education</td>\n",
       "      <td>1</td>\n",
       "      <td>unmarried</td>\n",
       "      <td>4</td>\n",
       "      <td>F</td>\n",
       "      <td>retiree</td>\n",
       "      <td>0</td>\n",
       "      <td>NaN</td>\n",
       "      <td>building a real estate</td>\n",
       "    </tr>\n",
       "    <tr>\n",
       "      <th>55</th>\n",
       "      <td>0</td>\n",
       "      <td>NaN</td>\n",
       "      <td>54</td>\n",
       "      <td>secondary education</td>\n",
       "      <td>1</td>\n",
       "      <td>civil partnership</td>\n",
       "      <td>1</td>\n",
       "      <td>F</td>\n",
       "      <td>retiree</td>\n",
       "      <td>1</td>\n",
       "      <td>NaN</td>\n",
       "      <td>to have a wedding</td>\n",
       "    </tr>\n",
       "    <tr>\n",
       "      <th>67</th>\n",
       "      <td>0</td>\n",
       "      <td>NaN</td>\n",
       "      <td>52</td>\n",
       "      <td>bachelor's degree</td>\n",
       "      <td>0</td>\n",
       "      <td>married</td>\n",
       "      <td>0</td>\n",
       "      <td>F</td>\n",
       "      <td>retiree</td>\n",
       "      <td>0</td>\n",
       "      <td>NaN</td>\n",
       "      <td>purchase of the house for my family</td>\n",
       "    </tr>\n",
       "    <tr>\n",
       "      <th>145</th>\n",
       "      <td>0</td>\n",
       "      <td>NaN</td>\n",
       "      <td>62</td>\n",
       "      <td>secondary education</td>\n",
       "      <td>1</td>\n",
       "      <td>married</td>\n",
       "      <td>0</td>\n",
       "      <td>M</td>\n",
       "      <td>retiree</td>\n",
       "      <td>0</td>\n",
       "      <td>NaN</td>\n",
       "      <td>building a property</td>\n",
       "    </tr>\n",
       "    <tr>\n",
       "      <th>...</th>\n",
       "      <td>...</td>\n",
       "      <td>...</td>\n",
       "      <td>...</td>\n",
       "      <td>...</td>\n",
       "      <td>...</td>\n",
       "      <td>...</td>\n",
       "      <td>...</td>\n",
       "      <td>...</td>\n",
       "      <td>...</td>\n",
       "      <td>...</td>\n",
       "      <td>...</td>\n",
       "      <td>...</td>\n",
       "    </tr>\n",
       "    <tr>\n",
       "      <th>21311</th>\n",
       "      <td>0</td>\n",
       "      <td>NaN</td>\n",
       "      <td>49</td>\n",
       "      <td>secondary education</td>\n",
       "      <td>1</td>\n",
       "      <td>married</td>\n",
       "      <td>0</td>\n",
       "      <td>F</td>\n",
       "      <td>retiree</td>\n",
       "      <td>0</td>\n",
       "      <td>NaN</td>\n",
       "      <td>buying property for renting out</td>\n",
       "    </tr>\n",
       "    <tr>\n",
       "      <th>21321</th>\n",
       "      <td>0</td>\n",
       "      <td>NaN</td>\n",
       "      <td>56</td>\n",
       "      <td>Secondary Education</td>\n",
       "      <td>1</td>\n",
       "      <td>married</td>\n",
       "      <td>0</td>\n",
       "      <td>F</td>\n",
       "      <td>retiree</td>\n",
       "      <td>0</td>\n",
       "      <td>NaN</td>\n",
       "      <td>real estate transactions</td>\n",
       "    </tr>\n",
       "    <tr>\n",
       "      <th>21414</th>\n",
       "      <td>0</td>\n",
       "      <td>NaN</td>\n",
       "      <td>65</td>\n",
       "      <td>secondary education</td>\n",
       "      <td>1</td>\n",
       "      <td>married</td>\n",
       "      <td>0</td>\n",
       "      <td>F</td>\n",
       "      <td>retiree</td>\n",
       "      <td>0</td>\n",
       "      <td>NaN</td>\n",
       "      <td>purchase of my own house</td>\n",
       "    </tr>\n",
       "    <tr>\n",
       "      <th>21415</th>\n",
       "      <td>0</td>\n",
       "      <td>NaN</td>\n",
       "      <td>54</td>\n",
       "      <td>secondary education</td>\n",
       "      <td>1</td>\n",
       "      <td>married</td>\n",
       "      <td>0</td>\n",
       "      <td>F</td>\n",
       "      <td>retiree</td>\n",
       "      <td>0</td>\n",
       "      <td>NaN</td>\n",
       "      <td>housing transactions</td>\n",
       "    </tr>\n",
       "    <tr>\n",
       "      <th>21423</th>\n",
       "      <td>0</td>\n",
       "      <td>NaN</td>\n",
       "      <td>63</td>\n",
       "      <td>secondary education</td>\n",
       "      <td>1</td>\n",
       "      <td>married</td>\n",
       "      <td>0</td>\n",
       "      <td>M</td>\n",
       "      <td>retiree</td>\n",
       "      <td>0</td>\n",
       "      <td>NaN</td>\n",
       "      <td>purchase of a car</td>\n",
       "    </tr>\n",
       "  </tbody>\n",
       "</table>\n",
       "<p>413 rows × 12 columns</p>\n",
       "</div>"
      ],
      "text/plain": [
       "       children  days_employed  dob_years            education  education_id  \\\n",
       "12            0            NaN         65  secondary education             1   \n",
       "29            0            NaN         63  secondary education             1   \n",
       "55            0            NaN         54  secondary education             1   \n",
       "67            0            NaN         52    bachelor's degree             0   \n",
       "145           0            NaN         62  secondary education             1   \n",
       "...         ...            ...        ...                  ...           ...   \n",
       "21311         0            NaN         49  secondary education             1   \n",
       "21321         0            NaN         56  Secondary Education             1   \n",
       "21414         0            NaN         65  secondary education             1   \n",
       "21415         0            NaN         54  secondary education             1   \n",
       "21423         0            NaN         63  secondary education             1   \n",
       "\n",
       "           family_status  family_status_id gender income_type  debt  \\\n",
       "12     civil partnership                 1      M     retiree     0   \n",
       "29             unmarried                 4      F     retiree     0   \n",
       "55     civil partnership                 1      F     retiree     1   \n",
       "67               married                 0      F     retiree     0   \n",
       "145              married                 0      M     retiree     0   \n",
       "...                  ...               ...    ...         ...   ...   \n",
       "21311            married                 0      F     retiree     0   \n",
       "21321            married                 0      F     retiree     0   \n",
       "21414            married                 0      F     retiree     0   \n",
       "21415            married                 0      F     retiree     0   \n",
       "21423            married                 0      M     retiree     0   \n",
       "\n",
       "       total_income                              purpose  \n",
       "12              NaN                    to have a wedding  \n",
       "29              NaN               building a real estate  \n",
       "55              NaN                    to have a wedding  \n",
       "67              NaN  purchase of the house for my family  \n",
       "145             NaN                  building a property  \n",
       "...             ...                                  ...  \n",
       "21311           NaN      buying property for renting out  \n",
       "21321           NaN             real estate transactions  \n",
       "21414           NaN             purchase of my own house  \n",
       "21415           NaN                 housing transactions  \n",
       "21423           NaN                    purchase of a car  \n",
       "\n",
       "[413 rows x 12 columns]"
      ]
     },
     "execution_count": 12,
     "metadata": {},
     "output_type": "execute_result"
    }
   ],
   "source": [
    "# sample distribusi data dari salah satu value di kolom income_type yang terdapat missing value pada kolom total_income nya\n",
    "\n",
    "df.loc[(df['income_type']=='retiree') & (df['total_income'].isna())]"
   ]
  },
  {
   "cell_type": "code",
   "execution_count": 13,
   "metadata": {},
   "outputs": [
    {
     "data": {
      "text/plain": [
       "['F', 'M']"
      ]
     },
     "execution_count": 13,
     "metadata": {},
     "output_type": "execute_result"
    }
   ],
   "source": [
    "# Menampilkan unique value di kolom gender yang terdapat missing value pada kolom total_income nya\n",
    "\n",
    "sorted(df.loc[df['total_income'].isna(), 'gender'].unique())"
   ]
  },
  {
   "cell_type": "code",
   "execution_count": 14,
   "metadata": {},
   "outputs": [
    {
     "data": {
      "text/plain": [
       "['F', 'M', 'XNA']"
      ]
     },
     "execution_count": 14,
     "metadata": {},
     "output_type": "execute_result"
    }
   ],
   "source": [
    "# Menampilkan unique value di kolom gender\n",
    "\n",
    "sorted(df['gender'].unique())"
   ]
  },
  {
   "cell_type": "code",
   "execution_count": 15,
   "metadata": {
    "scrolled": false
   },
   "outputs": [
    {
     "data": {
      "text/html": [
       "<div>\n",
       "<style scoped>\n",
       "    .dataframe tbody tr th:only-of-type {\n",
       "        vertical-align: middle;\n",
       "    }\n",
       "\n",
       "    .dataframe tbody tr th {\n",
       "        vertical-align: top;\n",
       "    }\n",
       "\n",
       "    .dataframe thead th {\n",
       "        text-align: right;\n",
       "    }\n",
       "</style>\n",
       "<table border=\"1\" class=\"dataframe\">\n",
       "  <thead>\n",
       "    <tr style=\"text-align: right;\">\n",
       "      <th></th>\n",
       "      <th>children</th>\n",
       "      <th>days_employed</th>\n",
       "      <th>dob_years</th>\n",
       "      <th>education</th>\n",
       "      <th>education_id</th>\n",
       "      <th>family_status</th>\n",
       "      <th>family_status_id</th>\n",
       "      <th>gender</th>\n",
       "      <th>income_type</th>\n",
       "      <th>debt</th>\n",
       "      <th>total_income</th>\n",
       "      <th>purpose</th>\n",
       "    </tr>\n",
       "  </thead>\n",
       "  <tbody>\n",
       "    <tr>\n",
       "      <th>29</th>\n",
       "      <td>0</td>\n",
       "      <td>NaN</td>\n",
       "      <td>63</td>\n",
       "      <td>secondary education</td>\n",
       "      <td>1</td>\n",
       "      <td>unmarried</td>\n",
       "      <td>4</td>\n",
       "      <td>F</td>\n",
       "      <td>retiree</td>\n",
       "      <td>0</td>\n",
       "      <td>NaN</td>\n",
       "      <td>building a real estate</td>\n",
       "    </tr>\n",
       "    <tr>\n",
       "      <th>41</th>\n",
       "      <td>0</td>\n",
       "      <td>NaN</td>\n",
       "      <td>50</td>\n",
       "      <td>secondary education</td>\n",
       "      <td>1</td>\n",
       "      <td>married</td>\n",
       "      <td>0</td>\n",
       "      <td>F</td>\n",
       "      <td>civil servant</td>\n",
       "      <td>0</td>\n",
       "      <td>NaN</td>\n",
       "      <td>second-hand car purchase</td>\n",
       "    </tr>\n",
       "    <tr>\n",
       "      <th>55</th>\n",
       "      <td>0</td>\n",
       "      <td>NaN</td>\n",
       "      <td>54</td>\n",
       "      <td>secondary education</td>\n",
       "      <td>1</td>\n",
       "      <td>civil partnership</td>\n",
       "      <td>1</td>\n",
       "      <td>F</td>\n",
       "      <td>retiree</td>\n",
       "      <td>1</td>\n",
       "      <td>NaN</td>\n",
       "      <td>to have a wedding</td>\n",
       "    </tr>\n",
       "    <tr>\n",
       "      <th>67</th>\n",
       "      <td>0</td>\n",
       "      <td>NaN</td>\n",
       "      <td>52</td>\n",
       "      <td>bachelor's degree</td>\n",
       "      <td>0</td>\n",
       "      <td>married</td>\n",
       "      <td>0</td>\n",
       "      <td>F</td>\n",
       "      <td>retiree</td>\n",
       "      <td>0</td>\n",
       "      <td>NaN</td>\n",
       "      <td>purchase of the house for my family</td>\n",
       "    </tr>\n",
       "    <tr>\n",
       "      <th>82</th>\n",
       "      <td>2</td>\n",
       "      <td>NaN</td>\n",
       "      <td>50</td>\n",
       "      <td>bachelor's degree</td>\n",
       "      <td>0</td>\n",
       "      <td>married</td>\n",
       "      <td>0</td>\n",
       "      <td>F</td>\n",
       "      <td>employee</td>\n",
       "      <td>0</td>\n",
       "      <td>NaN</td>\n",
       "      <td>housing</td>\n",
       "    </tr>\n",
       "    <tr>\n",
       "      <th>...</th>\n",
       "      <td>...</td>\n",
       "      <td>...</td>\n",
       "      <td>...</td>\n",
       "      <td>...</td>\n",
       "      <td>...</td>\n",
       "      <td>...</td>\n",
       "      <td>...</td>\n",
       "      <td>...</td>\n",
       "      <td>...</td>\n",
       "      <td>...</td>\n",
       "      <td>...</td>\n",
       "      <td>...</td>\n",
       "    </tr>\n",
       "    <tr>\n",
       "      <th>21432</th>\n",
       "      <td>1</td>\n",
       "      <td>NaN</td>\n",
       "      <td>38</td>\n",
       "      <td>some college</td>\n",
       "      <td>2</td>\n",
       "      <td>unmarried</td>\n",
       "      <td>4</td>\n",
       "      <td>F</td>\n",
       "      <td>employee</td>\n",
       "      <td>0</td>\n",
       "      <td>NaN</td>\n",
       "      <td>housing transactions</td>\n",
       "    </tr>\n",
       "    <tr>\n",
       "      <th>21495</th>\n",
       "      <td>1</td>\n",
       "      <td>NaN</td>\n",
       "      <td>50</td>\n",
       "      <td>secondary education</td>\n",
       "      <td>1</td>\n",
       "      <td>civil partnership</td>\n",
       "      <td>1</td>\n",
       "      <td>F</td>\n",
       "      <td>employee</td>\n",
       "      <td>0</td>\n",
       "      <td>NaN</td>\n",
       "      <td>wedding ceremony</td>\n",
       "    </tr>\n",
       "    <tr>\n",
       "      <th>21497</th>\n",
       "      <td>0</td>\n",
       "      <td>NaN</td>\n",
       "      <td>48</td>\n",
       "      <td>BACHELOR'S DEGREE</td>\n",
       "      <td>0</td>\n",
       "      <td>married</td>\n",
       "      <td>0</td>\n",
       "      <td>F</td>\n",
       "      <td>business</td>\n",
       "      <td>0</td>\n",
       "      <td>NaN</td>\n",
       "      <td>building a property</td>\n",
       "    </tr>\n",
       "    <tr>\n",
       "      <th>21502</th>\n",
       "      <td>1</td>\n",
       "      <td>NaN</td>\n",
       "      <td>42</td>\n",
       "      <td>secondary education</td>\n",
       "      <td>1</td>\n",
       "      <td>married</td>\n",
       "      <td>0</td>\n",
       "      <td>F</td>\n",
       "      <td>employee</td>\n",
       "      <td>0</td>\n",
       "      <td>NaN</td>\n",
       "      <td>building a real estate</td>\n",
       "    </tr>\n",
       "    <tr>\n",
       "      <th>21510</th>\n",
       "      <td>2</td>\n",
       "      <td>NaN</td>\n",
       "      <td>28</td>\n",
       "      <td>secondary education</td>\n",
       "      <td>1</td>\n",
       "      <td>married</td>\n",
       "      <td>0</td>\n",
       "      <td>F</td>\n",
       "      <td>employee</td>\n",
       "      <td>0</td>\n",
       "      <td>NaN</td>\n",
       "      <td>car purchase</td>\n",
       "    </tr>\n",
       "  </tbody>\n",
       "</table>\n",
       "<p>1484 rows × 12 columns</p>\n",
       "</div>"
      ],
      "text/plain": [
       "       children  days_employed  dob_years            education  education_id  \\\n",
       "29            0            NaN         63  secondary education             1   \n",
       "41            0            NaN         50  secondary education             1   \n",
       "55            0            NaN         54  secondary education             1   \n",
       "67            0            NaN         52    bachelor's degree             0   \n",
       "82            2            NaN         50    bachelor's degree             0   \n",
       "...         ...            ...        ...                  ...           ...   \n",
       "21432         1            NaN         38         some college             2   \n",
       "21495         1            NaN         50  secondary education             1   \n",
       "21497         0            NaN         48    BACHELOR'S DEGREE             0   \n",
       "21502         1            NaN         42  secondary education             1   \n",
       "21510         2            NaN         28  secondary education             1   \n",
       "\n",
       "           family_status  family_status_id gender    income_type  debt  \\\n",
       "29             unmarried                 4      F        retiree     0   \n",
       "41               married                 0      F  civil servant     0   \n",
       "55     civil partnership                 1      F        retiree     1   \n",
       "67               married                 0      F        retiree     0   \n",
       "82               married                 0      F       employee     0   \n",
       "...                  ...               ...    ...            ...   ...   \n",
       "21432          unmarried                 4      F       employee     0   \n",
       "21495  civil partnership                 1      F       employee     0   \n",
       "21497            married                 0      F       business     0   \n",
       "21502            married                 0      F       employee     0   \n",
       "21510            married                 0      F       employee     0   \n",
       "\n",
       "       total_income                              purpose  \n",
       "29              NaN               building a real estate  \n",
       "41              NaN             second-hand car purchase  \n",
       "55              NaN                    to have a wedding  \n",
       "67              NaN  purchase of the house for my family  \n",
       "82              NaN                              housing  \n",
       "...             ...                                  ...  \n",
       "21432           NaN                 housing transactions  \n",
       "21495           NaN                     wedding ceremony  \n",
       "21497           NaN                  building a property  \n",
       "21502           NaN               building a real estate  \n",
       "21510           NaN                         car purchase  \n",
       "\n",
       "[1484 rows x 12 columns]"
      ]
     },
     "execution_count": 15,
     "metadata": {},
     "output_type": "execute_result"
    }
   ],
   "source": [
    "# sample distribusi data dari salah satu value di kolom gender yang terdapat missing value pada kolom total_income nya\n",
    "\n",
    "df.loc[(df['gender']=='F') & (df['total_income'].isna())]"
   ]
  },
  {
   "cell_type": "code",
   "execution_count": 16,
   "metadata": {},
   "outputs": [
    {
     "data": {
      "text/plain": [
       "['civil partnership', 'divorced', 'married', 'unmarried', 'widow / widower']"
      ]
     },
     "execution_count": 16,
     "metadata": {},
     "output_type": "execute_result"
    }
   ],
   "source": [
    "# Menampilkan unique value di kolom family_status yang terdapat missing value pada kolom total_income nya\n",
    "\n",
    "sorted(df.loc[df['total_income'].isna(), 'family_status'].unique())"
   ]
  },
  {
   "cell_type": "code",
   "execution_count": 17,
   "metadata": {},
   "outputs": [
    {
     "data": {
      "text/plain": [
       "['civil partnership', 'divorced', 'married', 'unmarried', 'widow / widower']"
      ]
     },
     "execution_count": 17,
     "metadata": {},
     "output_type": "execute_result"
    }
   ],
   "source": [
    "# Menampilkan unique value di kolom family_status\n",
    "\n",
    "sorted(df['family_status'].unique())"
   ]
  },
  {
   "cell_type": "code",
   "execution_count": 18,
   "metadata": {},
   "outputs": [
    {
     "data": {
      "text/html": [
       "<div>\n",
       "<style scoped>\n",
       "    .dataframe tbody tr th:only-of-type {\n",
       "        vertical-align: middle;\n",
       "    }\n",
       "\n",
       "    .dataframe tbody tr th {\n",
       "        vertical-align: top;\n",
       "    }\n",
       "\n",
       "    .dataframe thead th {\n",
       "        text-align: right;\n",
       "    }\n",
       "</style>\n",
       "<table border=\"1\" class=\"dataframe\">\n",
       "  <thead>\n",
       "    <tr style=\"text-align: right;\">\n",
       "      <th></th>\n",
       "      <th>children</th>\n",
       "      <th>days_employed</th>\n",
       "      <th>dob_years</th>\n",
       "      <th>education</th>\n",
       "      <th>education_id</th>\n",
       "      <th>family_status</th>\n",
       "      <th>family_status_id</th>\n",
       "      <th>gender</th>\n",
       "      <th>income_type</th>\n",
       "      <th>debt</th>\n",
       "      <th>total_income</th>\n",
       "      <th>purpose</th>\n",
       "    </tr>\n",
       "  </thead>\n",
       "  <tbody>\n",
       "    <tr>\n",
       "      <th>12</th>\n",
       "      <td>0</td>\n",
       "      <td>NaN</td>\n",
       "      <td>65</td>\n",
       "      <td>secondary education</td>\n",
       "      <td>1</td>\n",
       "      <td>civil partnership</td>\n",
       "      <td>1</td>\n",
       "      <td>M</td>\n",
       "      <td>retiree</td>\n",
       "      <td>0</td>\n",
       "      <td>NaN</td>\n",
       "      <td>to have a wedding</td>\n",
       "    </tr>\n",
       "    <tr>\n",
       "      <th>55</th>\n",
       "      <td>0</td>\n",
       "      <td>NaN</td>\n",
       "      <td>54</td>\n",
       "      <td>secondary education</td>\n",
       "      <td>1</td>\n",
       "      <td>civil partnership</td>\n",
       "      <td>1</td>\n",
       "      <td>F</td>\n",
       "      <td>retiree</td>\n",
       "      <td>1</td>\n",
       "      <td>NaN</td>\n",
       "      <td>to have a wedding</td>\n",
       "    </tr>\n",
       "    <tr>\n",
       "      <th>94</th>\n",
       "      <td>1</td>\n",
       "      <td>NaN</td>\n",
       "      <td>34</td>\n",
       "      <td>bachelor's degree</td>\n",
       "      <td>0</td>\n",
       "      <td>civil partnership</td>\n",
       "      <td>1</td>\n",
       "      <td>F</td>\n",
       "      <td>business</td>\n",
       "      <td>0</td>\n",
       "      <td>NaN</td>\n",
       "      <td>having a wedding</td>\n",
       "    </tr>\n",
       "    <tr>\n",
       "      <th>141</th>\n",
       "      <td>0</td>\n",
       "      <td>NaN</td>\n",
       "      <td>39</td>\n",
       "      <td>secondary education</td>\n",
       "      <td>1</td>\n",
       "      <td>civil partnership</td>\n",
       "      <td>1</td>\n",
       "      <td>M</td>\n",
       "      <td>employee</td>\n",
       "      <td>0</td>\n",
       "      <td>NaN</td>\n",
       "      <td>wedding ceremony</td>\n",
       "    </tr>\n",
       "    <tr>\n",
       "      <th>181</th>\n",
       "      <td>0</td>\n",
       "      <td>NaN</td>\n",
       "      <td>26</td>\n",
       "      <td>secondary education</td>\n",
       "      <td>1</td>\n",
       "      <td>civil partnership</td>\n",
       "      <td>1</td>\n",
       "      <td>F</td>\n",
       "      <td>business</td>\n",
       "      <td>1</td>\n",
       "      <td>NaN</td>\n",
       "      <td>purchase of the house for my family</td>\n",
       "    </tr>\n",
       "    <tr>\n",
       "      <th>...</th>\n",
       "      <td>...</td>\n",
       "      <td>...</td>\n",
       "      <td>...</td>\n",
       "      <td>...</td>\n",
       "      <td>...</td>\n",
       "      <td>...</td>\n",
       "      <td>...</td>\n",
       "      <td>...</td>\n",
       "      <td>...</td>\n",
       "      <td>...</td>\n",
       "      <td>...</td>\n",
       "      <td>...</td>\n",
       "    </tr>\n",
       "    <tr>\n",
       "      <th>21268</th>\n",
       "      <td>1</td>\n",
       "      <td>NaN</td>\n",
       "      <td>44</td>\n",
       "      <td>bachelor's degree</td>\n",
       "      <td>0</td>\n",
       "      <td>civil partnership</td>\n",
       "      <td>1</td>\n",
       "      <td>F</td>\n",
       "      <td>civil servant</td>\n",
       "      <td>0</td>\n",
       "      <td>NaN</td>\n",
       "      <td>having a wedding</td>\n",
       "    </tr>\n",
       "    <tr>\n",
       "      <th>21271</th>\n",
       "      <td>2</td>\n",
       "      <td>NaN</td>\n",
       "      <td>42</td>\n",
       "      <td>secondary education</td>\n",
       "      <td>1</td>\n",
       "      <td>civil partnership</td>\n",
       "      <td>1</td>\n",
       "      <td>M</td>\n",
       "      <td>employee</td>\n",
       "      <td>1</td>\n",
       "      <td>NaN</td>\n",
       "      <td>transactions with my real estate</td>\n",
       "    </tr>\n",
       "    <tr>\n",
       "      <th>21300</th>\n",
       "      <td>2</td>\n",
       "      <td>NaN</td>\n",
       "      <td>45</td>\n",
       "      <td>Secondary Education</td>\n",
       "      <td>1</td>\n",
       "      <td>civil partnership</td>\n",
       "      <td>1</td>\n",
       "      <td>M</td>\n",
       "      <td>business</td>\n",
       "      <td>0</td>\n",
       "      <td>NaN</td>\n",
       "      <td>to get a supplementary education</td>\n",
       "    </tr>\n",
       "    <tr>\n",
       "      <th>21463</th>\n",
       "      <td>1</td>\n",
       "      <td>NaN</td>\n",
       "      <td>35</td>\n",
       "      <td>bachelor's degree</td>\n",
       "      <td>0</td>\n",
       "      <td>civil partnership</td>\n",
       "      <td>1</td>\n",
       "      <td>M</td>\n",
       "      <td>employee</td>\n",
       "      <td>0</td>\n",
       "      <td>NaN</td>\n",
       "      <td>having a wedding</td>\n",
       "    </tr>\n",
       "    <tr>\n",
       "      <th>21495</th>\n",
       "      <td>1</td>\n",
       "      <td>NaN</td>\n",
       "      <td>50</td>\n",
       "      <td>secondary education</td>\n",
       "      <td>1</td>\n",
       "      <td>civil partnership</td>\n",
       "      <td>1</td>\n",
       "      <td>F</td>\n",
       "      <td>employee</td>\n",
       "      <td>0</td>\n",
       "      <td>NaN</td>\n",
       "      <td>wedding ceremony</td>\n",
       "    </tr>\n",
       "  </tbody>\n",
       "</table>\n",
       "<p>442 rows × 12 columns</p>\n",
       "</div>"
      ],
      "text/plain": [
       "       children  days_employed  dob_years            education  education_id  \\\n",
       "12            0            NaN         65  secondary education             1   \n",
       "55            0            NaN         54  secondary education             1   \n",
       "94            1            NaN         34    bachelor's degree             0   \n",
       "141           0            NaN         39  secondary education             1   \n",
       "181           0            NaN         26  secondary education             1   \n",
       "...         ...            ...        ...                  ...           ...   \n",
       "21268         1            NaN         44    bachelor's degree             0   \n",
       "21271         2            NaN         42  secondary education             1   \n",
       "21300         2            NaN         45  Secondary Education             1   \n",
       "21463         1            NaN         35    bachelor's degree             0   \n",
       "21495         1            NaN         50  secondary education             1   \n",
       "\n",
       "           family_status  family_status_id gender    income_type  debt  \\\n",
       "12     civil partnership                 1      M        retiree     0   \n",
       "55     civil partnership                 1      F        retiree     1   \n",
       "94     civil partnership                 1      F       business     0   \n",
       "141    civil partnership                 1      M       employee     0   \n",
       "181    civil partnership                 1      F       business     1   \n",
       "...                  ...               ...    ...            ...   ...   \n",
       "21268  civil partnership                 1      F  civil servant     0   \n",
       "21271  civil partnership                 1      M       employee     1   \n",
       "21300  civil partnership                 1      M       business     0   \n",
       "21463  civil partnership                 1      M       employee     0   \n",
       "21495  civil partnership                 1      F       employee     0   \n",
       "\n",
       "       total_income                              purpose  \n",
       "12              NaN                    to have a wedding  \n",
       "55              NaN                    to have a wedding  \n",
       "94              NaN                     having a wedding  \n",
       "141             NaN                     wedding ceremony  \n",
       "181             NaN  purchase of the house for my family  \n",
       "...             ...                                  ...  \n",
       "21268           NaN                     having a wedding  \n",
       "21271           NaN     transactions with my real estate  \n",
       "21300           NaN     to get a supplementary education  \n",
       "21463           NaN                     having a wedding  \n",
       "21495           NaN                     wedding ceremony  \n",
       "\n",
       "[442 rows x 12 columns]"
      ]
     },
     "execution_count": 18,
     "metadata": {},
     "output_type": "execute_result"
    }
   ],
   "source": [
    "# sample distribusi data dari salah satu value di kolom family_status yang terdapat missing value pada kolom total_income nya\n",
    "\n",
    "df.loc[(df['family_status']=='civil partnership') & (df['total_income'].isna())]"
   ]
  },
  {
   "cell_type": "code",
   "execution_count": 19,
   "metadata": {},
   "outputs": [
    {
     "data": {
      "text/plain": [
       "[\"BACHELOR'S DEGREE\",\n",
       " \"Bachelor's Degree\",\n",
       " 'PRIMARY EDUCATION',\n",
       " 'Primary Education',\n",
       " 'SECONDARY EDUCATION',\n",
       " 'SOME COLLEGE',\n",
       " 'Secondary Education',\n",
       " 'Some College',\n",
       " \"bachelor's degree\",\n",
       " 'primary education',\n",
       " 'secondary education',\n",
       " 'some college']"
      ]
     },
     "execution_count": 19,
     "metadata": {},
     "output_type": "execute_result"
    }
   ],
   "source": [
    "# Menampilkan unique value di kolom education yang terdapat missing value pada kolom total_income nya\n",
    "\n",
    "sorted(df.loc[df['total_income'].isna(), 'education'].unique())"
   ]
  },
  {
   "cell_type": "code",
   "execution_count": 20,
   "metadata": {},
   "outputs": [
    {
     "data": {
      "text/plain": [
       "[\"BACHELOR'S DEGREE\",\n",
       " \"Bachelor's Degree\",\n",
       " 'GRADUATE DEGREE',\n",
       " 'Graduate Degree',\n",
       " 'PRIMARY EDUCATION',\n",
       " 'Primary Education',\n",
       " 'SECONDARY EDUCATION',\n",
       " 'SOME COLLEGE',\n",
       " 'Secondary Education',\n",
       " 'Some College',\n",
       " \"bachelor's degree\",\n",
       " 'graduate degree',\n",
       " 'primary education',\n",
       " 'secondary education',\n",
       " 'some college']"
      ]
     },
     "execution_count": 20,
     "metadata": {},
     "output_type": "execute_result"
    }
   ],
   "source": [
    "# Menampilkan unique value di kolom education\n",
    "\n",
    "sorted(df['education'].unique())"
   ]
  },
  {
   "cell_type": "code",
   "execution_count": 21,
   "metadata": {},
   "outputs": [
    {
     "data": {
      "text/html": [
       "<div>\n",
       "<style scoped>\n",
       "    .dataframe tbody tr th:only-of-type {\n",
       "        vertical-align: middle;\n",
       "    }\n",
       "\n",
       "    .dataframe tbody tr th {\n",
       "        vertical-align: top;\n",
       "    }\n",
       "\n",
       "    .dataframe thead th {\n",
       "        text-align: right;\n",
       "    }\n",
       "</style>\n",
       "<table border=\"1\" class=\"dataframe\">\n",
       "  <thead>\n",
       "    <tr style=\"text-align: right;\">\n",
       "      <th></th>\n",
       "      <th>children</th>\n",
       "      <th>days_employed</th>\n",
       "      <th>dob_years</th>\n",
       "      <th>education</th>\n",
       "      <th>education_id</th>\n",
       "      <th>family_status</th>\n",
       "      <th>family_status_id</th>\n",
       "      <th>gender</th>\n",
       "      <th>income_type</th>\n",
       "      <th>debt</th>\n",
       "      <th>total_income</th>\n",
       "      <th>purpose</th>\n",
       "    </tr>\n",
       "  </thead>\n",
       "  <tbody>\n",
       "    <tr>\n",
       "      <th>1303</th>\n",
       "      <td>1</td>\n",
       "      <td>NaN</td>\n",
       "      <td>70</td>\n",
       "      <td>primary education</td>\n",
       "      <td>3</td>\n",
       "      <td>civil partnership</td>\n",
       "      <td>1</td>\n",
       "      <td>F</td>\n",
       "      <td>employee</td>\n",
       "      <td>0</td>\n",
       "      <td>NaN</td>\n",
       "      <td>transactions with commercial real estate</td>\n",
       "    </tr>\n",
       "    <tr>\n",
       "      <th>1510</th>\n",
       "      <td>0</td>\n",
       "      <td>NaN</td>\n",
       "      <td>52</td>\n",
       "      <td>primary education</td>\n",
       "      <td>3</td>\n",
       "      <td>civil partnership</td>\n",
       "      <td>1</td>\n",
       "      <td>M</td>\n",
       "      <td>employee</td>\n",
       "      <td>1</td>\n",
       "      <td>NaN</td>\n",
       "      <td>construction of own property</td>\n",
       "    </tr>\n",
       "    <tr>\n",
       "      <th>1520</th>\n",
       "      <td>0</td>\n",
       "      <td>NaN</td>\n",
       "      <td>53</td>\n",
       "      <td>primary education</td>\n",
       "      <td>3</td>\n",
       "      <td>married</td>\n",
       "      <td>0</td>\n",
       "      <td>F</td>\n",
       "      <td>employee</td>\n",
       "      <td>0</td>\n",
       "      <td>NaN</td>\n",
       "      <td>transactions with my real estate</td>\n",
       "    </tr>\n",
       "    <tr>\n",
       "      <th>4388</th>\n",
       "      <td>0</td>\n",
       "      <td>NaN</td>\n",
       "      <td>39</td>\n",
       "      <td>primary education</td>\n",
       "      <td>3</td>\n",
       "      <td>married</td>\n",
       "      <td>0</td>\n",
       "      <td>F</td>\n",
       "      <td>employee</td>\n",
       "      <td>0</td>\n",
       "      <td>NaN</td>\n",
       "      <td>building a property</td>\n",
       "    </tr>\n",
       "    <tr>\n",
       "      <th>4585</th>\n",
       "      <td>1</td>\n",
       "      <td>NaN</td>\n",
       "      <td>58</td>\n",
       "      <td>primary education</td>\n",
       "      <td>3</td>\n",
       "      <td>civil partnership</td>\n",
       "      <td>1</td>\n",
       "      <td>F</td>\n",
       "      <td>employee</td>\n",
       "      <td>0</td>\n",
       "      <td>NaN</td>\n",
       "      <td>housing transactions</td>\n",
       "    </tr>\n",
       "    <tr>\n",
       "      <th>7314</th>\n",
       "      <td>1</td>\n",
       "      <td>NaN</td>\n",
       "      <td>45</td>\n",
       "      <td>primary education</td>\n",
       "      <td>3</td>\n",
       "      <td>married</td>\n",
       "      <td>0</td>\n",
       "      <td>M</td>\n",
       "      <td>employee</td>\n",
       "      <td>0</td>\n",
       "      <td>NaN</td>\n",
       "      <td>profile education</td>\n",
       "    </tr>\n",
       "    <tr>\n",
       "      <th>8142</th>\n",
       "      <td>0</td>\n",
       "      <td>NaN</td>\n",
       "      <td>64</td>\n",
       "      <td>primary education</td>\n",
       "      <td>3</td>\n",
       "      <td>civil partnership</td>\n",
       "      <td>1</td>\n",
       "      <td>F</td>\n",
       "      <td>civil servant</td>\n",
       "      <td>0</td>\n",
       "      <td>NaN</td>\n",
       "      <td>to have a wedding</td>\n",
       "    </tr>\n",
       "    <tr>\n",
       "      <th>10998</th>\n",
       "      <td>0</td>\n",
       "      <td>NaN</td>\n",
       "      <td>34</td>\n",
       "      <td>primary education</td>\n",
       "      <td>3</td>\n",
       "      <td>married</td>\n",
       "      <td>0</td>\n",
       "      <td>F</td>\n",
       "      <td>employee</td>\n",
       "      <td>0</td>\n",
       "      <td>NaN</td>\n",
       "      <td>buy real estate</td>\n",
       "    </tr>\n",
       "    <tr>\n",
       "      <th>11758</th>\n",
       "      <td>0</td>\n",
       "      <td>NaN</td>\n",
       "      <td>58</td>\n",
       "      <td>primary education</td>\n",
       "      <td>3</td>\n",
       "      <td>married</td>\n",
       "      <td>0</td>\n",
       "      <td>M</td>\n",
       "      <td>retiree</td>\n",
       "      <td>0</td>\n",
       "      <td>NaN</td>\n",
       "      <td>transactions with my real estate</td>\n",
       "    </tr>\n",
       "    <tr>\n",
       "      <th>13031</th>\n",
       "      <td>0</td>\n",
       "      <td>NaN</td>\n",
       "      <td>37</td>\n",
       "      <td>primary education</td>\n",
       "      <td>3</td>\n",
       "      <td>civil partnership</td>\n",
       "      <td>1</td>\n",
       "      <td>F</td>\n",
       "      <td>business</td>\n",
       "      <td>1</td>\n",
       "      <td>NaN</td>\n",
       "      <td>wedding ceremony</td>\n",
       "    </tr>\n",
       "    <tr>\n",
       "      <th>13074</th>\n",
       "      <td>3</td>\n",
       "      <td>NaN</td>\n",
       "      <td>59</td>\n",
       "      <td>primary education</td>\n",
       "      <td>3</td>\n",
       "      <td>married</td>\n",
       "      <td>0</td>\n",
       "      <td>M</td>\n",
       "      <td>employee</td>\n",
       "      <td>0</td>\n",
       "      <td>NaN</td>\n",
       "      <td>getting higher education</td>\n",
       "    </tr>\n",
       "    <tr>\n",
       "      <th>13493</th>\n",
       "      <td>0</td>\n",
       "      <td>NaN</td>\n",
       "      <td>63</td>\n",
       "      <td>primary education</td>\n",
       "      <td>3</td>\n",
       "      <td>married</td>\n",
       "      <td>0</td>\n",
       "      <td>F</td>\n",
       "      <td>retiree</td>\n",
       "      <td>0</td>\n",
       "      <td>NaN</td>\n",
       "      <td>to own a car</td>\n",
       "    </tr>\n",
       "    <tr>\n",
       "      <th>15074</th>\n",
       "      <td>0</td>\n",
       "      <td>NaN</td>\n",
       "      <td>62</td>\n",
       "      <td>primary education</td>\n",
       "      <td>3</td>\n",
       "      <td>civil partnership</td>\n",
       "      <td>1</td>\n",
       "      <td>F</td>\n",
       "      <td>employee</td>\n",
       "      <td>0</td>\n",
       "      <td>NaN</td>\n",
       "      <td>real estate transactions</td>\n",
       "    </tr>\n",
       "    <tr>\n",
       "      <th>17014</th>\n",
       "      <td>0</td>\n",
       "      <td>NaN</td>\n",
       "      <td>39</td>\n",
       "      <td>primary education</td>\n",
       "      <td>3</td>\n",
       "      <td>married</td>\n",
       "      <td>0</td>\n",
       "      <td>F</td>\n",
       "      <td>civil servant</td>\n",
       "      <td>0</td>\n",
       "      <td>NaN</td>\n",
       "      <td>transactions with commercial real estate</td>\n",
       "    </tr>\n",
       "    <tr>\n",
       "      <th>17430</th>\n",
       "      <td>0</td>\n",
       "      <td>NaN</td>\n",
       "      <td>60</td>\n",
       "      <td>primary education</td>\n",
       "      <td>3</td>\n",
       "      <td>widow / widower</td>\n",
       "      <td>2</td>\n",
       "      <td>F</td>\n",
       "      <td>retiree</td>\n",
       "      <td>0</td>\n",
       "      <td>NaN</td>\n",
       "      <td>car</td>\n",
       "    </tr>\n",
       "    <tr>\n",
       "      <th>17696</th>\n",
       "      <td>1</td>\n",
       "      <td>NaN</td>\n",
       "      <td>45</td>\n",
       "      <td>primary education</td>\n",
       "      <td>3</td>\n",
       "      <td>married</td>\n",
       "      <td>0</td>\n",
       "      <td>F</td>\n",
       "      <td>retiree</td>\n",
       "      <td>0</td>\n",
       "      <td>NaN</td>\n",
       "      <td>real estate transactions</td>\n",
       "    </tr>\n",
       "    <tr>\n",
       "      <th>18852</th>\n",
       "      <td>0</td>\n",
       "      <td>NaN</td>\n",
       "      <td>26</td>\n",
       "      <td>primary education</td>\n",
       "      <td>3</td>\n",
       "      <td>unmarried</td>\n",
       "      <td>4</td>\n",
       "      <td>M</td>\n",
       "      <td>employee</td>\n",
       "      <td>0</td>\n",
       "      <td>NaN</td>\n",
       "      <td>purchase of the house</td>\n",
       "    </tr>\n",
       "    <tr>\n",
       "      <th>20167</th>\n",
       "      <td>0</td>\n",
       "      <td>NaN</td>\n",
       "      <td>36</td>\n",
       "      <td>primary education</td>\n",
       "      <td>3</td>\n",
       "      <td>unmarried</td>\n",
       "      <td>4</td>\n",
       "      <td>M</td>\n",
       "      <td>employee</td>\n",
       "      <td>0</td>\n",
       "      <td>NaN</td>\n",
       "      <td>purchase of my own house</td>\n",
       "    </tr>\n",
       "    <tr>\n",
       "      <th>20283</th>\n",
       "      <td>0</td>\n",
       "      <td>NaN</td>\n",
       "      <td>61</td>\n",
       "      <td>primary education</td>\n",
       "      <td>3</td>\n",
       "      <td>widow / widower</td>\n",
       "      <td>2</td>\n",
       "      <td>F</td>\n",
       "      <td>retiree</td>\n",
       "      <td>0</td>\n",
       "      <td>NaN</td>\n",
       "      <td>property</td>\n",
       "    </tr>\n",
       "  </tbody>\n",
       "</table>\n",
       "</div>"
      ],
      "text/plain": [
       "       children  days_employed  dob_years          education  education_id  \\\n",
       "1303          1            NaN         70  primary education             3   \n",
       "1510          0            NaN         52  primary education             3   \n",
       "1520          0            NaN         53  primary education             3   \n",
       "4388          0            NaN         39  primary education             3   \n",
       "4585          1            NaN         58  primary education             3   \n",
       "7314          1            NaN         45  primary education             3   \n",
       "8142          0            NaN         64  primary education             3   \n",
       "10998         0            NaN         34  primary education             3   \n",
       "11758         0            NaN         58  primary education             3   \n",
       "13031         0            NaN         37  primary education             3   \n",
       "13074         3            NaN         59  primary education             3   \n",
       "13493         0            NaN         63  primary education             3   \n",
       "15074         0            NaN         62  primary education             3   \n",
       "17014         0            NaN         39  primary education             3   \n",
       "17430         0            NaN         60  primary education             3   \n",
       "17696         1            NaN         45  primary education             3   \n",
       "18852         0            NaN         26  primary education             3   \n",
       "20167         0            NaN         36  primary education             3   \n",
       "20283         0            NaN         61  primary education             3   \n",
       "\n",
       "           family_status  family_status_id gender    income_type  debt  \\\n",
       "1303   civil partnership                 1      F       employee     0   \n",
       "1510   civil partnership                 1      M       employee     1   \n",
       "1520             married                 0      F       employee     0   \n",
       "4388             married                 0      F       employee     0   \n",
       "4585   civil partnership                 1      F       employee     0   \n",
       "7314             married                 0      M       employee     0   \n",
       "8142   civil partnership                 1      F  civil servant     0   \n",
       "10998            married                 0      F       employee     0   \n",
       "11758            married                 0      M        retiree     0   \n",
       "13031  civil partnership                 1      F       business     1   \n",
       "13074            married                 0      M       employee     0   \n",
       "13493            married                 0      F        retiree     0   \n",
       "15074  civil partnership                 1      F       employee     0   \n",
       "17014            married                 0      F  civil servant     0   \n",
       "17430    widow / widower                 2      F        retiree     0   \n",
       "17696            married                 0      F        retiree     0   \n",
       "18852          unmarried                 4      M       employee     0   \n",
       "20167          unmarried                 4      M       employee     0   \n",
       "20283    widow / widower                 2      F        retiree     0   \n",
       "\n",
       "       total_income                                   purpose  \n",
       "1303            NaN  transactions with commercial real estate  \n",
       "1510            NaN              construction of own property  \n",
       "1520            NaN          transactions with my real estate  \n",
       "4388            NaN                       building a property  \n",
       "4585            NaN                      housing transactions  \n",
       "7314            NaN                         profile education  \n",
       "8142            NaN                         to have a wedding  \n",
       "10998           NaN                           buy real estate  \n",
       "11758           NaN          transactions with my real estate  \n",
       "13031           NaN                          wedding ceremony  \n",
       "13074           NaN                  getting higher education  \n",
       "13493           NaN                              to own a car  \n",
       "15074           NaN                  real estate transactions  \n",
       "17014           NaN  transactions with commercial real estate  \n",
       "17430           NaN                                       car  \n",
       "17696           NaN                  real estate transactions  \n",
       "18852           NaN                     purchase of the house  \n",
       "20167           NaN                  purchase of my own house  \n",
       "20283           NaN                                  property  "
      ]
     },
     "execution_count": 21,
     "metadata": {},
     "output_type": "execute_result"
    }
   ],
   "source": [
    "# sample distribusi data dari salah satu value di kolom family_status yang terdapat missing value pada kolom total_income nya\n",
    "\n",
    "df.loc[(df['education']=='primary education') & (df['total_income'].isna())]"
   ]
  },
  {
   "cell_type": "code",
   "execution_count": 22,
   "metadata": {},
   "outputs": [
    {
     "data": {
      "text/plain": [
       "[\"BACHELOR'S DEGREE\",\n",
       " \"Bachelor's Degree\",\n",
       " 'PRIMARY EDUCATION',\n",
       " 'Primary Education',\n",
       " 'SECONDARY EDUCATION',\n",
       " 'SOME COLLEGE',\n",
       " 'Secondary Education',\n",
       " 'Some College',\n",
       " \"bachelor's degree\",\n",
       " 'primary education',\n",
       " 'secondary education',\n",
       " 'some college']"
      ]
     },
     "execution_count": 22,
     "metadata": {},
     "output_type": "execute_result"
    }
   ],
   "source": [
    "# Menampilkan unique value di kolom education yang terdapat missing value pada kolom total_income nya\n",
    "\n",
    "sorted(df.loc[df['total_income'].isna(), 'education'].unique())"
   ]
  },
  {
   "cell_type": "code",
   "execution_count": 23,
   "metadata": {},
   "outputs": [
    {
     "data": {
      "text/plain": [
       "[\"BACHELOR'S DEGREE\",\n",
       " \"Bachelor's Degree\",\n",
       " 'GRADUATE DEGREE',\n",
       " 'Graduate Degree',\n",
       " 'PRIMARY EDUCATION',\n",
       " 'Primary Education',\n",
       " 'SECONDARY EDUCATION',\n",
       " 'SOME COLLEGE',\n",
       " 'Secondary Education',\n",
       " 'Some College',\n",
       " \"bachelor's degree\",\n",
       " 'graduate degree',\n",
       " 'primary education',\n",
       " 'secondary education',\n",
       " 'some college']"
      ]
     },
     "execution_count": 23,
     "metadata": {},
     "output_type": "execute_result"
    }
   ],
   "source": [
    "# Menampilkan unique value di kolom education\n",
    "\n",
    "sorted(df['education'].unique())"
   ]
  },
  {
   "cell_type": "code",
   "execution_count": 24,
   "metadata": {},
   "outputs": [
    {
     "data": {
      "text/html": [
       "<div>\n",
       "<style scoped>\n",
       "    .dataframe tbody tr th:only-of-type {\n",
       "        vertical-align: middle;\n",
       "    }\n",
       "\n",
       "    .dataframe tbody tr th {\n",
       "        vertical-align: top;\n",
       "    }\n",
       "\n",
       "    .dataframe thead th {\n",
       "        text-align: right;\n",
       "    }\n",
       "</style>\n",
       "<table border=\"1\" class=\"dataframe\">\n",
       "  <thead>\n",
       "    <tr style=\"text-align: right;\">\n",
       "      <th></th>\n",
       "      <th>children</th>\n",
       "      <th>days_employed</th>\n",
       "      <th>dob_years</th>\n",
       "      <th>education</th>\n",
       "      <th>education_id</th>\n",
       "      <th>family_status</th>\n",
       "      <th>family_status_id</th>\n",
       "      <th>gender</th>\n",
       "      <th>income_type</th>\n",
       "      <th>debt</th>\n",
       "      <th>total_income</th>\n",
       "      <th>purpose</th>\n",
       "    </tr>\n",
       "  </thead>\n",
       "  <tbody>\n",
       "    <tr>\n",
       "      <th>1303</th>\n",
       "      <td>1</td>\n",
       "      <td>NaN</td>\n",
       "      <td>70</td>\n",
       "      <td>primary education</td>\n",
       "      <td>3</td>\n",
       "      <td>civil partnership</td>\n",
       "      <td>1</td>\n",
       "      <td>F</td>\n",
       "      <td>employee</td>\n",
       "      <td>0</td>\n",
       "      <td>NaN</td>\n",
       "      <td>transactions with commercial real estate</td>\n",
       "    </tr>\n",
       "    <tr>\n",
       "      <th>1510</th>\n",
       "      <td>0</td>\n",
       "      <td>NaN</td>\n",
       "      <td>52</td>\n",
       "      <td>primary education</td>\n",
       "      <td>3</td>\n",
       "      <td>civil partnership</td>\n",
       "      <td>1</td>\n",
       "      <td>M</td>\n",
       "      <td>employee</td>\n",
       "      <td>1</td>\n",
       "      <td>NaN</td>\n",
       "      <td>construction of own property</td>\n",
       "    </tr>\n",
       "    <tr>\n",
       "      <th>1520</th>\n",
       "      <td>0</td>\n",
       "      <td>NaN</td>\n",
       "      <td>53</td>\n",
       "      <td>primary education</td>\n",
       "      <td>3</td>\n",
       "      <td>married</td>\n",
       "      <td>0</td>\n",
       "      <td>F</td>\n",
       "      <td>employee</td>\n",
       "      <td>0</td>\n",
       "      <td>NaN</td>\n",
       "      <td>transactions with my real estate</td>\n",
       "    </tr>\n",
       "    <tr>\n",
       "      <th>4388</th>\n",
       "      <td>0</td>\n",
       "      <td>NaN</td>\n",
       "      <td>39</td>\n",
       "      <td>primary education</td>\n",
       "      <td>3</td>\n",
       "      <td>married</td>\n",
       "      <td>0</td>\n",
       "      <td>F</td>\n",
       "      <td>employee</td>\n",
       "      <td>0</td>\n",
       "      <td>NaN</td>\n",
       "      <td>building a property</td>\n",
       "    </tr>\n",
       "    <tr>\n",
       "      <th>4585</th>\n",
       "      <td>1</td>\n",
       "      <td>NaN</td>\n",
       "      <td>58</td>\n",
       "      <td>primary education</td>\n",
       "      <td>3</td>\n",
       "      <td>civil partnership</td>\n",
       "      <td>1</td>\n",
       "      <td>F</td>\n",
       "      <td>employee</td>\n",
       "      <td>0</td>\n",
       "      <td>NaN</td>\n",
       "      <td>housing transactions</td>\n",
       "    </tr>\n",
       "    <tr>\n",
       "      <th>7314</th>\n",
       "      <td>1</td>\n",
       "      <td>NaN</td>\n",
       "      <td>45</td>\n",
       "      <td>primary education</td>\n",
       "      <td>3</td>\n",
       "      <td>married</td>\n",
       "      <td>0</td>\n",
       "      <td>M</td>\n",
       "      <td>employee</td>\n",
       "      <td>0</td>\n",
       "      <td>NaN</td>\n",
       "      <td>profile education</td>\n",
       "    </tr>\n",
       "    <tr>\n",
       "      <th>8142</th>\n",
       "      <td>0</td>\n",
       "      <td>NaN</td>\n",
       "      <td>64</td>\n",
       "      <td>primary education</td>\n",
       "      <td>3</td>\n",
       "      <td>civil partnership</td>\n",
       "      <td>1</td>\n",
       "      <td>F</td>\n",
       "      <td>civil servant</td>\n",
       "      <td>0</td>\n",
       "      <td>NaN</td>\n",
       "      <td>to have a wedding</td>\n",
       "    </tr>\n",
       "    <tr>\n",
       "      <th>10998</th>\n",
       "      <td>0</td>\n",
       "      <td>NaN</td>\n",
       "      <td>34</td>\n",
       "      <td>primary education</td>\n",
       "      <td>3</td>\n",
       "      <td>married</td>\n",
       "      <td>0</td>\n",
       "      <td>F</td>\n",
       "      <td>employee</td>\n",
       "      <td>0</td>\n",
       "      <td>NaN</td>\n",
       "      <td>buy real estate</td>\n",
       "    </tr>\n",
       "    <tr>\n",
       "      <th>11758</th>\n",
       "      <td>0</td>\n",
       "      <td>NaN</td>\n",
       "      <td>58</td>\n",
       "      <td>primary education</td>\n",
       "      <td>3</td>\n",
       "      <td>married</td>\n",
       "      <td>0</td>\n",
       "      <td>M</td>\n",
       "      <td>retiree</td>\n",
       "      <td>0</td>\n",
       "      <td>NaN</td>\n",
       "      <td>transactions with my real estate</td>\n",
       "    </tr>\n",
       "    <tr>\n",
       "      <th>13031</th>\n",
       "      <td>0</td>\n",
       "      <td>NaN</td>\n",
       "      <td>37</td>\n",
       "      <td>primary education</td>\n",
       "      <td>3</td>\n",
       "      <td>civil partnership</td>\n",
       "      <td>1</td>\n",
       "      <td>F</td>\n",
       "      <td>business</td>\n",
       "      <td>1</td>\n",
       "      <td>NaN</td>\n",
       "      <td>wedding ceremony</td>\n",
       "    </tr>\n",
       "    <tr>\n",
       "      <th>13074</th>\n",
       "      <td>3</td>\n",
       "      <td>NaN</td>\n",
       "      <td>59</td>\n",
       "      <td>primary education</td>\n",
       "      <td>3</td>\n",
       "      <td>married</td>\n",
       "      <td>0</td>\n",
       "      <td>M</td>\n",
       "      <td>employee</td>\n",
       "      <td>0</td>\n",
       "      <td>NaN</td>\n",
       "      <td>getting higher education</td>\n",
       "    </tr>\n",
       "    <tr>\n",
       "      <th>13493</th>\n",
       "      <td>0</td>\n",
       "      <td>NaN</td>\n",
       "      <td>63</td>\n",
       "      <td>primary education</td>\n",
       "      <td>3</td>\n",
       "      <td>married</td>\n",
       "      <td>0</td>\n",
       "      <td>F</td>\n",
       "      <td>retiree</td>\n",
       "      <td>0</td>\n",
       "      <td>NaN</td>\n",
       "      <td>to own a car</td>\n",
       "    </tr>\n",
       "    <tr>\n",
       "      <th>15074</th>\n",
       "      <td>0</td>\n",
       "      <td>NaN</td>\n",
       "      <td>62</td>\n",
       "      <td>primary education</td>\n",
       "      <td>3</td>\n",
       "      <td>civil partnership</td>\n",
       "      <td>1</td>\n",
       "      <td>F</td>\n",
       "      <td>employee</td>\n",
       "      <td>0</td>\n",
       "      <td>NaN</td>\n",
       "      <td>real estate transactions</td>\n",
       "    </tr>\n",
       "    <tr>\n",
       "      <th>17014</th>\n",
       "      <td>0</td>\n",
       "      <td>NaN</td>\n",
       "      <td>39</td>\n",
       "      <td>primary education</td>\n",
       "      <td>3</td>\n",
       "      <td>married</td>\n",
       "      <td>0</td>\n",
       "      <td>F</td>\n",
       "      <td>civil servant</td>\n",
       "      <td>0</td>\n",
       "      <td>NaN</td>\n",
       "      <td>transactions with commercial real estate</td>\n",
       "    </tr>\n",
       "    <tr>\n",
       "      <th>17430</th>\n",
       "      <td>0</td>\n",
       "      <td>NaN</td>\n",
       "      <td>60</td>\n",
       "      <td>primary education</td>\n",
       "      <td>3</td>\n",
       "      <td>widow / widower</td>\n",
       "      <td>2</td>\n",
       "      <td>F</td>\n",
       "      <td>retiree</td>\n",
       "      <td>0</td>\n",
       "      <td>NaN</td>\n",
       "      <td>car</td>\n",
       "    </tr>\n",
       "    <tr>\n",
       "      <th>17696</th>\n",
       "      <td>1</td>\n",
       "      <td>NaN</td>\n",
       "      <td>45</td>\n",
       "      <td>primary education</td>\n",
       "      <td>3</td>\n",
       "      <td>married</td>\n",
       "      <td>0</td>\n",
       "      <td>F</td>\n",
       "      <td>retiree</td>\n",
       "      <td>0</td>\n",
       "      <td>NaN</td>\n",
       "      <td>real estate transactions</td>\n",
       "    </tr>\n",
       "    <tr>\n",
       "      <th>18852</th>\n",
       "      <td>0</td>\n",
       "      <td>NaN</td>\n",
       "      <td>26</td>\n",
       "      <td>primary education</td>\n",
       "      <td>3</td>\n",
       "      <td>unmarried</td>\n",
       "      <td>4</td>\n",
       "      <td>M</td>\n",
       "      <td>employee</td>\n",
       "      <td>0</td>\n",
       "      <td>NaN</td>\n",
       "      <td>purchase of the house</td>\n",
       "    </tr>\n",
       "    <tr>\n",
       "      <th>20167</th>\n",
       "      <td>0</td>\n",
       "      <td>NaN</td>\n",
       "      <td>36</td>\n",
       "      <td>primary education</td>\n",
       "      <td>3</td>\n",
       "      <td>unmarried</td>\n",
       "      <td>4</td>\n",
       "      <td>M</td>\n",
       "      <td>employee</td>\n",
       "      <td>0</td>\n",
       "      <td>NaN</td>\n",
       "      <td>purchase of my own house</td>\n",
       "    </tr>\n",
       "    <tr>\n",
       "      <th>20283</th>\n",
       "      <td>0</td>\n",
       "      <td>NaN</td>\n",
       "      <td>61</td>\n",
       "      <td>primary education</td>\n",
       "      <td>3</td>\n",
       "      <td>widow / widower</td>\n",
       "      <td>2</td>\n",
       "      <td>F</td>\n",
       "      <td>retiree</td>\n",
       "      <td>0</td>\n",
       "      <td>NaN</td>\n",
       "      <td>property</td>\n",
       "    </tr>\n",
       "  </tbody>\n",
       "</table>\n",
       "</div>"
      ],
      "text/plain": [
       "       children  days_employed  dob_years          education  education_id  \\\n",
       "1303          1            NaN         70  primary education             3   \n",
       "1510          0            NaN         52  primary education             3   \n",
       "1520          0            NaN         53  primary education             3   \n",
       "4388          0            NaN         39  primary education             3   \n",
       "4585          1            NaN         58  primary education             3   \n",
       "7314          1            NaN         45  primary education             3   \n",
       "8142          0            NaN         64  primary education             3   \n",
       "10998         0            NaN         34  primary education             3   \n",
       "11758         0            NaN         58  primary education             3   \n",
       "13031         0            NaN         37  primary education             3   \n",
       "13074         3            NaN         59  primary education             3   \n",
       "13493         0            NaN         63  primary education             3   \n",
       "15074         0            NaN         62  primary education             3   \n",
       "17014         0            NaN         39  primary education             3   \n",
       "17430         0            NaN         60  primary education             3   \n",
       "17696         1            NaN         45  primary education             3   \n",
       "18852         0            NaN         26  primary education             3   \n",
       "20167         0            NaN         36  primary education             3   \n",
       "20283         0            NaN         61  primary education             3   \n",
       "\n",
       "           family_status  family_status_id gender    income_type  debt  \\\n",
       "1303   civil partnership                 1      F       employee     0   \n",
       "1510   civil partnership                 1      M       employee     1   \n",
       "1520             married                 0      F       employee     0   \n",
       "4388             married                 0      F       employee     0   \n",
       "4585   civil partnership                 1      F       employee     0   \n",
       "7314             married                 0      M       employee     0   \n",
       "8142   civil partnership                 1      F  civil servant     0   \n",
       "10998            married                 0      F       employee     0   \n",
       "11758            married                 0      M        retiree     0   \n",
       "13031  civil partnership                 1      F       business     1   \n",
       "13074            married                 0      M       employee     0   \n",
       "13493            married                 0      F        retiree     0   \n",
       "15074  civil partnership                 1      F       employee     0   \n",
       "17014            married                 0      F  civil servant     0   \n",
       "17430    widow / widower                 2      F        retiree     0   \n",
       "17696            married                 0      F        retiree     0   \n",
       "18852          unmarried                 4      M       employee     0   \n",
       "20167          unmarried                 4      M       employee     0   \n",
       "20283    widow / widower                 2      F        retiree     0   \n",
       "\n",
       "       total_income                                   purpose  \n",
       "1303            NaN  transactions with commercial real estate  \n",
       "1510            NaN              construction of own property  \n",
       "1520            NaN          transactions with my real estate  \n",
       "4388            NaN                       building a property  \n",
       "4585            NaN                      housing transactions  \n",
       "7314            NaN                         profile education  \n",
       "8142            NaN                         to have a wedding  \n",
       "10998           NaN                           buy real estate  \n",
       "11758           NaN          transactions with my real estate  \n",
       "13031           NaN                          wedding ceremony  \n",
       "13074           NaN                  getting higher education  \n",
       "13493           NaN                              to own a car  \n",
       "15074           NaN                  real estate transactions  \n",
       "17014           NaN  transactions with commercial real estate  \n",
       "17430           NaN                                       car  \n",
       "17696           NaN                  real estate transactions  \n",
       "18852           NaN                     purchase of the house  \n",
       "20167           NaN                  purchase of my own house  \n",
       "20283           NaN                                  property  "
      ]
     },
     "execution_count": 24,
     "metadata": {},
     "output_type": "execute_result"
    }
   ],
   "source": [
    "# sample distribusi data dari salah satu value di kolom education yang terdapat missing value pada kolom total_income nya\n",
    "\n",
    "df.loc[(df['education']=='primary education') & (df['total_income'].isna())]"
   ]
  },
  {
   "cell_type": "code",
   "execution_count": 25,
   "metadata": {},
   "outputs": [
    {
     "data": {
      "text/plain": [
       "[-1, 0, 1, 2, 3, 4, 5, 20]"
      ]
     },
     "execution_count": 25,
     "metadata": {},
     "output_type": "execute_result"
    }
   ],
   "source": [
    "# Menampilkan unique value di kolom children yang terdapat missing value pada kolom total_income nya\n",
    "\n",
    "sorted(df.loc[df['total_income'].isna(), 'children'].unique())"
   ]
  },
  {
   "cell_type": "code",
   "execution_count": 26,
   "metadata": {},
   "outputs": [
    {
     "data": {
      "text/plain": [
       "[-1, 0, 1, 2, 3, 4, 5, 20]"
      ]
     },
     "execution_count": 26,
     "metadata": {},
     "output_type": "execute_result"
    }
   ],
   "source": [
    "# Menampilkan unique value di kolom children\n",
    "\n",
    "sorted(df['children'].unique())"
   ]
  },
  {
   "cell_type": "code",
   "execution_count": 27,
   "metadata": {},
   "outputs": [
    {
     "data": {
      "text/html": [
       "<div>\n",
       "<style scoped>\n",
       "    .dataframe tbody tr th:only-of-type {\n",
       "        vertical-align: middle;\n",
       "    }\n",
       "\n",
       "    .dataframe tbody tr th {\n",
       "        vertical-align: top;\n",
       "    }\n",
       "\n",
       "    .dataframe thead th {\n",
       "        text-align: right;\n",
       "    }\n",
       "</style>\n",
       "<table border=\"1\" class=\"dataframe\">\n",
       "  <thead>\n",
       "    <tr style=\"text-align: right;\">\n",
       "      <th></th>\n",
       "      <th>children</th>\n",
       "      <th>days_employed</th>\n",
       "      <th>dob_years</th>\n",
       "      <th>education</th>\n",
       "      <th>education_id</th>\n",
       "      <th>family_status</th>\n",
       "      <th>family_status_id</th>\n",
       "      <th>gender</th>\n",
       "      <th>income_type</th>\n",
       "      <th>debt</th>\n",
       "      <th>total_income</th>\n",
       "      <th>purpose</th>\n",
       "    </tr>\n",
       "  </thead>\n",
       "  <tbody>\n",
       "    <tr>\n",
       "      <th>72</th>\n",
       "      <td>1</td>\n",
       "      <td>NaN</td>\n",
       "      <td>32</td>\n",
       "      <td>bachelor's degree</td>\n",
       "      <td>0</td>\n",
       "      <td>married</td>\n",
       "      <td>0</td>\n",
       "      <td>M</td>\n",
       "      <td>civil servant</td>\n",
       "      <td>0</td>\n",
       "      <td>NaN</td>\n",
       "      <td>transactions with commercial real estate</td>\n",
       "    </tr>\n",
       "    <tr>\n",
       "      <th>94</th>\n",
       "      <td>1</td>\n",
       "      <td>NaN</td>\n",
       "      <td>34</td>\n",
       "      <td>bachelor's degree</td>\n",
       "      <td>0</td>\n",
       "      <td>civil partnership</td>\n",
       "      <td>1</td>\n",
       "      <td>F</td>\n",
       "      <td>business</td>\n",
       "      <td>0</td>\n",
       "      <td>NaN</td>\n",
       "      <td>having a wedding</td>\n",
       "    </tr>\n",
       "    <tr>\n",
       "      <th>189</th>\n",
       "      <td>1</td>\n",
       "      <td>NaN</td>\n",
       "      <td>30</td>\n",
       "      <td>secondary education</td>\n",
       "      <td>1</td>\n",
       "      <td>unmarried</td>\n",
       "      <td>4</td>\n",
       "      <td>F</td>\n",
       "      <td>employee</td>\n",
       "      <td>0</td>\n",
       "      <td>NaN</td>\n",
       "      <td>to own a car</td>\n",
       "    </tr>\n",
       "    <tr>\n",
       "      <th>205</th>\n",
       "      <td>1</td>\n",
       "      <td>NaN</td>\n",
       "      <td>31</td>\n",
       "      <td>bachelor's degree</td>\n",
       "      <td>0</td>\n",
       "      <td>married</td>\n",
       "      <td>0</td>\n",
       "      <td>F</td>\n",
       "      <td>employee</td>\n",
       "      <td>0</td>\n",
       "      <td>NaN</td>\n",
       "      <td>buying a second-hand car</td>\n",
       "    </tr>\n",
       "    <tr>\n",
       "      <th>220</th>\n",
       "      <td>1</td>\n",
       "      <td>NaN</td>\n",
       "      <td>23</td>\n",
       "      <td>some college</td>\n",
       "      <td>2</td>\n",
       "      <td>civil partnership</td>\n",
       "      <td>1</td>\n",
       "      <td>F</td>\n",
       "      <td>business</td>\n",
       "      <td>0</td>\n",
       "      <td>NaN</td>\n",
       "      <td>to have a wedding</td>\n",
       "    </tr>\n",
       "    <tr>\n",
       "      <th>...</th>\n",
       "      <td>...</td>\n",
       "      <td>...</td>\n",
       "      <td>...</td>\n",
       "      <td>...</td>\n",
       "      <td>...</td>\n",
       "      <td>...</td>\n",
       "      <td>...</td>\n",
       "      <td>...</td>\n",
       "      <td>...</td>\n",
       "      <td>...</td>\n",
       "      <td>...</td>\n",
       "      <td>...</td>\n",
       "    </tr>\n",
       "    <tr>\n",
       "      <th>21407</th>\n",
       "      <td>1</td>\n",
       "      <td>NaN</td>\n",
       "      <td>36</td>\n",
       "      <td>secondary education</td>\n",
       "      <td>1</td>\n",
       "      <td>married</td>\n",
       "      <td>0</td>\n",
       "      <td>F</td>\n",
       "      <td>business</td>\n",
       "      <td>0</td>\n",
       "      <td>NaN</td>\n",
       "      <td>building a real estate</td>\n",
       "    </tr>\n",
       "    <tr>\n",
       "      <th>21432</th>\n",
       "      <td>1</td>\n",
       "      <td>NaN</td>\n",
       "      <td>38</td>\n",
       "      <td>some college</td>\n",
       "      <td>2</td>\n",
       "      <td>unmarried</td>\n",
       "      <td>4</td>\n",
       "      <td>F</td>\n",
       "      <td>employee</td>\n",
       "      <td>0</td>\n",
       "      <td>NaN</td>\n",
       "      <td>housing transactions</td>\n",
       "    </tr>\n",
       "    <tr>\n",
       "      <th>21463</th>\n",
       "      <td>1</td>\n",
       "      <td>NaN</td>\n",
       "      <td>35</td>\n",
       "      <td>bachelor's degree</td>\n",
       "      <td>0</td>\n",
       "      <td>civil partnership</td>\n",
       "      <td>1</td>\n",
       "      <td>M</td>\n",
       "      <td>employee</td>\n",
       "      <td>0</td>\n",
       "      <td>NaN</td>\n",
       "      <td>having a wedding</td>\n",
       "    </tr>\n",
       "    <tr>\n",
       "      <th>21495</th>\n",
       "      <td>1</td>\n",
       "      <td>NaN</td>\n",
       "      <td>50</td>\n",
       "      <td>secondary education</td>\n",
       "      <td>1</td>\n",
       "      <td>civil partnership</td>\n",
       "      <td>1</td>\n",
       "      <td>F</td>\n",
       "      <td>employee</td>\n",
       "      <td>0</td>\n",
       "      <td>NaN</td>\n",
       "      <td>wedding ceremony</td>\n",
       "    </tr>\n",
       "    <tr>\n",
       "      <th>21502</th>\n",
       "      <td>1</td>\n",
       "      <td>NaN</td>\n",
       "      <td>42</td>\n",
       "      <td>secondary education</td>\n",
       "      <td>1</td>\n",
       "      <td>married</td>\n",
       "      <td>0</td>\n",
       "      <td>F</td>\n",
       "      <td>employee</td>\n",
       "      <td>0</td>\n",
       "      <td>NaN</td>\n",
       "      <td>building a real estate</td>\n",
       "    </tr>\n",
       "  </tbody>\n",
       "</table>\n",
       "<p>475 rows × 12 columns</p>\n",
       "</div>"
      ],
      "text/plain": [
       "       children  days_employed  dob_years            education  education_id  \\\n",
       "72            1            NaN         32    bachelor's degree             0   \n",
       "94            1            NaN         34    bachelor's degree             0   \n",
       "189           1            NaN         30  secondary education             1   \n",
       "205           1            NaN         31    bachelor's degree             0   \n",
       "220           1            NaN         23         some college             2   \n",
       "...         ...            ...        ...                  ...           ...   \n",
       "21407         1            NaN         36  secondary education             1   \n",
       "21432         1            NaN         38         some college             2   \n",
       "21463         1            NaN         35    bachelor's degree             0   \n",
       "21495         1            NaN         50  secondary education             1   \n",
       "21502         1            NaN         42  secondary education             1   \n",
       "\n",
       "           family_status  family_status_id gender    income_type  debt  \\\n",
       "72               married                 0      M  civil servant     0   \n",
       "94     civil partnership                 1      F       business     0   \n",
       "189            unmarried                 4      F       employee     0   \n",
       "205              married                 0      F       employee     0   \n",
       "220    civil partnership                 1      F       business     0   \n",
       "...                  ...               ...    ...            ...   ...   \n",
       "21407            married                 0      F       business     0   \n",
       "21432          unmarried                 4      F       employee     0   \n",
       "21463  civil partnership                 1      M       employee     0   \n",
       "21495  civil partnership                 1      F       employee     0   \n",
       "21502            married                 0      F       employee     0   \n",
       "\n",
       "       total_income                                   purpose  \n",
       "72              NaN  transactions with commercial real estate  \n",
       "94              NaN                          having a wedding  \n",
       "189             NaN                              to own a car  \n",
       "205             NaN                  buying a second-hand car  \n",
       "220             NaN                         to have a wedding  \n",
       "...             ...                                       ...  \n",
       "21407           NaN                    building a real estate  \n",
       "21432           NaN                      housing transactions  \n",
       "21463           NaN                          having a wedding  \n",
       "21495           NaN                          wedding ceremony  \n",
       "21502           NaN                    building a real estate  \n",
       "\n",
       "[475 rows x 12 columns]"
      ]
     },
     "execution_count": 27,
     "metadata": {},
     "output_type": "execute_result"
    }
   ],
   "source": [
    "# sample distribusi data dari salah satu value di kolom education yang terdapat missing value pada kolom total_income nya\n",
    "\n",
    "df.loc[(df['children']==1) & (df['total_income'].isna())]"
   ]
  },
  {
   "cell_type": "markdown",
   "metadata": {},
   "source": [
    "<div class=\"alert alert-danger\">\n",
    "<b>Reviewer's comment v1</b> <a class=\"tocSkip\"></a>\n",
    "\n",
    "Didalam konteks membandingkan distribusi bisa dibandingkan proporsi pada nilai-nilai kategorik seperti `income_type` di dua dataset yang berbeda, satu dataset yang telah terfilter missing value saja dan keseluruhan dataset. Sehingga diketahui apakah terdapat perbedaan pola pada kedua dataset.\n",
    "</div>"
   ]
  },
  {
   "cell_type": "markdown",
   "metadata": {},
   "source": [
    "**Kesimpulan menengah**\n",
    "\n",
    "Setelah membandingkan distribusi dataset asli dan dataset yang terfilter berdasarkan nilai kosong, didapati bahwa:\n",
    "- terdapat 1 nilai 'XNA' pada kolom `gender` di dataset yang hilang (bisa jadi karena salah proses input),\n",
    "- terdapat nilai 'graduate degree' pada kolom `education` di dataset yang tidak hilang , sedangkan di dataset yang hilang tidak\n",
    "- terdapat nilai 'paternity / maternity leave' dan 'unemployed' pada kolom`income_type` di dataset yang tidak hilang , sedangkan di dataset yang hilang tidak\n",
    "- tidak terdapat perbedaan unique value pada kolom `family_status`\n",
    "- tidak terdapat perbedaan unique value pada kolom `children`\n",
    "\n",
    "**Kemungkinan penyebab hilangnya nilai dalam data**\n",
    "\n",
    "Kemungkinan hilangnya nilai dalam data dikarenakan kesalahan pada sistem saat proses mendapatkan data pada kolom `days_employed` dan `total_income`. "
   ]
  },
  {
   "cell_type": "markdown",
   "metadata": {},
   "source": [
    "**Kesimpulan**\n",
    "\n",
    "Terdapat kesamaan jumlah baris yang hilang pada kolom `days_employed` dan `total_income`. Setelah membandingkan distribusi antara data yang hilang dan utuh, hilangnya nilai dalam data diperkirakan karena kesalahan pada sistem saat proses mendapatkan data untuk kolom `days_employed` dan `total_income`.\n",
    "\n",
    "Nilai yang hilang dapat diatasi dengan mengisnya dengan mean, median, ataupun modus kolom, tergantung pada distribusi nilai di kolom tersebut.\n",
    "\n",
    "Langkah selanjutnya adalah mengatasi nilai yang bermasalah pada data (duplikat, register yang berbeda, data lama yang salah, dan nilai yang hilang)"
   ]
  },
  {
   "cell_type": "markdown",
   "metadata": {},
   "source": [
    "<div class=\"alert alert-danger\">\n",
    "<b>Reviewer's comment v1</b> <a class=\"tocSkip\"></a>\n",
    "\n",
    "Instruksi yang ada hanya akan membantu memberi guideline bagaiman Chulsum seharusnya memberi penjelasan di tiap langkahnya pada project ini maka dari itu pastikan penjelasan dapat dipahami oleh orang lain.\n",
    "</div>"
   ]
  },
  {
   "cell_type": "markdown",
   "metadata": {},
   "source": [
    "## Transformasi data"
   ]
  },
  {
   "cell_type": "code",
   "execution_count": 28,
   "metadata": {},
   "outputs": [
    {
     "data": {
      "text/plain": [
       "[\"BACHELOR'S DEGREE\",\n",
       " \"Bachelor's Degree\",\n",
       " 'GRADUATE DEGREE',\n",
       " 'Graduate Degree',\n",
       " 'PRIMARY EDUCATION',\n",
       " 'Primary Education',\n",
       " 'SECONDARY EDUCATION',\n",
       " 'SOME COLLEGE',\n",
       " 'Secondary Education',\n",
       " 'Some College',\n",
       " \"bachelor's degree\",\n",
       " 'graduate degree',\n",
       " 'primary education',\n",
       " 'secondary education',\n",
       " 'some college']"
      ]
     },
     "execution_count": 28,
     "metadata": {},
     "output_type": "execute_result"
    }
   ],
   "source": [
    "# Menampilkan unique value pada kolom education untuk memeriksa ejaan apa yang perlu diperbaiki\n",
    "\n",
    "sorted(df['education'].unique())"
   ]
  },
  {
   "cell_type": "code",
   "execution_count": 29,
   "metadata": {},
   "outputs": [
    {
     "data": {
      "text/plain": [
       "54"
      ]
     },
     "execution_count": 29,
     "metadata": {},
     "output_type": "execute_result"
    }
   ],
   "source": [
    "# menghitung jumlah duplikat\n",
    "\n",
    "df.duplicated().sum()"
   ]
  },
  {
   "cell_type": "code",
   "execution_count": 30,
   "metadata": {
    "scrolled": true
   },
   "outputs": [],
   "source": [
    "# Memperbaiki ejaan di kolom education \n",
    "\n",
    "df['education'] = df['education'].str.lower()"
   ]
  },
  {
   "cell_type": "code",
   "execution_count": 31,
   "metadata": {},
   "outputs": [
    {
     "data": {
      "text/plain": [
       "71"
      ]
     },
     "execution_count": 31,
     "metadata": {},
     "output_type": "execute_result"
    }
   ],
   "source": [
    "# menghitung jumlah duplikat\n",
    "\n",
    "df.duplicated().sum()"
   ]
  },
  {
   "cell_type": "code",
   "execution_count": 32,
   "metadata": {
    "scrolled": true
   },
   "outputs": [
    {
     "data": {
      "text/plain": [
       "[\"bachelor's degree\",\n",
       " 'graduate degree',\n",
       " 'primary education',\n",
       " 'secondary education',\n",
       " 'some college']"
      ]
     },
     "execution_count": 32,
     "metadata": {},
     "output_type": "execute_result"
    }
   ],
   "source": [
    "# Memeriksa semua nilai di kolom untuk memastikan kita telah memperbaikinya\n",
    "\n",
    "sorted(df['education'].unique())"
   ]
  },
  {
   "cell_type": "markdown",
   "metadata": {},
   "source": [
    "Pada kolom education terdapat nilai dengan ejaan yang sama tetapi dengan penulisan kapital yang berbeda, maka dari itu dilakukan penyamaan nilai dengan cara mengecilkan huruf. Pembetulan ejaan tersebut berefek pada proses pendeteksian duplikat baris."
   ]
  },
  {
   "cell_type": "markdown",
   "metadata": {},
   "source": [
    "<div class=\"alert alert-danger\">\n",
    "<b>Reviewer's comment v1</b> <a class=\"tocSkip\"></a>\n",
    "\n",
    "Bisa ditambahkan pengecekan duplikat sebelum dan sesudah penggunaan `lower()` pada kolom `education` dan berikan penjelasan terkait dampaknya.\n",
    "\n",
    "</div>"
   ]
  },
  {
   "cell_type": "markdown",
   "metadata": {},
   "source": [
    "[Periksa data kolom `children`]"
   ]
  },
  {
   "cell_type": "code",
   "execution_count": 33,
   "metadata": {},
   "outputs": [
    {
     "data": {
      "text/plain": [
       " 0     14149\n",
       " 1      4818\n",
       " 2      2055\n",
       " 3       330\n",
       " 20       76\n",
       "-1        47\n",
       " 4        41\n",
       " 5         9\n",
       "Name: children, dtype: int64"
      ]
     },
     "execution_count": 33,
     "metadata": {},
     "output_type": "execute_result"
    }
   ],
   "source": [
    "# Melihat distribusi nilai pada kolom `children`\n",
    "\n",
    "df['children'].value_counts()"
   ]
  },
  {
   "cell_type": "code",
   "execution_count": 34,
   "metadata": {},
   "outputs": [
    {
     "data": {
      "text/plain": [
       "0.22"
      ]
     },
     "execution_count": 34,
     "metadata": {},
     "output_type": "execute_result"
    }
   ],
   "source": [
    "# menghitung persentase nilai bermasalah\n",
    "\n",
    "round(df.loc[(df['children']==-1), 'children'].count() / len(df) * 100, 2)"
   ]
  },
  {
   "cell_type": "markdown",
   "metadata": {},
   "source": [
    "Hal yang tidak normal pada kolom `children`:\n",
    "- Terdapat nilai negatif (tidak rasional mengingat deskripsi dari data adalah anak)\n",
    "- Terdapat nilai 20 dengan jumlah 20 user. Nilai tersebut memiliki gap yang cukup jauh dari nilai yang lain. Ada kemungkinan kesalahan saat proses input dari pengguna (typo), yang seharusnya tertulis 2 jadi 20\n",
    "\n",
    "Ketidak normalah pada nilai tersebut dapat diperbaiki dengan cara:\n",
    "- mengubah nilai negatif menjadi positif\n",
    "- mengganti nilai 20 menjadi 2"
   ]
  },
  {
   "cell_type": "code",
   "execution_count": 35,
   "metadata": {},
   "outputs": [],
   "source": [
    "# Mengubah nilai negatif menjadi positif\n",
    "\n",
    "df['children'] = df['children'].abs()"
   ]
  },
  {
   "cell_type": "code",
   "execution_count": 36,
   "metadata": {},
   "outputs": [
    {
     "data": {
      "text/plain": [
       "0     14149\n",
       "1      4865\n",
       "2      2055\n",
       "3       330\n",
       "20       76\n",
       "4        41\n",
       "5         9\n",
       "Name: children, dtype: int64"
      ]
     },
     "execution_count": 36,
     "metadata": {},
     "output_type": "execute_result"
    }
   ],
   "source": [
    "# memeriksa kolom nilai `children`\n",
    "\n",
    "df['children'].value_counts()"
   ]
  },
  {
   "cell_type": "code",
   "execution_count": 37,
   "metadata": {},
   "outputs": [],
   "source": [
    "# Mengganti nilai 20 menjadi 2\n",
    "\n",
    "df.loc[df['children']==20, 'children'] = 2"
   ]
  },
  {
   "cell_type": "code",
   "execution_count": 38,
   "metadata": {
    "scrolled": true
   },
   "outputs": [
    {
     "data": {
      "text/plain": [
       "0    14149\n",
       "1     4865\n",
       "2     2131\n",
       "3      330\n",
       "4       41\n",
       "5        9\n",
       "Name: children, dtype: int64"
      ]
     },
     "execution_count": 38,
     "metadata": {},
     "output_type": "execute_result"
    }
   ],
   "source": [
    "# Periksa kembali kolom `children` untuk memastikan semua telah diperbaiki\n",
    "\n",
    "df['children'].value_counts()"
   ]
  },
  {
   "cell_type": "markdown",
   "metadata": {},
   "source": [
    "<div class=\"alert alert-danger\">\n",
    "<b>Reviewer's comment v1</b> <a class=\"tocSkip\"></a>\n",
    "\n",
    "20 Anak sebanyak 76 user merupakan sesuatu yang tidak biasa, identifikasi hal tersebut dan dapat diasumsikan merupakan salah input yang seharusnya 2 anak atau tidak.\n",
    "</div>"
   ]
  },
  {
   "cell_type": "code",
   "execution_count": 39,
   "metadata": {},
   "outputs": [
    {
     "data": {
      "text/plain": [
       "count     19351.000000\n",
       "mean      63046.497661\n",
       "std      140827.311974\n",
       "min      -18388.949901\n",
       "25%       -2747.423625\n",
       "50%       -1203.369529\n",
       "75%        -291.095954\n",
       "max      401755.400475\n",
       "Name: days_employed, dtype: float64"
      ]
     },
     "execution_count": 39,
     "metadata": {},
     "output_type": "execute_result"
    }
   ],
   "source": [
    "# Memeriksa kolom days_employed\n",
    "\n",
    "df['days_employed'].describe()"
   ]
  },
  {
   "cell_type": "markdown",
   "metadata": {},
   "source": [
    "Hal yang tidak normal pada kolom `days_employed`:\n",
    "- terdapat nilai negatif (tidak rasional mengingat deskripsi dari data adalah lama nasabah bekerja dalam hari)\n",
    "- terdapat nilai yang terlalu jauh (bila dianggap usia aktif bekerja selama 60 tahun, berarti max 60*360 = 21600 hari)"
   ]
  },
  {
   "cell_type": "code",
   "execution_count": 40,
   "metadata": {
    "scrolled": true
   },
   "outputs": [
    {
     "data": {
      "text/html": [
       "<div>\n",
       "<style scoped>\n",
       "    .dataframe tbody tr th:only-of-type {\n",
       "        vertical-align: middle;\n",
       "    }\n",
       "\n",
       "    .dataframe tbody tr th {\n",
       "        vertical-align: top;\n",
       "    }\n",
       "\n",
       "    .dataframe thead th {\n",
       "        text-align: right;\n",
       "    }\n",
       "</style>\n",
       "<table border=\"1\" class=\"dataframe\">\n",
       "  <thead>\n",
       "    <tr style=\"text-align: right;\">\n",
       "      <th></th>\n",
       "      <th>children</th>\n",
       "      <th>days_employed</th>\n",
       "      <th>dob_years</th>\n",
       "      <th>education</th>\n",
       "      <th>education_id</th>\n",
       "      <th>family_status</th>\n",
       "      <th>family_status_id</th>\n",
       "      <th>gender</th>\n",
       "      <th>income_type</th>\n",
       "      <th>debt</th>\n",
       "      <th>total_income</th>\n",
       "      <th>purpose</th>\n",
       "    </tr>\n",
       "  </thead>\n",
       "  <tbody>\n",
       "    <tr>\n",
       "      <th>0</th>\n",
       "      <td>1</td>\n",
       "      <td>-8437.673028</td>\n",
       "      <td>42</td>\n",
       "      <td>bachelor's degree</td>\n",
       "      <td>0</td>\n",
       "      <td>married</td>\n",
       "      <td>0</td>\n",
       "      <td>F</td>\n",
       "      <td>employee</td>\n",
       "      <td>0</td>\n",
       "      <td>40620.102</td>\n",
       "      <td>purchase of the house</td>\n",
       "    </tr>\n",
       "    <tr>\n",
       "      <th>1</th>\n",
       "      <td>1</td>\n",
       "      <td>-4024.803754</td>\n",
       "      <td>36</td>\n",
       "      <td>secondary education</td>\n",
       "      <td>1</td>\n",
       "      <td>married</td>\n",
       "      <td>0</td>\n",
       "      <td>F</td>\n",
       "      <td>employee</td>\n",
       "      <td>0</td>\n",
       "      <td>17932.802</td>\n",
       "      <td>car purchase</td>\n",
       "    </tr>\n",
       "    <tr>\n",
       "      <th>2</th>\n",
       "      <td>0</td>\n",
       "      <td>-5623.422610</td>\n",
       "      <td>33</td>\n",
       "      <td>secondary education</td>\n",
       "      <td>1</td>\n",
       "      <td>married</td>\n",
       "      <td>0</td>\n",
       "      <td>M</td>\n",
       "      <td>employee</td>\n",
       "      <td>0</td>\n",
       "      <td>23341.752</td>\n",
       "      <td>purchase of the house</td>\n",
       "    </tr>\n",
       "    <tr>\n",
       "      <th>3</th>\n",
       "      <td>3</td>\n",
       "      <td>-4124.747207</td>\n",
       "      <td>32</td>\n",
       "      <td>secondary education</td>\n",
       "      <td>1</td>\n",
       "      <td>married</td>\n",
       "      <td>0</td>\n",
       "      <td>M</td>\n",
       "      <td>employee</td>\n",
       "      <td>0</td>\n",
       "      <td>42820.568</td>\n",
       "      <td>supplementary education</td>\n",
       "    </tr>\n",
       "    <tr>\n",
       "      <th>5</th>\n",
       "      <td>0</td>\n",
       "      <td>-926.185831</td>\n",
       "      <td>27</td>\n",
       "      <td>bachelor's degree</td>\n",
       "      <td>0</td>\n",
       "      <td>civil partnership</td>\n",
       "      <td>1</td>\n",
       "      <td>M</td>\n",
       "      <td>business</td>\n",
       "      <td>0</td>\n",
       "      <td>40922.170</td>\n",
       "      <td>purchase of the house</td>\n",
       "    </tr>\n",
       "    <tr>\n",
       "      <th>...</th>\n",
       "      <td>...</td>\n",
       "      <td>...</td>\n",
       "      <td>...</td>\n",
       "      <td>...</td>\n",
       "      <td>...</td>\n",
       "      <td>...</td>\n",
       "      <td>...</td>\n",
       "      <td>...</td>\n",
       "      <td>...</td>\n",
       "      <td>...</td>\n",
       "      <td>...</td>\n",
       "      <td>...</td>\n",
       "    </tr>\n",
       "    <tr>\n",
       "      <th>21519</th>\n",
       "      <td>1</td>\n",
       "      <td>-2351.431934</td>\n",
       "      <td>37</td>\n",
       "      <td>graduate degree</td>\n",
       "      <td>4</td>\n",
       "      <td>divorced</td>\n",
       "      <td>3</td>\n",
       "      <td>M</td>\n",
       "      <td>employee</td>\n",
       "      <td>0</td>\n",
       "      <td>18551.846</td>\n",
       "      <td>buy commercial real estate</td>\n",
       "    </tr>\n",
       "    <tr>\n",
       "      <th>21520</th>\n",
       "      <td>1</td>\n",
       "      <td>-4529.316663</td>\n",
       "      <td>43</td>\n",
       "      <td>secondary education</td>\n",
       "      <td>1</td>\n",
       "      <td>civil partnership</td>\n",
       "      <td>1</td>\n",
       "      <td>F</td>\n",
       "      <td>business</td>\n",
       "      <td>0</td>\n",
       "      <td>35966.698</td>\n",
       "      <td>housing transactions</td>\n",
       "    </tr>\n",
       "    <tr>\n",
       "      <th>21522</th>\n",
       "      <td>1</td>\n",
       "      <td>-2113.346888</td>\n",
       "      <td>38</td>\n",
       "      <td>secondary education</td>\n",
       "      <td>1</td>\n",
       "      <td>civil partnership</td>\n",
       "      <td>1</td>\n",
       "      <td>M</td>\n",
       "      <td>employee</td>\n",
       "      <td>1</td>\n",
       "      <td>14347.610</td>\n",
       "      <td>property</td>\n",
       "    </tr>\n",
       "    <tr>\n",
       "      <th>21523</th>\n",
       "      <td>3</td>\n",
       "      <td>-3112.481705</td>\n",
       "      <td>38</td>\n",
       "      <td>secondary education</td>\n",
       "      <td>1</td>\n",
       "      <td>married</td>\n",
       "      <td>0</td>\n",
       "      <td>M</td>\n",
       "      <td>employee</td>\n",
       "      <td>1</td>\n",
       "      <td>39054.888</td>\n",
       "      <td>buying my own car</td>\n",
       "    </tr>\n",
       "    <tr>\n",
       "      <th>21524</th>\n",
       "      <td>2</td>\n",
       "      <td>-1984.507589</td>\n",
       "      <td>40</td>\n",
       "      <td>secondary education</td>\n",
       "      <td>1</td>\n",
       "      <td>married</td>\n",
       "      <td>0</td>\n",
       "      <td>F</td>\n",
       "      <td>employee</td>\n",
       "      <td>0</td>\n",
       "      <td>13127.587</td>\n",
       "      <td>to buy a car</td>\n",
       "    </tr>\n",
       "  </tbody>\n",
       "</table>\n",
       "<p>15906 rows × 12 columns</p>\n",
       "</div>"
      ],
      "text/plain": [
       "       children  days_employed  dob_years            education  education_id  \\\n",
       "0             1   -8437.673028         42    bachelor's degree             0   \n",
       "1             1   -4024.803754         36  secondary education             1   \n",
       "2             0   -5623.422610         33  secondary education             1   \n",
       "3             3   -4124.747207         32  secondary education             1   \n",
       "5             0    -926.185831         27    bachelor's degree             0   \n",
       "...         ...            ...        ...                  ...           ...   \n",
       "21519         1   -2351.431934         37      graduate degree             4   \n",
       "21520         1   -4529.316663         43  secondary education             1   \n",
       "21522         1   -2113.346888         38  secondary education             1   \n",
       "21523         3   -3112.481705         38  secondary education             1   \n",
       "21524         2   -1984.507589         40  secondary education             1   \n",
       "\n",
       "           family_status  family_status_id gender income_type  debt  \\\n",
       "0                married                 0      F    employee     0   \n",
       "1                married                 0      F    employee     0   \n",
       "2                married                 0      M    employee     0   \n",
       "3                married                 0      M    employee     0   \n",
       "5      civil partnership                 1      M    business     0   \n",
       "...                  ...               ...    ...         ...   ...   \n",
       "21519           divorced                 3      M    employee     0   \n",
       "21520  civil partnership                 1      F    business     0   \n",
       "21522  civil partnership                 1      M    employee     1   \n",
       "21523            married                 0      M    employee     1   \n",
       "21524            married                 0      F    employee     0   \n",
       "\n",
       "       total_income                     purpose  \n",
       "0         40620.102       purchase of the house  \n",
       "1         17932.802                car purchase  \n",
       "2         23341.752       purchase of the house  \n",
       "3         42820.568     supplementary education  \n",
       "5         40922.170       purchase of the house  \n",
       "...             ...                         ...  \n",
       "21519     18551.846  buy commercial real estate  \n",
       "21520     35966.698        housing transactions  \n",
       "21522     14347.610                    property  \n",
       "21523     39054.888           buying my own car  \n",
       "21524     13127.587                to buy a car  \n",
       "\n",
       "[15906 rows x 12 columns]"
      ]
     },
     "execution_count": 40,
     "metadata": {},
     "output_type": "execute_result"
    }
   ],
   "source": [
    "# Menampilkan data yang bermasalah (value pada kolom days_employed bernilai negatif)\n",
    "\n",
    "df.loc[df['days_employed'] < 0]"
   ]
  },
  {
   "cell_type": "code",
   "execution_count": 41,
   "metadata": {},
   "outputs": [
    {
     "data": {
      "text/html": [
       "<div>\n",
       "<style scoped>\n",
       "    .dataframe tbody tr th:only-of-type {\n",
       "        vertical-align: middle;\n",
       "    }\n",
       "\n",
       "    .dataframe tbody tr th {\n",
       "        vertical-align: top;\n",
       "    }\n",
       "\n",
       "    .dataframe thead th {\n",
       "        text-align: right;\n",
       "    }\n",
       "</style>\n",
       "<table border=\"1\" class=\"dataframe\">\n",
       "  <thead>\n",
       "    <tr style=\"text-align: right;\">\n",
       "      <th></th>\n",
       "      <th>children</th>\n",
       "      <th>days_employed</th>\n",
       "      <th>dob_years</th>\n",
       "      <th>education</th>\n",
       "      <th>education_id</th>\n",
       "      <th>family_status</th>\n",
       "      <th>family_status_id</th>\n",
       "      <th>gender</th>\n",
       "      <th>income_type</th>\n",
       "      <th>debt</th>\n",
       "      <th>total_income</th>\n",
       "      <th>purpose</th>\n",
       "    </tr>\n",
       "  </thead>\n",
       "  <tbody>\n",
       "    <tr>\n",
       "      <th>4</th>\n",
       "      <td>0</td>\n",
       "      <td>340266.072047</td>\n",
       "      <td>53</td>\n",
       "      <td>secondary education</td>\n",
       "      <td>1</td>\n",
       "      <td>civil partnership</td>\n",
       "      <td>1</td>\n",
       "      <td>F</td>\n",
       "      <td>retiree</td>\n",
       "      <td>0</td>\n",
       "      <td>25378.572</td>\n",
       "      <td>to have a wedding</td>\n",
       "    </tr>\n",
       "    <tr>\n",
       "      <th>18</th>\n",
       "      <td>0</td>\n",
       "      <td>400281.136913</td>\n",
       "      <td>53</td>\n",
       "      <td>secondary education</td>\n",
       "      <td>1</td>\n",
       "      <td>widow / widower</td>\n",
       "      <td>2</td>\n",
       "      <td>F</td>\n",
       "      <td>retiree</td>\n",
       "      <td>0</td>\n",
       "      <td>9091.804</td>\n",
       "      <td>buying a second-hand car</td>\n",
       "    </tr>\n",
       "    <tr>\n",
       "      <th>24</th>\n",
       "      <td>1</td>\n",
       "      <td>338551.952911</td>\n",
       "      <td>57</td>\n",
       "      <td>secondary education</td>\n",
       "      <td>1</td>\n",
       "      <td>unmarried</td>\n",
       "      <td>4</td>\n",
       "      <td>F</td>\n",
       "      <td>retiree</td>\n",
       "      <td>0</td>\n",
       "      <td>46487.558</td>\n",
       "      <td>transactions with commercial real estate</td>\n",
       "    </tr>\n",
       "    <tr>\n",
       "      <th>25</th>\n",
       "      <td>0</td>\n",
       "      <td>363548.489348</td>\n",
       "      <td>67</td>\n",
       "      <td>secondary education</td>\n",
       "      <td>1</td>\n",
       "      <td>married</td>\n",
       "      <td>0</td>\n",
       "      <td>M</td>\n",
       "      <td>retiree</td>\n",
       "      <td>0</td>\n",
       "      <td>8818.041</td>\n",
       "      <td>buy real estate</td>\n",
       "    </tr>\n",
       "    <tr>\n",
       "      <th>30</th>\n",
       "      <td>1</td>\n",
       "      <td>335581.668515</td>\n",
       "      <td>62</td>\n",
       "      <td>secondary education</td>\n",
       "      <td>1</td>\n",
       "      <td>married</td>\n",
       "      <td>0</td>\n",
       "      <td>F</td>\n",
       "      <td>retiree</td>\n",
       "      <td>0</td>\n",
       "      <td>27432.971</td>\n",
       "      <td>transactions with commercial real estate</td>\n",
       "    </tr>\n",
       "    <tr>\n",
       "      <th>...</th>\n",
       "      <td>...</td>\n",
       "      <td>...</td>\n",
       "      <td>...</td>\n",
       "      <td>...</td>\n",
       "      <td>...</td>\n",
       "      <td>...</td>\n",
       "      <td>...</td>\n",
       "      <td>...</td>\n",
       "      <td>...</td>\n",
       "      <td>...</td>\n",
       "      <td>...</td>\n",
       "      <td>...</td>\n",
       "    </tr>\n",
       "    <tr>\n",
       "      <th>21505</th>\n",
       "      <td>0</td>\n",
       "      <td>338904.866406</td>\n",
       "      <td>53</td>\n",
       "      <td>secondary education</td>\n",
       "      <td>1</td>\n",
       "      <td>civil partnership</td>\n",
       "      <td>1</td>\n",
       "      <td>M</td>\n",
       "      <td>retiree</td>\n",
       "      <td>0</td>\n",
       "      <td>12070.399</td>\n",
       "      <td>to have a wedding</td>\n",
       "    </tr>\n",
       "    <tr>\n",
       "      <th>21508</th>\n",
       "      <td>0</td>\n",
       "      <td>386497.714078</td>\n",
       "      <td>62</td>\n",
       "      <td>secondary education</td>\n",
       "      <td>1</td>\n",
       "      <td>married</td>\n",
       "      <td>0</td>\n",
       "      <td>M</td>\n",
       "      <td>retiree</td>\n",
       "      <td>0</td>\n",
       "      <td>11622.175</td>\n",
       "      <td>property</td>\n",
       "    </tr>\n",
       "    <tr>\n",
       "      <th>21509</th>\n",
       "      <td>0</td>\n",
       "      <td>362161.054124</td>\n",
       "      <td>59</td>\n",
       "      <td>bachelor's degree</td>\n",
       "      <td>0</td>\n",
       "      <td>married</td>\n",
       "      <td>0</td>\n",
       "      <td>M</td>\n",
       "      <td>retiree</td>\n",
       "      <td>0</td>\n",
       "      <td>11684.650</td>\n",
       "      <td>real estate transactions</td>\n",
       "    </tr>\n",
       "    <tr>\n",
       "      <th>21518</th>\n",
       "      <td>0</td>\n",
       "      <td>373995.710838</td>\n",
       "      <td>59</td>\n",
       "      <td>secondary education</td>\n",
       "      <td>1</td>\n",
       "      <td>married</td>\n",
       "      <td>0</td>\n",
       "      <td>F</td>\n",
       "      <td>retiree</td>\n",
       "      <td>0</td>\n",
       "      <td>24618.344</td>\n",
       "      <td>purchase of a car</td>\n",
       "    </tr>\n",
       "    <tr>\n",
       "      <th>21521</th>\n",
       "      <td>0</td>\n",
       "      <td>343937.404131</td>\n",
       "      <td>67</td>\n",
       "      <td>secondary education</td>\n",
       "      <td>1</td>\n",
       "      <td>married</td>\n",
       "      <td>0</td>\n",
       "      <td>F</td>\n",
       "      <td>retiree</td>\n",
       "      <td>0</td>\n",
       "      <td>24959.969</td>\n",
       "      <td>purchase of a car</td>\n",
       "    </tr>\n",
       "  </tbody>\n",
       "</table>\n",
       "<p>3445 rows × 12 columns</p>\n",
       "</div>"
      ],
      "text/plain": [
       "       children  days_employed  dob_years            education  education_id  \\\n",
       "4             0  340266.072047         53  secondary education             1   \n",
       "18            0  400281.136913         53  secondary education             1   \n",
       "24            1  338551.952911         57  secondary education             1   \n",
       "25            0  363548.489348         67  secondary education             1   \n",
       "30            1  335581.668515         62  secondary education             1   \n",
       "...         ...            ...        ...                  ...           ...   \n",
       "21505         0  338904.866406         53  secondary education             1   \n",
       "21508         0  386497.714078         62  secondary education             1   \n",
       "21509         0  362161.054124         59    bachelor's degree             0   \n",
       "21518         0  373995.710838         59  secondary education             1   \n",
       "21521         0  343937.404131         67  secondary education             1   \n",
       "\n",
       "           family_status  family_status_id gender income_type  debt  \\\n",
       "4      civil partnership                 1      F     retiree     0   \n",
       "18       widow / widower                 2      F     retiree     0   \n",
       "24             unmarried                 4      F     retiree     0   \n",
       "25               married                 0      M     retiree     0   \n",
       "30               married                 0      F     retiree     0   \n",
       "...                  ...               ...    ...         ...   ...   \n",
       "21505  civil partnership                 1      M     retiree     0   \n",
       "21508            married                 0      M     retiree     0   \n",
       "21509            married                 0      M     retiree     0   \n",
       "21518            married                 0      F     retiree     0   \n",
       "21521            married                 0      F     retiree     0   \n",
       "\n",
       "       total_income                                   purpose  \n",
       "4         25378.572                         to have a wedding  \n",
       "18         9091.804                  buying a second-hand car  \n",
       "24        46487.558  transactions with commercial real estate  \n",
       "25         8818.041                           buy real estate  \n",
       "30        27432.971  transactions with commercial real estate  \n",
       "...             ...                                       ...  \n",
       "21505     12070.399                         to have a wedding  \n",
       "21508     11622.175                                  property  \n",
       "21509     11684.650                  real estate transactions  \n",
       "21518     24618.344                         purchase of a car  \n",
       "21521     24959.969                         purchase of a car  \n",
       "\n",
       "[3445 rows x 12 columns]"
      ]
     },
     "execution_count": 41,
     "metadata": {},
     "output_type": "execute_result"
    }
   ],
   "source": [
    "# Menampilkan data yang bermasalah (value pada kolom days_employed terlalu jauh)\n",
    "\n",
    "df.loc[df['days_employed'] > 21600]"
   ]
  },
  {
   "cell_type": "code",
   "execution_count": 42,
   "metadata": {},
   "outputs": [
    {
     "data": {
      "text/plain": [
       "89.9"
      ]
     },
     "execution_count": 42,
     "metadata": {},
     "output_type": "execute_result"
    }
   ],
   "source": [
    "# menghitung persentase nilai yang bermasalah pada kolom days_employed\n",
    "\n",
    "round(df.loc[(df['days_employed'] < 0) | (df['days_employed'] > 21600), 'days_employed'].count() / len(df['days_employed']) * 100, 2)"
   ]
  },
  {
   "cell_type": "markdown",
   "metadata": {},
   "source": [
    "Persentasi nilai yang bermasalah sangat tinggi (89.9%). Hal ini bisa dikarenakan beberapa masalah teknis. Untuk memperbaiki nilai tersebut, hal yang dapat dilakukan yaitu:\n",
    "- mengubah nilai negatif menjadi positif (dijadikan absolute)\n",
    "- mengubah nilai yang terlalu jauh (dengan patokan usia aktif bekerja selama 60 tahun, berarti max 60*360 = 21600 hari) menjadi median atau mean (karena tipe data berupa numerik)"
   ]
  },
  {
   "cell_type": "code",
   "execution_count": 43,
   "metadata": {
    "scrolled": false
   },
   "outputs": [],
   "source": [
    "# mengubah nilai negatif menjadi positif\n",
    "\n",
    "df['days_employed'] = df['days_employed'].abs()"
   ]
  },
  {
   "cell_type": "code",
   "execution_count": 44,
   "metadata": {},
   "outputs": [
    {
     "data": {
      "text/html": [
       "<div>\n",
       "<style scoped>\n",
       "    .dataframe tbody tr th:only-of-type {\n",
       "        vertical-align: middle;\n",
       "    }\n",
       "\n",
       "    .dataframe tbody tr th {\n",
       "        vertical-align: top;\n",
       "    }\n",
       "\n",
       "    .dataframe thead th {\n",
       "        text-align: right;\n",
       "    }\n",
       "</style>\n",
       "<table border=\"1\" class=\"dataframe\">\n",
       "  <thead>\n",
       "    <tr style=\"text-align: right;\">\n",
       "      <th></th>\n",
       "      <th>children</th>\n",
       "      <th>days_employed</th>\n",
       "      <th>dob_years</th>\n",
       "      <th>education</th>\n",
       "      <th>education_id</th>\n",
       "      <th>family_status</th>\n",
       "      <th>family_status_id</th>\n",
       "      <th>gender</th>\n",
       "      <th>income_type</th>\n",
       "      <th>debt</th>\n",
       "      <th>total_income</th>\n",
       "      <th>purpose</th>\n",
       "    </tr>\n",
       "  </thead>\n",
       "  <tbody>\n",
       "  </tbody>\n",
       "</table>\n",
       "</div>"
      ],
      "text/plain": [
       "Empty DataFrame\n",
       "Columns: [children, days_employed, dob_years, education, education_id, family_status, family_status_id, gender, income_type, debt, total_income, purpose]\n",
       "Index: []"
      ]
     },
     "execution_count": 44,
     "metadata": {},
     "output_type": "execute_result"
    }
   ],
   "source": [
    "# memeriksa data yang telah diubah\n",
    "\n",
    "df.loc[df['days_employed'] < 0]"
   ]
  },
  {
   "cell_type": "code",
   "execution_count": 45,
   "metadata": {},
   "outputs": [
    {
     "data": {
      "text/plain": [
       "count     19351.000000\n",
       "mean      66914.728907\n",
       "std      139030.880527\n",
       "min          24.141633\n",
       "25%         927.009265\n",
       "50%        2194.220567\n",
       "75%        5537.882441\n",
       "max      401755.400475\n",
       "Name: days_employed, dtype: float64"
      ]
     },
     "execution_count": 45,
     "metadata": {},
     "output_type": "execute_result"
    }
   ],
   "source": [
    "# memeriksa nilai mean dan median untuk menentukan pengganti nilai yang terlalu jauh\n",
    "\n",
    "df['days_employed'].describe()"
   ]
  },
  {
   "cell_type": "code",
   "execution_count": 46,
   "metadata": {},
   "outputs": [],
   "source": [
    "# mengubah nilai yang terlalu jauh menjadi median\n",
    "\n",
    "df.loc[(df['days_employed'] > 21600), 'days_employed'] = df['days_employed'].median()"
   ]
  },
  {
   "cell_type": "markdown",
   "metadata": {},
   "source": [
    "Alasan dari pemilihan median sebagai pengganti nilai yang terlampau jauh adalah karena penyebaran data tidak merata sehingga letak mean jauh dari median pada deskripsi data di atas. Hal tersebut menyebabkan mean tidak dapat mewakili keseluruhan data "
   ]
  },
  {
   "cell_type": "code",
   "execution_count": 47,
   "metadata": {},
   "outputs": [
    {
     "data": {
      "text/plain": [
       "count    19351.000000\n",
       "mean      2324.746073\n",
       "std       2089.961651\n",
       "min         24.141633\n",
       "25%        927.009265\n",
       "50%       2194.220567\n",
       "75%       2747.423625\n",
       "max      18388.949901\n",
       "Name: days_employed, dtype: float64"
      ]
     },
     "execution_count": 47,
     "metadata": {},
     "output_type": "execute_result"
    }
   ],
   "source": [
    "# memastikan nilai telah diperbaiki\n",
    "\n",
    "df['days_employed'].describe()"
   ]
  },
  {
   "cell_type": "code",
   "execution_count": 48,
   "metadata": {
    "scrolled": false
   },
   "outputs": [
    {
     "data": {
      "text/plain": [
       "[0,\n",
       " 19,\n",
       " 20,\n",
       " 21,\n",
       " 22,\n",
       " 23,\n",
       " 24,\n",
       " 25,\n",
       " 26,\n",
       " 27,\n",
       " 28,\n",
       " 29,\n",
       " 30,\n",
       " 31,\n",
       " 32,\n",
       " 33,\n",
       " 34,\n",
       " 35,\n",
       " 36,\n",
       " 37,\n",
       " 38,\n",
       " 39,\n",
       " 40,\n",
       " 41,\n",
       " 42,\n",
       " 43,\n",
       " 44,\n",
       " 45,\n",
       " 46,\n",
       " 47,\n",
       " 48,\n",
       " 49,\n",
       " 50,\n",
       " 51,\n",
       " 52,\n",
       " 53,\n",
       " 54,\n",
       " 55,\n",
       " 56,\n",
       " 57,\n",
       " 58,\n",
       " 59,\n",
       " 60,\n",
       " 61,\n",
       " 62,\n",
       " 63,\n",
       " 64,\n",
       " 65,\n",
       " 66,\n",
       " 67,\n",
       " 68,\n",
       " 69,\n",
       " 70,\n",
       " 71,\n",
       " 72,\n",
       " 73,\n",
       " 74,\n",
       " 75]"
      ]
     },
     "execution_count": 48,
     "metadata": {},
     "output_type": "execute_result"
    }
   ],
   "source": [
    "# Memeriksa kolom dob_years untuk nilai yang mencurigakan dan hitung persentasenya\n",
    "\n",
    "sorted(df['dob_years'].unique())"
   ]
  },
  {
   "cell_type": "markdown",
   "metadata": {},
   "source": [
    "Terdapat nilai 0 pada kolom `dob_years` (nilai tersebut tidak rasional mengingat deskripsi dari kolom tersebut adalah usia nasabah)\n",
    "\n",
    "Karena data bersifat numerik, nilai yang bermasalah dapat diselesaikan dengan menggantinya menjadi mean atau median (tergantung persebaran data pada kolom)"
   ]
  },
  {
   "cell_type": "code",
   "execution_count": 49,
   "metadata": {
    "scrolled": true
   },
   "outputs": [
    {
     "data": {
      "text/plain": [
       "count    21525.000000\n",
       "mean        43.293380\n",
       "std         12.574584\n",
       "min          0.000000\n",
       "25%         33.000000\n",
       "50%         42.000000\n",
       "75%         53.000000\n",
       "max         75.000000\n",
       "Name: dob_years, dtype: float64"
      ]
     },
     "execution_count": 49,
     "metadata": {},
     "output_type": "execute_result"
    }
   ],
   "source": [
    "# memeriksa nilai mean dan median untuk menentukan pengganti nilai 0\n",
    "\n",
    "df['dob_years'].describe()"
   ]
  },
  {
   "cell_type": "code",
   "execution_count": 50,
   "metadata": {},
   "outputs": [],
   "source": [
    "df.loc[df['dob_years']==0, 'dob_years'] = df['dob_years'].mean()"
   ]
  },
  {
   "cell_type": "markdown",
   "metadata": {},
   "source": [
    "Alasan digunakannya mean sebagai pengganti nilai 0 adalah karena penyebaran merata sehingga letak mean tidak terlalu jauh dengan median. Hal tersebut menyebabkan mean dapat mewakili keseluruhan data "
   ]
  },
  {
   "cell_type": "markdown",
   "metadata": {},
   "source": [
    "<div class=\"alert alert-danger\">\n",
    "<b>Reviewer's comment v1</b> <a class=\"tocSkip\"></a>\n",
    "\n",
    "Akan lebih baik diberi penjelasan mengenai alasan dalam penentuan nilai imputasi menggunakan mean median atau nilai lain.\n",
    "</div>"
   ]
  },
  {
   "cell_type": "code",
   "execution_count": 51,
   "metadata": {},
   "outputs": [
    {
     "data": {
      "text/plain": [
       "[19.0,\n",
       " 20.0,\n",
       " 21.0,\n",
       " 22.0,\n",
       " 23.0,\n",
       " 24.0,\n",
       " 25.0,\n",
       " 26.0,\n",
       " 27.0,\n",
       " 28.0,\n",
       " 29.0,\n",
       " 30.0,\n",
       " 31.0,\n",
       " 32.0,\n",
       " 33.0,\n",
       " 34.0,\n",
       " 35.0,\n",
       " 36.0,\n",
       " 37.0,\n",
       " 38.0,\n",
       " 39.0,\n",
       " 40.0,\n",
       " 41.0,\n",
       " 42.0,\n",
       " 43.0,\n",
       " 43.29337979094077,\n",
       " 44.0,\n",
       " 45.0,\n",
       " 46.0,\n",
       " 47.0,\n",
       " 48.0,\n",
       " 49.0,\n",
       " 50.0,\n",
       " 51.0,\n",
       " 52.0,\n",
       " 53.0,\n",
       " 54.0,\n",
       " 55.0,\n",
       " 56.0,\n",
       " 57.0,\n",
       " 58.0,\n",
       " 59.0,\n",
       " 60.0,\n",
       " 61.0,\n",
       " 62.0,\n",
       " 63.0,\n",
       " 64.0,\n",
       " 65.0,\n",
       " 66.0,\n",
       " 67.0,\n",
       " 68.0,\n",
       " 69.0,\n",
       " 70.0,\n",
       " 71.0,\n",
       " 72.0,\n",
       " 73.0,\n",
       " 74.0,\n",
       " 75.0]"
      ]
     },
     "execution_count": 51,
     "metadata": {},
     "output_type": "execute_result"
    }
   ],
   "source": [
    "# memastikan nilai telah diperbaiki\n",
    "\n",
    "sorted(df['dob_years'].unique())"
   ]
  },
  {
   "cell_type": "code",
   "execution_count": 52,
   "metadata": {},
   "outputs": [
    {
     "data": {
      "text/plain": [
       "array(['married', 'civil partnership', 'widow / widower', 'divorced',\n",
       "       'unmarried'], dtype=object)"
      ]
     },
     "execution_count": 52,
     "metadata": {},
     "output_type": "execute_result"
    }
   ],
   "source": [
    "# Melihat unique value pada kolom family_status\n",
    "\n",
    "df['family_status'].unique()"
   ]
  },
  {
   "cell_type": "code",
   "execution_count": 53,
   "metadata": {},
   "outputs": [
    {
     "data": {
      "text/plain": [
       "count       21525\n",
       "unique          5\n",
       "top       married\n",
       "freq        12380\n",
       "Name: family_status, dtype: object"
      ]
     },
     "execution_count": 53,
     "metadata": {},
     "output_type": "execute_result"
    }
   ],
   "source": [
    "# Melihat deskripsi dari kolom `family_status`\n",
    "\n",
    "df['family_status'].describe()"
   ]
  },
  {
   "cell_type": "markdown",
   "metadata": {},
   "source": [
    "Setelah pengecekan pada kolom `family_status`, tidak ditemukan adanya keanehan pada data"
   ]
  },
  {
   "cell_type": "code",
   "execution_count": 54,
   "metadata": {},
   "outputs": [
    {
     "data": {
      "text/plain": [
       "F      14236\n",
       "M       7288\n",
       "XNA        1\n",
       "Name: gender, dtype: int64"
      ]
     },
     "execution_count": 54,
     "metadata": {},
     "output_type": "execute_result"
    }
   ],
   "source": [
    "# Melihat nilai di kolom gender\n",
    "\n",
    "df['gender'].value_counts()"
   ]
  },
  {
   "cell_type": "markdown",
   "metadata": {},
   "source": [
    "Terdapat 1 nilai 'XNA' pada kolom `gender`. Hal tersebut bisa terjadi karena kesalahan pada sistem saat proses input data\n",
    "\n",
    "Masalah tersebut dapat diatasi dengan mengganti nilai 'XNA' menjadi modus data (karena data bersifat kategorik)"
   ]
  },
  {
   "cell_type": "code",
   "execution_count": 55,
   "metadata": {},
   "outputs": [
    {
     "data": {
      "text/plain": [
       "count     21525\n",
       "unique        3\n",
       "top           F\n",
       "freq      14236\n",
       "Name: gender, dtype: object"
      ]
     },
     "execution_count": 55,
     "metadata": {},
     "output_type": "execute_result"
    }
   ],
   "source": [
    "# menampilkan deskripsi dari kolom ender\n",
    "\n",
    "df['gender'].describe()"
   ]
  },
  {
   "cell_type": "code",
   "execution_count": 56,
   "metadata": {},
   "outputs": [],
   "source": [
    "# mengubah nilai 'XNA' menjadi modus\n",
    "\n",
    "df.loc[df['gender']=='XNA', 'gender'] = df['gender'].mode()[0]"
   ]
  },
  {
   "cell_type": "code",
   "execution_count": 57,
   "metadata": {},
   "outputs": [
    {
     "data": {
      "text/plain": [
       "F    14237\n",
       "M     7288\n",
       "Name: gender, dtype: int64"
      ]
     },
     "execution_count": 57,
     "metadata": {},
     "output_type": "execute_result"
    }
   ],
   "source": [
    "# memastikan nilai telah diperbaiki\n",
    "\n",
    "df['gender'].value_counts()"
   ]
  },
  {
   "cell_type": "code",
   "execution_count": 58,
   "metadata": {},
   "outputs": [
    {
     "data": {
      "text/plain": [
       "count        21525\n",
       "unique           8\n",
       "top       employee\n",
       "freq         11119\n",
       "Name: income_type, dtype: object"
      ]
     },
     "execution_count": 58,
     "metadata": {},
     "output_type": "execute_result"
    }
   ],
   "source": [
    "# Mari kita lihat nilai dalam kolom\n",
    "\n",
    "df['income_type'].describe()"
   ]
  },
  {
   "cell_type": "markdown",
   "metadata": {},
   "source": [
    "Setelah melakukan pengecekan pada kolom `income_type`, diketahui bahwa tidak terdapat nilai yang bermasalah\n",
    "\n",
    "Karena value yang bermasalah sudah diselesaikan, bisa dilanjutkan dengan proses penghapusan data duplikat tanpa takut merusak nilai dari data"
   ]
  },
  {
   "cell_type": "code",
   "execution_count": 59,
   "metadata": {},
   "outputs": [
    {
     "data": {
      "text/plain": [
       "71"
      ]
     },
     "execution_count": 59,
     "metadata": {},
     "output_type": "execute_result"
    }
   ],
   "source": [
    "# Memeriksa duplikat\n",
    "\n",
    "df.duplicated().sum()"
   ]
  },
  {
   "cell_type": "code",
   "execution_count": 60,
   "metadata": {},
   "outputs": [],
   "source": [
    "# melakukan penghapusan duplikat\n",
    "\n",
    "df = df.drop_duplicates().reset_index(drop=True) "
   ]
  },
  {
   "cell_type": "code",
   "execution_count": 61,
   "metadata": {},
   "outputs": [
    {
     "data": {
      "text/plain": [
       "0"
      ]
     },
     "execution_count": 61,
     "metadata": {},
     "output_type": "execute_result"
    }
   ],
   "source": [
    "# Memeriksa apakah data masih memiliki duplikat\n",
    "\n",
    "df.duplicated().sum()"
   ]
  },
  {
   "cell_type": "code",
   "execution_count": 62,
   "metadata": {},
   "outputs": [
    {
     "data": {
      "text/plain": [
       "(21454, 12)"
      ]
     },
     "execution_count": 62,
     "metadata": {},
     "output_type": "execute_result"
    }
   ],
   "source": [
    "# Periksa ukuran dataset setelah proses manipulasi\n",
    "\n",
    "df.shape"
   ]
  },
  {
   "cell_type": "markdown",
   "metadata": {},
   "source": [
    "Kini dataset telah bersih dari nilai duplikat, register yang berbeda, maupun data lama yang salah"
   ]
  },
  {
   "cell_type": "markdown",
   "metadata": {},
   "source": [
    "<div class=\"alert alert-danger\">\n",
    "<b>Reviewer's comment v1</b> <a class=\"tocSkip\"></a>\n",
    "\n",
    "Perhatikan instruksi yang ada dalam memberikan penjelasan di tahapan pengerjaan proyek ini.\n",
    "</div>"
   ]
  },
  {
   "cell_type": "markdown",
   "metadata": {},
   "source": [
    "# Bekerja dengan nilai yang hilang"
   ]
  },
  {
   "cell_type": "code",
   "execution_count": 63,
   "metadata": {},
   "outputs": [
    {
     "data": {
      "text/plain": [
       "[19.0,\n",
       " 20.0,\n",
       " 21.0,\n",
       " 22.0,\n",
       " 23.0,\n",
       " 24.0,\n",
       " 25.0,\n",
       " 26.0,\n",
       " 27.0,\n",
       " 28.0,\n",
       " 29.0,\n",
       " 30.0,\n",
       " 31.0,\n",
       " 32.0,\n",
       " 33.0,\n",
       " 34.0,\n",
       " 35.0,\n",
       " 36.0,\n",
       " 37.0,\n",
       " 38.0,\n",
       " 39.0,\n",
       " 40.0,\n",
       " 41.0,\n",
       " 42.0,\n",
       " 43.0,\n",
       " 43.29337979094077,\n",
       " 44.0,\n",
       " 45.0,\n",
       " 46.0,\n",
       " 47.0,\n",
       " 48.0,\n",
       " 49.0,\n",
       " 50.0,\n",
       " 51.0,\n",
       " 52.0,\n",
       " 53.0,\n",
       " 54.0,\n",
       " 55.0,\n",
       " 56.0,\n",
       " 57.0,\n",
       " 58.0,\n",
       " 59.0,\n",
       " 60.0,\n",
       " 61.0,\n",
       " 62.0,\n",
       " 63.0,\n",
       " 64.0,\n",
       " 65.0,\n",
       " 66.0,\n",
       " 67.0,\n",
       " 68.0,\n",
       " 69.0,\n",
       " 70.0,\n",
       " 71.0,\n",
       " 72.0,\n",
       " 73.0,\n",
       " 74.0,\n",
       " 75.0]"
      ]
     },
     "execution_count": 63,
     "metadata": {},
     "output_type": "execute_result"
    }
   ],
   "source": [
    "# Temukan dictionary \n",
    "\n",
    "sorted(df['dob_years'].unique())"
   ]
  },
  {
   "cell_type": "markdown",
   "metadata": {},
   "source": [
    "### Memperbaiki nilai yang hilang di `total_income`"
   ]
  },
  {
   "cell_type": "markdown",
   "metadata": {},
   "source": [
    "Kolom yang yang memiliki nilai hilang adalah `total_income` dan `days_employed`. \n",
    "\n",
    "Pertama, kategorikan usia untuk memudahkan dalam hal menghitung total_income nanti. Pengkategorian dilakukan berdasarkan [situs](https://www.statcan.gc.ca/en/concepts/definitions/age2) ini"
   ]
  },
  {
   "cell_type": "code",
   "execution_count": 64,
   "metadata": {},
   "outputs": [],
   "source": [
    "# Mari menulis fungsi untuk menghitung kategori usia\n",
    "\n",
    "def age_category(age):\n",
    "    if age <= 14:\n",
    "        return 'Children'\n",
    "    elif (age > 14) & (age <= 24):\n",
    "        return 'Youth'\n",
    "    elif (age > 24) & (age <= 64):\n",
    "        return 'Adults'\n",
    "    elif age > 64:\n",
    "        return 'Senior'"
   ]
  },
  {
   "cell_type": "markdown",
   "metadata": {},
   "source": [
    "<div class=\"alert alert-warning\">\n",
    "<b>Reviewer's comment v1</b> <a class=\"tocSkip\"></a>\n",
    "\n",
    "Untuk menghindari subjektifitas dan tidak adanya referensi yang digunakan dalam pengelompokan, kategori dapat dinamai sesuai dengan batas atas dan bawah pada tiap kelompok misa, `sampai 24 tahun` dan `64 tahun keatas`.\n",
    "\n",
    "</div>"
   ]
  },
  {
   "cell_type": "code",
   "execution_count": 65,
   "metadata": {},
   "outputs": [
    {
     "data": {
      "text/plain": [
       "'Children'"
      ]
     },
     "execution_count": 65,
     "metadata": {},
     "output_type": "execute_result"
    }
   ],
   "source": [
    "# melakukan pengujian terhadap fungsi\n",
    "\n",
    "age_category(12.0)"
   ]
  },
  {
   "cell_type": "code",
   "execution_count": 66,
   "metadata": {
    "scrolled": true
   },
   "outputs": [],
   "source": [
    "# Membuat kolom baru berdasarkan fungsi\n",
    "\n",
    "df['age_category'] = df['dob_years'].apply(age_category)"
   ]
  },
  {
   "cell_type": "code",
   "execution_count": 67,
   "metadata": {},
   "outputs": [
    {
     "data": {
      "text/plain": [
       "Adults    19684\n",
       "Senior      895\n",
       "Youth       875\n",
       "Name: age_category, dtype: int64"
      ]
     },
     "execution_count": 67,
     "metadata": {},
     "output_type": "execute_result"
    }
   ],
   "source": [
    "# Memeriksa bagaimana nilai di dalam kolom baru\n",
    "\n",
    "df['age_category'].value_counts()"
   ]
  },
  {
   "cell_type": "code",
   "execution_count": 68,
   "metadata": {},
   "outputs": [
    {
     "data": {
      "text/html": [
       "<div>\n",
       "<style scoped>\n",
       "    .dataframe tbody tr th:only-of-type {\n",
       "        vertical-align: middle;\n",
       "    }\n",
       "\n",
       "    .dataframe tbody tr th {\n",
       "        vertical-align: top;\n",
       "    }\n",
       "\n",
       "    .dataframe thead th {\n",
       "        text-align: right;\n",
       "    }\n",
       "</style>\n",
       "<table border=\"1\" class=\"dataframe\">\n",
       "  <thead>\n",
       "    <tr style=\"text-align: right;\">\n",
       "      <th></th>\n",
       "      <th>children</th>\n",
       "      <th>days_employed</th>\n",
       "      <th>dob_years</th>\n",
       "      <th>education</th>\n",
       "      <th>education_id</th>\n",
       "      <th>family_status</th>\n",
       "      <th>family_status_id</th>\n",
       "      <th>gender</th>\n",
       "      <th>income_type</th>\n",
       "      <th>debt</th>\n",
       "      <th>total_income</th>\n",
       "      <th>purpose</th>\n",
       "      <th>age_category</th>\n",
       "    </tr>\n",
       "  </thead>\n",
       "  <tbody>\n",
       "    <tr>\n",
       "      <th>0</th>\n",
       "      <td>1</td>\n",
       "      <td>8437.673028</td>\n",
       "      <td>42.0</td>\n",
       "      <td>bachelor's degree</td>\n",
       "      <td>0</td>\n",
       "      <td>married</td>\n",
       "      <td>0</td>\n",
       "      <td>F</td>\n",
       "      <td>employee</td>\n",
       "      <td>0</td>\n",
       "      <td>40620.102</td>\n",
       "      <td>purchase of the house</td>\n",
       "      <td>Adults</td>\n",
       "    </tr>\n",
       "    <tr>\n",
       "      <th>1</th>\n",
       "      <td>1</td>\n",
       "      <td>4024.803754</td>\n",
       "      <td>36.0</td>\n",
       "      <td>secondary education</td>\n",
       "      <td>1</td>\n",
       "      <td>married</td>\n",
       "      <td>0</td>\n",
       "      <td>F</td>\n",
       "      <td>employee</td>\n",
       "      <td>0</td>\n",
       "      <td>17932.802</td>\n",
       "      <td>car purchase</td>\n",
       "      <td>Adults</td>\n",
       "    </tr>\n",
       "    <tr>\n",
       "      <th>2</th>\n",
       "      <td>0</td>\n",
       "      <td>5623.422610</td>\n",
       "      <td>33.0</td>\n",
       "      <td>secondary education</td>\n",
       "      <td>1</td>\n",
       "      <td>married</td>\n",
       "      <td>0</td>\n",
       "      <td>M</td>\n",
       "      <td>employee</td>\n",
       "      <td>0</td>\n",
       "      <td>23341.752</td>\n",
       "      <td>purchase of the house</td>\n",
       "      <td>Adults</td>\n",
       "    </tr>\n",
       "    <tr>\n",
       "      <th>3</th>\n",
       "      <td>3</td>\n",
       "      <td>4124.747207</td>\n",
       "      <td>32.0</td>\n",
       "      <td>secondary education</td>\n",
       "      <td>1</td>\n",
       "      <td>married</td>\n",
       "      <td>0</td>\n",
       "      <td>M</td>\n",
       "      <td>employee</td>\n",
       "      <td>0</td>\n",
       "      <td>42820.568</td>\n",
       "      <td>supplementary education</td>\n",
       "      <td>Adults</td>\n",
       "    </tr>\n",
       "    <tr>\n",
       "      <th>4</th>\n",
       "      <td>0</td>\n",
       "      <td>2194.220567</td>\n",
       "      <td>53.0</td>\n",
       "      <td>secondary education</td>\n",
       "      <td>1</td>\n",
       "      <td>civil partnership</td>\n",
       "      <td>1</td>\n",
       "      <td>F</td>\n",
       "      <td>retiree</td>\n",
       "      <td>0</td>\n",
       "      <td>25378.572</td>\n",
       "      <td>to have a wedding</td>\n",
       "      <td>Adults</td>\n",
       "    </tr>\n",
       "    <tr>\n",
       "      <th>...</th>\n",
       "      <td>...</td>\n",
       "      <td>...</td>\n",
       "      <td>...</td>\n",
       "      <td>...</td>\n",
       "      <td>...</td>\n",
       "      <td>...</td>\n",
       "      <td>...</td>\n",
       "      <td>...</td>\n",
       "      <td>...</td>\n",
       "      <td>...</td>\n",
       "      <td>...</td>\n",
       "      <td>...</td>\n",
       "      <td>...</td>\n",
       "    </tr>\n",
       "    <tr>\n",
       "      <th>21449</th>\n",
       "      <td>1</td>\n",
       "      <td>4529.316663</td>\n",
       "      <td>43.0</td>\n",
       "      <td>secondary education</td>\n",
       "      <td>1</td>\n",
       "      <td>civil partnership</td>\n",
       "      <td>1</td>\n",
       "      <td>F</td>\n",
       "      <td>business</td>\n",
       "      <td>0</td>\n",
       "      <td>35966.698</td>\n",
       "      <td>housing transactions</td>\n",
       "      <td>Adults</td>\n",
       "    </tr>\n",
       "    <tr>\n",
       "      <th>21450</th>\n",
       "      <td>0</td>\n",
       "      <td>2194.220567</td>\n",
       "      <td>67.0</td>\n",
       "      <td>secondary education</td>\n",
       "      <td>1</td>\n",
       "      <td>married</td>\n",
       "      <td>0</td>\n",
       "      <td>F</td>\n",
       "      <td>retiree</td>\n",
       "      <td>0</td>\n",
       "      <td>24959.969</td>\n",
       "      <td>purchase of a car</td>\n",
       "      <td>Senior</td>\n",
       "    </tr>\n",
       "    <tr>\n",
       "      <th>21451</th>\n",
       "      <td>1</td>\n",
       "      <td>2113.346888</td>\n",
       "      <td>38.0</td>\n",
       "      <td>secondary education</td>\n",
       "      <td>1</td>\n",
       "      <td>civil partnership</td>\n",
       "      <td>1</td>\n",
       "      <td>M</td>\n",
       "      <td>employee</td>\n",
       "      <td>1</td>\n",
       "      <td>14347.610</td>\n",
       "      <td>property</td>\n",
       "      <td>Adults</td>\n",
       "    </tr>\n",
       "    <tr>\n",
       "      <th>21452</th>\n",
       "      <td>3</td>\n",
       "      <td>3112.481705</td>\n",
       "      <td>38.0</td>\n",
       "      <td>secondary education</td>\n",
       "      <td>1</td>\n",
       "      <td>married</td>\n",
       "      <td>0</td>\n",
       "      <td>M</td>\n",
       "      <td>employee</td>\n",
       "      <td>1</td>\n",
       "      <td>39054.888</td>\n",
       "      <td>buying my own car</td>\n",
       "      <td>Adults</td>\n",
       "    </tr>\n",
       "    <tr>\n",
       "      <th>21453</th>\n",
       "      <td>2</td>\n",
       "      <td>1984.507589</td>\n",
       "      <td>40.0</td>\n",
       "      <td>secondary education</td>\n",
       "      <td>1</td>\n",
       "      <td>married</td>\n",
       "      <td>0</td>\n",
       "      <td>F</td>\n",
       "      <td>employee</td>\n",
       "      <td>0</td>\n",
       "      <td>13127.587</td>\n",
       "      <td>to buy a car</td>\n",
       "      <td>Adults</td>\n",
       "    </tr>\n",
       "  </tbody>\n",
       "</table>\n",
       "<p>19351 rows × 13 columns</p>\n",
       "</div>"
      ],
      "text/plain": [
       "       children  days_employed  dob_years            education  education_id  \\\n",
       "0             1    8437.673028       42.0    bachelor's degree             0   \n",
       "1             1    4024.803754       36.0  secondary education             1   \n",
       "2             0    5623.422610       33.0  secondary education             1   \n",
       "3             3    4124.747207       32.0  secondary education             1   \n",
       "4             0    2194.220567       53.0  secondary education             1   \n",
       "...         ...            ...        ...                  ...           ...   \n",
       "21449         1    4529.316663       43.0  secondary education             1   \n",
       "21450         0    2194.220567       67.0  secondary education             1   \n",
       "21451         1    2113.346888       38.0  secondary education             1   \n",
       "21452         3    3112.481705       38.0  secondary education             1   \n",
       "21453         2    1984.507589       40.0  secondary education             1   \n",
       "\n",
       "           family_status  family_status_id gender income_type  debt  \\\n",
       "0                married                 0      F    employee     0   \n",
       "1                married                 0      F    employee     0   \n",
       "2                married                 0      M    employee     0   \n",
       "3                married                 0      M    employee     0   \n",
       "4      civil partnership                 1      F     retiree     0   \n",
       "...                  ...               ...    ...         ...   ...   \n",
       "21449  civil partnership                 1      F    business     0   \n",
       "21450            married                 0      F     retiree     0   \n",
       "21451  civil partnership                 1      M    employee     1   \n",
       "21452            married                 0      M    employee     1   \n",
       "21453            married                 0      F    employee     0   \n",
       "\n",
       "       total_income                  purpose age_category  \n",
       "0         40620.102    purchase of the house       Adults  \n",
       "1         17932.802             car purchase       Adults  \n",
       "2         23341.752    purchase of the house       Adults  \n",
       "3         42820.568  supplementary education       Adults  \n",
       "4         25378.572        to have a wedding       Adults  \n",
       "...             ...                      ...          ...  \n",
       "21449     35966.698     housing transactions       Adults  \n",
       "21450     24959.969        purchase of a car       Senior  \n",
       "21451     14347.610                 property       Adults  \n",
       "21452     39054.888        buying my own car       Adults  \n",
       "21453     13127.587             to buy a car       Adults  \n",
       "\n",
       "[19351 rows x 13 columns]"
      ]
     },
     "execution_count": 68,
     "metadata": {},
     "output_type": "execute_result"
    }
   ],
   "source": [
    "# Membuat tabel tanpa nilai yang hilang\n",
    "\n",
    "not_null = df.loc[~(df['days_employed'].isna()) & ~(df['total_income'].isna())]\n",
    "not_null"
   ]
  },
  {
   "cell_type": "code",
   "execution_count": 69,
   "metadata": {},
   "outputs": [
    {
     "data": {
      "text/plain": [
       "26787.568354658673"
      ]
     },
     "execution_count": 69,
     "metadata": {},
     "output_type": "execute_result"
    }
   ],
   "source": [
    "# menampilkan rata-rata dari kolom total_income\n",
    "\n",
    "not_null['total_income'].mean()"
   ]
  },
  {
   "cell_type": "code",
   "execution_count": 70,
   "metadata": {
    "scrolled": true
   },
   "outputs": [
    {
     "data": {
      "text/plain": [
       "23202.87"
      ]
     },
     "execution_count": 70,
     "metadata": {},
     "output_type": "execute_result"
    }
   ],
   "source": [
    "# menampilkan median dari kolom total_income\n",
    "\n",
    "not_null['total_income'].median()"
   ]
  },
  {
   "cell_type": "code",
   "execution_count": 71,
   "metadata": {},
   "outputs": [
    {
     "data": {
      "text/plain": [
       "count     19351.000000\n",
       "mean      26787.568355\n",
       "std       16475.450632\n",
       "min        3306.762000\n",
       "25%       16488.504500\n",
       "50%       23202.870000\n",
       "75%       32549.611000\n",
       "max      362496.645000\n",
       "Name: total_income, dtype: float64"
      ]
     },
     "execution_count": 71,
     "metadata": {},
     "output_type": "execute_result"
    }
   ],
   "source": [
    "# menampilkan deskripsi dari kolom total_income\n",
    "\n",
    "df['total_income'].describe()"
   ]
  },
  {
   "cell_type": "markdown",
   "metadata": {},
   "source": [
    "Setelah melakukan pengecekan pada kolom `total_income`, saya memutuskan untuk menggunakan mean sebagai pengganti nilai yang kosong pada kolom tersebut. Alasan dari digunakannya mean adalah karena tipe data dari kolom tersebut adalah numerik. Selain itu, jarak antara mean dan mediannya tidak terlalu jauh dan persebaran datanya merata jadi nilai mean dapat merepresentasikan keseluruhan data"
   ]
  },
  {
   "cell_type": "markdown",
   "metadata": {},
   "source": [
    "<div class=\"alert alert-danger\">\n",
    "<b>Reviewer's comment v1</b> <a class=\"tocSkip\"></a>\n",
    "\n",
    "Sebaiknya di elaborate lagi terkait standard deviasi 20% ini.\n",
    "</div>"
   ]
  },
  {
   "cell_type": "code",
   "execution_count": 72,
   "metadata": {},
   "outputs": [],
   "source": [
    "#  Membuat fungsi yang akan gunakan untuk mengisi nilai yang hilang\n",
    "\n",
    "def data_imputation(data, column_grouping, column_selected):\n",
    "    group = data[column_grouping].unique()\n",
    "\n",
    "    for rule in group:\n",
    "        mean = data.loc[(data[column_grouping]==rule) & ~(data[column_selected].isna()), column_selected].mean()\n",
    "        data.loc[(data[column_grouping]==rule) & (data[column_selected].isna()), column_selected] = mean\n",
    "        \n",
    "    return data"
   ]
  },
  {
   "cell_type": "code",
   "execution_count": 73,
   "metadata": {},
   "outputs": [],
   "source": [
    "# mengimplementasikan fungsi pada proses pengisian kolom total_income dengan referensi kolom age_category\n",
    "\n",
    "df = data_imputation(df, column_grouping='age_category', column_selected='total_income')"
   ]
  },
  {
   "cell_type": "markdown",
   "metadata": {},
   "source": [
    "<div class=\"alert alert-danger\">\n",
    "<b>Reviewer's comment v1</b> <a class=\"tocSkip\"></a>\n",
    "\n",
    "Ketika imputasi `total_income` menggunakan satu nilai maka semua missing value akan berubah menjadi nilai yang sama. Baik pada umur, type income, sampai pendidikan tidak akan memiliki perbedaan dari `total_income`. Sebaiknya digunakan paling tidak satu kolom sebagai referensi dalam melakukan imputasi ini.\n",
    "</div>"
   ]
  },
  {
   "cell_type": "markdown",
   "metadata": {},
   "source": [
    "<div class=\"alert alert-success\">\n",
    "<b>Reviewer's comment v2</b> <a class=\"tocSkip\"></a>\n",
    "\n",
    "Walaupun fungsi yang dibuat belum sepenuhnya efektif namun ini adalah perbaikan yang cukup bagus mengingat sudah sesuai dengan yang dibutuhkan.\n",
    "</div>"
   ]
  },
  {
   "cell_type": "code",
   "execution_count": 74,
   "metadata": {},
   "outputs": [
    {
     "data": {
      "text/plain": [
       "children               0\n",
       "days_employed       2103\n",
       "dob_years              0\n",
       "education              0\n",
       "education_id           0\n",
       "family_status          0\n",
       "family_status_id       0\n",
       "gender                 0\n",
       "income_type            0\n",
       "debt                   0\n",
       "total_income           0\n",
       "purpose                0\n",
       "age_category           0\n",
       "dtype: int64"
      ]
     },
     "execution_count": 74,
     "metadata": {},
     "output_type": "execute_result"
    }
   ],
   "source": [
    "# Memeriksa apakah fungsi berjalan\n",
    "\n",
    "df.isna().sum()"
   ]
  },
  {
   "cell_type": "code",
   "execution_count": 75,
   "metadata": {},
   "outputs": [
    {
     "name": "stdout",
     "output_type": "stream",
     "text": [
      "<class 'pandas.core.frame.DataFrame'>\n",
      "RangeIndex: 21454 entries, 0 to 21453\n",
      "Data columns (total 13 columns):\n",
      " #   Column            Non-Null Count  Dtype  \n",
      "---  ------            --------------  -----  \n",
      " 0   children          21454 non-null  int64  \n",
      " 1   days_employed     19351 non-null  float64\n",
      " 2   dob_years         21454 non-null  float64\n",
      " 3   education         21454 non-null  object \n",
      " 4   education_id      21454 non-null  int64  \n",
      " 5   family_status     21454 non-null  object \n",
      " 6   family_status_id  21454 non-null  int64  \n",
      " 7   gender            21454 non-null  object \n",
      " 8   income_type       21454 non-null  object \n",
      " 9   debt              21454 non-null  int64  \n",
      " 10  total_income      21454 non-null  float64\n",
      " 11  purpose           21454 non-null  object \n",
      " 12  age_category      21454 non-null  object \n",
      "dtypes: float64(3), int64(4), object(6)\n",
      "memory usage: 2.1+ MB\n"
     ]
    }
   ],
   "source": [
    "# Memeriksa jumlah entri di kolom\n",
    "\n",
    "df.info()"
   ]
  },
  {
   "cell_type": "markdown",
   "metadata": {},
   "source": [
    "###  Memperbaiki nilai di `days_employed`"
   ]
  },
  {
   "cell_type": "code",
   "execution_count": 76,
   "metadata": {
    "pycharm": {
     "name": "#%%\n"
    }
   },
   "outputs": [
    {
     "data": {
      "text/html": [
       "<div>\n",
       "<style scoped>\n",
       "    .dataframe tbody tr th:only-of-type {\n",
       "        vertical-align: middle;\n",
       "    }\n",
       "\n",
       "    .dataframe tbody tr th {\n",
       "        vertical-align: top;\n",
       "    }\n",
       "\n",
       "    .dataframe thead tr th {\n",
       "        text-align: left;\n",
       "    }\n",
       "\n",
       "    .dataframe thead tr:last-of-type th {\n",
       "        text-align: right;\n",
       "    }\n",
       "</style>\n",
       "<table border=\"1\" class=\"dataframe\">\n",
       "  <thead>\n",
       "    <tr>\n",
       "      <th></th>\n",
       "      <th></th>\n",
       "      <th>median</th>\n",
       "    </tr>\n",
       "    <tr>\n",
       "      <th></th>\n",
       "      <th></th>\n",
       "      <th>days_employed</th>\n",
       "    </tr>\n",
       "    <tr>\n",
       "      <th>age_category</th>\n",
       "      <th>income_type</th>\n",
       "      <th></th>\n",
       "    </tr>\n",
       "  </thead>\n",
       "  <tbody>\n",
       "    <tr>\n",
       "      <th rowspan=\"7\" valign=\"top\">Adults</th>\n",
       "      <th>business</th>\n",
       "      <td>1618.911339</td>\n",
       "    </tr>\n",
       "    <tr>\n",
       "      <th>civil servant</th>\n",
       "      <td>2776.347655</td>\n",
       "    </tr>\n",
       "    <tr>\n",
       "      <th>employee</th>\n",
       "      <td>1651.060608</td>\n",
       "    </tr>\n",
       "    <tr>\n",
       "      <th>entrepreneur</th>\n",
       "      <td>520.848083</td>\n",
       "    </tr>\n",
       "    <tr>\n",
       "      <th>paternity / maternity leave</th>\n",
       "      <td>3296.759962</td>\n",
       "    </tr>\n",
       "    <tr>\n",
       "      <th>retiree</th>\n",
       "      <td>2194.220567</td>\n",
       "    </tr>\n",
       "    <tr>\n",
       "      <th>unemployed</th>\n",
       "      <td>2194.220567</td>\n",
       "    </tr>\n",
       "    <tr>\n",
       "      <th rowspan=\"4\" valign=\"top\">Senior</th>\n",
       "      <th>business</th>\n",
       "      <td>1928.123732</td>\n",
       "    </tr>\n",
       "    <tr>\n",
       "      <th>civil servant</th>\n",
       "      <td>3339.663548</td>\n",
       "    </tr>\n",
       "    <tr>\n",
       "      <th>employee</th>\n",
       "      <td>3240.640456</td>\n",
       "    </tr>\n",
       "    <tr>\n",
       "      <th>retiree</th>\n",
       "      <td>2194.220567</td>\n",
       "    </tr>\n",
       "    <tr>\n",
       "      <th rowspan=\"5\" valign=\"top\">Youth</th>\n",
       "      <th>business</th>\n",
       "      <td>695.968951</td>\n",
       "    </tr>\n",
       "    <tr>\n",
       "      <th>civil servant</th>\n",
       "      <td>922.372533</td>\n",
       "    </tr>\n",
       "    <tr>\n",
       "      <th>employee</th>\n",
       "      <td>769.758975</td>\n",
       "    </tr>\n",
       "    <tr>\n",
       "      <th>retiree</th>\n",
       "      <td>2194.220567</td>\n",
       "    </tr>\n",
       "    <tr>\n",
       "      <th>student</th>\n",
       "      <td>578.751554</td>\n",
       "    </tr>\n",
       "  </tbody>\n",
       "</table>\n",
       "</div>"
      ],
      "text/plain": [
       "                                                median\n",
       "                                         days_employed\n",
       "age_category income_type                              \n",
       "Adults       business                      1618.911339\n",
       "             civil servant                 2776.347655\n",
       "             employee                      1651.060608\n",
       "             entrepreneur                   520.848083\n",
       "             paternity / maternity leave   3296.759962\n",
       "             retiree                       2194.220567\n",
       "             unemployed                    2194.220567\n",
       "Senior       business                      1928.123732\n",
       "             civil servant                 3339.663548\n",
       "             employee                      3240.640456\n",
       "             retiree                       2194.220567\n",
       "Youth        business                       695.968951\n",
       "             civil servant                  922.372533\n",
       "             employee                       769.758975\n",
       "             retiree                       2194.220567\n",
       "             student                        578.751554"
      ]
     },
     "execution_count": 76,
     "metadata": {},
     "output_type": "execute_result"
    }
   ],
   "source": [
    "# menampilkan distribusi median dari `days_employed` berdasarkan parameter age_category\n",
    "\n",
    "pd.pivot_table(\n",
    "    df,\n",
    "    values='days_employed',\n",
    "    index=['age_category', 'income_type'],\n",
    "    aggfunc=[np.median]\n",
    ")"
   ]
  },
  {
   "cell_type": "code",
   "execution_count": 77,
   "metadata": {
    "scrolled": false
   },
   "outputs": [
    {
     "data": {
      "text/html": [
       "<div>\n",
       "<style scoped>\n",
       "    .dataframe tbody tr th:only-of-type {\n",
       "        vertical-align: middle;\n",
       "    }\n",
       "\n",
       "    .dataframe tbody tr th {\n",
       "        vertical-align: top;\n",
       "    }\n",
       "\n",
       "    .dataframe thead tr th {\n",
       "        text-align: left;\n",
       "    }\n",
       "\n",
       "    .dataframe thead tr:last-of-type th {\n",
       "        text-align: right;\n",
       "    }\n",
       "</style>\n",
       "<table border=\"1\" class=\"dataframe\">\n",
       "  <thead>\n",
       "    <tr>\n",
       "      <th></th>\n",
       "      <th></th>\n",
       "      <th>mean</th>\n",
       "    </tr>\n",
       "    <tr>\n",
       "      <th></th>\n",
       "      <th></th>\n",
       "      <th>days_employed</th>\n",
       "    </tr>\n",
       "    <tr>\n",
       "      <th>age_category</th>\n",
       "      <th>income_type</th>\n",
       "      <th></th>\n",
       "    </tr>\n",
       "  </thead>\n",
       "  <tbody>\n",
       "    <tr>\n",
       "      <th rowspan=\"7\" valign=\"top\">Adults</th>\n",
       "      <th>business</th>\n",
       "      <td>2175.365499</td>\n",
       "    </tr>\n",
       "    <tr>\n",
       "      <th>civil servant</th>\n",
       "      <td>3469.888219</td>\n",
       "    </tr>\n",
       "    <tr>\n",
       "      <th>employee</th>\n",
       "      <td>2388.724641</td>\n",
       "    </tr>\n",
       "    <tr>\n",
       "      <th>entrepreneur</th>\n",
       "      <td>520.848083</td>\n",
       "    </tr>\n",
       "    <tr>\n",
       "      <th>paternity / maternity leave</th>\n",
       "      <td>3296.759962</td>\n",
       "    </tr>\n",
       "    <tr>\n",
       "      <th>retiree</th>\n",
       "      <td>2194.220567</td>\n",
       "    </tr>\n",
       "    <tr>\n",
       "      <th>unemployed</th>\n",
       "      <td>2194.220567</td>\n",
       "    </tr>\n",
       "    <tr>\n",
       "      <th rowspan=\"4\" valign=\"top\">Senior</th>\n",
       "      <th>business</th>\n",
       "      <td>3292.768472</td>\n",
       "    </tr>\n",
       "    <tr>\n",
       "      <th>civil servant</th>\n",
       "      <td>4377.924812</td>\n",
       "    </tr>\n",
       "    <tr>\n",
       "      <th>employee</th>\n",
       "      <td>4366.938943</td>\n",
       "    </tr>\n",
       "    <tr>\n",
       "      <th>retiree</th>\n",
       "      <td>2194.220567</td>\n",
       "    </tr>\n",
       "    <tr>\n",
       "      <th rowspan=\"5\" valign=\"top\">Youth</th>\n",
       "      <th>business</th>\n",
       "      <td>793.557137</td>\n",
       "    </tr>\n",
       "    <tr>\n",
       "      <th>civil servant</th>\n",
       "      <td>975.347977</td>\n",
       "    </tr>\n",
       "    <tr>\n",
       "      <th>employee</th>\n",
       "      <td>873.864193</td>\n",
       "    </tr>\n",
       "    <tr>\n",
       "      <th>retiree</th>\n",
       "      <td>2194.220567</td>\n",
       "    </tr>\n",
       "    <tr>\n",
       "      <th>student</th>\n",
       "      <td>578.751554</td>\n",
       "    </tr>\n",
       "  </tbody>\n",
       "</table>\n",
       "</div>"
      ],
      "text/plain": [
       "                                                  mean\n",
       "                                         days_employed\n",
       "age_category income_type                              \n",
       "Adults       business                      2175.365499\n",
       "             civil servant                 3469.888219\n",
       "             employee                      2388.724641\n",
       "             entrepreneur                   520.848083\n",
       "             paternity / maternity leave   3296.759962\n",
       "             retiree                       2194.220567\n",
       "             unemployed                    2194.220567\n",
       "Senior       business                      3292.768472\n",
       "             civil servant                 4377.924812\n",
       "             employee                      4366.938943\n",
       "             retiree                       2194.220567\n",
       "Youth        business                       793.557137\n",
       "             civil servant                  975.347977\n",
       "             employee                       873.864193\n",
       "             retiree                       2194.220567\n",
       "             student                        578.751554"
      ]
     },
     "execution_count": 77,
     "metadata": {},
     "output_type": "execute_result"
    }
   ],
   "source": [
    "# menampilkan distribusi rata-rata dari `days_employed` berdasarkan age_category\n",
    "\n",
    "pd.pivot_table(\n",
    "    df,\n",
    "    values='days_employed',\n",
    "    index=['age_category', 'income_type'],\n",
    "    aggfunc=[np.mean]\n",
    ")"
   ]
  },
  {
   "cell_type": "markdown",
   "metadata": {},
   "source": [
    "<div class=\"alert alert-danger\">\n",
    "<b>Reviewer's comment v1</b> <a class=\"tocSkip\"></a>\n",
    "\n",
    "Karena sudah dihitung nilai rata-rata pada tiap age_group dan type_income seharusnya nilai-nilai ini bisa digunakan sebagai imputasi pada masing-masing group hasil kombinasi antara age_group dan type_income baik pada total_income maupun days_employed.\n",
    "</div>"
   ]
  },
  {
   "cell_type": "code",
   "execution_count": 78,
   "metadata": {},
   "outputs": [
    {
     "data": {
      "text/plain": [
       "count    19351.000000\n",
       "mean      2324.746073\n",
       "std       2089.961651\n",
       "min         24.141633\n",
       "25%        927.009265\n",
       "50%       2194.220567\n",
       "75%       2747.423625\n",
       "max      18388.949901\n",
       "Name: days_employed, dtype: float64"
      ]
     },
     "execution_count": 78,
     "metadata": {},
     "output_type": "execute_result"
    }
   ],
   "source": [
    "# menampilkan deskripsi dari kolom total_income\n",
    "\n",
    "df['days_employed'].describe()"
   ]
  },
  {
   "cell_type": "markdown",
   "metadata": {},
   "source": [
    "Setelah melakukan pengecekan pada kolom `days_employed`, saya memutuskan untuk menggunakan mean sebagai pengganti nilai yang kosong pada kolom tersebut. Alasan dari digunakannya mean adalah karena tipe data dari kolom tersebut adalah numerik. Selain itu, jarak antara mean dan mediannya tidak terlalu jauh dan persebaran datanya merata jadi nilai mean dapat merepresentasikan keseluruhan data.\n",
    "\n",
    "Proses imputasi pada kolom `days_employed` dapat menggunakan fungsi yang sama seperti yang digunakan pada proses imputasi di kolom `total_income` (data_imputation). Hal ini karena proses imputasi kebetulan sama-sama menggunakan mean dan parameter yang digunakan pada fungsi tersebut juga sesuai dengan proses imputasi pada kolom `days_employed`"
   ]
  },
  {
   "cell_type": "code",
   "execution_count": 79,
   "metadata": {},
   "outputs": [],
   "source": [
    "# mengimplementasikan fungsi data_imputation pada proses pengisian kolom days_employed dengan referensi kolom age_category\n",
    "\n",
    "df = data_imputation(df, column_grouping='age_category', column_selected='days_employed')"
   ]
  },
  {
   "cell_type": "code",
   "execution_count": 80,
   "metadata": {},
   "outputs": [
    {
     "data": {
      "text/plain": [
       "children            0\n",
       "days_employed       0\n",
       "dob_years           0\n",
       "education           0\n",
       "education_id        0\n",
       "family_status       0\n",
       "family_status_id    0\n",
       "gender              0\n",
       "income_type         0\n",
       "debt                0\n",
       "total_income        0\n",
       "purpose             0\n",
       "age_category        0\n",
       "dtype: int64"
      ]
     },
     "execution_count": 80,
     "metadata": {},
     "output_type": "execute_result"
    }
   ],
   "source": [
    "# memeriksa fungsi bekerja\n",
    "\n",
    "df.isna().sum()"
   ]
  },
  {
   "cell_type": "code",
   "execution_count": 81,
   "metadata": {},
   "outputs": [
    {
     "name": "stdout",
     "output_type": "stream",
     "text": [
      "<class 'pandas.core.frame.DataFrame'>\n",
      "RangeIndex: 21454 entries, 0 to 21453\n",
      "Data columns (total 13 columns):\n",
      " #   Column            Non-Null Count  Dtype  \n",
      "---  ------            --------------  -----  \n",
      " 0   children          21454 non-null  int64  \n",
      " 1   days_employed     21454 non-null  float64\n",
      " 2   dob_years         21454 non-null  float64\n",
      " 3   education         21454 non-null  object \n",
      " 4   education_id      21454 non-null  int64  \n",
      " 5   family_status     21454 non-null  object \n",
      " 6   family_status_id  21454 non-null  int64  \n",
      " 7   gender            21454 non-null  object \n",
      " 8   income_type       21454 non-null  object \n",
      " 9   debt              21454 non-null  int64  \n",
      " 10  total_income      21454 non-null  float64\n",
      " 11  purpose           21454 non-null  object \n",
      " 12  age_category      21454 non-null  object \n",
      "dtypes: float64(3), int64(4), object(6)\n",
      "memory usage: 2.1+ MB\n"
     ]
    }
   ],
   "source": [
    "# Memeriksa jumlah entri di kolom\n",
    "\n",
    "df.info()"
   ]
  },
  {
   "cell_type": "markdown",
   "metadata": {},
   "source": [
    "## Pengkategorian Data"
   ]
  },
  {
   "cell_type": "code",
   "execution_count": 82,
   "metadata": {
    "scrolled": false
   },
   "outputs": [
    {
     "data": {
      "text/plain": [
       "0        0\n",
       "1        0\n",
       "2        0\n",
       "3        0\n",
       "4        0\n",
       "        ..\n",
       "21449    0\n",
       "21450    0\n",
       "21451    1\n",
       "21452    1\n",
       "21453    0\n",
       "Name: debt, Length: 21454, dtype: int64"
      ]
     },
     "execution_count": 82,
     "metadata": {},
     "output_type": "execute_result"
    }
   ],
   "source": [
    "# Menampilkan kolom yang dipilih untuk pengkategorian (debt)\n",
    "\n",
    "df['debt']"
   ]
  },
  {
   "cell_type": "code",
   "execution_count": 83,
   "metadata": {},
   "outputs": [
    {
     "data": {
      "text/plain": [
       "array([0, 1])"
      ]
     },
     "execution_count": 83,
     "metadata": {},
     "output_type": "execute_result"
    }
   ],
   "source": [
    "# memeriksa nilai unik pada kolom debt \n",
    "\n",
    "df['debt'].unique()"
   ]
  },
  {
   "cell_type": "markdown",
   "metadata": {},
   "source": [
    "<div class=\"alert alert-danger\">\n",
    "<b>Reviewer's comment v1</b> <a class=\"tocSkip\"></a>\n",
    "\n",
    "Hindari penggunaan for loop untuk langkah ini.\n",
    "</div>"
   ]
  },
  {
   "cell_type": "code",
   "execution_count": 84,
   "metadata": {},
   "outputs": [],
   "source": [
    "# fungsi untuk mengkategorikan data berdasarkan nilai debtnya\n",
    "\n",
    "def replace_debt(val):\n",
    "    if val==1:\n",
    "        return 'gagal bayar'\n",
    "    elif val==0:\n",
    "        return 'tidak gagal bayar'"
   ]
  },
  {
   "cell_type": "markdown",
   "metadata": {},
   "source": [
    "<div class=\"alert alert-danger\">\n",
    "<b>Reviewer's comment v1</b> <a class=\"tocSkip\"></a>\n",
    "\n",
    "Coba pahami lagi terkait deskripsi data pada penjelasan awal terkait pernah tidaknya seseorang gagal bayar dalam berhutang.\n",
    "</div>"
   ]
  },
  {
   "cell_type": "code",
   "execution_count": 85,
   "metadata": {},
   "outputs": [
    {
     "data": {
      "text/html": [
       "<div>\n",
       "<style scoped>\n",
       "    .dataframe tbody tr th:only-of-type {\n",
       "        vertical-align: middle;\n",
       "    }\n",
       "\n",
       "    .dataframe tbody tr th {\n",
       "        vertical-align: top;\n",
       "    }\n",
       "\n",
       "    .dataframe thead th {\n",
       "        text-align: right;\n",
       "    }\n",
       "</style>\n",
       "<table border=\"1\" class=\"dataframe\">\n",
       "  <thead>\n",
       "    <tr style=\"text-align: right;\">\n",
       "      <th></th>\n",
       "      <th>children</th>\n",
       "      <th>days_employed</th>\n",
       "      <th>dob_years</th>\n",
       "      <th>education</th>\n",
       "      <th>education_id</th>\n",
       "      <th>family_status</th>\n",
       "      <th>family_status_id</th>\n",
       "      <th>gender</th>\n",
       "      <th>income_type</th>\n",
       "      <th>debt</th>\n",
       "      <th>total_income</th>\n",
       "      <th>purpose</th>\n",
       "      <th>age_category</th>\n",
       "      <th>debt_meaning</th>\n",
       "    </tr>\n",
       "  </thead>\n",
       "  <tbody>\n",
       "    <tr>\n",
       "      <th>0</th>\n",
       "      <td>1</td>\n",
       "      <td>8437.673028</td>\n",
       "      <td>42.0</td>\n",
       "      <td>bachelor's degree</td>\n",
       "      <td>0</td>\n",
       "      <td>married</td>\n",
       "      <td>0</td>\n",
       "      <td>F</td>\n",
       "      <td>employee</td>\n",
       "      <td>0</td>\n",
       "      <td>40620.102</td>\n",
       "      <td>purchase of the house</td>\n",
       "      <td>Adults</td>\n",
       "      <td>tidak gagal bayar</td>\n",
       "    </tr>\n",
       "    <tr>\n",
       "      <th>1</th>\n",
       "      <td>1</td>\n",
       "      <td>4024.803754</td>\n",
       "      <td>36.0</td>\n",
       "      <td>secondary education</td>\n",
       "      <td>1</td>\n",
       "      <td>married</td>\n",
       "      <td>0</td>\n",
       "      <td>F</td>\n",
       "      <td>employee</td>\n",
       "      <td>0</td>\n",
       "      <td>17932.802</td>\n",
       "      <td>car purchase</td>\n",
       "      <td>Adults</td>\n",
       "      <td>tidak gagal bayar</td>\n",
       "    </tr>\n",
       "    <tr>\n",
       "      <th>2</th>\n",
       "      <td>0</td>\n",
       "      <td>5623.422610</td>\n",
       "      <td>33.0</td>\n",
       "      <td>secondary education</td>\n",
       "      <td>1</td>\n",
       "      <td>married</td>\n",
       "      <td>0</td>\n",
       "      <td>M</td>\n",
       "      <td>employee</td>\n",
       "      <td>0</td>\n",
       "      <td>23341.752</td>\n",
       "      <td>purchase of the house</td>\n",
       "      <td>Adults</td>\n",
       "      <td>tidak gagal bayar</td>\n",
       "    </tr>\n",
       "    <tr>\n",
       "      <th>3</th>\n",
       "      <td>3</td>\n",
       "      <td>4124.747207</td>\n",
       "      <td>32.0</td>\n",
       "      <td>secondary education</td>\n",
       "      <td>1</td>\n",
       "      <td>married</td>\n",
       "      <td>0</td>\n",
       "      <td>M</td>\n",
       "      <td>employee</td>\n",
       "      <td>0</td>\n",
       "      <td>42820.568</td>\n",
       "      <td>supplementary education</td>\n",
       "      <td>Adults</td>\n",
       "      <td>tidak gagal bayar</td>\n",
       "    </tr>\n",
       "    <tr>\n",
       "      <th>4</th>\n",
       "      <td>0</td>\n",
       "      <td>2194.220567</td>\n",
       "      <td>53.0</td>\n",
       "      <td>secondary education</td>\n",
       "      <td>1</td>\n",
       "      <td>civil partnership</td>\n",
       "      <td>1</td>\n",
       "      <td>F</td>\n",
       "      <td>retiree</td>\n",
       "      <td>0</td>\n",
       "      <td>25378.572</td>\n",
       "      <td>to have a wedding</td>\n",
       "      <td>Adults</td>\n",
       "      <td>tidak gagal bayar</td>\n",
       "    </tr>\n",
       "  </tbody>\n",
       "</table>\n",
       "</div>"
      ],
      "text/plain": [
       "   children  days_employed  dob_years            education  education_id  \\\n",
       "0         1    8437.673028       42.0    bachelor's degree             0   \n",
       "1         1    4024.803754       36.0  secondary education             1   \n",
       "2         0    5623.422610       33.0  secondary education             1   \n",
       "3         3    4124.747207       32.0  secondary education             1   \n",
       "4         0    2194.220567       53.0  secondary education             1   \n",
       "\n",
       "       family_status  family_status_id gender income_type  debt  total_income  \\\n",
       "0            married                 0      F    employee     0     40620.102   \n",
       "1            married                 0      F    employee     0     17932.802   \n",
       "2            married                 0      M    employee     0     23341.752   \n",
       "3            married                 0      M    employee     0     42820.568   \n",
       "4  civil partnership                 1      F     retiree     0     25378.572   \n",
       "\n",
       "                   purpose age_category       debt_meaning  \n",
       "0    purchase of the house       Adults  tidak gagal bayar  \n",
       "1             car purchase       Adults  tidak gagal bayar  \n",
       "2    purchase of the house       Adults  tidak gagal bayar  \n",
       "3  supplementary education       Adults  tidak gagal bayar  \n",
       "4        to have a wedding       Adults  tidak gagal bayar  "
      ]
     },
     "execution_count": 85,
     "metadata": {},
     "output_type": "execute_result"
    }
   ],
   "source": [
    "# mengimplementasikan fungsi replace_debt \n",
    "\n",
    "df['debt_meaning'] = df['debt'].apply(replace_debt)\n",
    "df.head()"
   ]
  },
  {
   "cell_type": "code",
   "execution_count": 86,
   "metadata": {},
   "outputs": [
    {
     "data": {
      "text/plain": [
       "tidak gagal bayar    19713\n",
       "gagal bayar           1741\n",
       "Name: debt_meaning, dtype: int64"
      ]
     },
     "execution_count": 86,
     "metadata": {},
     "output_type": "execute_result"
    }
   ],
   "source": [
    "# Menghitung setiap nilai debt_meaning untuk melihat pendistribusian\n",
    "\n",
    "df['debt_meaning'].value_counts()"
   ]
  },
  {
   "cell_type": "code",
   "execution_count": 87,
   "metadata": {},
   "outputs": [
    {
     "data": {
      "text/plain": [
       "0        40620.102\n",
       "1        17932.802\n",
       "2        23341.752\n",
       "3        42820.568\n",
       "4        25378.572\n",
       "           ...    \n",
       "21449    35966.698\n",
       "21450    24959.969\n",
       "21451    14347.610\n",
       "21452    39054.888\n",
       "21453    13127.587\n",
       "Name: total_income, Length: 21454, dtype: float64"
      ]
     },
     "execution_count": 87,
     "metadata": {},
     "output_type": "execute_result"
    }
   ],
   "source": [
    "# Menampilkan komom yang dipilih untuk pengkategorian (total_income)\n",
    "\n",
    "df['total_income']"
   ]
  },
  {
   "cell_type": "code",
   "execution_count": 88,
   "metadata": {},
   "outputs": [
    {
     "data": {
      "text/plain": [
       "array([40620.102, 17932.802, 23341.752, ..., 14347.61 , 39054.888,\n",
       "       13127.587])"
      ]
     },
     "execution_count": 88,
     "metadata": {},
     "output_type": "execute_result"
    }
   ],
   "source": [
    "# memeriksa nilai unik pada kolom total_income\n",
    "\n",
    "df['total_income'].unique()"
   ]
  },
  {
   "cell_type": "code",
   "execution_count": 89,
   "metadata": {},
   "outputs": [
    {
     "data": {
      "text/plain": [
       "count     21454.000000\n",
       "mean      26788.328876\n",
       "std       15653.145234\n",
       "min        3306.762000\n",
       "25%       17219.817250\n",
       "50%       24671.402000\n",
       "75%       31330.237250\n",
       "max      362496.645000\n",
       "Name: total_income, dtype: float64"
      ]
     },
     "execution_count": 89,
     "metadata": {},
     "output_type": "execute_result"
    }
   ],
   "source": [
    "# Mendapatkan kesimpulan statistik untuk kolom total_income\n",
    "\n",
    "df['total_income'].describe()"
   ]
  },
  {
   "cell_type": "markdown",
   "metadata": {},
   "source": [
    "Pengkategorian pendapatan dilakukan berdasarkan [situs](https://blogs.worldbank.org/opendata/new-world-bank-country-classifications-income-level-2021-2022) ini"
   ]
  },
  {
   "cell_type": "code",
   "execution_count": 90,
   "metadata": {},
   "outputs": [],
   "source": [
    "# Membuat fungsi untuk mengkategorikan pemasukan\n",
    "\n",
    "def income_category(val):\n",
    "    if val < 1035:\n",
    "        return 'low income' \n",
    "    elif (val >= 1035) & (val <= 4045):\n",
    "        return 'lower-middle income'\n",
    "    elif (val >= 4046) & (val <= 12535):\n",
    "        return 'upper-middle income'\n",
    "    elif val > 12535:\n",
    "        return 'high income'"
   ]
  },
  {
   "cell_type": "code",
   "execution_count": 91,
   "metadata": {},
   "outputs": [],
   "source": [
    "# Mengaplikasikan fungsi ke kolom baru\n",
    "\n",
    "df['income_category'] = df['total_income'].apply(income_category)"
   ]
  },
  {
   "cell_type": "code",
   "execution_count": 92,
   "metadata": {},
   "outputs": [
    {
     "data": {
      "text/plain": [
       "high income            19345\n",
       "upper-middle income     2100\n",
       "lower-middle income        9\n",
       "Name: income_category, dtype: int64"
      ]
     },
     "execution_count": 92,
     "metadata": {},
     "output_type": "execute_result"
    }
   ],
   "source": [
    "# menghitung nilai di kolom baru\n",
    "\n",
    "df['income_category'].value_counts()"
   ]
  },
  {
   "cell_type": "code",
   "execution_count": 93,
   "metadata": {},
   "outputs": [
    {
     "data": {
      "text/plain": [
       "0          purchase of the house\n",
       "1                   car purchase\n",
       "2          purchase of the house\n",
       "3        supplementary education\n",
       "4              to have a wedding\n",
       "                  ...           \n",
       "21449       housing transactions\n",
       "21450          purchase of a car\n",
       "21451                   property\n",
       "21452          buying my own car\n",
       "21453               to buy a car\n",
       "Name: purpose, Length: 21454, dtype: object"
      ]
     },
     "execution_count": 93,
     "metadata": {},
     "output_type": "execute_result"
    }
   ],
   "source": [
    "# Menampilkan komom yang dipilih untuk pengkategorian (purpose)\n",
    "\n",
    "df['purpose']"
   ]
  },
  {
   "cell_type": "code",
   "execution_count": 94,
   "metadata": {},
   "outputs": [
    {
     "data": {
      "text/plain": [
       "array(['purchase of the house', 'car purchase', 'supplementary education',\n",
       "       'to have a wedding', 'housing transactions', 'education',\n",
       "       'having a wedding', 'purchase of the house for my family',\n",
       "       'buy real estate', 'buy commercial real estate',\n",
       "       'buy residential real estate', 'construction of own property',\n",
       "       'property', 'building a property', 'buying a second-hand car',\n",
       "       'buying my own car', 'transactions with commercial real estate',\n",
       "       'building a real estate', 'housing',\n",
       "       'transactions with my real estate', 'cars', 'to become educated',\n",
       "       'second-hand car purchase', 'getting an education', 'car',\n",
       "       'wedding ceremony', 'to get a supplementary education',\n",
       "       'purchase of my own house', 'real estate transactions',\n",
       "       'getting higher education', 'to own a car', 'purchase of a car',\n",
       "       'profile education', 'university education',\n",
       "       'buying property for renting out', 'to buy a car',\n",
       "       'housing renovation', 'going to university'], dtype=object)"
      ]
     },
     "execution_count": 94,
     "metadata": {},
     "output_type": "execute_result"
    }
   ],
   "source": [
    "# memeriksa nilai unik pada kolom purpose\n",
    "\n",
    "df['purpose'].unique()"
   ]
  },
  {
   "cell_type": "code",
   "execution_count": 95,
   "metadata": {},
   "outputs": [],
   "source": [
    "# mengkategorikan purpose\n",
    "\n",
    "df.loc[df['purpose'].isin(['purchase of the house', 'housing transactions', 'purchase of the house for my family', 'housing', 'purchase of my own house', 'housing renovation']), 'purpose'] = 'house'\n",
    "df.loc[df['purpose'].isin(['car purchase', 'second-hand car purchase', 'buying a second-hand car', 'buying my own car', 'cars', 'car', 'to own a car', 'purchase of a car', 'to buy a car']), 'purpose'] = 'car'\n",
    "df.loc[df['purpose'].isin(['supplementary education', 'education', 'to become educated', 'getting an education', 'to get a supplementary education', 'getting higher education', 'profile education', 'university education', 'going to university']), 'purpose'] = 'education'\n",
    "df.loc[df['purpose'].isin(['buy real estate', 'buy commercial real estate', 'buy residential real estate', 'transactions with commercial real estate', 'building a real estate', 'transactions with my real estate', 'real estate transactions', 'buying property for renting out']), 'purpose'] = 'realestate'\n",
    "df.loc[df['purpose'].isin(['construction of own property', 'property', 'building a property',]), 'purpose'] = 'property'\n",
    "df.loc[df['purpose'].isin(['to have a wedding', 'having a wedding', 'wedding ceremony']), 'purpose'] = 'wedding'"
   ]
  },
  {
   "cell_type": "code",
   "execution_count": 96,
   "metadata": {},
   "outputs": [
    {
     "data": {
      "text/plain": [
       "realestate    5115\n",
       "car           4306\n",
       "education     4013\n",
       "house         3809\n",
       "wedding       2324\n",
       "property      1887\n",
       "Name: purpose, dtype: int64"
      ]
     },
     "execution_count": 96,
     "metadata": {},
     "output_type": "execute_result"
    }
   ],
   "source": [
    "df['purpose'].value_counts()"
   ]
  },
  {
   "cell_type": "markdown",
   "metadata": {},
   "source": [
    "<div class=\"alert alert-danger\">\n",
    "<b>Reviewer's comment v1</b> <a class=\"tocSkip\"></a>\n",
    "\n",
    "Hindari penggunaan for loop untuk langkah ini.\n",
    "</div>"
   ]
  },
  {
   "cell_type": "markdown",
   "metadata": {},
   "source": [
    "## Memeriksa Hipotesis\n"
   ]
  },
  {
   "cell_type": "markdown",
   "metadata": {},
   "source": [
    "**Apakah terdapat korelasi antara memiliki anak dengan membayar kembali tepat waktu?**"
   ]
  },
  {
   "cell_type": "code",
   "execution_count": 97,
   "metadata": {
    "scrolled": false
   },
   "outputs": [
    {
     "data": {
      "text/html": [
       "<div>\n",
       "<style scoped>\n",
       "    .dataframe tbody tr th:only-of-type {\n",
       "        vertical-align: middle;\n",
       "    }\n",
       "\n",
       "    .dataframe tbody tr th {\n",
       "        vertical-align: top;\n",
       "    }\n",
       "\n",
       "    .dataframe thead th {\n",
       "        text-align: right;\n",
       "    }\n",
       "</style>\n",
       "<table border=\"1\" class=\"dataframe\">\n",
       "  <thead>\n",
       "    <tr style=\"text-align: right;\">\n",
       "      <th></th>\n",
       "      <th>children</th>\n",
       "      <th>debt</th>\n",
       "    </tr>\n",
       "  </thead>\n",
       "  <tbody>\n",
       "    <tr>\n",
       "      <th>0</th>\n",
       "      <td>1</td>\n",
       "      <td>0</td>\n",
       "    </tr>\n",
       "    <tr>\n",
       "      <th>1</th>\n",
       "      <td>1</td>\n",
       "      <td>0</td>\n",
       "    </tr>\n",
       "    <tr>\n",
       "      <th>2</th>\n",
       "      <td>0</td>\n",
       "      <td>0</td>\n",
       "    </tr>\n",
       "    <tr>\n",
       "      <th>3</th>\n",
       "      <td>3</td>\n",
       "      <td>0</td>\n",
       "    </tr>\n",
       "    <tr>\n",
       "      <th>4</th>\n",
       "      <td>0</td>\n",
       "      <td>0</td>\n",
       "    </tr>\n",
       "    <tr>\n",
       "      <th>...</th>\n",
       "      <td>...</td>\n",
       "      <td>...</td>\n",
       "    </tr>\n",
       "    <tr>\n",
       "      <th>21449</th>\n",
       "      <td>1</td>\n",
       "      <td>0</td>\n",
       "    </tr>\n",
       "    <tr>\n",
       "      <th>21450</th>\n",
       "      <td>0</td>\n",
       "      <td>0</td>\n",
       "    </tr>\n",
       "    <tr>\n",
       "      <th>21451</th>\n",
       "      <td>1</td>\n",
       "      <td>1</td>\n",
       "    </tr>\n",
       "    <tr>\n",
       "      <th>21452</th>\n",
       "      <td>3</td>\n",
       "      <td>1</td>\n",
       "    </tr>\n",
       "    <tr>\n",
       "      <th>21453</th>\n",
       "      <td>2</td>\n",
       "      <td>0</td>\n",
       "    </tr>\n",
       "  </tbody>\n",
       "</table>\n",
       "<p>21454 rows × 2 columns</p>\n",
       "</div>"
      ],
      "text/plain": [
       "       children  debt\n",
       "0             1     0\n",
       "1             1     0\n",
       "2             0     0\n",
       "3             3     0\n",
       "4             0     0\n",
       "...         ...   ...\n",
       "21449         1     0\n",
       "21450         0     0\n",
       "21451         1     1\n",
       "21452         3     1\n",
       "21453         2     0\n",
       "\n",
       "[21454 rows x 2 columns]"
      ]
     },
     "execution_count": 97,
     "metadata": {},
     "output_type": "execute_result"
    }
   ],
   "source": [
    "# Memeriksa data children dan debt\n",
    "\n",
    "df[['children', 'debt']]"
   ]
  },
  {
   "cell_type": "code",
   "execution_count": 98,
   "metadata": {},
   "outputs": [
    {
     "data": {
      "text/html": [
       "<div>\n",
       "<style scoped>\n",
       "    .dataframe tbody tr th:only-of-type {\n",
       "        vertical-align: middle;\n",
       "    }\n",
       "\n",
       "    .dataframe tbody tr th {\n",
       "        vertical-align: top;\n",
       "    }\n",
       "\n",
       "    .dataframe thead th {\n",
       "        text-align: right;\n",
       "    }\n",
       "</style>\n",
       "<table border=\"1\" class=\"dataframe\">\n",
       "  <thead>\n",
       "    <tr style=\"text-align: right;\">\n",
       "      <th>debt</th>\n",
       "      <th>children</th>\n",
       "      <th>0</th>\n",
       "      <th>1</th>\n",
       "      <th>percentage</th>\n",
       "    </tr>\n",
       "  </thead>\n",
       "  <tbody>\n",
       "    <tr>\n",
       "      <th>0</th>\n",
       "      <td>0</td>\n",
       "      <td>13028.0</td>\n",
       "      <td>1063.0</td>\n",
       "      <td>7.54</td>\n",
       "    </tr>\n",
       "    <tr>\n",
       "      <th>1</th>\n",
       "      <td>1</td>\n",
       "      <td>4410.0</td>\n",
       "      <td>445.0</td>\n",
       "      <td>9.17</td>\n",
       "    </tr>\n",
       "    <tr>\n",
       "      <th>2</th>\n",
       "      <td>2</td>\n",
       "      <td>1926.0</td>\n",
       "      <td>202.0</td>\n",
       "      <td>9.49</td>\n",
       "    </tr>\n",
       "    <tr>\n",
       "      <th>3</th>\n",
       "      <td>3</td>\n",
       "      <td>303.0</td>\n",
       "      <td>27.0</td>\n",
       "      <td>8.18</td>\n",
       "    </tr>\n",
       "    <tr>\n",
       "      <th>4</th>\n",
       "      <td>4</td>\n",
       "      <td>37.0</td>\n",
       "      <td>4.0</td>\n",
       "      <td>9.76</td>\n",
       "    </tr>\n",
       "    <tr>\n",
       "      <th>5</th>\n",
       "      <td>5</td>\n",
       "      <td>9.0</td>\n",
       "      <td>NaN</td>\n",
       "      <td>NaN</td>\n",
       "    </tr>\n",
       "  </tbody>\n",
       "</table>\n",
       "</div>"
      ],
      "text/plain": [
       "debt  children        0       1  percentage\n",
       "0            0  13028.0  1063.0        7.54\n",
       "1            1   4410.0   445.0        9.17\n",
       "2            2   1926.0   202.0        9.49\n",
       "3            3    303.0    27.0        8.18\n",
       "4            4     37.0     4.0        9.76\n",
       "5            5      9.0     NaN         NaN"
      ]
     },
     "execution_count": 98,
     "metadata": {},
     "output_type": "execute_result"
    }
   ],
   "source": [
    "# Menghitung default rate berdasarkan jumlah anak\n",
    "\n",
    "pivot_children = pd.pivot_table(df, index='children', columns='debt',  values='education', aggfunc='count')\n",
    "pivot_children.reset_index(inplace=True)\n",
    "pivot_children['percentage'] = round(pivot_children[1] / (pivot_children[0] + pivot_children[1]) * 100, 2)\n",
    "pivot_children"
   ]
  },
  {
   "cell_type": "markdown",
   "metadata": {},
   "source": [
    "<div class=\"alert alert-danger\">\n",
    "<b>Reviewer's comment v1</b> <a class=\"tocSkip\"></a>\n",
    "\n",
    "Hindari penggunaan multipel output pada satu sel. Bisa digunakan pivot tabel untuk menggabung kedua output tersebut yang berisi gabungan antara proporsi dua kategori pada kolom debt terhadap kategori jumlah anak serta persentase yang pernah gagal bayar terhadap keseluruhan.\n",
    "    \n",
    "Penggunaan `mean` disini hanya kebetulan semata terkait mapping nilai 0 dan 1 terhadap kategori gagal bayar tidaknya.\n",
    "</div>"
   ]
  },
  {
   "cell_type": "markdown",
   "metadata": {},
   "source": [
    "<div class=\"alert alert-success\">\n",
    "<b>Reviewer's comment v2</b> <a class=\"tocSkip\"></a>\n",
    "\n",
    "Well-done!\n",
    "</div>"
   ]
  },
  {
   "cell_type": "markdown",
   "metadata": {},
   "source": [
    "**Kesimpulan**\n",
    "\n",
    "Nasabah dengan 5 anak persentase gagal bayarnya paling rendah, tetapi jumlah datanya sangat sedikit. Nasabah yang tidak memiliki anak menempati persentase gagal bayarnya paling rendah ke 2, dilanjutkan dengan nasabah ber anak 1, 3, 2, kemudian 4. Ditemukan bahwa nasabah dengan jumlah anak yang lebih sedikit cenderung memiliki persentase gagal bayar yang lebih rendah."
   ]
  },
  {
   "cell_type": "markdown",
   "metadata": {},
   "source": [
    "**Apakah terdapat korelasi antara status keluarga dengan membayar kembali tepat waktu?**"
   ]
  },
  {
   "cell_type": "code",
   "execution_count": 99,
   "metadata": {},
   "outputs": [
    {
     "name": "stdout",
     "output_type": "stream",
     "text": [
      "           family_status  debt\n",
      "0                married     0\n",
      "1                married     0\n",
      "2                married     0\n",
      "3                married     0\n",
      "4      civil partnership     0\n",
      "...                  ...   ...\n",
      "21449  civil partnership     0\n",
      "21450            married     0\n",
      "21451  civil partnership     1\n",
      "21452            married     1\n",
      "21453            married     0\n",
      "\n",
      "[21454 rows x 2 columns]\n"
     ]
    }
   ],
   "source": [
    "# Memeriksa data family_status dan debt\n",
    "\n",
    "print(df[['family_status', 'debt']])"
   ]
  },
  {
   "cell_type": "code",
   "execution_count": 100,
   "metadata": {
    "scrolled": true
   },
   "outputs": [
    {
     "data": {
      "text/html": [
       "<div>\n",
       "<style scoped>\n",
       "    .dataframe tbody tr th:only-of-type {\n",
       "        vertical-align: middle;\n",
       "    }\n",
       "\n",
       "    .dataframe tbody tr th {\n",
       "        vertical-align: top;\n",
       "    }\n",
       "\n",
       "    .dataframe thead th {\n",
       "        text-align: right;\n",
       "    }\n",
       "</style>\n",
       "<table border=\"1\" class=\"dataframe\">\n",
       "  <thead>\n",
       "    <tr style=\"text-align: right;\">\n",
       "      <th>debt</th>\n",
       "      <th>family_status</th>\n",
       "      <th>0</th>\n",
       "      <th>1</th>\n",
       "      <th>percentage</th>\n",
       "    </tr>\n",
       "  </thead>\n",
       "  <tbody>\n",
       "    <tr>\n",
       "      <th>0</th>\n",
       "      <td>civil partnership</td>\n",
       "      <td>3763</td>\n",
       "      <td>388</td>\n",
       "      <td>9.35</td>\n",
       "    </tr>\n",
       "    <tr>\n",
       "      <th>1</th>\n",
       "      <td>divorced</td>\n",
       "      <td>1110</td>\n",
       "      <td>85</td>\n",
       "      <td>7.11</td>\n",
       "    </tr>\n",
       "    <tr>\n",
       "      <th>2</th>\n",
       "      <td>married</td>\n",
       "      <td>11408</td>\n",
       "      <td>931</td>\n",
       "      <td>7.55</td>\n",
       "    </tr>\n",
       "    <tr>\n",
       "      <th>3</th>\n",
       "      <td>unmarried</td>\n",
       "      <td>2536</td>\n",
       "      <td>274</td>\n",
       "      <td>9.75</td>\n",
       "    </tr>\n",
       "    <tr>\n",
       "      <th>4</th>\n",
       "      <td>widow / widower</td>\n",
       "      <td>896</td>\n",
       "      <td>63</td>\n",
       "      <td>6.57</td>\n",
       "    </tr>\n",
       "  </tbody>\n",
       "</table>\n",
       "</div>"
      ],
      "text/plain": [
       "debt      family_status      0    1  percentage\n",
       "0     civil partnership   3763  388        9.35\n",
       "1              divorced   1110   85        7.11\n",
       "2               married  11408  931        7.55\n",
       "3             unmarried   2536  274        9.75\n",
       "4       widow / widower    896   63        6.57"
      ]
     },
     "execution_count": 100,
     "metadata": {},
     "output_type": "execute_result"
    }
   ],
   "source": [
    "# Menghitung default rate berdasarkan family_status\n",
    "\n",
    "pivot_family = pd.pivot_table(df, index='family_status', columns='debt',  values='education', aggfunc='count')\n",
    "pivot_family.reset_index(inplace=True)\n",
    "pivot_family['percentage'] = round(pivot_family[1] / (pivot_family[0] + pivot_family[1]) * 100, 2)\n",
    "pivot_family"
   ]
  },
  {
   "cell_type": "markdown",
   "metadata": {},
   "source": [
    "**Kesimpulan**\n",
    "\n",
    "Nasabah yang berstatus widow / widower memiliki persentase gagal bayar yang paling rendah, sedangkan nasabah dengan status unmarried memiliki persentase gagal bayar tertinggi. Berdasarkan tabel di atas, dapat disimpulkan bahwa nasabah yang sudah pernah menikah (married, divorced, dan widow / widower) memiliki memiliki persentase gagal bayar yang lebih kecil dibandingkan yang belum pernah menikah (civil partnership dan unmarried)"
   ]
  },
  {
   "cell_type": "markdown",
   "metadata": {},
   "source": [
    "<div class=\"alert alert-danger\">\n",
    "<b>Reviewer's comment v1</b> <a class=\"tocSkip\"></a>\n",
    "\n",
    "Coba cek review pada pertanyaan pertama.\n",
    "</div>"
   ]
  },
  {
   "cell_type": "markdown",
   "metadata": {},
   "source": [
    "**Apakah terdapat korelasi antara tingkat pendapatan dengan membayar kembali tepat waktu?**"
   ]
  },
  {
   "cell_type": "code",
   "execution_count": 101,
   "metadata": {},
   "outputs": [
    {
     "data": {
      "text/html": [
       "<div>\n",
       "<style scoped>\n",
       "    .dataframe tbody tr th:only-of-type {\n",
       "        vertical-align: middle;\n",
       "    }\n",
       "\n",
       "    .dataframe tbody tr th {\n",
       "        vertical-align: top;\n",
       "    }\n",
       "\n",
       "    .dataframe thead th {\n",
       "        text-align: right;\n",
       "    }\n",
       "</style>\n",
       "<table border=\"1\" class=\"dataframe\">\n",
       "  <thead>\n",
       "    <tr style=\"text-align: right;\">\n",
       "      <th></th>\n",
       "      <th>income_category</th>\n",
       "      <th>debt</th>\n",
       "    </tr>\n",
       "  </thead>\n",
       "  <tbody>\n",
       "    <tr>\n",
       "      <th>0</th>\n",
       "      <td>high income</td>\n",
       "      <td>0</td>\n",
       "    </tr>\n",
       "    <tr>\n",
       "      <th>1</th>\n",
       "      <td>high income</td>\n",
       "      <td>0</td>\n",
       "    </tr>\n",
       "    <tr>\n",
       "      <th>2</th>\n",
       "      <td>high income</td>\n",
       "      <td>0</td>\n",
       "    </tr>\n",
       "    <tr>\n",
       "      <th>3</th>\n",
       "      <td>high income</td>\n",
       "      <td>0</td>\n",
       "    </tr>\n",
       "    <tr>\n",
       "      <th>4</th>\n",
       "      <td>high income</td>\n",
       "      <td>0</td>\n",
       "    </tr>\n",
       "    <tr>\n",
       "      <th>...</th>\n",
       "      <td>...</td>\n",
       "      <td>...</td>\n",
       "    </tr>\n",
       "    <tr>\n",
       "      <th>21449</th>\n",
       "      <td>high income</td>\n",
       "      <td>0</td>\n",
       "    </tr>\n",
       "    <tr>\n",
       "      <th>21450</th>\n",
       "      <td>high income</td>\n",
       "      <td>0</td>\n",
       "    </tr>\n",
       "    <tr>\n",
       "      <th>21451</th>\n",
       "      <td>high income</td>\n",
       "      <td>1</td>\n",
       "    </tr>\n",
       "    <tr>\n",
       "      <th>21452</th>\n",
       "      <td>high income</td>\n",
       "      <td>1</td>\n",
       "    </tr>\n",
       "    <tr>\n",
       "      <th>21453</th>\n",
       "      <td>high income</td>\n",
       "      <td>0</td>\n",
       "    </tr>\n",
       "  </tbody>\n",
       "</table>\n",
       "<p>21454 rows × 2 columns</p>\n",
       "</div>"
      ],
      "text/plain": [
       "      income_category  debt\n",
       "0         high income     0\n",
       "1         high income     0\n",
       "2         high income     0\n",
       "3         high income     0\n",
       "4         high income     0\n",
       "...               ...   ...\n",
       "21449     high income     0\n",
       "21450     high income     0\n",
       "21451     high income     1\n",
       "21452     high income     1\n",
       "21453     high income     0\n",
       "\n",
       "[21454 rows x 2 columns]"
      ]
     },
     "execution_count": 101,
     "metadata": {},
     "output_type": "execute_result"
    }
   ],
   "source": [
    "# memeriksa data income_category dan debt\n",
    " \n",
    "df[['income_category', 'debt']]"
   ]
  },
  {
   "cell_type": "code",
   "execution_count": 102,
   "metadata": {
    "scrolled": true
   },
   "outputs": [
    {
     "data": {
      "text/html": [
       "<div>\n",
       "<style scoped>\n",
       "    .dataframe tbody tr th:only-of-type {\n",
       "        vertical-align: middle;\n",
       "    }\n",
       "\n",
       "    .dataframe tbody tr th {\n",
       "        vertical-align: top;\n",
       "    }\n",
       "\n",
       "    .dataframe thead th {\n",
       "        text-align: right;\n",
       "    }\n",
       "</style>\n",
       "<table border=\"1\" class=\"dataframe\">\n",
       "  <thead>\n",
       "    <tr style=\"text-align: right;\">\n",
       "      <th>debt</th>\n",
       "      <th>income_category</th>\n",
       "      <th>0</th>\n",
       "      <th>1</th>\n",
       "      <th>percentage</th>\n",
       "    </tr>\n",
       "  </thead>\n",
       "  <tbody>\n",
       "    <tr>\n",
       "      <th>0</th>\n",
       "      <td>high income</td>\n",
       "      <td>17758</td>\n",
       "      <td>1587</td>\n",
       "      <td>8.20</td>\n",
       "    </tr>\n",
       "    <tr>\n",
       "      <th>1</th>\n",
       "      <td>lower-middle income</td>\n",
       "      <td>8</td>\n",
       "      <td>1</td>\n",
       "      <td>11.11</td>\n",
       "    </tr>\n",
       "    <tr>\n",
       "      <th>2</th>\n",
       "      <td>upper-middle income</td>\n",
       "      <td>1947</td>\n",
       "      <td>153</td>\n",
       "      <td>7.29</td>\n",
       "    </tr>\n",
       "  </tbody>\n",
       "</table>\n",
       "</div>"
      ],
      "text/plain": [
       "debt      income_category      0     1  percentage\n",
       "0             high income  17758  1587        8.20\n",
       "1     lower-middle income      8     1       11.11\n",
       "2     upper-middle income   1947   153        7.29"
      ]
     },
     "execution_count": 102,
     "metadata": {},
     "output_type": "execute_result"
    }
   ],
   "source": [
    "# Menghitung default rate berdasarkan income_category\n",
    "\n",
    "pivot_income = pd.pivot_table(df, index='income_category', columns='debt',  values='education', aggfunc='count')\n",
    "pivot_income.reset_index(inplace=True)\n",
    "pivot_income['percentage'] = round(pivot_income[1] / (pivot_income[0] + pivot_income[1]) * 100, 2)\n",
    "pivot_income"
   ]
  },
  {
   "cell_type": "markdown",
   "metadata": {},
   "source": [
    "**Kesimpulan**\n",
    "\n",
    "Nasabah dengan lower-middle income memiliki persentase gagal yang paling besar, tetapi datanya sangat sedikit. Dari tabel tersebut dapat diketahui bahwa semakin tinggi pendapatan nasabah, maka semakin rendah persentase gagal bayarnya"
   ]
  },
  {
   "cell_type": "markdown",
   "metadata": {},
   "source": [
    "**Bagaimana tujuan kredit memengaruhi default rate?**"
   ]
  },
  {
   "cell_type": "code",
   "execution_count": 103,
   "metadata": {},
   "outputs": [
    {
     "data": {
      "text/html": [
       "<div>\n",
       "<style scoped>\n",
       "    .dataframe tbody tr th:only-of-type {\n",
       "        vertical-align: middle;\n",
       "    }\n",
       "\n",
       "    .dataframe tbody tr th {\n",
       "        vertical-align: top;\n",
       "    }\n",
       "\n",
       "    .dataframe thead th {\n",
       "        text-align: right;\n",
       "    }\n",
       "</style>\n",
       "<table border=\"1\" class=\"dataframe\">\n",
       "  <thead>\n",
       "    <tr style=\"text-align: right;\">\n",
       "      <th></th>\n",
       "      <th>purpose</th>\n",
       "      <th>debt</th>\n",
       "    </tr>\n",
       "  </thead>\n",
       "  <tbody>\n",
       "    <tr>\n",
       "      <th>0</th>\n",
       "      <td>house</td>\n",
       "      <td>0</td>\n",
       "    </tr>\n",
       "    <tr>\n",
       "      <th>1</th>\n",
       "      <td>car</td>\n",
       "      <td>0</td>\n",
       "    </tr>\n",
       "    <tr>\n",
       "      <th>2</th>\n",
       "      <td>house</td>\n",
       "      <td>0</td>\n",
       "    </tr>\n",
       "    <tr>\n",
       "      <th>3</th>\n",
       "      <td>education</td>\n",
       "      <td>0</td>\n",
       "    </tr>\n",
       "    <tr>\n",
       "      <th>4</th>\n",
       "      <td>wedding</td>\n",
       "      <td>0</td>\n",
       "    </tr>\n",
       "    <tr>\n",
       "      <th>...</th>\n",
       "      <td>...</td>\n",
       "      <td>...</td>\n",
       "    </tr>\n",
       "    <tr>\n",
       "      <th>21449</th>\n",
       "      <td>house</td>\n",
       "      <td>0</td>\n",
       "    </tr>\n",
       "    <tr>\n",
       "      <th>21450</th>\n",
       "      <td>car</td>\n",
       "      <td>0</td>\n",
       "    </tr>\n",
       "    <tr>\n",
       "      <th>21451</th>\n",
       "      <td>property</td>\n",
       "      <td>1</td>\n",
       "    </tr>\n",
       "    <tr>\n",
       "      <th>21452</th>\n",
       "      <td>car</td>\n",
       "      <td>1</td>\n",
       "    </tr>\n",
       "    <tr>\n",
       "      <th>21453</th>\n",
       "      <td>car</td>\n",
       "      <td>0</td>\n",
       "    </tr>\n",
       "  </tbody>\n",
       "</table>\n",
       "<p>21454 rows × 2 columns</p>\n",
       "</div>"
      ],
      "text/plain": [
       "         purpose  debt\n",
       "0          house     0\n",
       "1            car     0\n",
       "2          house     0\n",
       "3      education     0\n",
       "4        wedding     0\n",
       "...          ...   ...\n",
       "21449      house     0\n",
       "21450        car     0\n",
       "21451   property     1\n",
       "21452        car     1\n",
       "21453        car     0\n",
       "\n",
       "[21454 rows x 2 columns]"
      ]
     },
     "execution_count": 103,
     "metadata": {},
     "output_type": "execute_result"
    }
   ],
   "source": [
    "# memeriksa data income_category dan debt\n",
    " \n",
    "df[['purpose', 'debt']]"
   ]
  },
  {
   "cell_type": "code",
   "execution_count": 104,
   "metadata": {
    "scrolled": true
   },
   "outputs": [
    {
     "data": {
      "text/html": [
       "<div>\n",
       "<style scoped>\n",
       "    .dataframe tbody tr th:only-of-type {\n",
       "        vertical-align: middle;\n",
       "    }\n",
       "\n",
       "    .dataframe tbody tr th {\n",
       "        vertical-align: top;\n",
       "    }\n",
       "\n",
       "    .dataframe thead th {\n",
       "        text-align: right;\n",
       "    }\n",
       "</style>\n",
       "<table border=\"1\" class=\"dataframe\">\n",
       "  <thead>\n",
       "    <tr style=\"text-align: right;\">\n",
       "      <th>debt</th>\n",
       "      <th>purpose</th>\n",
       "      <th>0</th>\n",
       "      <th>1</th>\n",
       "      <th>percentage</th>\n",
       "    </tr>\n",
       "  </thead>\n",
       "  <tbody>\n",
       "    <tr>\n",
       "      <th>0</th>\n",
       "      <td>car</td>\n",
       "      <td>3903</td>\n",
       "      <td>403</td>\n",
       "      <td>9.36</td>\n",
       "    </tr>\n",
       "    <tr>\n",
       "      <th>1</th>\n",
       "      <td>education</td>\n",
       "      <td>3643</td>\n",
       "      <td>370</td>\n",
       "      <td>9.22</td>\n",
       "    </tr>\n",
       "    <tr>\n",
       "      <th>2</th>\n",
       "      <td>house</td>\n",
       "      <td>3553</td>\n",
       "      <td>256</td>\n",
       "      <td>6.72</td>\n",
       "    </tr>\n",
       "    <tr>\n",
       "      <th>3</th>\n",
       "      <td>property</td>\n",
       "      <td>1749</td>\n",
       "      <td>138</td>\n",
       "      <td>7.31</td>\n",
       "    </tr>\n",
       "    <tr>\n",
       "      <th>4</th>\n",
       "      <td>realestate</td>\n",
       "      <td>4727</td>\n",
       "      <td>388</td>\n",
       "      <td>7.59</td>\n",
       "    </tr>\n",
       "    <tr>\n",
       "      <th>5</th>\n",
       "      <td>wedding</td>\n",
       "      <td>2138</td>\n",
       "      <td>186</td>\n",
       "      <td>8.00</td>\n",
       "    </tr>\n",
       "  </tbody>\n",
       "</table>\n",
       "</div>"
      ],
      "text/plain": [
       "debt     purpose     0    1  percentage\n",
       "0            car  3903  403        9.36\n",
       "1      education  3643  370        9.22\n",
       "2          house  3553  256        6.72\n",
       "3       property  1749  138        7.31\n",
       "4     realestate  4727  388        7.59\n",
       "5        wedding  2138  186        8.00"
      ]
     },
     "execution_count": 104,
     "metadata": {},
     "output_type": "execute_result"
    }
   ],
   "source": [
    "# Menghitung default rate berdasarkan purpose\n",
    "\n",
    "pivot_purpose = pd.pivot_table(df, index='purpose', columns='debt',  values='education', aggfunc='count')\n",
    "pivot_purpose.reset_index(inplace=True)\n",
    "pivot_purpose['percentage'] = round(pivot_purpose[1] / (pivot_purpose[0] + pivot_purpose[1]) * 100, 2)\n",
    "pivot_purpose"
   ]
  },
  {
   "cell_type": "markdown",
   "metadata": {},
   "source": [
    "<div class=\"alert alert-danger\">\n",
    "<b>Reviewer's comment v1</b> <a class=\"tocSkip\"></a>\n",
    "\n",
    "Coba cek review pada pertanyaan pertama. Sebaiknya terkait purpose dapat dilakukan pengkategorian pada tahap sebelumnya.\n",
    "</div>"
   ]
  },
  {
   "cell_type": "markdown",
   "metadata": {},
   "source": [
    "**Kesimpulan**\n",
    "\n",
    "Nasabah dengan tujuan 'rumah' memiliki persentase gagal bayar yang paling rendah, sedangkan nasabah dengan tujuan car  dan education memiliki kecenderungan gagal bayar yang tinggi. Dari data tersebut didapati bahwa nasabah dengan tujuan membelanjakan uangnya ke bidang bangunan (rumah, properti, atau realestate) memiliki persentase gagal bayar yang lebih kecil dibandingkan tujuan lain"
   ]
  },
  {
   "cell_type": "markdown",
   "metadata": {},
   "source": [
    "# Kesimpulan Umum \n",
    "\n",
    "1. Eksplorasi data\n",
    "Langkah pertama yaitu mengimport library, read data, serta memahami data. Hal ini bisa dilakukan dengan cara membaca dictionary data serta menggunakan beberapa metode bawaan python seperti info(), describe(), dll. Setelah mengecek data, ternyata terdapat nilai kosong pada kolom `days_employed` dan `total_income`. Melihat dari distribusi nilai yang hilang, dugaan sementara yaitu nilai kosong tersebut berpola. Langkah selanjutnya yaitu memeriksa persentase nilai yang hilang dengan seluruh kumpulan data, kemudian membandingkan value dan distribusi antara data seluruh dataset dengan data yang terfilter berdasarkan nilai kosong. Berdasarkan proses tersebut, didapati bahwa terdapat perbedaan di beberapa kolom dan dapat disimpulkan bahwa hilangnya nilai dalam data dikarenakan kesalahan pada sistem saat proses mendapatkan data pada kolom `days_employed` dan `total_income`. \n",
    "2. Transformasi data\n",
    "Langkah selanjutnya adalah mencari dan mengatasi nilai yang bermasalah pada data (register yang berbeda, nilai yang tidak rasional, ataupun data lama yang salah). Nilai yang bermasalah dapat substitusi dengan mean, median, modus, atau beberapa nilai khusus tergantung pada masalah dan tipe data yang sedang dihadapi. Jika data bersifat numerik, nilai yang bermasalah dapat diselesaikan dengan menggantinya menjadi mean atau median (tergantung persebaran data pada kolom), sedangkan jika data bersifat kategorikal dapat diganti dengan modus. Setelah nilai yang bermasalah terselesaikan, bisa dilanjutkan dengan proses penghapusan data duplikat tanpa takut merusak nilai dari data.\n",
    "3. Mengolah missing value\n",
    "Proses selanjutnya adalah mengisi data yang hilang (missing value). Missing value dapat substitusi dengan mean, median, atau modus, penyebaran dan tipe data yang sedang dihadapi. Kolom yang yang memiliki missing value adalah `total_income` dan `days_employed`. Saya melakukan pengkategorian data usia terlebih dahulu untuk memudahkan dalam hal menghitung total_income nantinya. Saya membuat function data_imputation yang berfungsi untuk memudahkan dalam proses pengisian missing value berdasarkan data kategorikal di kolom lain.\n",
    "4. Pengkategorian data\n",
    "Proses ini dilakukan untuk menjawab pertanyaan dan menguji hipotesis. Saya mengkategorikan `debt` kedalam `debt_meaning`, `total_income` kedalam `income_category`, dan `purpose`. Pertama tampilkan kolom yang dipilih untuk pengkategorian dan melakukan pengecekan kepada unique values-nya. Kemudian, buat fungsi untuk pengkategoriannya dan implementasikan fungsinya.\n",
    "\n",
    "    Tidak lupa setelah melakukan perubahan pada data di tiap kegiatan (eksplorasi data, transformasi data, mengolah missing value, pengkategorian data) selalu dilakukan pengecekan untuk melihat hasil dan mencegah kesalahan dalam pengolahan data.\n",
    "    \n",
    "\n",
    "5. Setelah data diolah, saya menarik kesimpulan bahwa:\n",
    "    - nasabah dengan jumlah anak yang lebih sedikit cenderung memiliki persentase gagal bayar yang lebih rendah, dan sebaliknya\n",
    "    - semakin tinggi pendapatan nasabah, maka persentase gagal bayarnya cenderung semakin rendah, dan sebaliknya\n",
    "    - nasabah yang sudah pernah menikah (married, divorced, dan widow / widower) memiliki memiliki persentase gagal bayar yang lebih kecil dibandingkan yang belum pernah menikah (civil partnership dan unmarried), dan sebaliknya\n",
    "    - nasabah dengan tujuan membelanjakan uangnya ke bidang bangunan (rumah, properti, atau realestate) memiliki persentase gagal bayar yang lebih kecil dibandingkan tujuan lain\n",
    "    - nasabah dengan tujuan car dan education memiliki kecenderungan gagal bayar yang tinggi\n",
    "\n",
    "Berdasarkan kesimpulan tersebut dapat diberikan solusi berupa diberlakukannya pengketatan seleksi penilaian kredit untuk nasabah dengan kriteria:\n",
    "- nasabah dengan jumlah anak yang cukup banyak\n",
    "- nasabah dengan pendapatan rendah\n",
    "- nasabah yang belum pernah menikah (civil partnership dan unmarried)\n",
    "- nasabah dengan tujuan car dan education"
   ]
  },
  {
   "cell_type": "markdown",
   "metadata": {},
   "source": [
    "<div class=\"alert alert-success\">\n",
    "<b>Reviewer's comment v1</b> <a class=\"tocSkip\"></a>\n",
    "\n",
    "Project ini merupakan lompatan yang sangat jauh dibandingkan project sebelumnya maka dari itu saya berterima kasih telah memberikan waktu dan usaha yang tidak sedikit dalam pengerjaannya. Namun masih ada beberapa catatan yang perlu dilakukan dalam perbaikan project ini. \n",
    "</div>"
   ]
  }
 ],
 "metadata": {
  "ExecuteTimeLog": [
   {
    "duration": 2741,
    "start_time": "2021-10-21T01:08:49.480Z"
   },
   {
    "duration": 52,
    "start_time": "2021-10-21T01:08:53.315Z"
   },
   {
    "duration": 49,
    "start_time": "2021-10-21T01:08:57.432Z"
   },
   {
    "duration": 70,
    "start_time": "2021-10-21T01:09:07.706Z"
   },
   {
    "duration": 577,
    "start_time": "2022-09-07T12:34:37.944Z"
   },
   {
    "duration": 4,
    "start_time": "2022-09-07T12:34:38.524Z"
   },
   {
    "duration": 13,
    "start_time": "2022-09-07T12:34:38.529Z"
   },
   {
    "duration": 24,
    "start_time": "2022-09-07T12:34:38.544Z"
   },
   {
    "duration": 50,
    "start_time": "2022-09-07T12:34:38.570Z"
   },
   {
    "duration": 22,
    "start_time": "2022-09-07T12:34:38.622Z"
   },
   {
    "duration": 13,
    "start_time": "2022-09-07T12:34:38.646Z"
   },
   {
    "duration": 10,
    "start_time": "2022-09-07T12:34:38.661Z"
   },
   {
    "duration": 41,
    "start_time": "2022-09-07T12:34:38.673Z"
   },
   {
    "duration": 7,
    "start_time": "2022-09-07T12:34:38.717Z"
   },
   {
    "duration": 4,
    "start_time": "2022-09-07T12:34:38.726Z"
   },
   {
    "duration": 8,
    "start_time": "2022-09-07T12:34:38.731Z"
   },
   {
    "duration": 9,
    "start_time": "2022-09-07T12:34:38.741Z"
   },
   {
    "duration": 7,
    "start_time": "2022-09-07T12:34:38.752Z"
   },
   {
    "duration": 10,
    "start_time": "2022-09-07T12:34:38.760Z"
   },
   {
    "duration": 11,
    "start_time": "2022-09-07T12:34:38.806Z"
   },
   {
    "duration": 6,
    "start_time": "2022-09-07T12:34:38.818Z"
   },
   {
    "duration": 5,
    "start_time": "2022-09-07T12:34:38.825Z"
   },
   {
    "duration": 5,
    "start_time": "2022-09-07T12:34:38.832Z"
   },
   {
    "duration": 10,
    "start_time": "2022-09-07T12:34:38.838Z"
   },
   {
    "duration": 9,
    "start_time": "2022-09-07T12:34:38.849Z"
   },
   {
    "duration": 4,
    "start_time": "2022-09-07T12:34:38.860Z"
   },
   {
    "duration": 44,
    "start_time": "2022-09-07T12:34:38.865Z"
   },
   {
    "duration": 10,
    "start_time": "2022-09-07T12:34:38.911Z"
   },
   {
    "duration": 5,
    "start_time": "2022-09-07T12:34:38.923Z"
   },
   {
    "duration": 11,
    "start_time": "2022-09-07T12:34:38.929Z"
   },
   {
    "duration": 2,
    "start_time": "2022-09-07T12:34:38.942Z"
   },
   {
    "duration": 2,
    "start_time": "2022-09-07T12:34:38.948Z"
   },
   {
    "duration": 12,
    "start_time": "2022-09-07T12:34:38.952Z"
   },
   {
    "duration": 3,
    "start_time": "2022-09-07T12:34:38.966Z"
   },
   {
    "duration": 3,
    "start_time": "2022-09-07T12:34:39.005Z"
   },
   {
    "duration": 5,
    "start_time": "2022-09-07T12:34:39.009Z"
   },
   {
    "duration": 8,
    "start_time": "2022-09-07T12:34:39.015Z"
   },
   {
    "duration": 5,
    "start_time": "2022-09-07T12:34:39.024Z"
   },
   {
    "duration": 21,
    "start_time": "2022-09-07T12:34:39.031Z"
   },
   {
    "duration": 2,
    "start_time": "2022-09-07T12:34:39.054Z"
   },
   {
    "duration": 19,
    "start_time": "2022-09-07T12:34:39.057Z"
   },
   {
    "duration": 2,
    "start_time": "2022-09-07T12:34:39.078Z"
   },
   {
    "duration": 26,
    "start_time": "2022-09-07T12:34:39.082Z"
   },
   {
    "duration": 3,
    "start_time": "2022-09-07T12:34:39.110Z"
   },
   {
    "duration": 5,
    "start_time": "2022-09-07T12:34:39.114Z"
   },
   {
    "duration": 8,
    "start_time": "2022-09-07T12:34:39.120Z"
   },
   {
    "duration": 5,
    "start_time": "2022-09-07T12:34:39.130Z"
   },
   {
    "duration": 6,
    "start_time": "2022-09-07T12:34:39.136Z"
   },
   {
    "duration": 5,
    "start_time": "2022-09-07T12:34:39.143Z"
   },
   {
    "duration": 5,
    "start_time": "2022-09-07T12:34:39.149Z"
   },
   {
    "duration": 7,
    "start_time": "2022-09-07T12:34:39.156Z"
   },
   {
    "duration": 6,
    "start_time": "2022-09-07T12:34:39.164Z"
   },
   {
    "duration": 6,
    "start_time": "2022-09-07T12:34:39.171Z"
   },
   {
    "duration": 8,
    "start_time": "2022-09-07T12:34:39.178Z"
   },
   {
    "duration": 4,
    "start_time": "2022-09-07T12:34:39.187Z"
   },
   {
    "duration": 2,
    "start_time": "2022-09-07T12:34:39.206Z"
   },
   {
    "duration": 3,
    "start_time": "2022-09-07T12:34:39.210Z"
   },
   {
    "duration": 4,
    "start_time": "2022-09-07T12:34:39.215Z"
   },
   {
    "duration": 5,
    "start_time": "2022-09-07T12:34:39.221Z"
   },
   {
    "duration": 5,
    "start_time": "2022-09-07T12:34:39.227Z"
   },
   {
    "duration": 11,
    "start_time": "2022-09-07T12:34:39.233Z"
   },
   {
    "duration": 5,
    "start_time": "2022-09-07T12:34:39.245Z"
   },
   {
    "duration": 5,
    "start_time": "2022-09-07T12:34:39.252Z"
   },
   {
    "duration": 6,
    "start_time": "2022-09-07T12:34:39.258Z"
   },
   {
    "duration": 6,
    "start_time": "2022-09-07T12:34:39.265Z"
   },
   {
    "duration": 5,
    "start_time": "2022-09-07T12:34:39.273Z"
   },
   {
    "duration": 6,
    "start_time": "2022-09-07T12:34:39.279Z"
   },
   {
    "duration": 19,
    "start_time": "2022-09-07T12:34:39.287Z"
   },
   {
    "duration": 6,
    "start_time": "2022-09-07T12:34:39.308Z"
   },
   {
    "duration": 5,
    "start_time": "2022-09-07T12:34:39.315Z"
   },
   {
    "duration": 12,
    "start_time": "2022-09-07T12:34:39.321Z"
   },
   {
    "duration": 6,
    "start_time": "2022-09-07T12:34:39.334Z"
   },
   {
    "duration": 4,
    "start_time": "2022-09-07T12:34:39.342Z"
   },
   {
    "duration": 3,
    "start_time": "2022-09-07T12:34:39.348Z"
   },
   {
    "duration": 7,
    "start_time": "2022-09-07T12:34:39.353Z"
   },
   {
    "duration": 4,
    "start_time": "2022-09-07T12:34:39.362Z"
   },
   {
    "duration": 5,
    "start_time": "2022-09-07T12:34:39.368Z"
   },
   {
    "duration": 11,
    "start_time": "2022-09-07T12:45:13.921Z"
   },
   {
    "duration": 66,
    "start_time": "2022-09-07T12:54:46.546Z"
   },
   {
    "duration": 8,
    "start_time": "2022-09-07T12:55:22.867Z"
   },
   {
    "duration": 5,
    "start_time": "2022-09-07T12:57:56.763Z"
   },
   {
    "duration": 6,
    "start_time": "2022-09-07T13:00:31.270Z"
   },
   {
    "duration": 5,
    "start_time": "2022-09-07T13:00:50.551Z"
   },
   {
    "duration": 6,
    "start_time": "2022-09-07T13:01:08.210Z"
   },
   {
    "duration": 5,
    "start_time": "2022-09-07T13:01:33.782Z"
   },
   {
    "duration": 6,
    "start_time": "2022-09-07T13:01:47.954Z"
   },
   {
    "duration": 497,
    "start_time": "2022-09-07T13:02:04.733Z"
   },
   {
    "duration": 3,
    "start_time": "2022-09-07T13:02:05.231Z"
   },
   {
    "duration": 15,
    "start_time": "2022-09-07T13:02:05.235Z"
   },
   {
    "duration": 23,
    "start_time": "2022-09-07T13:02:05.251Z"
   },
   {
    "duration": 19,
    "start_time": "2022-09-07T13:02:05.275Z"
   },
   {
    "duration": 29,
    "start_time": "2022-09-07T13:02:05.295Z"
   },
   {
    "duration": 9,
    "start_time": "2022-09-07T13:02:05.325Z"
   },
   {
    "duration": 8,
    "start_time": "2022-09-07T13:02:05.336Z"
   },
   {
    "duration": 9,
    "start_time": "2022-09-07T13:02:05.345Z"
   },
   {
    "duration": 6,
    "start_time": "2022-09-07T13:02:05.356Z"
   },
   {
    "duration": 42,
    "start_time": "2022-09-07T13:02:05.363Z"
   },
   {
    "duration": 15,
    "start_time": "2022-09-07T13:02:05.407Z"
   },
   {
    "duration": 13,
    "start_time": "2022-09-07T13:02:05.425Z"
   },
   {
    "duration": 7,
    "start_time": "2022-09-07T13:02:05.440Z"
   },
   {
    "duration": 7,
    "start_time": "2022-09-07T13:02:05.448Z"
   },
   {
    "duration": 9,
    "start_time": "2022-09-07T13:02:05.456Z"
   },
   {
    "duration": 7,
    "start_time": "2022-09-07T13:02:05.466Z"
   },
   {
    "duration": 7,
    "start_time": "2022-09-07T13:02:05.474Z"
   },
   {
    "duration": 24,
    "start_time": "2022-09-07T13:02:05.482Z"
   },
   {
    "duration": 10,
    "start_time": "2022-09-07T13:02:05.507Z"
   },
   {
    "duration": 9,
    "start_time": "2022-09-07T13:02:05.518Z"
   },
   {
    "duration": 4,
    "start_time": "2022-09-07T13:02:05.529Z"
   },
   {
    "duration": 11,
    "start_time": "2022-09-07T13:02:05.535Z"
   },
   {
    "duration": 16,
    "start_time": "2022-09-07T13:02:05.547Z"
   },
   {
    "duration": 4,
    "start_time": "2022-09-07T13:02:05.565Z"
   },
   {
    "duration": 36,
    "start_time": "2022-09-07T13:02:05.570Z"
   },
   {
    "duration": 2,
    "start_time": "2022-09-07T13:02:05.608Z"
   },
   {
    "duration": 10,
    "start_time": "2022-09-07T13:02:05.614Z"
   },
   {
    "duration": 15,
    "start_time": "2022-09-07T13:02:05.625Z"
   },
   {
    "duration": 3,
    "start_time": "2022-09-07T13:02:05.642Z"
   },
   {
    "duration": 9,
    "start_time": "2022-09-07T13:02:05.646Z"
   },
   {
    "duration": 6,
    "start_time": "2022-09-07T13:02:05.657Z"
   },
   {
    "duration": 7,
    "start_time": "2022-09-07T13:02:05.665Z"
   },
   {
    "duration": 6,
    "start_time": "2022-09-07T13:02:05.673Z"
   },
   {
    "duration": 32,
    "start_time": "2022-09-07T13:02:05.680Z"
   },
   {
    "duration": 2,
    "start_time": "2022-09-07T13:02:05.714Z"
   },
   {
    "duration": 17,
    "start_time": "2022-09-07T13:02:05.717Z"
   },
   {
    "duration": 3,
    "start_time": "2022-09-07T13:02:05.736Z"
   },
   {
    "duration": 6,
    "start_time": "2022-09-07T13:02:05.740Z"
   },
   {
    "duration": 3,
    "start_time": "2022-09-07T13:02:05.748Z"
   },
   {
    "duration": 6,
    "start_time": "2022-09-07T13:02:05.752Z"
   },
   {
    "duration": 5,
    "start_time": "2022-09-07T13:02:05.760Z"
   },
   {
    "duration": 4,
    "start_time": "2022-09-07T13:02:05.766Z"
   },
   {
    "duration": 4,
    "start_time": "2022-09-07T13:02:05.771Z"
   },
   {
    "duration": 30,
    "start_time": "2022-09-07T13:02:05.776Z"
   },
   {
    "duration": 5,
    "start_time": "2022-09-07T13:02:05.807Z"
   },
   {
    "duration": 4,
    "start_time": "2022-09-07T13:02:05.814Z"
   },
   {
    "duration": 6,
    "start_time": "2022-09-07T13:02:05.819Z"
   },
   {
    "duration": 5,
    "start_time": "2022-09-07T13:02:05.826Z"
   },
   {
    "duration": 4,
    "start_time": "2022-09-07T13:02:05.832Z"
   },
   {
    "duration": 5,
    "start_time": "2022-09-07T13:02:05.838Z"
   },
   {
    "duration": 4,
    "start_time": "2022-09-07T13:02:05.844Z"
   },
   {
    "duration": 3,
    "start_time": "2022-09-07T13:02:05.850Z"
   },
   {
    "duration": 4,
    "start_time": "2022-09-07T13:02:05.855Z"
   },
   {
    "duration": 5,
    "start_time": "2022-09-07T13:02:05.860Z"
   },
   {
    "duration": 5,
    "start_time": "2022-09-07T13:02:05.866Z"
   },
   {
    "duration": 4,
    "start_time": "2022-09-07T13:02:05.872Z"
   },
   {
    "duration": 5,
    "start_time": "2022-09-07T13:02:05.877Z"
   },
   {
    "duration": 4,
    "start_time": "2022-09-07T13:02:05.884Z"
   },
   {
    "duration": 2,
    "start_time": "2022-09-07T13:02:05.906Z"
   },
   {
    "duration": 4,
    "start_time": "2022-09-07T13:02:05.910Z"
   },
   {
    "duration": 5,
    "start_time": "2022-09-07T13:02:05.915Z"
   },
   {
    "duration": 5,
    "start_time": "2022-09-07T13:02:05.922Z"
   },
   {
    "duration": 5,
    "start_time": "2022-09-07T13:02:05.928Z"
   },
   {
    "duration": 5,
    "start_time": "2022-09-07T13:02:05.934Z"
   },
   {
    "duration": 8,
    "start_time": "2022-09-07T13:02:05.940Z"
   },
   {
    "duration": 5,
    "start_time": "2022-09-07T13:02:05.949Z"
   },
   {
    "duration": 4,
    "start_time": "2022-09-07T13:02:05.955Z"
   },
   {
    "duration": 4,
    "start_time": "2022-09-07T13:02:05.961Z"
   },
   {
    "duration": 4,
    "start_time": "2022-09-07T13:02:05.966Z"
   },
   {
    "duration": 4,
    "start_time": "2022-09-07T13:02:05.972Z"
   },
   {
    "duration": 4,
    "start_time": "2022-09-07T13:02:05.978Z"
   },
   {
    "duration": 5,
    "start_time": "2022-09-07T13:02:05.984Z"
   },
   {
    "duration": 6,
    "start_time": "2022-09-07T13:03:14.105Z"
   },
   {
    "duration": 18,
    "start_time": "2022-09-07T13:03:28.395Z"
   },
   {
    "duration": 5,
    "start_time": "2022-09-07T13:10:34.026Z"
   },
   {
    "duration": 6,
    "start_time": "2022-09-07T13:10:57.130Z"
   },
   {
    "duration": 6,
    "start_time": "2022-09-07T13:11:20.245Z"
   },
   {
    "duration": 6,
    "start_time": "2022-09-07T13:12:04.223Z"
   },
   {
    "duration": 69,
    "start_time": "2022-09-09T00:25:14.846Z"
   },
   {
    "duration": 642,
    "start_time": "2022-09-09T00:25:19.730Z"
   },
   {
    "duration": 4,
    "start_time": "2022-09-09T00:25:20.374Z"
   },
   {
    "duration": 14,
    "start_time": "2022-09-09T00:25:20.380Z"
   },
   {
    "duration": 26,
    "start_time": "2022-09-09T00:25:20.398Z"
   },
   {
    "duration": 21,
    "start_time": "2022-09-09T00:25:20.426Z"
   },
   {
    "duration": 44,
    "start_time": "2022-09-09T00:25:20.449Z"
   },
   {
    "duration": 12,
    "start_time": "2022-09-09T00:25:20.494Z"
   },
   {
    "duration": 19,
    "start_time": "2022-09-09T00:25:20.508Z"
   },
   {
    "duration": 12,
    "start_time": "2022-09-09T00:25:20.529Z"
   },
   {
    "duration": 6,
    "start_time": "2022-09-09T00:25:20.545Z"
   },
   {
    "duration": 12,
    "start_time": "2022-09-09T00:25:20.553Z"
   },
   {
    "duration": 6,
    "start_time": "2022-09-09T00:25:20.591Z"
   },
   {
    "duration": 24,
    "start_time": "2022-09-09T00:25:20.599Z"
   },
   {
    "duration": 11,
    "start_time": "2022-09-09T00:25:20.624Z"
   },
   {
    "duration": 13,
    "start_time": "2022-09-09T00:25:20.637Z"
   },
   {
    "duration": 13,
    "start_time": "2022-09-09T00:25:20.652Z"
   },
   {
    "duration": 6,
    "start_time": "2022-09-09T00:25:20.667Z"
   },
   {
    "duration": 5,
    "start_time": "2022-09-09T00:25:20.692Z"
   },
   {
    "duration": 16,
    "start_time": "2022-09-09T00:25:20.699Z"
   },
   {
    "duration": 22,
    "start_time": "2022-09-09T00:25:20.717Z"
   },
   {
    "duration": 12,
    "start_time": "2022-09-09T00:25:20.741Z"
   },
   {
    "duration": 6,
    "start_time": "2022-09-09T00:25:20.755Z"
   },
   {
    "duration": 15,
    "start_time": "2022-09-09T00:25:20.763Z"
   },
   {
    "duration": 15,
    "start_time": "2022-09-09T00:25:20.792Z"
   },
   {
    "duration": 6,
    "start_time": "2022-09-09T00:25:20.809Z"
   },
   {
    "duration": 17,
    "start_time": "2022-09-09T00:25:20.816Z"
   },
   {
    "duration": 3,
    "start_time": "2022-09-09T00:25:20.835Z"
   },
   {
    "duration": 10,
    "start_time": "2022-09-09T00:25:20.842Z"
   },
   {
    "duration": 23,
    "start_time": "2022-09-09T00:25:20.853Z"
   },
   {
    "duration": 19,
    "start_time": "2022-09-09T00:25:20.877Z"
   },
   {
    "duration": 8,
    "start_time": "2022-09-09T00:25:20.898Z"
   },
   {
    "duration": 11,
    "start_time": "2022-09-09T00:25:20.908Z"
   },
   {
    "duration": 3,
    "start_time": "2022-09-09T00:25:20.921Z"
   },
   {
    "duration": 6,
    "start_time": "2022-09-09T00:25:20.926Z"
   },
   {
    "duration": 24,
    "start_time": "2022-09-09T00:25:20.933Z"
   },
   {
    "duration": 2,
    "start_time": "2022-09-09T00:25:20.959Z"
   },
   {
    "duration": 40,
    "start_time": "2022-09-09T00:25:20.963Z"
   },
   {
    "duration": 4,
    "start_time": "2022-09-09T00:25:21.004Z"
   },
   {
    "duration": 15,
    "start_time": "2022-09-09T00:25:21.010Z"
   },
   {
    "duration": 6,
    "start_time": "2022-09-09T00:25:21.027Z"
   },
   {
    "duration": 12,
    "start_time": "2022-09-09T00:25:21.035Z"
   },
   {
    "duration": 8,
    "start_time": "2022-09-09T00:25:21.049Z"
   },
   {
    "duration": 10,
    "start_time": "2022-09-09T00:25:21.059Z"
   },
   {
    "duration": 17,
    "start_time": "2022-09-09T00:25:21.070Z"
   },
   {
    "duration": 6,
    "start_time": "2022-09-09T00:25:21.089Z"
   },
   {
    "duration": 11,
    "start_time": "2022-09-09T00:25:21.096Z"
   },
   {
    "duration": 11,
    "start_time": "2022-09-09T00:25:21.108Z"
   },
   {
    "duration": 12,
    "start_time": "2022-09-09T00:25:21.121Z"
   },
   {
    "duration": 8,
    "start_time": "2022-09-09T00:25:21.135Z"
   },
   {
    "duration": 9,
    "start_time": "2022-09-09T00:25:21.144Z"
   },
   {
    "duration": 5,
    "start_time": "2022-09-09T00:25:21.154Z"
   },
   {
    "duration": 6,
    "start_time": "2022-09-09T00:25:21.161Z"
   },
   {
    "duration": 6,
    "start_time": "2022-09-09T00:25:21.169Z"
   },
   {
    "duration": 7,
    "start_time": "2022-09-09T00:25:21.177Z"
   },
   {
    "duration": 6,
    "start_time": "2022-09-09T00:25:21.186Z"
   },
   {
    "duration": 4,
    "start_time": "2022-09-09T00:25:21.194Z"
   },
   {
    "duration": 5,
    "start_time": "2022-09-09T00:25:21.200Z"
   },
   {
    "duration": 5,
    "start_time": "2022-09-09T00:25:21.206Z"
   },
   {
    "duration": 5,
    "start_time": "2022-09-09T00:25:21.213Z"
   },
   {
    "duration": 5,
    "start_time": "2022-09-09T00:25:21.219Z"
   },
   {
    "duration": 8,
    "start_time": "2022-09-09T00:25:21.226Z"
   },
   {
    "duration": 12,
    "start_time": "2022-09-09T00:25:21.235Z"
   },
   {
    "duration": 25,
    "start_time": "2022-09-09T00:25:21.249Z"
   },
   {
    "duration": 12,
    "start_time": "2022-09-09T00:25:21.276Z"
   },
   {
    "duration": 9,
    "start_time": "2022-09-09T00:25:21.290Z"
   },
   {
    "duration": 9,
    "start_time": "2022-09-09T00:25:21.301Z"
   },
   {
    "duration": 8,
    "start_time": "2022-09-09T00:25:21.312Z"
   },
   {
    "duration": 9,
    "start_time": "2022-09-09T00:25:21.322Z"
   },
   {
    "duration": 17,
    "start_time": "2022-09-09T00:25:21.333Z"
   },
   {
    "duration": 9,
    "start_time": "2022-09-09T00:25:21.352Z"
   },
   {
    "duration": 76,
    "start_time": "2022-09-09T00:25:21.362Z"
   },
   {
    "duration": 0,
    "start_time": "2022-09-09T00:25:21.440Z"
   },
   {
    "duration": 0,
    "start_time": "2022-09-09T00:25:21.441Z"
   },
   {
    "duration": 0,
    "start_time": "2022-09-09T00:25:21.443Z"
   },
   {
    "duration": 36,
    "start_time": "2022-09-09T00:29:06.319Z"
   },
   {
    "duration": 20,
    "start_time": "2022-09-09T00:29:13.636Z"
   },
   {
    "duration": 5,
    "start_time": "2022-09-09T00:29:15.985Z"
   },
   {
    "duration": 16,
    "start_time": "2022-09-09T00:29:22.297Z"
   },
   {
    "duration": 18,
    "start_time": "2022-09-09T00:29:24.672Z"
   },
   {
    "duration": 4,
    "start_time": "2022-09-09T00:29:27.536Z"
   },
   {
    "duration": 5,
    "start_time": "2022-09-09T00:33:45.162Z"
   },
   {
    "duration": 17,
    "start_time": "2022-09-09T00:40:20.542Z"
   },
   {
    "duration": 78,
    "start_time": "2022-09-09T00:47:58.779Z"
   },
   {
    "duration": 93,
    "start_time": "2022-09-09T00:48:12.782Z"
   },
   {
    "duration": 3,
    "start_time": "2022-09-09T00:48:46.126Z"
   },
   {
    "duration": 4,
    "start_time": "2022-09-09T00:48:50.707Z"
   },
   {
    "duration": 4,
    "start_time": "2022-09-09T00:49:02.906Z"
   },
   {
    "duration": 4,
    "start_time": "2022-09-09T00:49:08.265Z"
   },
   {
    "duration": 4,
    "start_time": "2022-09-09T00:49:14.924Z"
   },
   {
    "duration": 4,
    "start_time": "2022-09-09T00:49:19.765Z"
   },
   {
    "duration": 5,
    "start_time": "2022-09-09T00:49:26.896Z"
   },
   {
    "duration": 65,
    "start_time": "2022-09-09T00:51:36.206Z"
   },
   {
    "duration": 4,
    "start_time": "2022-09-09T00:51:50.878Z"
   },
   {
    "duration": 4,
    "start_time": "2022-09-09T00:51:51.664Z"
   },
   {
    "duration": 13,
    "start_time": "2022-09-09T00:51:52.780Z"
   },
   {
    "duration": 513,
    "start_time": "2022-09-09T00:52:00.555Z"
   },
   {
    "duration": 4,
    "start_time": "2022-09-09T00:52:01.070Z"
   },
   {
    "duration": 41,
    "start_time": "2022-09-09T00:52:01.075Z"
   },
   {
    "duration": 56,
    "start_time": "2022-09-09T00:52:01.118Z"
   },
   {
    "duration": 49,
    "start_time": "2022-09-09T00:52:01.176Z"
   },
   {
    "duration": 39,
    "start_time": "2022-09-09T00:52:01.227Z"
   },
   {
    "duration": 68,
    "start_time": "2022-09-09T00:52:01.268Z"
   },
   {
    "duration": 68,
    "start_time": "2022-09-09T00:52:01.338Z"
   },
   {
    "duration": 36,
    "start_time": "2022-09-09T00:52:01.408Z"
   },
   {
    "duration": 26,
    "start_time": "2022-09-09T00:52:01.447Z"
   },
   {
    "duration": 21,
    "start_time": "2022-09-09T00:52:01.475Z"
   },
   {
    "duration": 17,
    "start_time": "2022-09-09T00:52:01.498Z"
   },
   {
    "duration": 28,
    "start_time": "2022-09-09T00:52:01.516Z"
   },
   {
    "duration": 35,
    "start_time": "2022-09-09T00:52:01.546Z"
   },
   {
    "duration": 92,
    "start_time": "2022-09-09T00:52:01.583Z"
   },
   {
    "duration": 40,
    "start_time": "2022-09-09T00:52:01.676Z"
   },
   {
    "duration": 50,
    "start_time": "2022-09-09T00:52:01.718Z"
   },
   {
    "duration": 38,
    "start_time": "2022-09-09T00:52:01.770Z"
   },
   {
    "duration": 86,
    "start_time": "2022-09-09T00:52:01.810Z"
   },
   {
    "duration": 40,
    "start_time": "2022-09-09T00:52:01.898Z"
   },
   {
    "duration": 19,
    "start_time": "2022-09-09T00:52:01.940Z"
   },
   {
    "duration": 34,
    "start_time": "2022-09-09T00:52:01.963Z"
   },
   {
    "duration": 25,
    "start_time": "2022-09-09T00:52:01.999Z"
   },
   {
    "duration": 15,
    "start_time": "2022-09-09T00:52:02.026Z"
   },
   {
    "duration": 22,
    "start_time": "2022-09-09T00:52:02.043Z"
   },
   {
    "duration": 38,
    "start_time": "2022-09-09T00:52:02.067Z"
   },
   {
    "duration": 16,
    "start_time": "2022-09-09T00:52:02.107Z"
   },
   {
    "duration": 7,
    "start_time": "2022-09-09T00:52:02.128Z"
   },
   {
    "duration": 24,
    "start_time": "2022-09-09T00:52:02.137Z"
   },
   {
    "duration": 25,
    "start_time": "2022-09-09T00:52:02.163Z"
   },
   {
    "duration": 23,
    "start_time": "2022-09-09T00:52:02.190Z"
   },
   {
    "duration": 24,
    "start_time": "2022-09-09T00:52:02.215Z"
   },
   {
    "duration": 18,
    "start_time": "2022-09-09T00:52:02.240Z"
   },
   {
    "duration": 30,
    "start_time": "2022-09-09T00:52:02.260Z"
   },
   {
    "duration": 28,
    "start_time": "2022-09-09T00:52:02.292Z"
   },
   {
    "duration": 17,
    "start_time": "2022-09-09T00:52:02.322Z"
   },
   {
    "duration": 21,
    "start_time": "2022-09-09T00:52:02.341Z"
   },
   {
    "duration": 14,
    "start_time": "2022-09-09T00:52:02.364Z"
   },
   {
    "duration": 17,
    "start_time": "2022-09-09T00:52:02.379Z"
   },
   {
    "duration": 26,
    "start_time": "2022-09-09T00:52:02.398Z"
   },
   {
    "duration": 19,
    "start_time": "2022-09-09T00:52:02.426Z"
   },
   {
    "duration": 24,
    "start_time": "2022-09-09T00:52:02.446Z"
   },
   {
    "duration": 20,
    "start_time": "2022-09-09T00:52:02.472Z"
   },
   {
    "duration": 28,
    "start_time": "2022-09-09T00:52:02.494Z"
   },
   {
    "duration": 14,
    "start_time": "2022-09-09T00:52:02.524Z"
   },
   {
    "duration": 11,
    "start_time": "2022-09-09T00:52:02.540Z"
   },
   {
    "duration": 12,
    "start_time": "2022-09-09T00:52:02.552Z"
   },
   {
    "duration": 17,
    "start_time": "2022-09-09T00:52:02.565Z"
   },
   {
    "duration": 18,
    "start_time": "2022-09-09T00:52:02.584Z"
   },
   {
    "duration": 22,
    "start_time": "2022-09-09T00:52:02.604Z"
   },
   {
    "duration": 10,
    "start_time": "2022-09-09T00:52:02.628Z"
   },
   {
    "duration": 22,
    "start_time": "2022-09-09T00:52:02.640Z"
   },
   {
    "duration": 13,
    "start_time": "2022-09-09T00:52:02.664Z"
   },
   {
    "duration": 14,
    "start_time": "2022-09-09T00:52:02.679Z"
   },
   {
    "duration": 20,
    "start_time": "2022-09-09T00:52:02.695Z"
   },
   {
    "duration": 41,
    "start_time": "2022-09-09T00:52:02.716Z"
   },
   {
    "duration": 15,
    "start_time": "2022-09-09T00:52:02.759Z"
   },
   {
    "duration": 23,
    "start_time": "2022-09-09T00:52:02.775Z"
   },
   {
    "duration": 13,
    "start_time": "2022-09-09T00:52:02.799Z"
   },
   {
    "duration": 9,
    "start_time": "2022-09-09T00:52:02.813Z"
   },
   {
    "duration": 19,
    "start_time": "2022-09-09T00:52:02.824Z"
   },
   {
    "duration": 23,
    "start_time": "2022-09-09T00:52:02.845Z"
   },
   {
    "duration": 40,
    "start_time": "2022-09-09T00:52:02.870Z"
   },
   {
    "duration": 21,
    "start_time": "2022-09-09T00:52:02.912Z"
   },
   {
    "duration": 31,
    "start_time": "2022-09-09T00:52:02.935Z"
   },
   {
    "duration": 17,
    "start_time": "2022-09-09T00:52:02.968Z"
   },
   {
    "duration": 26,
    "start_time": "2022-09-09T00:52:02.987Z"
   },
   {
    "duration": 27,
    "start_time": "2022-09-09T00:52:03.015Z"
   },
   {
    "duration": 18,
    "start_time": "2022-09-09T00:52:03.044Z"
   },
   {
    "duration": 21,
    "start_time": "2022-09-09T00:52:03.064Z"
   },
   {
    "duration": 73,
    "start_time": "2022-09-09T00:52:03.087Z"
   },
   {
    "duration": 0,
    "start_time": "2022-09-09T00:52:03.161Z"
   },
   {
    "duration": 0,
    "start_time": "2022-09-09T00:52:03.163Z"
   },
   {
    "duration": 0,
    "start_time": "2022-09-09T00:52:03.164Z"
   },
   {
    "duration": 12,
    "start_time": "2022-09-09T00:53:10.366Z"
   },
   {
    "duration": 4,
    "start_time": "2022-09-09T00:53:42.931Z"
   },
   {
    "duration": 3,
    "start_time": "2022-09-09T00:53:43.979Z"
   },
   {
    "duration": 11,
    "start_time": "2022-09-09T00:53:48.266Z"
   },
   {
    "duration": 13,
    "start_time": "2022-09-09T00:54:05.725Z"
   },
   {
    "duration": 24,
    "start_time": "2022-09-09T00:54:35.581Z"
   },
   {
    "duration": 512,
    "start_time": "2022-09-09T00:54:52.055Z"
   },
   {
    "duration": 4,
    "start_time": "2022-09-09T00:54:52.569Z"
   },
   {
    "duration": 15,
    "start_time": "2022-09-09T00:54:52.574Z"
   },
   {
    "duration": 38,
    "start_time": "2022-09-09T00:54:52.591Z"
   },
   {
    "duration": 20,
    "start_time": "2022-09-09T00:54:52.630Z"
   },
   {
    "duration": 44,
    "start_time": "2022-09-09T00:54:52.652Z"
   },
   {
    "duration": 19,
    "start_time": "2022-09-09T00:54:52.698Z"
   },
   {
    "duration": 11,
    "start_time": "2022-09-09T00:54:52.720Z"
   },
   {
    "duration": 22,
    "start_time": "2022-09-09T00:54:52.732Z"
   },
   {
    "duration": 6,
    "start_time": "2022-09-09T00:54:52.758Z"
   },
   {
    "duration": 26,
    "start_time": "2022-09-09T00:54:52.792Z"
   },
   {
    "duration": 38,
    "start_time": "2022-09-09T00:54:52.820Z"
   },
   {
    "duration": 78,
    "start_time": "2022-09-09T00:54:52.860Z"
   },
   {
    "duration": 18,
    "start_time": "2022-09-09T00:54:52.940Z"
   },
   {
    "duration": 33,
    "start_time": "2022-09-09T00:54:52.960Z"
   },
   {
    "duration": 12,
    "start_time": "2022-09-09T00:54:52.996Z"
   },
   {
    "duration": 7,
    "start_time": "2022-09-09T00:54:53.011Z"
   },
   {
    "duration": 11,
    "start_time": "2022-09-09T00:54:53.020Z"
   },
   {
    "duration": 8,
    "start_time": "2022-09-09T00:54:53.032Z"
   },
   {
    "duration": 11,
    "start_time": "2022-09-09T00:54:53.041Z"
   },
   {
    "duration": 48,
    "start_time": "2022-09-09T00:54:53.053Z"
   },
   {
    "duration": 5,
    "start_time": "2022-09-09T00:54:53.103Z"
   },
   {
    "duration": 18,
    "start_time": "2022-09-09T00:54:53.110Z"
   },
   {
    "duration": 10,
    "start_time": "2022-09-09T00:54:53.130Z"
   },
   {
    "duration": 8,
    "start_time": "2022-09-09T00:54:53.142Z"
   },
   {
    "duration": 14,
    "start_time": "2022-09-09T00:54:53.152Z"
   },
   {
    "duration": 24,
    "start_time": "2022-09-09T00:54:53.168Z"
   },
   {
    "duration": 8,
    "start_time": "2022-09-09T00:54:53.197Z"
   },
   {
    "duration": 22,
    "start_time": "2022-09-09T00:54:53.207Z"
   },
   {
    "duration": 11,
    "start_time": "2022-09-09T00:54:53.230Z"
   },
   {
    "duration": 11,
    "start_time": "2022-09-09T00:54:53.243Z"
   },
   {
    "duration": 10,
    "start_time": "2022-09-09T00:54:53.255Z"
   },
   {
    "duration": 2,
    "start_time": "2022-09-09T00:54:53.267Z"
   },
   {
    "duration": 3,
    "start_time": "2022-09-09T00:54:53.292Z"
   },
   {
    "duration": 24,
    "start_time": "2022-09-09T00:54:53.297Z"
   },
   {
    "duration": 18,
    "start_time": "2022-09-09T00:54:53.323Z"
   },
   {
    "duration": 21,
    "start_time": "2022-09-09T00:54:53.343Z"
   },
   {
    "duration": 29,
    "start_time": "2022-09-09T00:54:53.366Z"
   },
   {
    "duration": 27,
    "start_time": "2022-09-09T00:54:53.398Z"
   },
   {
    "duration": 10,
    "start_time": "2022-09-09T00:54:53.426Z"
   },
   {
    "duration": 7,
    "start_time": "2022-09-09T00:54:53.438Z"
   },
   {
    "duration": 37,
    "start_time": "2022-09-09T00:54:53.447Z"
   },
   {
    "duration": 57,
    "start_time": "2022-09-09T00:54:53.486Z"
   },
   {
    "duration": 8,
    "start_time": "2022-09-09T00:54:53.545Z"
   },
   {
    "duration": 6,
    "start_time": "2022-09-09T00:54:53.554Z"
   },
   {
    "duration": 23,
    "start_time": "2022-09-09T00:54:53.561Z"
   },
   {
    "duration": 17,
    "start_time": "2022-09-09T00:54:53.586Z"
   },
   {
    "duration": 14,
    "start_time": "2022-09-09T00:54:53.605Z"
   },
   {
    "duration": 13,
    "start_time": "2022-09-09T00:54:53.621Z"
   },
   {
    "duration": 12,
    "start_time": "2022-09-09T00:54:53.636Z"
   },
   {
    "duration": 17,
    "start_time": "2022-09-09T00:54:53.650Z"
   },
   {
    "duration": 19,
    "start_time": "2022-09-09T00:54:53.669Z"
   },
   {
    "duration": 6,
    "start_time": "2022-09-09T00:54:53.690Z"
   },
   {
    "duration": 10,
    "start_time": "2022-09-09T00:54:53.698Z"
   },
   {
    "duration": 4,
    "start_time": "2022-09-09T00:54:53.711Z"
   },
   {
    "duration": 7,
    "start_time": "2022-09-09T00:54:53.717Z"
   },
   {
    "duration": 7,
    "start_time": "2022-09-09T00:54:53.726Z"
   },
   {
    "duration": 5,
    "start_time": "2022-09-09T00:54:53.735Z"
   },
   {
    "duration": 6,
    "start_time": "2022-09-09T00:54:53.742Z"
   },
   {
    "duration": 6,
    "start_time": "2022-09-09T00:54:53.749Z"
   },
   {
    "duration": 6,
    "start_time": "2022-09-09T00:54:53.756Z"
   },
   {
    "duration": 5,
    "start_time": "2022-09-09T00:54:53.763Z"
   },
   {
    "duration": 9,
    "start_time": "2022-09-09T00:54:53.769Z"
   },
   {
    "duration": 12,
    "start_time": "2022-09-09T00:54:53.780Z"
   },
   {
    "duration": 10,
    "start_time": "2022-09-09T00:54:53.795Z"
   },
   {
    "duration": 11,
    "start_time": "2022-09-09T00:54:53.808Z"
   },
   {
    "duration": 5,
    "start_time": "2022-09-09T00:54:53.821Z"
   },
   {
    "duration": 7,
    "start_time": "2022-09-09T00:54:53.828Z"
   },
   {
    "duration": 5,
    "start_time": "2022-09-09T00:54:53.836Z"
   },
   {
    "duration": 7,
    "start_time": "2022-09-09T00:54:53.843Z"
   },
   {
    "duration": 78,
    "start_time": "2022-09-09T00:54:53.852Z"
   },
   {
    "duration": 0,
    "start_time": "2022-09-09T00:54:53.933Z"
   },
   {
    "duration": 0,
    "start_time": "2022-09-09T00:54:53.934Z"
   },
   {
    "duration": 0,
    "start_time": "2022-09-09T00:54:53.936Z"
   },
   {
    "duration": 28,
    "start_time": "2022-09-09T00:54:59.362Z"
   },
   {
    "duration": 566,
    "start_time": "2022-09-09T00:56:20.466Z"
   },
   {
    "duration": 4,
    "start_time": "2022-09-09T00:56:21.034Z"
   },
   {
    "duration": 16,
    "start_time": "2022-09-09T00:56:21.039Z"
   },
   {
    "duration": 45,
    "start_time": "2022-09-09T00:56:21.058Z"
   },
   {
    "duration": 23,
    "start_time": "2022-09-09T00:56:21.105Z"
   },
   {
    "duration": 22,
    "start_time": "2022-09-09T00:56:21.130Z"
   },
   {
    "duration": 38,
    "start_time": "2022-09-09T00:56:21.154Z"
   },
   {
    "duration": 10,
    "start_time": "2022-09-09T00:56:21.194Z"
   },
   {
    "duration": 11,
    "start_time": "2022-09-09T00:56:21.206Z"
   },
   {
    "duration": 6,
    "start_time": "2022-09-09T00:56:21.220Z"
   },
   {
    "duration": 13,
    "start_time": "2022-09-09T00:56:21.228Z"
   },
   {
    "duration": 36,
    "start_time": "2022-09-09T00:56:21.243Z"
   },
   {
    "duration": 17,
    "start_time": "2022-09-09T00:56:21.280Z"
   },
   {
    "duration": 5,
    "start_time": "2022-09-09T00:56:21.299Z"
   },
   {
    "duration": 20,
    "start_time": "2022-09-09T00:56:21.306Z"
   },
   {
    "duration": 22,
    "start_time": "2022-09-09T00:56:21.328Z"
   },
   {
    "duration": 17,
    "start_time": "2022-09-09T00:56:21.351Z"
   },
   {
    "duration": 21,
    "start_time": "2022-09-09T00:56:21.370Z"
   },
   {
    "duration": 17,
    "start_time": "2022-09-09T00:56:21.392Z"
   },
   {
    "duration": 13,
    "start_time": "2022-09-09T00:56:21.411Z"
   },
   {
    "duration": 11,
    "start_time": "2022-09-09T00:56:21.426Z"
   },
   {
    "duration": 6,
    "start_time": "2022-09-09T00:56:21.438Z"
   },
   {
    "duration": 8,
    "start_time": "2022-09-09T00:56:21.445Z"
   },
   {
    "duration": 10,
    "start_time": "2022-09-09T00:56:21.455Z"
   },
   {
    "duration": 5,
    "start_time": "2022-09-09T00:56:21.492Z"
   },
   {
    "duration": 13,
    "start_time": "2022-09-09T00:56:21.499Z"
   },
   {
    "duration": 3,
    "start_time": "2022-09-09T00:56:21.513Z"
   },
   {
    "duration": 3,
    "start_time": "2022-09-09T00:56:21.520Z"
   },
   {
    "duration": 27,
    "start_time": "2022-09-09T00:56:21.524Z"
   },
   {
    "duration": 43,
    "start_time": "2022-09-09T00:56:21.552Z"
   },
   {
    "duration": 11,
    "start_time": "2022-09-09T00:56:21.597Z"
   },
   {
    "duration": 26,
    "start_time": "2022-09-09T00:56:21.609Z"
   },
   {
    "duration": 4,
    "start_time": "2022-09-09T00:56:21.636Z"
   },
   {
    "duration": 6,
    "start_time": "2022-09-09T00:56:21.642Z"
   },
   {
    "duration": 22,
    "start_time": "2022-09-09T00:56:21.650Z"
   },
   {
    "duration": 42,
    "start_time": "2022-09-09T00:56:21.674Z"
   },
   {
    "duration": 25,
    "start_time": "2022-09-09T00:56:21.718Z"
   },
   {
    "duration": 3,
    "start_time": "2022-09-09T00:56:21.745Z"
   },
   {
    "duration": 70,
    "start_time": "2022-09-09T00:56:21.750Z"
   },
   {
    "duration": 50,
    "start_time": "2022-09-09T00:56:21.822Z"
   },
   {
    "duration": 67,
    "start_time": "2022-09-09T00:56:21.875Z"
   },
   {
    "duration": 27,
    "start_time": "2022-09-09T00:56:21.945Z"
   },
   {
    "duration": 38,
    "start_time": "2022-09-09T00:56:21.978Z"
   },
   {
    "duration": 3,
    "start_time": "2022-09-09T00:56:22.018Z"
   },
   {
    "duration": 6,
    "start_time": "2022-09-09T00:56:22.023Z"
   },
   {
    "duration": 5,
    "start_time": "2022-09-09T00:56:22.031Z"
   },
   {
    "duration": 9,
    "start_time": "2022-09-09T00:56:22.038Z"
   },
   {
    "duration": 7,
    "start_time": "2022-09-09T00:56:22.049Z"
   },
   {
    "duration": 6,
    "start_time": "2022-09-09T00:56:22.058Z"
   },
   {
    "duration": 8,
    "start_time": "2022-09-09T00:56:22.066Z"
   },
   {
    "duration": 3,
    "start_time": "2022-09-09T00:56:22.092Z"
   },
   {
    "duration": 6,
    "start_time": "2022-09-09T00:56:22.097Z"
   },
   {
    "duration": 6,
    "start_time": "2022-09-09T00:56:22.105Z"
   },
   {
    "duration": 5,
    "start_time": "2022-09-09T00:56:22.112Z"
   },
   {
    "duration": 5,
    "start_time": "2022-09-09T00:56:22.120Z"
   },
   {
    "duration": 7,
    "start_time": "2022-09-09T00:56:22.128Z"
   },
   {
    "duration": 10,
    "start_time": "2022-09-09T00:56:22.137Z"
   },
   {
    "duration": 8,
    "start_time": "2022-09-09T00:56:22.148Z"
   },
   {
    "duration": 4,
    "start_time": "2022-09-09T00:56:22.157Z"
   },
   {
    "duration": 9,
    "start_time": "2022-09-09T00:56:22.163Z"
   },
   {
    "duration": 2,
    "start_time": "2022-09-09T00:56:22.192Z"
   },
   {
    "duration": 5,
    "start_time": "2022-09-09T00:56:22.196Z"
   },
   {
    "duration": 6,
    "start_time": "2022-09-09T00:56:22.203Z"
   },
   {
    "duration": 5,
    "start_time": "2022-09-09T00:56:22.211Z"
   },
   {
    "duration": 5,
    "start_time": "2022-09-09T00:56:22.217Z"
   },
   {
    "duration": 6,
    "start_time": "2022-09-09T00:56:22.223Z"
   },
   {
    "duration": 6,
    "start_time": "2022-09-09T00:56:22.230Z"
   },
   {
    "duration": 8,
    "start_time": "2022-09-09T00:56:22.238Z"
   },
   {
    "duration": 6,
    "start_time": "2022-09-09T00:56:22.248Z"
   },
   {
    "duration": 5,
    "start_time": "2022-09-09T00:56:22.256Z"
   },
   {
    "duration": 84,
    "start_time": "2022-09-09T00:56:22.263Z"
   },
   {
    "duration": 0,
    "start_time": "2022-09-09T00:56:22.349Z"
   },
   {
    "duration": 0,
    "start_time": "2022-09-09T00:56:22.350Z"
   },
   {
    "duration": 0,
    "start_time": "2022-09-09T00:56:22.351Z"
   },
   {
    "duration": 14,
    "start_time": "2022-09-09T00:56:45.545Z"
   },
   {
    "duration": 2,
    "start_time": "2022-09-09T00:56:53.860Z"
   },
   {
    "duration": 13,
    "start_time": "2022-09-09T00:57:10.579Z"
   },
   {
    "duration": 65,
    "start_time": "2022-09-09T00:57:52.987Z"
   },
   {
    "duration": 13,
    "start_time": "2022-09-09T00:58:00.945Z"
   },
   {
    "duration": 16,
    "start_time": "2022-09-09T00:58:04.053Z"
   },
   {
    "duration": 514,
    "start_time": "2022-09-09T00:58:34.032Z"
   },
   {
    "duration": 4,
    "start_time": "2022-09-09T00:58:34.549Z"
   },
   {
    "duration": 16,
    "start_time": "2022-09-09T00:58:34.555Z"
   },
   {
    "duration": 37,
    "start_time": "2022-09-09T00:58:34.573Z"
   },
   {
    "duration": 22,
    "start_time": "2022-09-09T00:58:34.612Z"
   },
   {
    "duration": 37,
    "start_time": "2022-09-09T00:58:34.636Z"
   },
   {
    "duration": 25,
    "start_time": "2022-09-09T00:58:34.674Z"
   },
   {
    "duration": 12,
    "start_time": "2022-09-09T00:58:34.700Z"
   },
   {
    "duration": 15,
    "start_time": "2022-09-09T00:58:34.713Z"
   },
   {
    "duration": 8,
    "start_time": "2022-09-09T00:58:34.730Z"
   },
   {
    "duration": 7,
    "start_time": "2022-09-09T00:58:34.740Z"
   },
   {
    "duration": 53,
    "start_time": "2022-09-09T00:58:34.749Z"
   },
   {
    "duration": 11,
    "start_time": "2022-09-09T00:58:34.804Z"
   },
   {
    "duration": 9,
    "start_time": "2022-09-09T00:58:34.818Z"
   },
   {
    "duration": 21,
    "start_time": "2022-09-09T00:58:34.829Z"
   },
   {
    "duration": 12,
    "start_time": "2022-09-09T00:58:34.852Z"
   },
   {
    "duration": 7,
    "start_time": "2022-09-09T00:58:34.866Z"
   },
   {
    "duration": 18,
    "start_time": "2022-09-09T00:58:34.892Z"
   },
   {
    "duration": 28,
    "start_time": "2022-09-09T00:58:34.912Z"
   },
   {
    "duration": 26,
    "start_time": "2022-09-09T00:58:34.943Z"
   },
   {
    "duration": 28,
    "start_time": "2022-09-09T00:58:34.971Z"
   },
   {
    "duration": 36,
    "start_time": "2022-09-09T00:58:35.001Z"
   },
   {
    "duration": 15,
    "start_time": "2022-09-09T00:58:35.040Z"
   },
   {
    "duration": 27,
    "start_time": "2022-09-09T00:58:35.057Z"
   },
   {
    "duration": 5,
    "start_time": "2022-09-09T00:58:35.086Z"
   },
   {
    "duration": 23,
    "start_time": "2022-09-09T00:58:35.093Z"
   },
   {
    "duration": 3,
    "start_time": "2022-09-09T00:58:35.118Z"
   },
   {
    "duration": 4,
    "start_time": "2022-09-09T00:58:35.126Z"
   },
   {
    "duration": 18,
    "start_time": "2022-09-09T00:58:35.131Z"
   },
   {
    "duration": 9,
    "start_time": "2022-09-09T00:58:35.151Z"
   },
   {
    "duration": 14,
    "start_time": "2022-09-09T00:58:35.162Z"
   },
   {
    "duration": 7,
    "start_time": "2022-09-09T00:58:35.192Z"
   },
   {
    "duration": 7,
    "start_time": "2022-09-09T00:58:35.200Z"
   },
   {
    "duration": 8,
    "start_time": "2022-09-09T00:58:35.208Z"
   },
   {
    "duration": 24,
    "start_time": "2022-09-09T00:58:35.218Z"
   },
   {
    "duration": 19,
    "start_time": "2022-09-09T00:58:35.243Z"
   },
   {
    "duration": 45,
    "start_time": "2022-09-09T00:58:35.264Z"
   },
   {
    "duration": 4,
    "start_time": "2022-09-09T00:58:35.311Z"
   },
   {
    "duration": 9,
    "start_time": "2022-09-09T00:58:35.317Z"
   },
   {
    "duration": 6,
    "start_time": "2022-09-09T00:58:35.327Z"
   },
   {
    "duration": 13,
    "start_time": "2022-09-09T00:58:35.334Z"
   },
   {
    "duration": 18,
    "start_time": "2022-09-09T00:58:35.349Z"
   },
   {
    "duration": 35,
    "start_time": "2022-09-09T00:58:35.369Z"
   },
   {
    "duration": 6,
    "start_time": "2022-09-09T00:58:35.406Z"
   },
   {
    "duration": 7,
    "start_time": "2022-09-09T00:58:35.414Z"
   },
   {
    "duration": 7,
    "start_time": "2022-09-09T00:58:35.423Z"
   },
   {
    "duration": 24,
    "start_time": "2022-09-09T00:58:35.432Z"
   },
   {
    "duration": 25,
    "start_time": "2022-09-09T00:58:35.458Z"
   },
   {
    "duration": 6,
    "start_time": "2022-09-09T00:58:35.485Z"
   },
   {
    "duration": 8,
    "start_time": "2022-09-09T00:58:35.492Z"
   },
   {
    "duration": 18,
    "start_time": "2022-09-09T00:58:35.502Z"
   },
   {
    "duration": 17,
    "start_time": "2022-09-09T00:58:35.522Z"
   },
   {
    "duration": 7,
    "start_time": "2022-09-09T00:58:35.541Z"
   },
   {
    "duration": 8,
    "start_time": "2022-09-09T00:58:35.550Z"
   },
   {
    "duration": 10,
    "start_time": "2022-09-09T00:58:35.559Z"
   },
   {
    "duration": 33,
    "start_time": "2022-09-09T00:58:35.571Z"
   },
   {
    "duration": 8,
    "start_time": "2022-09-09T00:58:35.606Z"
   },
   {
    "duration": 14,
    "start_time": "2022-09-09T00:58:35.616Z"
   },
   {
    "duration": 8,
    "start_time": "2022-09-09T00:58:35.632Z"
   },
   {
    "duration": 14,
    "start_time": "2022-09-09T00:58:35.641Z"
   },
   {
    "duration": 18,
    "start_time": "2022-09-09T00:58:35.657Z"
   },
   {
    "duration": 16,
    "start_time": "2022-09-09T00:58:35.677Z"
   },
   {
    "duration": 9,
    "start_time": "2022-09-09T00:58:35.694Z"
   },
   {
    "duration": 8,
    "start_time": "2022-09-09T00:58:35.704Z"
   },
   {
    "duration": 10,
    "start_time": "2022-09-09T00:58:35.713Z"
   },
   {
    "duration": 14,
    "start_time": "2022-09-09T00:58:35.725Z"
   },
   {
    "duration": 10,
    "start_time": "2022-09-09T00:58:35.741Z"
   },
   {
    "duration": 13,
    "start_time": "2022-09-09T00:58:35.753Z"
   },
   {
    "duration": 7,
    "start_time": "2022-09-09T00:58:35.768Z"
   },
   {
    "duration": 8,
    "start_time": "2022-09-09T00:58:35.777Z"
   },
   {
    "duration": 101,
    "start_time": "2022-09-09T00:58:35.787Z"
   },
   {
    "duration": 0,
    "start_time": "2022-09-09T00:58:35.890Z"
   },
   {
    "duration": 0,
    "start_time": "2022-09-09T00:58:35.891Z"
   },
   {
    "duration": 0,
    "start_time": "2022-09-09T00:58:35.893Z"
   },
   {
    "duration": 6,
    "start_time": "2022-09-09T01:02:06.665Z"
   },
   {
    "duration": 553,
    "start_time": "2022-09-09T01:05:34.977Z"
   },
   {
    "duration": 3,
    "start_time": "2022-09-09T01:05:35.532Z"
   },
   {
    "duration": 21,
    "start_time": "2022-09-09T01:05:35.537Z"
   },
   {
    "duration": 33,
    "start_time": "2022-09-09T01:05:35.560Z"
   },
   {
    "duration": 21,
    "start_time": "2022-09-09T01:05:35.595Z"
   },
   {
    "duration": 23,
    "start_time": "2022-09-09T01:05:35.618Z"
   },
   {
    "duration": 15,
    "start_time": "2022-09-09T01:05:35.643Z"
   },
   {
    "duration": 42,
    "start_time": "2022-09-09T01:05:35.660Z"
   },
   {
    "duration": 22,
    "start_time": "2022-09-09T01:05:35.704Z"
   },
   {
    "duration": 7,
    "start_time": "2022-09-09T01:05:35.729Z"
   },
   {
    "duration": 6,
    "start_time": "2022-09-09T01:05:35.738Z"
   },
   {
    "duration": 15,
    "start_time": "2022-09-09T01:05:35.746Z"
   },
   {
    "duration": 34,
    "start_time": "2022-09-09T01:05:35.763Z"
   },
   {
    "duration": 5,
    "start_time": "2022-09-09T01:05:35.799Z"
   },
   {
    "duration": 24,
    "start_time": "2022-09-09T01:05:35.806Z"
   },
   {
    "duration": 15,
    "start_time": "2022-09-09T01:05:35.832Z"
   },
   {
    "duration": 6,
    "start_time": "2022-09-09T01:05:35.849Z"
   },
   {
    "duration": 4,
    "start_time": "2022-09-09T01:05:35.857Z"
   },
   {
    "duration": 10,
    "start_time": "2022-09-09T01:05:35.862Z"
   },
   {
    "duration": 25,
    "start_time": "2022-09-09T01:05:35.874Z"
   },
   {
    "duration": 13,
    "start_time": "2022-09-09T01:05:35.901Z"
   },
   {
    "duration": 6,
    "start_time": "2022-09-09T01:05:35.916Z"
   },
   {
    "duration": 10,
    "start_time": "2022-09-09T01:05:35.924Z"
   },
   {
    "duration": 12,
    "start_time": "2022-09-09T01:05:35.936Z"
   },
   {
    "duration": 5,
    "start_time": "2022-09-09T01:05:35.950Z"
   },
   {
    "duration": 46,
    "start_time": "2022-09-09T01:05:35.957Z"
   },
   {
    "duration": 2,
    "start_time": "2022-09-09T01:05:36.005Z"
   },
   {
    "duration": 13,
    "start_time": "2022-09-09T01:05:36.011Z"
   },
   {
    "duration": 20,
    "start_time": "2022-09-09T01:05:36.026Z"
   },
   {
    "duration": 11,
    "start_time": "2022-09-09T01:05:36.048Z"
   },
   {
    "duration": 11,
    "start_time": "2022-09-09T01:05:36.061Z"
   },
   {
    "duration": 24,
    "start_time": "2022-09-09T01:05:36.073Z"
   },
   {
    "duration": 6,
    "start_time": "2022-09-09T01:05:36.099Z"
   },
   {
    "duration": 5,
    "start_time": "2022-09-09T01:05:36.107Z"
   },
   {
    "duration": 28,
    "start_time": "2022-09-09T01:05:36.114Z"
   },
   {
    "duration": 19,
    "start_time": "2022-09-09T01:05:36.144Z"
   },
   {
    "duration": 38,
    "start_time": "2022-09-09T01:05:36.164Z"
   },
   {
    "duration": 4,
    "start_time": "2022-09-09T01:05:36.203Z"
   },
   {
    "duration": 11,
    "start_time": "2022-09-09T01:05:36.209Z"
   },
   {
    "duration": 6,
    "start_time": "2022-09-09T01:05:36.222Z"
   },
   {
    "duration": 10,
    "start_time": "2022-09-09T01:05:36.230Z"
   },
   {
    "duration": 18,
    "start_time": "2022-09-09T01:05:36.242Z"
   },
   {
    "duration": 35,
    "start_time": "2022-09-09T01:05:36.262Z"
   },
   {
    "duration": 20,
    "start_time": "2022-09-09T01:05:36.299Z"
   },
   {
    "duration": 8,
    "start_time": "2022-09-09T01:05:36.321Z"
   },
   {
    "duration": 15,
    "start_time": "2022-09-09T01:05:36.331Z"
   },
   {
    "duration": 15,
    "start_time": "2022-09-09T01:05:36.348Z"
   },
   {
    "duration": 13,
    "start_time": "2022-09-09T01:05:36.365Z"
   },
   {
    "duration": 10,
    "start_time": "2022-09-09T01:05:36.380Z"
   },
   {
    "duration": 8,
    "start_time": "2022-09-09T01:05:36.391Z"
   },
   {
    "duration": 6,
    "start_time": "2022-09-09T01:05:36.401Z"
   },
   {
    "duration": 8,
    "start_time": "2022-09-09T01:05:36.409Z"
   },
   {
    "duration": 8,
    "start_time": "2022-09-09T01:05:36.418Z"
   },
   {
    "duration": 7,
    "start_time": "2022-09-09T01:05:36.427Z"
   },
   {
    "duration": 7,
    "start_time": "2022-09-09T01:05:36.435Z"
   },
   {
    "duration": 10,
    "start_time": "2022-09-09T01:05:36.444Z"
   },
   {
    "duration": 8,
    "start_time": "2022-09-09T01:05:36.456Z"
   },
   {
    "duration": 8,
    "start_time": "2022-09-09T01:05:36.466Z"
   },
   {
    "duration": 7,
    "start_time": "2022-09-09T01:05:36.475Z"
   },
   {
    "duration": 9,
    "start_time": "2022-09-09T01:05:36.484Z"
   },
   {
    "duration": 8,
    "start_time": "2022-09-09T01:05:36.495Z"
   },
   {
    "duration": 6,
    "start_time": "2022-09-09T01:05:36.505Z"
   },
   {
    "duration": 6,
    "start_time": "2022-09-09T01:05:36.514Z"
   },
   {
    "duration": 7,
    "start_time": "2022-09-09T01:05:36.522Z"
   },
   {
    "duration": 9,
    "start_time": "2022-09-09T01:05:36.530Z"
   },
   {
    "duration": 24,
    "start_time": "2022-09-09T01:05:36.541Z"
   },
   {
    "duration": 13,
    "start_time": "2022-09-09T01:05:36.566Z"
   },
   {
    "duration": 17,
    "start_time": "2022-09-09T01:05:36.581Z"
   },
   {
    "duration": 11,
    "start_time": "2022-09-09T01:05:36.600Z"
   },
   {
    "duration": 7,
    "start_time": "2022-09-09T01:05:36.613Z"
   },
   {
    "duration": 80,
    "start_time": "2022-09-09T01:05:36.622Z"
   },
   {
    "duration": 0,
    "start_time": "2022-09-09T01:05:36.703Z"
   },
   {
    "duration": 0,
    "start_time": "2022-09-09T01:05:36.705Z"
   },
   {
    "duration": 0,
    "start_time": "2022-09-09T01:05:36.706Z"
   },
   {
    "duration": 1397,
    "start_time": "2022-09-09T01:07:31.224Z"
   },
   {
    "duration": 74,
    "start_time": "2022-09-09T01:11:42.390Z"
   },
   {
    "duration": 3,
    "start_time": "2022-09-09T01:11:50.991Z"
   },
   {
    "duration": 517,
    "start_time": "2022-09-09T01:11:55.901Z"
   },
   {
    "duration": 4,
    "start_time": "2022-09-09T01:11:56.420Z"
   },
   {
    "duration": 35,
    "start_time": "2022-09-09T01:11:56.425Z"
   },
   {
    "duration": 41,
    "start_time": "2022-09-09T01:11:56.462Z"
   },
   {
    "duration": 50,
    "start_time": "2022-09-09T01:11:56.505Z"
   },
   {
    "duration": 99,
    "start_time": "2022-09-09T01:11:56.557Z"
   },
   {
    "duration": 72,
    "start_time": "2022-09-09T01:11:56.658Z"
   },
   {
    "duration": 82,
    "start_time": "2022-09-09T01:11:56.731Z"
   },
   {
    "duration": 20,
    "start_time": "2022-09-09T01:11:56.815Z"
   },
   {
    "duration": 8,
    "start_time": "2022-09-09T01:11:56.838Z"
   },
   {
    "duration": 34,
    "start_time": "2022-09-09T01:11:56.848Z"
   },
   {
    "duration": 13,
    "start_time": "2022-09-09T01:11:56.884Z"
   },
   {
    "duration": 19,
    "start_time": "2022-09-09T01:11:56.899Z"
   },
   {
    "duration": 21,
    "start_time": "2022-09-09T01:11:56.920Z"
   },
   {
    "duration": 22,
    "start_time": "2022-09-09T01:11:56.943Z"
   },
   {
    "duration": 33,
    "start_time": "2022-09-09T01:11:56.968Z"
   },
   {
    "duration": 23,
    "start_time": "2022-09-09T01:11:57.002Z"
   },
   {
    "duration": 34,
    "start_time": "2022-09-09T01:11:57.027Z"
   },
   {
    "duration": 19,
    "start_time": "2022-09-09T01:11:57.063Z"
   },
   {
    "duration": 34,
    "start_time": "2022-09-09T01:11:57.083Z"
   },
   {
    "duration": 21,
    "start_time": "2022-09-09T01:11:57.119Z"
   },
   {
    "duration": 12,
    "start_time": "2022-09-09T01:11:57.141Z"
   },
   {
    "duration": 19,
    "start_time": "2022-09-09T01:11:57.155Z"
   },
   {
    "duration": 15,
    "start_time": "2022-09-09T01:11:57.176Z"
   },
   {
    "duration": 18,
    "start_time": "2022-09-09T01:11:57.193Z"
   },
   {
    "duration": 26,
    "start_time": "2022-09-09T01:11:57.213Z"
   },
   {
    "duration": 4,
    "start_time": "2022-09-09T01:11:57.242Z"
   },
   {
    "duration": 53,
    "start_time": "2022-09-09T01:11:57.251Z"
   },
   {
    "duration": 64,
    "start_time": "2022-09-09T01:11:57.306Z"
   },
   {
    "duration": 66,
    "start_time": "2022-09-09T01:11:57.371Z"
   },
   {
    "duration": 21,
    "start_time": "2022-09-09T01:11:57.439Z"
   },
   {
    "duration": 35,
    "start_time": "2022-09-09T01:11:57.462Z"
   },
   {
    "duration": 23,
    "start_time": "2022-09-09T01:11:57.498Z"
   },
   {
    "duration": 21,
    "start_time": "2022-09-09T01:11:57.523Z"
   },
   {
    "duration": 35,
    "start_time": "2022-09-09T01:11:57.546Z"
   },
   {
    "duration": 20,
    "start_time": "2022-09-09T01:11:57.583Z"
   },
   {
    "duration": 22,
    "start_time": "2022-09-09T01:11:57.606Z"
   },
   {
    "duration": 12,
    "start_time": "2022-09-09T01:11:57.629Z"
   },
   {
    "duration": 18,
    "start_time": "2022-09-09T01:11:57.643Z"
   },
   {
    "duration": 17,
    "start_time": "2022-09-09T01:11:57.662Z"
   },
   {
    "duration": 19,
    "start_time": "2022-09-09T01:11:57.681Z"
   },
   {
    "duration": 15,
    "start_time": "2022-09-09T01:11:57.701Z"
   },
   {
    "duration": 18,
    "start_time": "2022-09-09T01:11:57.718Z"
   },
   {
    "duration": 64,
    "start_time": "2022-09-09T01:11:57.737Z"
   },
   {
    "duration": 0,
    "start_time": "2022-09-09T01:11:57.803Z"
   },
   {
    "duration": 0,
    "start_time": "2022-09-09T01:11:57.804Z"
   },
   {
    "duration": 0,
    "start_time": "2022-09-09T01:11:57.805Z"
   },
   {
    "duration": 0,
    "start_time": "2022-09-09T01:11:57.806Z"
   },
   {
    "duration": 0,
    "start_time": "2022-09-09T01:11:57.807Z"
   },
   {
    "duration": 0,
    "start_time": "2022-09-09T01:11:57.808Z"
   },
   {
    "duration": 0,
    "start_time": "2022-09-09T01:11:57.809Z"
   },
   {
    "duration": 0,
    "start_time": "2022-09-09T01:11:57.810Z"
   },
   {
    "duration": 0,
    "start_time": "2022-09-09T01:11:57.811Z"
   },
   {
    "duration": 0,
    "start_time": "2022-09-09T01:11:57.812Z"
   },
   {
    "duration": 0,
    "start_time": "2022-09-09T01:11:57.813Z"
   },
   {
    "duration": 0,
    "start_time": "2022-09-09T01:11:57.814Z"
   },
   {
    "duration": 0,
    "start_time": "2022-09-09T01:11:57.816Z"
   },
   {
    "duration": 0,
    "start_time": "2022-09-09T01:11:57.817Z"
   },
   {
    "duration": 0,
    "start_time": "2022-09-09T01:11:57.818Z"
   },
   {
    "duration": 0,
    "start_time": "2022-09-09T01:11:57.819Z"
   },
   {
    "duration": 0,
    "start_time": "2022-09-09T01:11:57.820Z"
   },
   {
    "duration": 0,
    "start_time": "2022-09-09T01:11:57.821Z"
   },
   {
    "duration": 0,
    "start_time": "2022-09-09T01:11:57.822Z"
   },
   {
    "duration": 0,
    "start_time": "2022-09-09T01:11:57.824Z"
   },
   {
    "duration": 0,
    "start_time": "2022-09-09T01:11:57.825Z"
   },
   {
    "duration": 0,
    "start_time": "2022-09-09T01:11:57.825Z"
   },
   {
    "duration": 0,
    "start_time": "2022-09-09T01:11:57.827Z"
   },
   {
    "duration": 0,
    "start_time": "2022-09-09T01:11:57.828Z"
   },
   {
    "duration": 0,
    "start_time": "2022-09-09T01:11:57.829Z"
   },
   {
    "duration": 0,
    "start_time": "2022-09-09T01:11:57.830Z"
   },
   {
    "duration": 0,
    "start_time": "2022-09-09T01:11:57.831Z"
   },
   {
    "duration": 0,
    "start_time": "2022-09-09T01:11:57.832Z"
   },
   {
    "duration": 0,
    "start_time": "2022-09-09T01:11:57.833Z"
   },
   {
    "duration": 0,
    "start_time": "2022-09-09T01:11:57.834Z"
   },
   {
    "duration": 76,
    "start_time": "2022-09-09T01:12:48.980Z"
   },
   {
    "duration": 79,
    "start_time": "2022-09-09T01:13:02.077Z"
   },
   {
    "duration": 70,
    "start_time": "2022-09-09T01:13:15.630Z"
   },
   {
    "duration": 11,
    "start_time": "2022-09-09T01:14:37.320Z"
   },
   {
    "duration": 77,
    "start_time": "2022-09-09T01:15:27.585Z"
   },
   {
    "duration": 14,
    "start_time": "2022-09-09T01:15:30.928Z"
   },
   {
    "duration": 21,
    "start_time": "2022-09-09T01:15:44.730Z"
   },
   {
    "duration": 21,
    "start_time": "2022-09-09T01:16:44.939Z"
   },
   {
    "duration": 14,
    "start_time": "2022-09-09T01:16:59.901Z"
   },
   {
    "duration": 3,
    "start_time": "2022-09-09T01:18:34.936Z"
   },
   {
    "duration": 15,
    "start_time": "2022-09-09T01:22:00.554Z"
   },
   {
    "duration": 75,
    "start_time": "2022-09-09T01:23:23.247Z"
   },
   {
    "duration": 97,
    "start_time": "2022-09-09T01:23:58.410Z"
   },
   {
    "duration": 21,
    "start_time": "2022-09-09T01:24:02.912Z"
   },
   {
    "duration": 26,
    "start_time": "2022-09-09T01:25:24.498Z"
   },
   {
    "duration": 33,
    "start_time": "2022-09-09T01:26:07.259Z"
   },
   {
    "duration": 5,
    "start_time": "2022-09-09T01:37:58.689Z"
   },
   {
    "duration": 5,
    "start_time": "2022-09-09T01:38:33.128Z"
   },
   {
    "duration": 44,
    "start_time": "2022-09-10T21:44:59.845Z"
   },
   {
    "duration": 587,
    "start_time": "2022-09-10T21:45:07.921Z"
   },
   {
    "duration": 4,
    "start_time": "2022-09-10T21:45:08.510Z"
   },
   {
    "duration": 24,
    "start_time": "2022-09-10T21:45:08.515Z"
   },
   {
    "duration": 25,
    "start_time": "2022-09-10T21:45:08.542Z"
   },
   {
    "duration": 21,
    "start_time": "2022-09-10T21:45:08.569Z"
   },
   {
    "duration": 33,
    "start_time": "2022-09-10T21:45:08.592Z"
   },
   {
    "duration": 10,
    "start_time": "2022-09-10T21:45:08.627Z"
   },
   {
    "duration": 11,
    "start_time": "2022-09-10T21:45:08.638Z"
   },
   {
    "duration": 14,
    "start_time": "2022-09-10T21:45:08.650Z"
   },
   {
    "duration": 7,
    "start_time": "2022-09-10T21:45:08.667Z"
   },
   {
    "duration": 3,
    "start_time": "2022-09-10T21:45:08.676Z"
   },
   {
    "duration": 43,
    "start_time": "2022-09-10T21:45:08.681Z"
   },
   {
    "duration": 14,
    "start_time": "2022-09-10T21:45:08.726Z"
   },
   {
    "duration": 11,
    "start_time": "2022-09-10T21:45:08.741Z"
   },
   {
    "duration": 10,
    "start_time": "2022-09-10T21:45:08.753Z"
   },
   {
    "duration": 11,
    "start_time": "2022-09-10T21:45:08.764Z"
   },
   {
    "duration": 4,
    "start_time": "2022-09-10T21:45:08.777Z"
   },
   {
    "duration": 11,
    "start_time": "2022-09-10T21:45:08.783Z"
   },
   {
    "duration": 34,
    "start_time": "2022-09-10T21:45:08.795Z"
   },
   {
    "duration": 13,
    "start_time": "2022-09-10T21:45:08.830Z"
   },
   {
    "duration": 26,
    "start_time": "2022-09-10T21:45:08.845Z"
   },
   {
    "duration": 6,
    "start_time": "2022-09-10T21:45:08.873Z"
   },
   {
    "duration": 37,
    "start_time": "2022-09-10T21:45:08.881Z"
   },
   {
    "duration": 33,
    "start_time": "2022-09-10T21:45:08.920Z"
   },
   {
    "duration": 17,
    "start_time": "2022-09-10T21:45:08.954Z"
   },
   {
    "duration": 21,
    "start_time": "2022-09-10T21:45:08.973Z"
   },
   {
    "duration": 9,
    "start_time": "2022-09-10T21:45:08.996Z"
   },
   {
    "duration": 11,
    "start_time": "2022-09-10T21:45:09.010Z"
   },
   {
    "duration": 29,
    "start_time": "2022-09-10T21:45:09.023Z"
   },
   {
    "duration": 12,
    "start_time": "2022-09-10T21:45:09.053Z"
   },
   {
    "duration": 11,
    "start_time": "2022-09-10T21:45:09.067Z"
   },
   {
    "duration": 18,
    "start_time": "2022-09-10T21:45:09.080Z"
   },
   {
    "duration": 4,
    "start_time": "2022-09-10T21:45:09.099Z"
   },
   {
    "duration": 4,
    "start_time": "2022-09-10T21:45:09.105Z"
   },
   {
    "duration": 38,
    "start_time": "2022-09-10T21:45:09.111Z"
   },
   {
    "duration": 14,
    "start_time": "2022-09-10T21:45:09.151Z"
   },
   {
    "duration": 17,
    "start_time": "2022-09-10T21:45:09.167Z"
   },
   {
    "duration": 3,
    "start_time": "2022-09-10T21:45:09.185Z"
   },
   {
    "duration": 8,
    "start_time": "2022-09-10T21:45:09.189Z"
   },
   {
    "duration": 5,
    "start_time": "2022-09-10T21:45:09.198Z"
   },
   {
    "duration": 3,
    "start_time": "2022-09-10T21:45:09.222Z"
   },
   {
    "duration": 6,
    "start_time": "2022-09-10T21:45:09.226Z"
   },
   {
    "duration": 65,
    "start_time": "2022-09-10T21:45:09.233Z"
   },
   {
    "duration": 0,
    "start_time": "2022-09-10T21:45:09.300Z"
   },
   {
    "duration": 0,
    "start_time": "2022-09-10T21:45:09.300Z"
   },
   {
    "duration": 0,
    "start_time": "2022-09-10T21:45:09.301Z"
   },
   {
    "duration": 0,
    "start_time": "2022-09-10T21:45:09.302Z"
   },
   {
    "duration": 0,
    "start_time": "2022-09-10T21:45:09.303Z"
   },
   {
    "duration": 0,
    "start_time": "2022-09-10T21:45:09.322Z"
   },
   {
    "duration": 0,
    "start_time": "2022-09-10T21:45:09.323Z"
   },
   {
    "duration": 0,
    "start_time": "2022-09-10T21:45:09.324Z"
   },
   {
    "duration": 0,
    "start_time": "2022-09-10T21:45:09.325Z"
   },
   {
    "duration": 0,
    "start_time": "2022-09-10T21:45:09.326Z"
   },
   {
    "duration": 0,
    "start_time": "2022-09-10T21:45:09.327Z"
   },
   {
    "duration": 0,
    "start_time": "2022-09-10T21:45:09.328Z"
   },
   {
    "duration": 0,
    "start_time": "2022-09-10T21:45:09.329Z"
   },
   {
    "duration": 0,
    "start_time": "2022-09-10T21:45:09.330Z"
   },
   {
    "duration": 0,
    "start_time": "2022-09-10T21:45:09.330Z"
   },
   {
    "duration": 0,
    "start_time": "2022-09-10T21:45:09.331Z"
   },
   {
    "duration": 0,
    "start_time": "2022-09-10T21:45:09.332Z"
   },
   {
    "duration": 0,
    "start_time": "2022-09-10T21:45:09.333Z"
   },
   {
    "duration": 0,
    "start_time": "2022-09-10T21:45:09.334Z"
   },
   {
    "duration": 0,
    "start_time": "2022-09-10T21:45:09.335Z"
   },
   {
    "duration": 0,
    "start_time": "2022-09-10T21:45:09.336Z"
   },
   {
    "duration": 0,
    "start_time": "2022-09-10T21:45:09.336Z"
   },
   {
    "duration": 0,
    "start_time": "2022-09-10T21:45:09.337Z"
   },
   {
    "duration": 0,
    "start_time": "2022-09-10T21:45:09.338Z"
   },
   {
    "duration": 0,
    "start_time": "2022-09-10T21:45:09.339Z"
   },
   {
    "duration": 0,
    "start_time": "2022-09-10T21:45:09.340Z"
   },
   {
    "duration": 0,
    "start_time": "2022-09-10T21:45:09.341Z"
   },
   {
    "duration": 0,
    "start_time": "2022-09-10T21:45:09.341Z"
   },
   {
    "duration": 0,
    "start_time": "2022-09-10T21:45:09.343Z"
   },
   {
    "duration": 0,
    "start_time": "2022-09-10T21:45:09.344Z"
   },
   {
    "duration": 0,
    "start_time": "2022-09-10T21:45:09.345Z"
   },
   {
    "duration": 8,
    "start_time": "2022-09-10T21:45:42.662Z"
   },
   {
    "duration": 721,
    "start_time": "2022-09-10T21:48:32.663Z"
   },
   {
    "duration": 14,
    "start_time": "2022-09-10T22:00:56.716Z"
   },
   {
    "duration": 477,
    "start_time": "2022-09-10T22:01:15.904Z"
   },
   {
    "duration": 3,
    "start_time": "2022-09-10T22:01:16.382Z"
   },
   {
    "duration": 19,
    "start_time": "2022-09-10T22:01:16.387Z"
   },
   {
    "duration": 25,
    "start_time": "2022-09-10T22:01:16.407Z"
   },
   {
    "duration": 18,
    "start_time": "2022-09-10T22:01:16.434Z"
   },
   {
    "duration": 19,
    "start_time": "2022-09-10T22:01:16.453Z"
   },
   {
    "duration": 10,
    "start_time": "2022-09-10T22:01:16.473Z"
   },
   {
    "duration": 25,
    "start_time": "2022-09-10T22:01:16.484Z"
   },
   {
    "duration": 20,
    "start_time": "2022-09-10T22:01:16.510Z"
   },
   {
    "duration": 17,
    "start_time": "2022-09-10T22:01:16.531Z"
   },
   {
    "duration": 34,
    "start_time": "2022-09-10T22:01:16.549Z"
   },
   {
    "duration": 21,
    "start_time": "2022-09-10T22:01:16.584Z"
   },
   {
    "duration": 36,
    "start_time": "2022-09-10T22:01:16.607Z"
   },
   {
    "duration": 23,
    "start_time": "2022-09-10T22:01:16.646Z"
   },
   {
    "duration": 19,
    "start_time": "2022-09-10T22:01:16.670Z"
   },
   {
    "duration": 55,
    "start_time": "2022-09-10T22:01:16.690Z"
   },
   {
    "duration": 17,
    "start_time": "2022-09-10T22:01:16.746Z"
   },
   {
    "duration": 13,
    "start_time": "2022-09-10T22:01:16.765Z"
   },
   {
    "duration": 24,
    "start_time": "2022-09-10T22:01:16.780Z"
   },
   {
    "duration": 26,
    "start_time": "2022-09-10T22:01:16.805Z"
   },
   {
    "duration": 50,
    "start_time": "2022-09-10T22:01:16.833Z"
   },
   {
    "duration": 41,
    "start_time": "2022-09-10T22:01:16.884Z"
   },
   {
    "duration": 36,
    "start_time": "2022-09-10T22:01:16.926Z"
   },
   {
    "duration": 29,
    "start_time": "2022-09-10T22:01:16.964Z"
   },
   {
    "duration": 31,
    "start_time": "2022-09-10T22:01:16.994Z"
   },
   {
    "duration": 45,
    "start_time": "2022-09-10T22:01:17.027Z"
   },
   {
    "duration": 42,
    "start_time": "2022-09-10T22:01:17.074Z"
   },
   {
    "duration": 14,
    "start_time": "2022-09-10T22:01:17.118Z"
   },
   {
    "duration": 41,
    "start_time": "2022-09-10T22:01:17.133Z"
   },
   {
    "duration": 20,
    "start_time": "2022-09-10T22:01:17.176Z"
   },
   {
    "duration": 35,
    "start_time": "2022-09-10T22:01:17.198Z"
   },
   {
    "duration": 11,
    "start_time": "2022-09-10T22:01:17.234Z"
   },
   {
    "duration": 25,
    "start_time": "2022-09-10T22:01:17.246Z"
   },
   {
    "duration": 25,
    "start_time": "2022-09-10T22:01:17.272Z"
   },
   {
    "duration": 42,
    "start_time": "2022-09-10T22:01:17.299Z"
   },
   {
    "duration": 37,
    "start_time": "2022-09-10T22:01:17.342Z"
   },
   {
    "duration": 43,
    "start_time": "2022-09-10T22:01:17.380Z"
   },
   {
    "duration": 3,
    "start_time": "2022-09-10T22:01:17.425Z"
   },
   {
    "duration": 30,
    "start_time": "2022-09-10T22:01:17.430Z"
   },
   {
    "duration": 47,
    "start_time": "2022-09-10T22:01:17.461Z"
   },
   {
    "duration": 64,
    "start_time": "2022-09-10T22:01:17.513Z"
   },
   {
    "duration": 16,
    "start_time": "2022-09-10T22:01:17.579Z"
   },
   {
    "duration": 18,
    "start_time": "2022-09-10T22:01:17.596Z"
   },
   {
    "duration": 42,
    "start_time": "2022-09-10T22:01:17.615Z"
   },
   {
    "duration": 12,
    "start_time": "2022-09-10T22:01:17.659Z"
   },
   {
    "duration": 28,
    "start_time": "2022-09-10T22:01:17.672Z"
   },
   {
    "duration": 67,
    "start_time": "2022-09-10T22:01:17.701Z"
   },
   {
    "duration": 0,
    "start_time": "2022-09-10T22:01:17.770Z"
   },
   {
    "duration": 0,
    "start_time": "2022-09-10T22:01:17.771Z"
   },
   {
    "duration": 0,
    "start_time": "2022-09-10T22:01:17.773Z"
   },
   {
    "duration": 0,
    "start_time": "2022-09-10T22:01:17.774Z"
   },
   {
    "duration": 0,
    "start_time": "2022-09-10T22:01:17.774Z"
   },
   {
    "duration": 0,
    "start_time": "2022-09-10T22:01:17.776Z"
   },
   {
    "duration": 0,
    "start_time": "2022-09-10T22:01:17.776Z"
   },
   {
    "duration": 0,
    "start_time": "2022-09-10T22:01:17.777Z"
   },
   {
    "duration": 0,
    "start_time": "2022-09-10T22:01:17.778Z"
   },
   {
    "duration": 0,
    "start_time": "2022-09-10T22:01:17.779Z"
   },
   {
    "duration": 0,
    "start_time": "2022-09-10T22:01:17.780Z"
   },
   {
    "duration": 0,
    "start_time": "2022-09-10T22:01:17.781Z"
   },
   {
    "duration": 0,
    "start_time": "2022-09-10T22:01:17.782Z"
   },
   {
    "duration": 0,
    "start_time": "2022-09-10T22:01:17.783Z"
   },
   {
    "duration": 0,
    "start_time": "2022-09-10T22:01:17.784Z"
   },
   {
    "duration": 0,
    "start_time": "2022-09-10T22:01:17.785Z"
   },
   {
    "duration": 0,
    "start_time": "2022-09-10T22:01:17.785Z"
   },
   {
    "duration": 0,
    "start_time": "2022-09-10T22:01:17.786Z"
   },
   {
    "duration": 0,
    "start_time": "2022-09-10T22:01:17.787Z"
   },
   {
    "duration": 0,
    "start_time": "2022-09-10T22:01:17.821Z"
   },
   {
    "duration": 0,
    "start_time": "2022-09-10T22:01:17.822Z"
   },
   {
    "duration": 0,
    "start_time": "2022-09-10T22:01:17.824Z"
   },
   {
    "duration": 0,
    "start_time": "2022-09-10T22:01:17.824Z"
   },
   {
    "duration": 0,
    "start_time": "2022-09-10T22:01:17.826Z"
   },
   {
    "duration": 0,
    "start_time": "2022-09-10T22:01:17.827Z"
   },
   {
    "duration": 0,
    "start_time": "2022-09-10T22:01:17.828Z"
   },
   {
    "duration": 0,
    "start_time": "2022-09-10T22:01:17.829Z"
   },
   {
    "duration": 5,
    "start_time": "2022-09-10T22:01:34.276Z"
   },
   {
    "duration": 2,
    "start_time": "2022-09-10T22:03:17.660Z"
   },
   {
    "duration": 11,
    "start_time": "2022-09-10T22:03:20.863Z"
   },
   {
    "duration": 2,
    "start_time": "2022-09-10T22:03:41.354Z"
   },
   {
    "duration": 696,
    "start_time": "2022-09-10T22:03:49.600Z"
   },
   {
    "duration": 11,
    "start_time": "2022-09-10T22:03:53.996Z"
   },
   {
    "duration": 8,
    "start_time": "2022-09-10T22:05:10.319Z"
   },
   {
    "duration": 11,
    "start_time": "2022-09-10T22:09:50.133Z"
   },
   {
    "duration": 70,
    "start_time": "2022-09-10T22:09:58.697Z"
   },
   {
    "duration": 46,
    "start_time": "2022-09-10T22:09:59.664Z"
   },
   {
    "duration": 67,
    "start_time": "2022-09-10T22:10:10.395Z"
   },
   {
    "duration": 4,
    "start_time": "2022-09-10T22:10:11.879Z"
   },
   {
    "duration": 11,
    "start_time": "2022-09-10T22:10:13.517Z"
   },
   {
    "duration": 67,
    "start_time": "2022-09-10T22:10:20.538Z"
   },
   {
    "duration": 426,
    "start_time": "2022-09-10T22:10:30.464Z"
   },
   {
    "duration": 4,
    "start_time": "2022-09-10T22:10:36.688Z"
   },
   {
    "duration": 11,
    "start_time": "2022-09-10T22:10:37.993Z"
   },
   {
    "duration": 21,
    "start_time": "2022-09-10T22:10:43.575Z"
   },
   {
    "duration": 19,
    "start_time": "2022-09-10T22:10:48.721Z"
   },
   {
    "duration": 22,
    "start_time": "2022-09-10T22:10:50.183Z"
   },
   {
    "duration": 12,
    "start_time": "2022-09-10T22:10:56.008Z"
   },
   {
    "duration": 9,
    "start_time": "2022-09-10T22:11:28.376Z"
   },
   {
    "duration": 10,
    "start_time": "2022-09-10T22:11:32.072Z"
   },
   {
    "duration": 72,
    "start_time": "2022-09-10T22:12:01.343Z"
   },
   {
    "duration": 3,
    "start_time": "2022-09-10T22:12:06.303Z"
   },
   {
    "duration": 464,
    "start_time": "2022-09-10T22:12:15.472Z"
   },
   {
    "duration": 4,
    "start_time": "2022-09-10T22:12:18.113Z"
   },
   {
    "duration": 15,
    "start_time": "2022-09-10T22:12:18.893Z"
   },
   {
    "duration": 21,
    "start_time": "2022-09-10T22:12:20.381Z"
   },
   {
    "duration": 18,
    "start_time": "2022-09-10T22:12:21.675Z"
   },
   {
    "duration": 18,
    "start_time": "2022-09-10T22:12:24.082Z"
   },
   {
    "duration": 12,
    "start_time": "2022-09-10T22:12:26.385Z"
   },
   {
    "duration": 10,
    "start_time": "2022-09-10T22:12:27.822Z"
   },
   {
    "duration": 12,
    "start_time": "2022-09-10T22:12:35.264Z"
   },
   {
    "duration": 7,
    "start_time": "2022-09-10T22:12:38.172Z"
   },
   {
    "duration": 2,
    "start_time": "2022-09-10T22:12:52.072Z"
   },
   {
    "duration": 4,
    "start_time": "2022-09-10T22:13:00.422Z"
   },
   {
    "duration": 9,
    "start_time": "2022-09-10T22:13:08.534Z"
   },
   {
    "duration": 5,
    "start_time": "2022-09-10T22:13:27.247Z"
   },
   {
    "duration": 8,
    "start_time": "2022-09-10T22:13:42.786Z"
   },
   {
    "duration": 13,
    "start_time": "2022-09-10T22:14:35.741Z"
   },
   {
    "duration": 11,
    "start_time": "2022-09-10T22:16:07.089Z"
   },
   {
    "duration": 5,
    "start_time": "2022-09-10T22:16:24.460Z"
   },
   {
    "duration": 3,
    "start_time": "2022-09-10T22:16:35.609Z"
   },
   {
    "duration": 5,
    "start_time": "2022-09-10T22:16:38.095Z"
   },
   {
    "duration": 483,
    "start_time": "2022-09-10T23:57:38.304Z"
   },
   {
    "duration": 4,
    "start_time": "2022-09-10T23:57:38.788Z"
   },
   {
    "duration": 15,
    "start_time": "2022-09-10T23:57:38.793Z"
   },
   {
    "duration": 24,
    "start_time": "2022-09-10T23:57:38.810Z"
   },
   {
    "duration": 20,
    "start_time": "2022-09-10T23:57:38.836Z"
   },
   {
    "duration": 21,
    "start_time": "2022-09-10T23:57:38.858Z"
   },
   {
    "duration": 19,
    "start_time": "2022-09-10T23:57:38.881Z"
   },
   {
    "duration": 31,
    "start_time": "2022-09-10T23:57:38.902Z"
   },
   {
    "duration": 25,
    "start_time": "2022-09-10T23:57:38.934Z"
   },
   {
    "duration": 7,
    "start_time": "2022-09-10T23:57:38.961Z"
   },
   {
    "duration": 9,
    "start_time": "2022-09-10T23:57:38.970Z"
   },
   {
    "duration": 14,
    "start_time": "2022-09-10T23:57:38.981Z"
   },
   {
    "duration": 26,
    "start_time": "2022-09-10T23:57:38.996Z"
   },
   {
    "duration": 6,
    "start_time": "2022-09-10T23:57:39.026Z"
   },
   {
    "duration": 18,
    "start_time": "2022-09-10T23:57:39.034Z"
   },
   {
    "duration": 12,
    "start_time": "2022-09-10T23:57:39.054Z"
   },
   {
    "duration": 5,
    "start_time": "2022-09-10T23:57:39.068Z"
   },
   {
    "duration": 16,
    "start_time": "2022-09-10T23:57:39.075Z"
   },
   {
    "duration": 8,
    "start_time": "2022-09-10T23:57:39.093Z"
   },
   {
    "duration": 23,
    "start_time": "2022-09-10T23:57:39.103Z"
   },
   {
    "duration": 10,
    "start_time": "2022-09-10T23:57:39.127Z"
   },
   {
    "duration": 5,
    "start_time": "2022-09-10T23:57:39.139Z"
   },
   {
    "duration": 6,
    "start_time": "2022-09-10T23:57:39.145Z"
   },
   {
    "duration": 10,
    "start_time": "2022-09-10T23:57:39.152Z"
   },
   {
    "duration": 4,
    "start_time": "2022-09-10T23:57:39.164Z"
   },
   {
    "duration": 10,
    "start_time": "2022-09-10T23:57:39.170Z"
   },
   {
    "duration": 1,
    "start_time": "2022-09-10T23:57:39.182Z"
   },
   {
    "duration": 2,
    "start_time": "2022-09-10T23:57:39.222Z"
   },
   {
    "duration": 13,
    "start_time": "2022-09-10T23:57:39.226Z"
   },
   {
    "duration": 7,
    "start_time": "2022-09-10T23:57:39.240Z"
   },
   {
    "duration": 9,
    "start_time": "2022-09-10T23:57:39.249Z"
   },
   {
    "duration": 11,
    "start_time": "2022-09-10T23:57:39.259Z"
   },
   {
    "duration": 16,
    "start_time": "2022-09-10T23:57:39.271Z"
   },
   {
    "duration": 4,
    "start_time": "2022-09-10T23:57:39.288Z"
   },
   {
    "duration": 28,
    "start_time": "2022-09-10T23:57:39.294Z"
   },
   {
    "duration": 17,
    "start_time": "2022-09-10T23:57:39.323Z"
   },
   {
    "duration": 18,
    "start_time": "2022-09-10T23:57:39.341Z"
   },
   {
    "duration": 3,
    "start_time": "2022-09-10T23:57:39.361Z"
   },
   {
    "duration": 11,
    "start_time": "2022-09-10T23:57:39.366Z"
   },
   {
    "duration": 15,
    "start_time": "2022-09-10T23:57:39.379Z"
   },
   {
    "duration": 6,
    "start_time": "2022-09-10T23:57:39.398Z"
   },
   {
    "duration": 25,
    "start_time": "2022-09-10T23:57:39.405Z"
   },
   {
    "duration": 10,
    "start_time": "2022-09-10T23:57:39.432Z"
   },
   {
    "duration": 30,
    "start_time": "2022-09-10T23:57:39.443Z"
   },
   {
    "duration": 4,
    "start_time": "2022-09-10T23:57:39.474Z"
   },
   {
    "duration": 8,
    "start_time": "2022-09-10T23:57:39.479Z"
   },
   {
    "duration": 5,
    "start_time": "2022-09-10T23:57:39.488Z"
   },
   {
    "duration": 31,
    "start_time": "2022-09-10T23:57:39.494Z"
   },
   {
    "duration": 59,
    "start_time": "2022-09-10T23:57:39.526Z"
   },
   {
    "duration": 0,
    "start_time": "2022-09-10T23:57:39.586Z"
   },
   {
    "duration": 0,
    "start_time": "2022-09-10T23:57:39.587Z"
   },
   {
    "duration": 0,
    "start_time": "2022-09-10T23:57:39.588Z"
   },
   {
    "duration": 0,
    "start_time": "2022-09-10T23:57:39.589Z"
   },
   {
    "duration": 0,
    "start_time": "2022-09-10T23:57:39.590Z"
   },
   {
    "duration": 0,
    "start_time": "2022-09-10T23:57:39.591Z"
   },
   {
    "duration": 0,
    "start_time": "2022-09-10T23:57:39.591Z"
   },
   {
    "duration": 0,
    "start_time": "2022-09-10T23:57:39.592Z"
   },
   {
    "duration": 0,
    "start_time": "2022-09-10T23:57:39.593Z"
   },
   {
    "duration": 0,
    "start_time": "2022-09-10T23:57:39.594Z"
   },
   {
    "duration": 0,
    "start_time": "2022-09-10T23:57:39.595Z"
   },
   {
    "duration": 0,
    "start_time": "2022-09-10T23:57:39.596Z"
   },
   {
    "duration": 0,
    "start_time": "2022-09-10T23:57:39.597Z"
   },
   {
    "duration": 0,
    "start_time": "2022-09-10T23:57:39.622Z"
   },
   {
    "duration": 0,
    "start_time": "2022-09-10T23:57:39.623Z"
   },
   {
    "duration": 0,
    "start_time": "2022-09-10T23:57:39.624Z"
   },
   {
    "duration": 0,
    "start_time": "2022-09-10T23:57:39.625Z"
   },
   {
    "duration": 0,
    "start_time": "2022-09-10T23:57:39.626Z"
   },
   {
    "duration": 0,
    "start_time": "2022-09-10T23:57:39.627Z"
   },
   {
    "duration": 0,
    "start_time": "2022-09-10T23:57:39.628Z"
   },
   {
    "duration": 0,
    "start_time": "2022-09-10T23:57:39.628Z"
   },
   {
    "duration": 0,
    "start_time": "2022-09-10T23:57:39.629Z"
   },
   {
    "duration": 0,
    "start_time": "2022-09-10T23:57:39.630Z"
   },
   {
    "duration": 0,
    "start_time": "2022-09-10T23:57:39.631Z"
   },
   {
    "duration": 0,
    "start_time": "2022-09-10T23:57:39.632Z"
   },
   {
    "duration": 449,
    "start_time": "2022-09-11T00:03:09.064Z"
   },
   {
    "duration": 8,
    "start_time": "2022-09-11T00:03:09.515Z"
   },
   {
    "duration": 32,
    "start_time": "2022-09-11T00:03:09.525Z"
   },
   {
    "duration": 69,
    "start_time": "2022-09-11T00:03:09.559Z"
   },
   {
    "duration": 86,
    "start_time": "2022-09-11T00:03:09.630Z"
   },
   {
    "duration": 19,
    "start_time": "2022-09-11T00:03:09.718Z"
   },
   {
    "duration": 43,
    "start_time": "2022-09-11T00:03:09.739Z"
   },
   {
    "duration": 20,
    "start_time": "2022-09-11T00:03:09.784Z"
   },
   {
    "duration": 21,
    "start_time": "2022-09-11T00:03:09.806Z"
   },
   {
    "duration": 45,
    "start_time": "2022-09-11T00:03:09.829Z"
   },
   {
    "duration": 35,
    "start_time": "2022-09-11T00:03:09.876Z"
   },
   {
    "duration": 48,
    "start_time": "2022-09-11T00:03:09.913Z"
   },
   {
    "duration": 28,
    "start_time": "2022-09-11T00:03:09.962Z"
   },
   {
    "duration": 79,
    "start_time": "2022-09-11T00:03:09.992Z"
   },
   {
    "duration": 34,
    "start_time": "2022-09-11T00:03:10.073Z"
   },
   {
    "duration": 78,
    "start_time": "2022-09-11T00:03:10.108Z"
   },
   {
    "duration": 34,
    "start_time": "2022-09-11T00:03:10.188Z"
   },
   {
    "duration": 44,
    "start_time": "2022-09-11T00:03:10.224Z"
   },
   {
    "duration": 58,
    "start_time": "2022-09-11T00:03:10.270Z"
   },
   {
    "duration": 37,
    "start_time": "2022-09-11T00:03:10.330Z"
   },
   {
    "duration": 56,
    "start_time": "2022-09-11T00:03:10.369Z"
   },
   {
    "duration": 28,
    "start_time": "2022-09-11T00:03:10.427Z"
   },
   {
    "duration": 38,
    "start_time": "2022-09-11T00:03:10.457Z"
   },
   {
    "duration": 21,
    "start_time": "2022-09-11T00:03:10.496Z"
   },
   {
    "duration": 15,
    "start_time": "2022-09-11T00:03:10.519Z"
   },
   {
    "duration": 14,
    "start_time": "2022-09-11T00:03:10.536Z"
   },
   {
    "duration": 18,
    "start_time": "2022-09-11T00:03:10.551Z"
   },
   {
    "duration": 7,
    "start_time": "2022-09-11T00:03:10.571Z"
   },
   {
    "duration": 12,
    "start_time": "2022-09-11T00:03:10.579Z"
   },
   {
    "duration": 14,
    "start_time": "2022-09-11T00:03:10.592Z"
   },
   {
    "duration": 30,
    "start_time": "2022-09-11T00:03:10.607Z"
   },
   {
    "duration": 10,
    "start_time": "2022-09-11T00:03:10.639Z"
   },
   {
    "duration": 8,
    "start_time": "2022-09-11T00:03:10.650Z"
   },
   {
    "duration": 3,
    "start_time": "2022-09-11T00:03:10.659Z"
   },
   {
    "duration": 10,
    "start_time": "2022-09-11T00:03:10.664Z"
   },
   {
    "duration": 22,
    "start_time": "2022-09-11T00:03:10.675Z"
   },
   {
    "duration": 14,
    "start_time": "2022-09-11T00:03:10.699Z"
   },
   {
    "duration": 17,
    "start_time": "2022-09-11T00:03:10.714Z"
   },
   {
    "duration": 3,
    "start_time": "2022-09-11T00:03:10.733Z"
   },
   {
    "duration": 18,
    "start_time": "2022-09-11T00:03:10.738Z"
   },
   {
    "duration": 13,
    "start_time": "2022-09-11T00:03:10.760Z"
   },
   {
    "duration": 14,
    "start_time": "2022-09-11T00:03:10.774Z"
   },
   {
    "duration": 23,
    "start_time": "2022-09-11T00:03:10.789Z"
   },
   {
    "duration": 7,
    "start_time": "2022-09-11T00:03:10.813Z"
   },
   {
    "duration": 43,
    "start_time": "2022-09-11T00:03:10.821Z"
   },
   {
    "duration": 3,
    "start_time": "2022-09-11T00:03:10.866Z"
   },
   {
    "duration": 16,
    "start_time": "2022-09-11T00:03:10.870Z"
   },
   {
    "duration": 17,
    "start_time": "2022-09-11T00:03:10.887Z"
   },
   {
    "duration": 7,
    "start_time": "2022-09-11T00:03:10.905Z"
   },
   {
    "duration": 18,
    "start_time": "2022-09-11T00:03:10.913Z"
   },
   {
    "duration": 6,
    "start_time": "2022-09-11T00:03:10.932Z"
   },
   {
    "duration": 9,
    "start_time": "2022-09-11T00:03:10.939Z"
   },
   {
    "duration": 20,
    "start_time": "2022-09-11T00:03:10.949Z"
   },
   {
    "duration": 2,
    "start_time": "2022-09-11T00:03:10.970Z"
   },
   {
    "duration": 4,
    "start_time": "2022-09-11T00:03:10.974Z"
   },
   {
    "duration": 6,
    "start_time": "2022-09-11T00:03:10.980Z"
   },
   {
    "duration": 7,
    "start_time": "2022-09-11T00:03:10.988Z"
   },
   {
    "duration": 9,
    "start_time": "2022-09-11T00:03:10.996Z"
   },
   {
    "duration": 9,
    "start_time": "2022-09-11T00:03:11.006Z"
   },
   {
    "duration": 24,
    "start_time": "2022-09-11T00:03:11.016Z"
   },
   {
    "duration": 26,
    "start_time": "2022-09-11T00:03:11.041Z"
   },
   {
    "duration": 14,
    "start_time": "2022-09-11T00:03:11.069Z"
   },
   {
    "duration": 15,
    "start_time": "2022-09-11T00:03:11.084Z"
   },
   {
    "duration": 6,
    "start_time": "2022-09-11T00:03:11.101Z"
   },
   {
    "duration": 5,
    "start_time": "2022-09-11T00:03:11.108Z"
   },
   {
    "duration": 4,
    "start_time": "2022-09-11T00:03:11.115Z"
   },
   {
    "duration": 5,
    "start_time": "2022-09-11T00:03:11.120Z"
   },
   {
    "duration": 14,
    "start_time": "2022-09-11T00:03:11.126Z"
   },
   {
    "duration": 10,
    "start_time": "2022-09-11T00:03:11.141Z"
   },
   {
    "duration": 15,
    "start_time": "2022-09-11T00:03:11.152Z"
   },
   {
    "duration": 11,
    "start_time": "2022-09-11T00:03:11.168Z"
   },
   {
    "duration": 39,
    "start_time": "2022-09-11T00:03:11.181Z"
   },
   {
    "duration": 0,
    "start_time": "2022-09-11T00:03:11.221Z"
   },
   {
    "duration": 0,
    "start_time": "2022-09-11T00:03:11.222Z"
   },
   {
    "duration": 0,
    "start_time": "2022-09-11T00:03:11.223Z"
   },
   {
    "duration": 478,
    "start_time": "2022-09-11T00:04:08.203Z"
   },
   {
    "duration": 4,
    "start_time": "2022-09-11T00:04:08.683Z"
   },
   {
    "duration": 20,
    "start_time": "2022-09-11T00:04:08.689Z"
   },
   {
    "duration": 19,
    "start_time": "2022-09-11T00:04:08.722Z"
   },
   {
    "duration": 17,
    "start_time": "2022-09-11T00:04:08.743Z"
   },
   {
    "duration": 22,
    "start_time": "2022-09-11T00:04:08.762Z"
   },
   {
    "duration": 9,
    "start_time": "2022-09-11T00:04:08.786Z"
   },
   {
    "duration": 33,
    "start_time": "2022-09-11T00:04:08.797Z"
   },
   {
    "duration": 11,
    "start_time": "2022-09-11T00:04:08.831Z"
   },
   {
    "duration": 22,
    "start_time": "2022-09-11T00:04:08.844Z"
   },
   {
    "duration": 14,
    "start_time": "2022-09-11T00:04:08.868Z"
   },
   {
    "duration": 20,
    "start_time": "2022-09-11T00:04:08.884Z"
   },
   {
    "duration": 22,
    "start_time": "2022-09-11T00:04:08.906Z"
   },
   {
    "duration": 12,
    "start_time": "2022-09-11T00:04:08.932Z"
   },
   {
    "duration": 13,
    "start_time": "2022-09-11T00:04:08.946Z"
   },
   {
    "duration": 15,
    "start_time": "2022-09-11T00:04:08.962Z"
   },
   {
    "duration": 18,
    "start_time": "2022-09-11T00:04:08.979Z"
   },
   {
    "duration": 9,
    "start_time": "2022-09-11T00:04:08.999Z"
   },
   {
    "duration": 17,
    "start_time": "2022-09-11T00:04:09.009Z"
   },
   {
    "duration": 17,
    "start_time": "2022-09-11T00:04:09.028Z"
   },
   {
    "duration": 13,
    "start_time": "2022-09-11T00:04:09.047Z"
   },
   {
    "duration": 17,
    "start_time": "2022-09-11T00:04:09.062Z"
   },
   {
    "duration": 6,
    "start_time": "2022-09-11T00:04:09.081Z"
   },
   {
    "duration": 14,
    "start_time": "2022-09-11T00:04:09.089Z"
   },
   {
    "duration": 20,
    "start_time": "2022-09-11T00:04:09.104Z"
   },
   {
    "duration": 4,
    "start_time": "2022-09-11T00:04:09.125Z"
   },
   {
    "duration": 12,
    "start_time": "2022-09-11T00:04:09.131Z"
   },
   {
    "duration": 2,
    "start_time": "2022-09-11T00:04:09.144Z"
   },
   {
    "duration": 8,
    "start_time": "2022-09-11T00:04:09.148Z"
   },
   {
    "duration": 21,
    "start_time": "2022-09-11T00:04:09.157Z"
   },
   {
    "duration": 9,
    "start_time": "2022-09-11T00:04:09.180Z"
   },
   {
    "duration": 13,
    "start_time": "2022-09-11T00:04:09.190Z"
   },
   {
    "duration": 21,
    "start_time": "2022-09-11T00:04:09.204Z"
   },
   {
    "duration": 7,
    "start_time": "2022-09-11T00:04:09.226Z"
   },
   {
    "duration": 10,
    "start_time": "2022-09-11T00:04:09.234Z"
   },
   {
    "duration": 28,
    "start_time": "2022-09-11T00:04:09.245Z"
   },
   {
    "duration": 24,
    "start_time": "2022-09-11T00:04:09.274Z"
   },
   {
    "duration": 25,
    "start_time": "2022-09-11T00:04:09.299Z"
   },
   {
    "duration": 3,
    "start_time": "2022-09-11T00:04:09.325Z"
   },
   {
    "duration": 17,
    "start_time": "2022-09-11T00:04:09.330Z"
   },
   {
    "duration": 19,
    "start_time": "2022-09-11T00:04:09.351Z"
   },
   {
    "duration": 17,
    "start_time": "2022-09-11T00:04:09.371Z"
   },
   {
    "duration": 58,
    "start_time": "2022-09-11T00:04:09.389Z"
   },
   {
    "duration": 10,
    "start_time": "2022-09-11T00:04:09.448Z"
   },
   {
    "duration": 62,
    "start_time": "2022-09-11T00:04:09.461Z"
   },
   {
    "duration": 5,
    "start_time": "2022-09-11T00:04:09.525Z"
   },
   {
    "duration": 8,
    "start_time": "2022-09-11T00:04:09.531Z"
   },
   {
    "duration": 6,
    "start_time": "2022-09-11T00:04:09.540Z"
   },
   {
    "duration": 10,
    "start_time": "2022-09-11T00:04:09.548Z"
   },
   {
    "duration": 5,
    "start_time": "2022-09-11T00:04:09.559Z"
   },
   {
    "duration": 7,
    "start_time": "2022-09-11T00:04:09.565Z"
   },
   {
    "duration": 4,
    "start_time": "2022-09-11T00:04:09.573Z"
   },
   {
    "duration": 45,
    "start_time": "2022-09-11T00:04:09.579Z"
   },
   {
    "duration": 2,
    "start_time": "2022-09-11T00:04:09.626Z"
   },
   {
    "duration": 6,
    "start_time": "2022-09-11T00:04:09.629Z"
   },
   {
    "duration": 6,
    "start_time": "2022-09-11T00:04:09.636Z"
   },
   {
    "duration": 4,
    "start_time": "2022-09-11T00:04:09.644Z"
   },
   {
    "duration": 6,
    "start_time": "2022-09-11T00:04:09.650Z"
   },
   {
    "duration": 8,
    "start_time": "2022-09-11T00:04:09.657Z"
   },
   {
    "duration": 6,
    "start_time": "2022-09-11T00:04:09.666Z"
   },
   {
    "duration": 6,
    "start_time": "2022-09-11T00:04:09.673Z"
   },
   {
    "duration": 7,
    "start_time": "2022-09-11T00:04:09.681Z"
   },
   {
    "duration": 6,
    "start_time": "2022-09-11T00:04:09.689Z"
   },
   {
    "duration": 5,
    "start_time": "2022-09-11T00:04:09.697Z"
   },
   {
    "duration": 6,
    "start_time": "2022-09-11T00:04:09.704Z"
   },
   {
    "duration": 4,
    "start_time": "2022-09-11T00:04:09.721Z"
   },
   {
    "duration": 5,
    "start_time": "2022-09-11T00:04:09.727Z"
   },
   {
    "duration": 8,
    "start_time": "2022-09-11T00:04:09.733Z"
   },
   {
    "duration": 5,
    "start_time": "2022-09-11T00:04:09.742Z"
   },
   {
    "duration": 8,
    "start_time": "2022-09-11T00:04:09.748Z"
   },
   {
    "duration": 6,
    "start_time": "2022-09-11T00:04:09.757Z"
   },
   {
    "duration": 39,
    "start_time": "2022-09-11T00:04:09.764Z"
   },
   {
    "duration": 0,
    "start_time": "2022-09-11T00:04:09.804Z"
   },
   {
    "duration": 0,
    "start_time": "2022-09-11T00:04:09.805Z"
   },
   {
    "duration": 0,
    "start_time": "2022-09-11T00:04:09.806Z"
   },
   {
    "duration": 453,
    "start_time": "2022-09-11T00:05:24.642Z"
   },
   {
    "duration": 3,
    "start_time": "2022-09-11T00:05:25.097Z"
   },
   {
    "duration": 21,
    "start_time": "2022-09-11T00:05:25.102Z"
   },
   {
    "duration": 26,
    "start_time": "2022-09-11T00:05:25.125Z"
   },
   {
    "duration": 20,
    "start_time": "2022-09-11T00:05:25.153Z"
   },
   {
    "duration": 21,
    "start_time": "2022-09-11T00:05:25.175Z"
   },
   {
    "duration": 34,
    "start_time": "2022-09-11T00:05:25.198Z"
   },
   {
    "duration": 11,
    "start_time": "2022-09-11T00:05:25.234Z"
   },
   {
    "duration": 13,
    "start_time": "2022-09-11T00:05:25.247Z"
   },
   {
    "duration": 7,
    "start_time": "2022-09-11T00:05:25.262Z"
   },
   {
    "duration": 6,
    "start_time": "2022-09-11T00:05:25.271Z"
   },
   {
    "duration": 44,
    "start_time": "2022-09-11T00:05:25.279Z"
   },
   {
    "duration": 11,
    "start_time": "2022-09-11T00:05:25.327Z"
   },
   {
    "duration": 8,
    "start_time": "2022-09-11T00:05:25.342Z"
   },
   {
    "duration": 10,
    "start_time": "2022-09-11T00:05:25.352Z"
   },
   {
    "duration": 11,
    "start_time": "2022-09-11T00:05:25.363Z"
   },
   {
    "duration": 48,
    "start_time": "2022-09-11T00:05:25.376Z"
   },
   {
    "duration": 10,
    "start_time": "2022-09-11T00:05:25.425Z"
   },
   {
    "duration": 10,
    "start_time": "2022-09-11T00:05:25.438Z"
   },
   {
    "duration": 7,
    "start_time": "2022-09-11T00:05:25.449Z"
   },
   {
    "duration": 9,
    "start_time": "2022-09-11T00:05:25.457Z"
   },
   {
    "duration": 9,
    "start_time": "2022-09-11T00:05:25.468Z"
   },
   {
    "duration": 5,
    "start_time": "2022-09-11T00:05:25.478Z"
   },
   {
    "duration": 39,
    "start_time": "2022-09-11T00:05:25.484Z"
   },
   {
    "duration": 11,
    "start_time": "2022-09-11T00:05:25.525Z"
   },
   {
    "duration": 4,
    "start_time": "2022-09-11T00:05:25.538Z"
   },
   {
    "duration": 12,
    "start_time": "2022-09-11T00:05:25.543Z"
   },
   {
    "duration": 1,
    "start_time": "2022-09-11T00:05:25.557Z"
   },
   {
    "duration": 9,
    "start_time": "2022-09-11T00:05:25.560Z"
   },
   {
    "duration": 14,
    "start_time": "2022-09-11T00:05:25.570Z"
   },
   {
    "duration": 8,
    "start_time": "2022-09-11T00:05:25.585Z"
   },
   {
    "duration": 28,
    "start_time": "2022-09-11T00:05:25.595Z"
   },
   {
    "duration": 6,
    "start_time": "2022-09-11T00:05:25.625Z"
   },
   {
    "duration": 3,
    "start_time": "2022-09-11T00:05:25.633Z"
   },
   {
    "duration": 3,
    "start_time": "2022-09-11T00:05:25.639Z"
   },
   {
    "duration": 30,
    "start_time": "2022-09-11T00:05:25.644Z"
   },
   {
    "duration": 47,
    "start_time": "2022-09-11T00:05:25.676Z"
   },
   {
    "duration": 20,
    "start_time": "2022-09-11T00:05:25.725Z"
   },
   {
    "duration": 4,
    "start_time": "2022-09-11T00:05:25.748Z"
   },
   {
    "duration": 7,
    "start_time": "2022-09-11T00:05:25.754Z"
   },
   {
    "duration": 4,
    "start_time": "2022-09-11T00:05:25.762Z"
   },
   {
    "duration": 8,
    "start_time": "2022-09-11T00:05:25.768Z"
   },
   {
    "duration": 24,
    "start_time": "2022-09-11T00:05:25.777Z"
   },
   {
    "duration": 24,
    "start_time": "2022-09-11T00:05:25.802Z"
   },
   {
    "duration": 41,
    "start_time": "2022-09-11T00:05:25.827Z"
   },
   {
    "duration": 4,
    "start_time": "2022-09-11T00:05:25.869Z"
   },
   {
    "duration": 7,
    "start_time": "2022-09-11T00:05:25.874Z"
   },
   {
    "duration": 4,
    "start_time": "2022-09-11T00:05:25.883Z"
   },
   {
    "duration": 34,
    "start_time": "2022-09-11T00:05:25.888Z"
   },
   {
    "duration": 3,
    "start_time": "2022-09-11T00:05:25.924Z"
   },
   {
    "duration": 7,
    "start_time": "2022-09-11T00:05:25.929Z"
   },
   {
    "duration": 4,
    "start_time": "2022-09-11T00:05:25.937Z"
   },
   {
    "duration": 15,
    "start_time": "2022-09-11T00:05:25.943Z"
   },
   {
    "duration": 2,
    "start_time": "2022-09-11T00:05:25.960Z"
   },
   {
    "duration": 4,
    "start_time": "2022-09-11T00:05:25.963Z"
   },
   {
    "duration": 4,
    "start_time": "2022-09-11T00:05:25.969Z"
   },
   {
    "duration": 5,
    "start_time": "2022-09-11T00:05:25.974Z"
   },
   {
    "duration": 42,
    "start_time": "2022-09-11T00:05:25.980Z"
   },
   {
    "duration": 2,
    "start_time": "2022-09-11T00:05:26.024Z"
   },
   {
    "duration": 8,
    "start_time": "2022-09-11T00:05:26.028Z"
   },
   {
    "duration": 6,
    "start_time": "2022-09-11T00:05:26.038Z"
   },
   {
    "duration": 5,
    "start_time": "2022-09-11T00:05:26.045Z"
   },
   {
    "duration": 5,
    "start_time": "2022-09-11T00:05:26.051Z"
   },
   {
    "duration": 8,
    "start_time": "2022-09-11T00:05:26.057Z"
   },
   {
    "duration": 8,
    "start_time": "2022-09-11T00:05:26.066Z"
   },
   {
    "duration": 6,
    "start_time": "2022-09-11T00:05:26.076Z"
   },
   {
    "duration": 6,
    "start_time": "2022-09-11T00:05:26.083Z"
   },
   {
    "duration": 5,
    "start_time": "2022-09-11T00:05:26.090Z"
   },
   {
    "duration": 6,
    "start_time": "2022-09-11T00:05:26.097Z"
   },
   {
    "duration": 8,
    "start_time": "2022-09-11T00:05:26.104Z"
   },
   {
    "duration": 11,
    "start_time": "2022-09-11T00:05:26.113Z"
   },
   {
    "duration": 56,
    "start_time": "2022-09-11T00:05:26.126Z"
   },
   {
    "duration": 0,
    "start_time": "2022-09-11T00:05:26.184Z"
   },
   {
    "duration": 0,
    "start_time": "2022-09-11T00:05:26.185Z"
   },
   {
    "duration": 0,
    "start_time": "2022-09-11T00:05:26.186Z"
   },
   {
    "duration": 468,
    "start_time": "2022-09-11T00:06:26.391Z"
   },
   {
    "duration": 3,
    "start_time": "2022-09-11T00:06:26.861Z"
   },
   {
    "duration": 13,
    "start_time": "2022-09-11T00:06:26.865Z"
   },
   {
    "duration": 24,
    "start_time": "2022-09-11T00:06:26.879Z"
   },
   {
    "duration": 18,
    "start_time": "2022-09-11T00:06:26.922Z"
   },
   {
    "duration": 20,
    "start_time": "2022-09-11T00:06:26.942Z"
   },
   {
    "duration": 10,
    "start_time": "2022-09-11T00:06:26.963Z"
   },
   {
    "duration": 8,
    "start_time": "2022-09-11T00:06:26.975Z"
   },
   {
    "duration": 54,
    "start_time": "2022-09-11T00:06:26.985Z"
   },
   {
    "duration": 12,
    "start_time": "2022-09-11T00:06:27.040Z"
   },
   {
    "duration": 21,
    "start_time": "2022-09-11T00:06:27.053Z"
   },
   {
    "duration": 17,
    "start_time": "2022-09-11T00:06:27.076Z"
   },
   {
    "duration": 34,
    "start_time": "2022-09-11T00:06:27.095Z"
   },
   {
    "duration": 7,
    "start_time": "2022-09-11T00:06:27.133Z"
   },
   {
    "duration": 12,
    "start_time": "2022-09-11T00:06:27.141Z"
   },
   {
    "duration": 11,
    "start_time": "2022-09-11T00:06:27.154Z"
   },
   {
    "duration": 11,
    "start_time": "2022-09-11T00:06:27.166Z"
   },
   {
    "duration": 6,
    "start_time": "2022-09-11T00:06:27.179Z"
   },
   {
    "duration": 9,
    "start_time": "2022-09-11T00:06:27.186Z"
   },
   {
    "duration": 9,
    "start_time": "2022-09-11T00:06:27.222Z"
   },
   {
    "duration": 13,
    "start_time": "2022-09-11T00:06:27.233Z"
   },
   {
    "duration": 14,
    "start_time": "2022-09-11T00:06:27.248Z"
   },
   {
    "duration": 5,
    "start_time": "2022-09-11T00:06:27.264Z"
   },
   {
    "duration": 13,
    "start_time": "2022-09-11T00:06:27.271Z"
   },
   {
    "duration": 8,
    "start_time": "2022-09-11T00:06:27.286Z"
   },
   {
    "duration": 29,
    "start_time": "2022-09-11T00:06:27.296Z"
   },
   {
    "duration": 10,
    "start_time": "2022-09-11T00:06:27.326Z"
   },
   {
    "duration": 3,
    "start_time": "2022-09-11T00:06:27.337Z"
   },
   {
    "duration": 5,
    "start_time": "2022-09-11T00:06:27.341Z"
   },
   {
    "duration": 14,
    "start_time": "2022-09-11T00:06:27.347Z"
   },
   {
    "duration": 7,
    "start_time": "2022-09-11T00:06:27.363Z"
   },
   {
    "duration": 7,
    "start_time": "2022-09-11T00:06:27.371Z"
   },
   {
    "duration": 7,
    "start_time": "2022-09-11T00:06:27.380Z"
   },
   {
    "duration": 2,
    "start_time": "2022-09-11T00:06:27.422Z"
   },
   {
    "duration": 6,
    "start_time": "2022-09-11T00:06:27.426Z"
   },
   {
    "duration": 20,
    "start_time": "2022-09-11T00:06:27.433Z"
   },
   {
    "duration": 20,
    "start_time": "2022-09-11T00:06:27.455Z"
   },
   {
    "duration": 20,
    "start_time": "2022-09-11T00:06:27.477Z"
   },
   {
    "duration": 4,
    "start_time": "2022-09-11T00:06:27.522Z"
   },
   {
    "duration": 28,
    "start_time": "2022-09-11T00:06:27.527Z"
   },
   {
    "duration": 6,
    "start_time": "2022-09-11T00:06:27.558Z"
   },
   {
    "duration": 18,
    "start_time": "2022-09-11T00:06:27.565Z"
   },
   {
    "duration": 14,
    "start_time": "2022-09-11T00:06:27.584Z"
   },
   {
    "duration": 10,
    "start_time": "2022-09-11T00:06:27.599Z"
   },
   {
    "duration": 32,
    "start_time": "2022-09-11T00:06:27.610Z"
   },
   {
    "duration": 4,
    "start_time": "2022-09-11T00:06:27.643Z"
   },
   {
    "duration": 12,
    "start_time": "2022-09-11T00:06:27.649Z"
   },
   {
    "duration": 9,
    "start_time": "2022-09-11T00:06:27.662Z"
   },
   {
    "duration": 5,
    "start_time": "2022-09-11T00:06:27.672Z"
   },
   {
    "duration": 7,
    "start_time": "2022-09-11T00:06:27.678Z"
   },
   {
    "duration": 9,
    "start_time": "2022-09-11T00:06:27.686Z"
   },
   {
    "duration": 6,
    "start_time": "2022-09-11T00:06:27.696Z"
   },
   {
    "duration": 28,
    "start_time": "2022-09-11T00:06:27.704Z"
   },
   {
    "duration": 3,
    "start_time": "2022-09-11T00:06:27.733Z"
   },
   {
    "duration": 5,
    "start_time": "2022-09-11T00:06:27.738Z"
   },
   {
    "duration": 5,
    "start_time": "2022-09-11T00:06:27.744Z"
   },
   {
    "duration": 11,
    "start_time": "2022-09-11T00:06:27.750Z"
   },
   {
    "duration": 8,
    "start_time": "2022-09-11T00:06:27.762Z"
   },
   {
    "duration": 4,
    "start_time": "2022-09-11T00:06:27.771Z"
   },
   {
    "duration": 5,
    "start_time": "2022-09-11T00:06:27.777Z"
   },
   {
    "duration": 5,
    "start_time": "2022-09-11T00:06:27.784Z"
   },
   {
    "duration": 7,
    "start_time": "2022-09-11T00:06:27.791Z"
   },
   {
    "duration": 5,
    "start_time": "2022-09-11T00:06:27.799Z"
   },
   {
    "duration": 5,
    "start_time": "2022-09-11T00:06:27.806Z"
   },
   {
    "duration": 9,
    "start_time": "2022-09-11T00:06:27.813Z"
   },
   {
    "duration": 6,
    "start_time": "2022-09-11T00:06:27.824Z"
   },
   {
    "duration": 8,
    "start_time": "2022-09-11T00:06:27.831Z"
   },
   {
    "duration": 4,
    "start_time": "2022-09-11T00:06:27.841Z"
   },
   {
    "duration": 5,
    "start_time": "2022-09-11T00:06:27.847Z"
   },
   {
    "duration": 4,
    "start_time": "2022-09-11T00:06:27.853Z"
   },
   {
    "duration": 5,
    "start_time": "2022-09-11T00:06:27.859Z"
   },
   {
    "duration": 684,
    "start_time": "2022-09-11T00:06:27.865Z"
   },
   {
    "duration": 0,
    "start_time": "2022-09-11T00:06:28.550Z"
   },
   {
    "duration": 1,
    "start_time": "2022-09-11T00:06:28.551Z"
   },
   {
    "duration": 0,
    "start_time": "2022-09-11T00:06:28.553Z"
   },
   {
    "duration": 433,
    "start_time": "2022-09-11T00:07:05.155Z"
   },
   {
    "duration": 3,
    "start_time": "2022-09-11T00:07:05.590Z"
   },
   {
    "duration": 16,
    "start_time": "2022-09-11T00:07:05.594Z"
   },
   {
    "duration": 23,
    "start_time": "2022-09-11T00:07:05.611Z"
   },
   {
    "duration": 19,
    "start_time": "2022-09-11T00:07:05.636Z"
   },
   {
    "duration": 31,
    "start_time": "2022-09-11T00:07:05.656Z"
   },
   {
    "duration": 9,
    "start_time": "2022-09-11T00:07:05.689Z"
   },
   {
    "duration": 26,
    "start_time": "2022-09-11T00:07:05.700Z"
   },
   {
    "duration": 11,
    "start_time": "2022-09-11T00:07:05.728Z"
   },
   {
    "duration": 12,
    "start_time": "2022-09-11T00:07:05.740Z"
   },
   {
    "duration": 14,
    "start_time": "2022-09-11T00:07:05.753Z"
   },
   {
    "duration": 15,
    "start_time": "2022-09-11T00:07:05.768Z"
   },
   {
    "duration": 16,
    "start_time": "2022-09-11T00:07:05.785Z"
   },
   {
    "duration": 24,
    "start_time": "2022-09-11T00:07:05.803Z"
   },
   {
    "duration": 7,
    "start_time": "2022-09-11T00:07:05.828Z"
   },
   {
    "duration": 9,
    "start_time": "2022-09-11T00:07:05.837Z"
   },
   {
    "duration": 5,
    "start_time": "2022-09-11T00:07:05.847Z"
   },
   {
    "duration": 8,
    "start_time": "2022-09-11T00:07:05.853Z"
   },
   {
    "duration": 6,
    "start_time": "2022-09-11T00:07:05.862Z"
   },
   {
    "duration": 8,
    "start_time": "2022-09-11T00:07:05.870Z"
   },
   {
    "duration": 9,
    "start_time": "2022-09-11T00:07:05.879Z"
   },
   {
    "duration": 49,
    "start_time": "2022-09-11T00:07:05.889Z"
   },
   {
    "duration": 8,
    "start_time": "2022-09-11T00:07:05.939Z"
   },
   {
    "duration": 7,
    "start_time": "2022-09-11T00:07:05.948Z"
   },
   {
    "duration": 10,
    "start_time": "2022-09-11T00:07:05.956Z"
   },
   {
    "duration": 6,
    "start_time": "2022-09-11T00:07:05.968Z"
   },
   {
    "duration": 11,
    "start_time": "2022-09-11T00:07:05.976Z"
   },
   {
    "duration": 2,
    "start_time": "2022-09-11T00:07:05.988Z"
   },
   {
    "duration": 6,
    "start_time": "2022-09-11T00:07:05.992Z"
   },
   {
    "duration": 27,
    "start_time": "2022-09-11T00:07:05.999Z"
   },
   {
    "duration": 10,
    "start_time": "2022-09-11T00:07:06.027Z"
   },
   {
    "duration": 23,
    "start_time": "2022-09-11T00:07:06.038Z"
   },
   {
    "duration": 6,
    "start_time": "2022-09-11T00:07:06.062Z"
   },
   {
    "duration": 6,
    "start_time": "2022-09-11T00:07:06.070Z"
   },
   {
    "duration": 5,
    "start_time": "2022-09-11T00:07:06.077Z"
   },
   {
    "duration": 20,
    "start_time": "2022-09-11T00:07:06.083Z"
   },
   {
    "duration": 19,
    "start_time": "2022-09-11T00:07:06.105Z"
   },
   {
    "duration": 17,
    "start_time": "2022-09-11T00:07:06.125Z"
   },
   {
    "duration": 4,
    "start_time": "2022-09-11T00:07:06.143Z"
   },
   {
    "duration": 6,
    "start_time": "2022-09-11T00:07:06.148Z"
   },
   {
    "duration": 3,
    "start_time": "2022-09-11T00:07:06.158Z"
   },
   {
    "duration": 11,
    "start_time": "2022-09-11T00:07:06.162Z"
   },
   {
    "duration": 12,
    "start_time": "2022-09-11T00:07:06.174Z"
   },
   {
    "duration": 8,
    "start_time": "2022-09-11T00:07:06.188Z"
   },
   {
    "duration": 48,
    "start_time": "2022-09-11T00:07:06.197Z"
   },
   {
    "duration": 4,
    "start_time": "2022-09-11T00:07:06.246Z"
   },
   {
    "duration": 5,
    "start_time": "2022-09-11T00:07:06.252Z"
   },
   {
    "duration": 5,
    "start_time": "2022-09-11T00:07:06.258Z"
   },
   {
    "duration": 6,
    "start_time": "2022-09-11T00:07:06.264Z"
   },
   {
    "duration": 4,
    "start_time": "2022-09-11T00:07:06.271Z"
   },
   {
    "duration": 7,
    "start_time": "2022-09-11T00:07:06.277Z"
   },
   {
    "duration": 4,
    "start_time": "2022-09-11T00:07:06.285Z"
   },
   {
    "duration": 42,
    "start_time": "2022-09-11T00:07:06.290Z"
   },
   {
    "duration": 2,
    "start_time": "2022-09-11T00:07:06.334Z"
   },
   {
    "duration": 4,
    "start_time": "2022-09-11T00:07:06.338Z"
   },
   {
    "duration": 5,
    "start_time": "2022-09-11T00:07:06.343Z"
   },
   {
    "duration": 5,
    "start_time": "2022-09-11T00:07:06.349Z"
   },
   {
    "duration": 4,
    "start_time": "2022-09-11T00:07:06.355Z"
   },
   {
    "duration": 7,
    "start_time": "2022-09-11T00:07:06.361Z"
   },
   {
    "duration": 6,
    "start_time": "2022-09-11T00:07:06.369Z"
   },
   {
    "duration": 5,
    "start_time": "2022-09-11T00:07:06.376Z"
   },
   {
    "duration": 5,
    "start_time": "2022-09-11T00:07:06.382Z"
   },
   {
    "duration": 5,
    "start_time": "2022-09-11T00:07:06.389Z"
   },
   {
    "duration": 4,
    "start_time": "2022-09-11T00:07:06.395Z"
   },
   {
    "duration": 21,
    "start_time": "2022-09-11T00:07:06.401Z"
   },
   {
    "duration": 2,
    "start_time": "2022-09-11T00:07:06.423Z"
   },
   {
    "duration": 4,
    "start_time": "2022-09-11T00:07:06.427Z"
   },
   {
    "duration": 7,
    "start_time": "2022-09-11T00:07:06.433Z"
   },
   {
    "duration": 6,
    "start_time": "2022-09-11T00:07:06.441Z"
   },
   {
    "duration": 4,
    "start_time": "2022-09-11T00:07:06.448Z"
   },
   {
    "duration": 5,
    "start_time": "2022-09-11T00:07:06.454Z"
   },
   {
    "duration": 646,
    "start_time": "2022-09-11T00:07:06.460Z"
   },
   {
    "duration": 0,
    "start_time": "2022-09-11T00:07:07.108Z"
   },
   {
    "duration": 0,
    "start_time": "2022-09-11T00:07:07.110Z"
   },
   {
    "duration": 0,
    "start_time": "2022-09-11T00:07:07.111Z"
   },
   {
    "duration": 412,
    "start_time": "2022-09-11T00:08:22.683Z"
   },
   {
    "duration": 3,
    "start_time": "2022-09-11T00:08:23.097Z"
   },
   {
    "duration": 19,
    "start_time": "2022-09-11T00:08:23.101Z"
   },
   {
    "duration": 21,
    "start_time": "2022-09-11T00:08:23.121Z"
   },
   {
    "duration": 17,
    "start_time": "2022-09-11T00:08:23.144Z"
   },
   {
    "duration": 22,
    "start_time": "2022-09-11T00:08:23.162Z"
   },
   {
    "duration": 10,
    "start_time": "2022-09-11T00:08:23.185Z"
   },
   {
    "duration": 32,
    "start_time": "2022-09-11T00:08:23.196Z"
   },
   {
    "duration": 17,
    "start_time": "2022-09-11T00:08:23.230Z"
   },
   {
    "duration": 7,
    "start_time": "2022-09-11T00:08:23.249Z"
   },
   {
    "duration": 4,
    "start_time": "2022-09-11T00:08:23.257Z"
   },
   {
    "duration": 7,
    "start_time": "2022-09-11T00:08:23.262Z"
   },
   {
    "duration": 12,
    "start_time": "2022-09-11T00:08:23.270Z"
   },
   {
    "duration": 7,
    "start_time": "2022-09-11T00:08:23.284Z"
   },
   {
    "duration": 32,
    "start_time": "2022-09-11T00:08:23.293Z"
   },
   {
    "duration": 10,
    "start_time": "2022-09-11T00:08:23.327Z"
   },
   {
    "duration": 5,
    "start_time": "2022-09-11T00:08:23.338Z"
   },
   {
    "duration": 5,
    "start_time": "2022-09-11T00:08:23.344Z"
   },
   {
    "duration": 8,
    "start_time": "2022-09-11T00:08:23.350Z"
   },
   {
    "duration": 9,
    "start_time": "2022-09-11T00:08:23.360Z"
   },
   {
    "duration": 10,
    "start_time": "2022-09-11T00:08:23.370Z"
   },
   {
    "duration": 5,
    "start_time": "2022-09-11T00:08:23.382Z"
   },
   {
    "duration": 8,
    "start_time": "2022-09-11T00:08:23.422Z"
   },
   {
    "duration": 13,
    "start_time": "2022-09-11T00:08:23.432Z"
   },
   {
    "duration": 6,
    "start_time": "2022-09-11T00:08:23.446Z"
   },
   {
    "duration": 11,
    "start_time": "2022-09-11T00:08:23.454Z"
   },
   {
    "duration": 11,
    "start_time": "2022-09-11T00:08:23.466Z"
   },
   {
    "duration": 9,
    "start_time": "2022-09-11T00:08:23.479Z"
   },
   {
    "duration": 14,
    "start_time": "2022-09-11T00:08:23.490Z"
   },
   {
    "duration": 6,
    "start_time": "2022-09-11T00:08:23.522Z"
   },
   {
    "duration": 10,
    "start_time": "2022-09-11T00:08:23.529Z"
   },
   {
    "duration": 6,
    "start_time": "2022-09-11T00:08:23.540Z"
   },
   {
    "duration": 4,
    "start_time": "2022-09-11T00:08:23.547Z"
   },
   {
    "duration": 5,
    "start_time": "2022-09-11T00:08:23.553Z"
   },
   {
    "duration": 21,
    "start_time": "2022-09-11T00:08:23.560Z"
   },
   {
    "duration": 17,
    "start_time": "2022-09-11T00:08:23.583Z"
   },
   {
    "duration": 37,
    "start_time": "2022-09-11T00:08:23.601Z"
   },
   {
    "duration": 4,
    "start_time": "2022-09-11T00:08:23.639Z"
   },
   {
    "duration": 6,
    "start_time": "2022-09-11T00:08:23.644Z"
   },
   {
    "duration": 4,
    "start_time": "2022-09-11T00:08:23.652Z"
   },
   {
    "duration": 3,
    "start_time": "2022-09-11T00:08:23.659Z"
   },
   {
    "duration": 12,
    "start_time": "2022-09-11T00:08:23.664Z"
   },
   {
    "duration": 6,
    "start_time": "2022-09-11T00:08:23.677Z"
   },
   {
    "duration": 61,
    "start_time": "2022-09-11T00:08:23.685Z"
   },
   {
    "duration": 3,
    "start_time": "2022-09-11T00:08:23.748Z"
   },
   {
    "duration": 12,
    "start_time": "2022-09-11T00:08:23.752Z"
   },
   {
    "duration": 4,
    "start_time": "2022-09-11T00:08:23.765Z"
   },
   {
    "duration": 8,
    "start_time": "2022-09-11T00:08:23.770Z"
   },
   {
    "duration": 7,
    "start_time": "2022-09-11T00:08:23.779Z"
   },
   {
    "duration": 7,
    "start_time": "2022-09-11T00:08:23.787Z"
   },
   {
    "duration": 4,
    "start_time": "2022-09-11T00:08:23.796Z"
   },
   {
    "duration": 16,
    "start_time": "2022-09-11T00:08:23.821Z"
   },
   {
    "duration": 2,
    "start_time": "2022-09-11T00:08:23.838Z"
   },
   {
    "duration": 5,
    "start_time": "2022-09-11T00:08:23.841Z"
   },
   {
    "duration": 6,
    "start_time": "2022-09-11T00:08:23.847Z"
   },
   {
    "duration": 6,
    "start_time": "2022-09-11T00:08:23.854Z"
   },
   {
    "duration": 4,
    "start_time": "2022-09-11T00:08:23.861Z"
   },
   {
    "duration": 8,
    "start_time": "2022-09-11T00:08:23.866Z"
   },
   {
    "duration": 5,
    "start_time": "2022-09-11T00:08:23.875Z"
   },
   {
    "duration": 5,
    "start_time": "2022-09-11T00:08:23.881Z"
   },
   {
    "duration": 5,
    "start_time": "2022-09-11T00:08:23.887Z"
   },
   {
    "duration": 4,
    "start_time": "2022-09-11T00:08:23.893Z"
   },
   {
    "duration": 24,
    "start_time": "2022-09-11T00:08:23.898Z"
   },
   {
    "duration": 2,
    "start_time": "2022-09-11T00:08:23.923Z"
   },
   {
    "duration": 7,
    "start_time": "2022-09-11T00:08:23.926Z"
   },
   {
    "duration": 7,
    "start_time": "2022-09-11T00:08:23.934Z"
   },
   {
    "duration": 7,
    "start_time": "2022-09-11T00:08:23.943Z"
   },
   {
    "duration": 5,
    "start_time": "2022-09-11T00:08:23.951Z"
   },
   {
    "duration": 6,
    "start_time": "2022-09-11T00:08:23.957Z"
   },
   {
    "duration": 6,
    "start_time": "2022-09-11T00:08:23.965Z"
   },
   {
    "duration": 45,
    "start_time": "2022-09-11T00:08:23.972Z"
   },
   {
    "duration": 0,
    "start_time": "2022-09-11T00:08:24.019Z"
   },
   {
    "duration": 0,
    "start_time": "2022-09-11T00:08:24.021Z"
   },
   {
    "duration": 0,
    "start_time": "2022-09-11T00:08:24.022Z"
   },
   {
    "duration": 431,
    "start_time": "2022-09-11T00:09:01.654Z"
   },
   {
    "duration": 4,
    "start_time": "2022-09-11T00:09:02.086Z"
   },
   {
    "duration": 37,
    "start_time": "2022-09-11T00:09:02.092Z"
   },
   {
    "duration": 41,
    "start_time": "2022-09-11T00:09:02.131Z"
   },
   {
    "duration": 19,
    "start_time": "2022-09-11T00:09:02.174Z"
   },
   {
    "duration": 19,
    "start_time": "2022-09-11T00:09:02.195Z"
   },
   {
    "duration": 14,
    "start_time": "2022-09-11T00:09:02.216Z"
   },
   {
    "duration": 17,
    "start_time": "2022-09-11T00:09:02.231Z"
   },
   {
    "duration": 18,
    "start_time": "2022-09-11T00:09:02.249Z"
   },
   {
    "duration": 40,
    "start_time": "2022-09-11T00:09:02.269Z"
   },
   {
    "duration": 22,
    "start_time": "2022-09-11T00:09:02.311Z"
   },
   {
    "duration": 21,
    "start_time": "2022-09-11T00:09:02.335Z"
   },
   {
    "duration": 24,
    "start_time": "2022-09-11T00:09:02.357Z"
   },
   {
    "duration": 12,
    "start_time": "2022-09-11T00:09:02.384Z"
   },
   {
    "duration": 7,
    "start_time": "2022-09-11T00:09:02.398Z"
   },
   {
    "duration": 16,
    "start_time": "2022-09-11T00:09:02.406Z"
   },
   {
    "duration": 5,
    "start_time": "2022-09-11T00:09:02.423Z"
   },
   {
    "duration": 6,
    "start_time": "2022-09-11T00:09:02.429Z"
   },
   {
    "duration": 7,
    "start_time": "2022-09-11T00:09:02.436Z"
   },
   {
    "duration": 11,
    "start_time": "2022-09-11T00:09:02.445Z"
   },
   {
    "duration": 9,
    "start_time": "2022-09-11T00:09:02.457Z"
   },
   {
    "duration": 5,
    "start_time": "2022-09-11T00:09:02.468Z"
   },
   {
    "duration": 8,
    "start_time": "2022-09-11T00:09:02.474Z"
   },
   {
    "duration": 41,
    "start_time": "2022-09-11T00:09:02.483Z"
   },
   {
    "duration": 5,
    "start_time": "2022-09-11T00:09:02.525Z"
   },
   {
    "duration": 14,
    "start_time": "2022-09-11T00:09:02.531Z"
   },
   {
    "duration": 4,
    "start_time": "2022-09-11T00:09:02.547Z"
   },
   {
    "duration": 9,
    "start_time": "2022-09-11T00:09:02.553Z"
   },
   {
    "duration": 14,
    "start_time": "2022-09-11T00:09:02.563Z"
   },
   {
    "duration": 6,
    "start_time": "2022-09-11T00:09:02.578Z"
   },
   {
    "duration": 11,
    "start_time": "2022-09-11T00:09:02.586Z"
   },
   {
    "duration": 25,
    "start_time": "2022-09-11T00:09:02.598Z"
   },
   {
    "duration": 3,
    "start_time": "2022-09-11T00:09:02.624Z"
   },
   {
    "duration": 14,
    "start_time": "2022-09-11T00:09:02.628Z"
   },
   {
    "duration": 28,
    "start_time": "2022-09-11T00:09:02.644Z"
   },
   {
    "duration": 19,
    "start_time": "2022-09-11T00:09:02.673Z"
   },
   {
    "duration": 29,
    "start_time": "2022-09-11T00:09:02.693Z"
   },
   {
    "duration": 4,
    "start_time": "2022-09-11T00:09:02.724Z"
   },
   {
    "duration": 16,
    "start_time": "2022-09-11T00:09:02.729Z"
   },
   {
    "duration": 6,
    "start_time": "2022-09-11T00:09:02.747Z"
   },
   {
    "duration": 3,
    "start_time": "2022-09-11T00:09:02.757Z"
   },
   {
    "duration": 13,
    "start_time": "2022-09-11T00:09:02.761Z"
   },
   {
    "duration": 10,
    "start_time": "2022-09-11T00:09:02.775Z"
   },
   {
    "duration": 45,
    "start_time": "2022-09-11T00:09:02.786Z"
   },
   {
    "duration": 4,
    "start_time": "2022-09-11T00:09:02.832Z"
   },
   {
    "duration": 8,
    "start_time": "2022-09-11T00:09:02.837Z"
   },
   {
    "duration": 7,
    "start_time": "2022-09-11T00:09:02.846Z"
   },
   {
    "duration": 6,
    "start_time": "2022-09-11T00:09:02.854Z"
   },
   {
    "duration": 4,
    "start_time": "2022-09-11T00:09:02.862Z"
   },
   {
    "duration": 7,
    "start_time": "2022-09-11T00:09:02.868Z"
   },
   {
    "duration": 5,
    "start_time": "2022-09-11T00:09:02.876Z"
   },
   {
    "duration": 44,
    "start_time": "2022-09-11T00:09:02.882Z"
   },
   {
    "duration": 1,
    "start_time": "2022-09-11T00:09:02.928Z"
   },
   {
    "duration": 6,
    "start_time": "2022-09-11T00:09:02.931Z"
   },
   {
    "duration": 6,
    "start_time": "2022-09-11T00:09:02.938Z"
   },
   {
    "duration": 6,
    "start_time": "2022-09-11T00:09:02.945Z"
   },
   {
    "duration": 5,
    "start_time": "2022-09-11T00:09:02.952Z"
   },
   {
    "duration": 6,
    "start_time": "2022-09-11T00:09:02.958Z"
   },
   {
    "duration": 5,
    "start_time": "2022-09-11T00:09:02.966Z"
   },
   {
    "duration": 6,
    "start_time": "2022-09-11T00:09:02.972Z"
   },
   {
    "duration": 8,
    "start_time": "2022-09-11T00:09:02.979Z"
   },
   {
    "duration": 10,
    "start_time": "2022-09-11T00:09:02.988Z"
   },
   {
    "duration": 5,
    "start_time": "2022-09-11T00:09:02.999Z"
   },
   {
    "duration": 6,
    "start_time": "2022-09-11T00:09:03.005Z"
   },
   {
    "duration": 10,
    "start_time": "2022-09-11T00:09:03.012Z"
   },
   {
    "duration": 24,
    "start_time": "2022-09-11T00:09:03.023Z"
   },
   {
    "duration": 7,
    "start_time": "2022-09-11T00:09:03.048Z"
   },
   {
    "duration": 5,
    "start_time": "2022-09-11T00:09:03.056Z"
   },
   {
    "duration": 6,
    "start_time": "2022-09-11T00:09:03.062Z"
   },
   {
    "duration": 11,
    "start_time": "2022-09-11T00:09:03.069Z"
   },
   {
    "duration": 48,
    "start_time": "2022-09-11T00:09:03.082Z"
   },
   {
    "duration": 0,
    "start_time": "2022-09-11T00:09:03.131Z"
   },
   {
    "duration": 0,
    "start_time": "2022-09-11T00:09:03.132Z"
   },
   {
    "duration": 0,
    "start_time": "2022-09-11T00:09:03.133Z"
   },
   {
    "duration": 429,
    "start_time": "2022-09-11T00:09:50.760Z"
   },
   {
    "duration": 3,
    "start_time": "2022-09-11T00:09:51.191Z"
   },
   {
    "duration": 15,
    "start_time": "2022-09-11T00:09:51.196Z"
   },
   {
    "duration": 24,
    "start_time": "2022-09-11T00:09:51.213Z"
   },
   {
    "duration": 19,
    "start_time": "2022-09-11T00:09:51.239Z"
   },
   {
    "duration": 19,
    "start_time": "2022-09-11T00:09:51.259Z"
   },
   {
    "duration": 10,
    "start_time": "2022-09-11T00:09:51.280Z"
   },
   {
    "duration": 38,
    "start_time": "2022-09-11T00:09:51.292Z"
   },
   {
    "duration": 10,
    "start_time": "2022-09-11T00:09:51.332Z"
   },
   {
    "duration": 12,
    "start_time": "2022-09-11T00:09:51.344Z"
   },
   {
    "duration": 5,
    "start_time": "2022-09-11T00:09:51.357Z"
   },
   {
    "duration": 7,
    "start_time": "2022-09-11T00:09:51.364Z"
   },
   {
    "duration": 11,
    "start_time": "2022-09-11T00:09:51.372Z"
   },
   {
    "duration": 8,
    "start_time": "2022-09-11T00:09:51.384Z"
   },
   {
    "duration": 10,
    "start_time": "2022-09-11T00:09:51.393Z"
   },
   {
    "duration": 12,
    "start_time": "2022-09-11T00:09:51.422Z"
   },
   {
    "duration": 5,
    "start_time": "2022-09-11T00:09:51.435Z"
   },
   {
    "duration": 7,
    "start_time": "2022-09-11T00:09:51.441Z"
   },
   {
    "duration": 13,
    "start_time": "2022-09-11T00:09:51.449Z"
   },
   {
    "duration": 9,
    "start_time": "2022-09-11T00:09:51.464Z"
   },
   {
    "duration": 14,
    "start_time": "2022-09-11T00:09:51.475Z"
   },
   {
    "duration": 8,
    "start_time": "2022-09-11T00:09:51.491Z"
   },
   {
    "duration": 10,
    "start_time": "2022-09-11T00:09:51.501Z"
   },
   {
    "duration": 13,
    "start_time": "2022-09-11T00:09:51.512Z"
   },
   {
    "duration": 3,
    "start_time": "2022-09-11T00:09:51.527Z"
   },
   {
    "duration": 12,
    "start_time": "2022-09-11T00:09:51.532Z"
   },
   {
    "duration": 2,
    "start_time": "2022-09-11T00:09:51.545Z"
   },
   {
    "duration": 12,
    "start_time": "2022-09-11T00:09:51.551Z"
   },
   {
    "duration": 15,
    "start_time": "2022-09-11T00:09:51.564Z"
   },
   {
    "duration": 11,
    "start_time": "2022-09-11T00:09:51.580Z"
   },
   {
    "duration": 7,
    "start_time": "2022-09-11T00:09:51.592Z"
   },
   {
    "duration": 22,
    "start_time": "2022-09-11T00:09:51.601Z"
   },
   {
    "duration": 2,
    "start_time": "2022-09-11T00:09:51.624Z"
   },
   {
    "duration": 7,
    "start_time": "2022-09-11T00:09:51.627Z"
   },
   {
    "duration": 19,
    "start_time": "2022-09-11T00:09:51.635Z"
   },
   {
    "duration": 14,
    "start_time": "2022-09-11T00:09:51.655Z"
   },
   {
    "duration": 15,
    "start_time": "2022-09-11T00:09:51.671Z"
   },
   {
    "duration": 3,
    "start_time": "2022-09-11T00:09:51.688Z"
   },
   {
    "duration": 37,
    "start_time": "2022-09-11T00:09:51.692Z"
   },
   {
    "duration": 4,
    "start_time": "2022-09-11T00:09:51.731Z"
   },
   {
    "duration": 7,
    "start_time": "2022-09-11T00:09:51.736Z"
   },
   {
    "duration": 7,
    "start_time": "2022-09-11T00:09:51.744Z"
   },
   {
    "duration": 16,
    "start_time": "2022-09-11T00:09:51.752Z"
   },
   {
    "duration": 5,
    "start_time": "2022-09-11T00:09:51.770Z"
   },
   {
    "duration": 45,
    "start_time": "2022-09-11T00:09:51.777Z"
   },
   {
    "duration": 4,
    "start_time": "2022-09-11T00:09:51.824Z"
   },
   {
    "duration": 6,
    "start_time": "2022-09-11T00:09:51.830Z"
   },
   {
    "duration": 10,
    "start_time": "2022-09-11T00:09:51.838Z"
   },
   {
    "duration": 10,
    "start_time": "2022-09-11T00:09:51.849Z"
   },
   {
    "duration": 12,
    "start_time": "2022-09-11T00:09:51.860Z"
   },
   {
    "duration": 8,
    "start_time": "2022-09-11T00:09:51.874Z"
   },
   {
    "duration": 4,
    "start_time": "2022-09-11T00:09:51.883Z"
   },
   {
    "duration": 23,
    "start_time": "2022-09-11T00:09:51.888Z"
   },
   {
    "duration": 2,
    "start_time": "2022-09-11T00:09:51.913Z"
   },
   {
    "duration": 10,
    "start_time": "2022-09-11T00:09:51.922Z"
   },
   {
    "duration": 7,
    "start_time": "2022-09-11T00:09:51.933Z"
   },
   {
    "duration": 11,
    "start_time": "2022-09-11T00:09:51.941Z"
   },
   {
    "duration": 6,
    "start_time": "2022-09-11T00:09:51.954Z"
   },
   {
    "duration": 17,
    "start_time": "2022-09-11T00:09:51.962Z"
   },
   {
    "duration": 9,
    "start_time": "2022-09-11T00:09:51.980Z"
   },
   {
    "duration": 8,
    "start_time": "2022-09-11T00:09:51.991Z"
   },
   {
    "duration": 9,
    "start_time": "2022-09-11T00:09:52.000Z"
   },
   {
    "duration": 8,
    "start_time": "2022-09-11T00:09:52.010Z"
   },
   {
    "duration": 7,
    "start_time": "2022-09-11T00:09:52.019Z"
   },
   {
    "duration": 6,
    "start_time": "2022-09-11T00:09:52.028Z"
   },
   {
    "duration": 6,
    "start_time": "2022-09-11T00:09:52.035Z"
   },
   {
    "duration": 12,
    "start_time": "2022-09-11T00:09:52.042Z"
   },
   {
    "duration": 10,
    "start_time": "2022-09-11T00:09:52.055Z"
   },
   {
    "duration": 10,
    "start_time": "2022-09-11T00:09:52.067Z"
   },
   {
    "duration": 9,
    "start_time": "2022-09-11T00:09:52.078Z"
   },
   {
    "duration": 6,
    "start_time": "2022-09-11T00:09:52.088Z"
   },
   {
    "duration": 46,
    "start_time": "2022-09-11T00:09:52.095Z"
   },
   {
    "duration": 0,
    "start_time": "2022-09-11T00:09:52.143Z"
   },
   {
    "duration": 0,
    "start_time": "2022-09-11T00:09:52.144Z"
   },
   {
    "duration": 0,
    "start_time": "2022-09-11T00:09:52.145Z"
   },
   {
    "duration": 422,
    "start_time": "2022-09-11T00:10:50.476Z"
   },
   {
    "duration": 4,
    "start_time": "2022-09-11T00:10:50.899Z"
   },
   {
    "duration": 16,
    "start_time": "2022-09-11T00:10:50.904Z"
   },
   {
    "duration": 28,
    "start_time": "2022-09-11T00:10:50.921Z"
   },
   {
    "duration": 17,
    "start_time": "2022-09-11T00:10:50.951Z"
   },
   {
    "duration": 18,
    "start_time": "2022-09-11T00:10:50.969Z"
   },
   {
    "duration": 10,
    "start_time": "2022-09-11T00:10:50.988Z"
   },
   {
    "duration": 28,
    "start_time": "2022-09-11T00:10:50.999Z"
   },
   {
    "duration": 10,
    "start_time": "2022-09-11T00:10:51.028Z"
   },
   {
    "duration": 15,
    "start_time": "2022-09-11T00:10:51.039Z"
   },
   {
    "duration": 11,
    "start_time": "2022-09-11T00:10:51.056Z"
   },
   {
    "duration": 17,
    "start_time": "2022-09-11T00:10:51.068Z"
   },
   {
    "duration": 29,
    "start_time": "2022-09-11T00:10:51.087Z"
   },
   {
    "duration": 14,
    "start_time": "2022-09-11T00:10:51.118Z"
   },
   {
    "duration": 16,
    "start_time": "2022-09-11T00:10:51.134Z"
   },
   {
    "duration": 15,
    "start_time": "2022-09-11T00:10:51.151Z"
   },
   {
    "duration": 10,
    "start_time": "2022-09-11T00:10:51.167Z"
   },
   {
    "duration": 8,
    "start_time": "2022-09-11T00:10:51.179Z"
   },
   {
    "duration": 17,
    "start_time": "2022-09-11T00:10:51.188Z"
   },
   {
    "duration": 19,
    "start_time": "2022-09-11T00:10:51.207Z"
   },
   {
    "duration": 9,
    "start_time": "2022-09-11T00:10:51.228Z"
   },
   {
    "duration": 5,
    "start_time": "2022-09-11T00:10:51.239Z"
   },
   {
    "duration": 12,
    "start_time": "2022-09-11T00:10:51.246Z"
   },
   {
    "duration": 23,
    "start_time": "2022-09-11T00:10:51.260Z"
   },
   {
    "duration": 7,
    "start_time": "2022-09-11T00:10:51.284Z"
   },
   {
    "duration": 21,
    "start_time": "2022-09-11T00:10:51.292Z"
   },
   {
    "duration": 7,
    "start_time": "2022-09-11T00:10:51.315Z"
   },
   {
    "duration": 8,
    "start_time": "2022-09-11T00:10:51.323Z"
   },
   {
    "duration": 16,
    "start_time": "2022-09-11T00:10:51.332Z"
   },
   {
    "duration": 11,
    "start_time": "2022-09-11T00:10:51.350Z"
   },
   {
    "duration": 10,
    "start_time": "2022-09-11T00:10:51.362Z"
   },
   {
    "duration": 8,
    "start_time": "2022-09-11T00:10:51.373Z"
   },
   {
    "duration": 6,
    "start_time": "2022-09-11T00:10:51.382Z"
   },
   {
    "duration": 6,
    "start_time": "2022-09-11T00:10:51.389Z"
   },
   {
    "duration": 29,
    "start_time": "2022-09-11T00:10:51.397Z"
   },
   {
    "duration": 11,
    "start_time": "2022-09-11T00:10:51.427Z"
   },
   {
    "duration": 24,
    "start_time": "2022-09-11T00:10:51.440Z"
   },
   {
    "duration": 18,
    "start_time": "2022-09-11T00:10:51.465Z"
   },
   {
    "duration": 3,
    "start_time": "2022-09-11T00:10:51.485Z"
   },
   {
    "duration": 7,
    "start_time": "2022-09-11T00:10:51.489Z"
   },
   {
    "duration": 23,
    "start_time": "2022-09-11T00:10:51.500Z"
   },
   {
    "duration": 7,
    "start_time": "2022-09-11T00:10:51.524Z"
   },
   {
    "duration": 14,
    "start_time": "2022-09-11T00:10:51.532Z"
   },
   {
    "duration": 14,
    "start_time": "2022-09-11T00:10:51.547Z"
   },
   {
    "duration": 39,
    "start_time": "2022-09-11T00:10:51.562Z"
   },
   {
    "duration": 4,
    "start_time": "2022-09-11T00:10:51.603Z"
   },
   {
    "duration": 18,
    "start_time": "2022-09-11T00:10:51.608Z"
   },
   {
    "duration": 8,
    "start_time": "2022-09-11T00:10:51.627Z"
   },
   {
    "duration": 13,
    "start_time": "2022-09-11T00:10:51.636Z"
   },
   {
    "duration": 8,
    "start_time": "2022-09-11T00:10:51.651Z"
   },
   {
    "duration": 6,
    "start_time": "2022-09-11T00:10:51.660Z"
   },
   {
    "duration": 12,
    "start_time": "2022-09-11T00:10:51.667Z"
   },
   {
    "duration": 22,
    "start_time": "2022-09-11T00:10:51.681Z"
   },
   {
    "duration": 2,
    "start_time": "2022-09-11T00:10:51.704Z"
   },
   {
    "duration": 14,
    "start_time": "2022-09-11T00:10:51.708Z"
   },
   {
    "duration": 2,
    "start_time": "2022-09-11T00:10:51.724Z"
   },
   {
    "duration": 4,
    "start_time": "2022-09-11T00:10:51.728Z"
   },
   {
    "duration": 6,
    "start_time": "2022-09-11T00:10:51.744Z"
   },
   {
    "duration": 6,
    "start_time": "2022-09-11T00:10:51.752Z"
   },
   {
    "duration": 6,
    "start_time": "2022-09-11T00:10:51.759Z"
   },
   {
    "duration": 6,
    "start_time": "2022-09-11T00:10:51.767Z"
   },
   {
    "duration": 5,
    "start_time": "2022-09-11T00:10:51.775Z"
   },
   {
    "duration": 6,
    "start_time": "2022-09-11T00:10:51.781Z"
   },
   {
    "duration": 6,
    "start_time": "2022-09-11T00:10:51.788Z"
   },
   {
    "duration": 5,
    "start_time": "2022-09-11T00:10:51.795Z"
   },
   {
    "duration": 5,
    "start_time": "2022-09-11T00:10:51.801Z"
   },
   {
    "duration": 23,
    "start_time": "2022-09-11T00:10:51.807Z"
   },
   {
    "duration": 5,
    "start_time": "2022-09-11T00:10:51.831Z"
   },
   {
    "duration": 6,
    "start_time": "2022-09-11T00:10:51.837Z"
   },
   {
    "duration": 8,
    "start_time": "2022-09-11T00:10:51.845Z"
   },
   {
    "duration": 10,
    "start_time": "2022-09-11T00:10:51.854Z"
   },
   {
    "duration": 43,
    "start_time": "2022-09-11T00:10:51.866Z"
   },
   {
    "duration": 0,
    "start_time": "2022-09-11T00:10:51.911Z"
   },
   {
    "duration": 0,
    "start_time": "2022-09-11T00:10:51.913Z"
   },
   {
    "duration": 0,
    "start_time": "2022-09-11T00:10:51.914Z"
   },
   {
    "duration": 435,
    "start_time": "2022-09-11T00:11:43.174Z"
   },
   {
    "duration": 4,
    "start_time": "2022-09-11T00:11:43.610Z"
   },
   {
    "duration": 18,
    "start_time": "2022-09-11T00:11:43.615Z"
   },
   {
    "duration": 27,
    "start_time": "2022-09-11T00:11:43.634Z"
   },
   {
    "duration": 17,
    "start_time": "2022-09-11T00:11:43.664Z"
   },
   {
    "duration": 19,
    "start_time": "2022-09-11T00:11:43.682Z"
   },
   {
    "duration": 24,
    "start_time": "2022-09-11T00:11:43.702Z"
   },
   {
    "duration": 10,
    "start_time": "2022-09-11T00:11:43.727Z"
   },
   {
    "duration": 10,
    "start_time": "2022-09-11T00:11:43.738Z"
   },
   {
    "duration": 5,
    "start_time": "2022-09-11T00:11:43.750Z"
   },
   {
    "duration": 9,
    "start_time": "2022-09-11T00:11:43.756Z"
   },
   {
    "duration": 8,
    "start_time": "2022-09-11T00:11:43.766Z"
   },
   {
    "duration": 10,
    "start_time": "2022-09-11T00:11:43.776Z"
   },
   {
    "duration": 6,
    "start_time": "2022-09-11T00:11:43.821Z"
   },
   {
    "duration": 8,
    "start_time": "2022-09-11T00:11:43.829Z"
   },
   {
    "duration": 10,
    "start_time": "2022-09-11T00:11:43.838Z"
   },
   {
    "duration": 6,
    "start_time": "2022-09-11T00:11:43.849Z"
   },
   {
    "duration": 4,
    "start_time": "2022-09-11T00:11:43.856Z"
   },
   {
    "duration": 10,
    "start_time": "2022-09-11T00:11:43.862Z"
   },
   {
    "duration": 20,
    "start_time": "2022-09-11T00:11:43.874Z"
   },
   {
    "duration": 9,
    "start_time": "2022-09-11T00:11:43.922Z"
   },
   {
    "duration": 6,
    "start_time": "2022-09-11T00:11:43.933Z"
   },
   {
    "duration": 7,
    "start_time": "2022-09-11T00:11:43.940Z"
   },
   {
    "duration": 10,
    "start_time": "2022-09-11T00:11:43.948Z"
   },
   {
    "duration": 4,
    "start_time": "2022-09-11T00:11:43.960Z"
   },
   {
    "duration": 12,
    "start_time": "2022-09-11T00:11:43.966Z"
   },
   {
    "duration": 2,
    "start_time": "2022-09-11T00:11:43.980Z"
   },
   {
    "duration": 48,
    "start_time": "2022-09-11T00:11:43.983Z"
   },
   {
    "duration": 25,
    "start_time": "2022-09-11T00:11:44.033Z"
   },
   {
    "duration": 22,
    "start_time": "2022-09-11T00:11:44.060Z"
   },
   {
    "duration": 11,
    "start_time": "2022-09-11T00:11:44.084Z"
   },
   {
    "duration": 8,
    "start_time": "2022-09-11T00:11:44.096Z"
   },
   {
    "duration": 3,
    "start_time": "2022-09-11T00:11:44.106Z"
   },
   {
    "duration": 4,
    "start_time": "2022-09-11T00:11:44.111Z"
   },
   {
    "duration": 26,
    "start_time": "2022-09-11T00:11:44.116Z"
   },
   {
    "duration": 16,
    "start_time": "2022-09-11T00:11:44.144Z"
   },
   {
    "duration": 12,
    "start_time": "2022-09-11T00:11:44.162Z"
   },
   {
    "duration": 24,
    "start_time": "2022-09-11T00:11:44.175Z"
   },
   {
    "duration": 4,
    "start_time": "2022-09-11T00:11:44.201Z"
   },
   {
    "duration": 19,
    "start_time": "2022-09-11T00:11:44.207Z"
   },
   {
    "duration": 5,
    "start_time": "2022-09-11T00:11:44.231Z"
   },
   {
    "duration": 9,
    "start_time": "2022-09-11T00:11:44.237Z"
   },
   {
    "duration": 16,
    "start_time": "2022-09-11T00:11:44.247Z"
   },
   {
    "duration": 11,
    "start_time": "2022-09-11T00:11:44.265Z"
   },
   {
    "duration": 49,
    "start_time": "2022-09-11T00:11:44.278Z"
   },
   {
    "duration": 4,
    "start_time": "2022-09-11T00:11:44.329Z"
   },
   {
    "duration": 16,
    "start_time": "2022-09-11T00:11:44.335Z"
   },
   {
    "duration": 6,
    "start_time": "2022-09-11T00:11:44.352Z"
   },
   {
    "duration": 5,
    "start_time": "2022-09-11T00:11:44.360Z"
   },
   {
    "duration": 5,
    "start_time": "2022-09-11T00:11:44.367Z"
   },
   {
    "duration": 6,
    "start_time": "2022-09-11T00:11:44.373Z"
   },
   {
    "duration": 9,
    "start_time": "2022-09-11T00:11:44.381Z"
   },
   {
    "duration": 43,
    "start_time": "2022-09-11T00:11:44.392Z"
   },
   {
    "duration": 33,
    "start_time": "2022-09-11T00:11:44.437Z"
   },
   {
    "duration": 9,
    "start_time": "2022-09-11T00:11:44.472Z"
   },
   {
    "duration": 9,
    "start_time": "2022-09-11T00:11:44.482Z"
   },
   {
    "duration": 12,
    "start_time": "2022-09-11T00:11:44.494Z"
   },
   {
    "duration": 11,
    "start_time": "2022-09-11T00:11:44.508Z"
   },
   {
    "duration": 8,
    "start_time": "2022-09-11T00:11:44.520Z"
   },
   {
    "duration": 10,
    "start_time": "2022-09-11T00:11:44.529Z"
   },
   {
    "duration": 9,
    "start_time": "2022-09-11T00:11:44.541Z"
   },
   {
    "duration": 5,
    "start_time": "2022-09-11T00:11:44.552Z"
   },
   {
    "duration": 4,
    "start_time": "2022-09-11T00:11:44.558Z"
   },
   {
    "duration": 8,
    "start_time": "2022-09-11T00:11:44.564Z"
   },
   {
    "duration": 6,
    "start_time": "2022-09-11T00:11:44.574Z"
   },
   {
    "duration": 6,
    "start_time": "2022-09-11T00:11:44.581Z"
   },
   {
    "duration": 5,
    "start_time": "2022-09-11T00:11:44.588Z"
   },
   {
    "duration": 6,
    "start_time": "2022-09-11T00:11:44.595Z"
   },
   {
    "duration": 9,
    "start_time": "2022-09-11T00:11:44.602Z"
   },
   {
    "duration": 10,
    "start_time": "2022-09-11T00:11:44.612Z"
   },
   {
    "duration": 5,
    "start_time": "2022-09-11T00:11:44.623Z"
   },
   {
    "duration": 45,
    "start_time": "2022-09-11T00:11:44.630Z"
   },
   {
    "duration": 0,
    "start_time": "2022-09-11T00:11:44.677Z"
   },
   {
    "duration": 0,
    "start_time": "2022-09-11T00:11:44.678Z"
   },
   {
    "duration": 0,
    "start_time": "2022-09-11T00:11:44.679Z"
   },
   {
    "duration": 413,
    "start_time": "2022-09-11T00:14:41.876Z"
   },
   {
    "duration": 3,
    "start_time": "2022-09-11T00:14:42.291Z"
   },
   {
    "duration": 17,
    "start_time": "2022-09-11T00:14:42.296Z"
   },
   {
    "duration": 27,
    "start_time": "2022-09-11T00:14:42.314Z"
   },
   {
    "duration": 19,
    "start_time": "2022-09-11T00:14:42.343Z"
   },
   {
    "duration": 19,
    "start_time": "2022-09-11T00:14:42.363Z"
   },
   {
    "duration": 41,
    "start_time": "2022-09-11T00:14:42.384Z"
   },
   {
    "duration": 11,
    "start_time": "2022-09-11T00:14:42.426Z"
   },
   {
    "duration": 13,
    "start_time": "2022-09-11T00:14:42.439Z"
   },
   {
    "duration": 9,
    "start_time": "2022-09-11T00:14:42.453Z"
   },
   {
    "duration": 13,
    "start_time": "2022-09-11T00:14:42.463Z"
   },
   {
    "duration": 12,
    "start_time": "2022-09-11T00:14:42.477Z"
   },
   {
    "duration": 14,
    "start_time": "2022-09-11T00:14:42.490Z"
   },
   {
    "duration": 19,
    "start_time": "2022-09-11T00:14:42.506Z"
   },
   {
    "duration": 7,
    "start_time": "2022-09-11T00:14:42.527Z"
   },
   {
    "duration": 19,
    "start_time": "2022-09-11T00:14:42.536Z"
   },
   {
    "duration": 5,
    "start_time": "2022-09-11T00:14:42.556Z"
   },
   {
    "duration": 14,
    "start_time": "2022-09-11T00:14:42.562Z"
   },
   {
    "duration": 7,
    "start_time": "2022-09-11T00:14:42.577Z"
   },
   {
    "duration": 9,
    "start_time": "2022-09-11T00:14:42.585Z"
   },
   {
    "duration": 9,
    "start_time": "2022-09-11T00:14:42.595Z"
   },
   {
    "duration": 17,
    "start_time": "2022-09-11T00:14:42.606Z"
   },
   {
    "duration": 4,
    "start_time": "2022-09-11T00:14:42.624Z"
   },
   {
    "duration": 20,
    "start_time": "2022-09-11T00:14:42.630Z"
   },
   {
    "duration": 6,
    "start_time": "2022-09-11T00:14:42.651Z"
   },
   {
    "duration": 10,
    "start_time": "2022-09-11T00:14:42.658Z"
   },
   {
    "duration": 1,
    "start_time": "2022-09-11T00:14:42.670Z"
   },
   {
    "duration": 5,
    "start_time": "2022-09-11T00:14:42.673Z"
   },
   {
    "duration": 22,
    "start_time": "2022-09-11T00:14:42.679Z"
   },
   {
    "duration": 20,
    "start_time": "2022-09-11T00:14:42.702Z"
   },
   {
    "duration": 6,
    "start_time": "2022-09-11T00:14:42.724Z"
   },
   {
    "duration": 10,
    "start_time": "2022-09-11T00:14:42.731Z"
   },
   {
    "duration": 6,
    "start_time": "2022-09-11T00:14:42.742Z"
   },
   {
    "duration": 5,
    "start_time": "2022-09-11T00:14:42.749Z"
   },
   {
    "duration": 21,
    "start_time": "2022-09-11T00:14:42.755Z"
   },
   {
    "duration": 34,
    "start_time": "2022-09-11T00:14:42.777Z"
   },
   {
    "duration": 18,
    "start_time": "2022-09-11T00:14:42.822Z"
   },
   {
    "duration": 3,
    "start_time": "2022-09-11T00:14:42.842Z"
   },
   {
    "duration": 9,
    "start_time": "2022-09-11T00:14:42.846Z"
   },
   {
    "duration": 7,
    "start_time": "2022-09-11T00:14:42.856Z"
   },
   {
    "duration": 6,
    "start_time": "2022-09-11T00:14:42.866Z"
   },
   {
    "duration": 14,
    "start_time": "2022-09-11T00:14:42.873Z"
   },
   {
    "duration": 9,
    "start_time": "2022-09-11T00:14:42.888Z"
   },
   {
    "duration": 49,
    "start_time": "2022-09-11T00:14:42.899Z"
   },
   {
    "duration": 4,
    "start_time": "2022-09-11T00:14:42.949Z"
   },
   {
    "duration": 14,
    "start_time": "2022-09-11T00:14:42.955Z"
   },
   {
    "duration": 5,
    "start_time": "2022-09-11T00:14:42.970Z"
   },
   {
    "duration": 7,
    "start_time": "2022-09-11T00:14:42.976Z"
   },
   {
    "duration": 5,
    "start_time": "2022-09-11T00:14:42.984Z"
   },
   {
    "duration": 6,
    "start_time": "2022-09-11T00:14:42.990Z"
   },
   {
    "duration": 24,
    "start_time": "2022-09-11T00:14:42.998Z"
   },
   {
    "duration": 19,
    "start_time": "2022-09-11T00:14:43.023Z"
   },
   {
    "duration": 2,
    "start_time": "2022-09-11T00:14:43.044Z"
   },
   {
    "duration": 10,
    "start_time": "2022-09-11T00:14:43.047Z"
   },
   {
    "duration": 12,
    "start_time": "2022-09-11T00:14:43.059Z"
   },
   {
    "duration": 6,
    "start_time": "2022-09-11T00:14:43.072Z"
   },
   {
    "duration": 5,
    "start_time": "2022-09-11T00:14:43.080Z"
   },
   {
    "duration": 7,
    "start_time": "2022-09-11T00:14:43.086Z"
   },
   {
    "duration": 15,
    "start_time": "2022-09-11T00:14:43.095Z"
   },
   {
    "duration": 7,
    "start_time": "2022-09-11T00:14:43.111Z"
   },
   {
    "duration": 8,
    "start_time": "2022-09-11T00:14:43.119Z"
   },
   {
    "duration": 6,
    "start_time": "2022-09-11T00:14:43.128Z"
   },
   {
    "duration": 8,
    "start_time": "2022-09-11T00:14:43.135Z"
   },
   {
    "duration": 15,
    "start_time": "2022-09-11T00:14:43.144Z"
   },
   {
    "duration": 5,
    "start_time": "2022-09-11T00:14:43.161Z"
   },
   {
    "duration": 6,
    "start_time": "2022-09-11T00:14:43.168Z"
   },
   {
    "duration": 11,
    "start_time": "2022-09-11T00:14:43.175Z"
   },
   {
    "duration": 5,
    "start_time": "2022-09-11T00:14:43.188Z"
   },
   {
    "duration": 16,
    "start_time": "2022-09-11T00:14:43.194Z"
   },
   {
    "duration": 5,
    "start_time": "2022-09-11T00:14:43.212Z"
   },
   {
    "duration": 47,
    "start_time": "2022-09-11T00:14:43.218Z"
   },
   {
    "duration": 0,
    "start_time": "2022-09-11T00:14:43.266Z"
   },
   {
    "duration": 0,
    "start_time": "2022-09-11T00:14:43.268Z"
   },
   {
    "duration": 0,
    "start_time": "2022-09-11T00:14:43.269Z"
   },
   {
    "duration": 4,
    "start_time": "2022-09-11T00:24:58.362Z"
   },
   {
    "duration": 9,
    "start_time": "2022-09-11T00:25:12.155Z"
   },
   {
    "duration": 2,
    "start_time": "2022-09-11T00:25:20.903Z"
   },
   {
    "duration": 626,
    "start_time": "2022-09-12T13:11:25.993Z"
   },
   {
    "duration": 3,
    "start_time": "2022-09-12T13:11:26.622Z"
   },
   {
    "duration": 28,
    "start_time": "2022-09-12T13:11:26.627Z"
   },
   {
    "duration": 24,
    "start_time": "2022-09-12T13:11:26.657Z"
   },
   {
    "duration": 21,
    "start_time": "2022-09-12T13:11:26.682Z"
   },
   {
    "duration": 34,
    "start_time": "2022-09-12T13:11:26.705Z"
   },
   {
    "duration": 12,
    "start_time": "2022-09-12T13:11:26.741Z"
   },
   {
    "duration": 23,
    "start_time": "2022-09-12T13:11:26.755Z"
   },
   {
    "duration": 11,
    "start_time": "2022-09-12T13:11:26.780Z"
   },
   {
    "duration": 30,
    "start_time": "2022-09-12T13:11:26.794Z"
   },
   {
    "duration": 4,
    "start_time": "2022-09-12T13:11:26.826Z"
   },
   {
    "duration": 26,
    "start_time": "2022-09-12T13:11:26.831Z"
   },
   {
    "duration": 18,
    "start_time": "2022-09-12T13:11:26.858Z"
   },
   {
    "duration": 20,
    "start_time": "2022-09-12T13:11:26.878Z"
   },
   {
    "duration": 26,
    "start_time": "2022-09-12T13:11:26.900Z"
   },
   {
    "duration": 22,
    "start_time": "2022-09-12T13:11:26.928Z"
   },
   {
    "duration": 14,
    "start_time": "2022-09-12T13:11:26.952Z"
   },
   {
    "duration": 9,
    "start_time": "2022-09-12T13:11:26.967Z"
   },
   {
    "duration": 27,
    "start_time": "2022-09-12T13:11:26.978Z"
   },
   {
    "duration": 10,
    "start_time": "2022-09-12T13:11:27.007Z"
   },
   {
    "duration": 15,
    "start_time": "2022-09-12T13:11:27.019Z"
   },
   {
    "duration": 15,
    "start_time": "2022-09-12T13:11:27.036Z"
   },
   {
    "duration": 22,
    "start_time": "2022-09-12T13:11:27.052Z"
   },
   {
    "duration": 17,
    "start_time": "2022-09-12T13:11:27.076Z"
   },
   {
    "duration": 6,
    "start_time": "2022-09-12T13:11:27.095Z"
   },
   {
    "duration": 17,
    "start_time": "2022-09-12T13:11:27.103Z"
   },
   {
    "duration": 5,
    "start_time": "2022-09-12T13:11:27.122Z"
   },
   {
    "duration": 12,
    "start_time": "2022-09-12T13:11:27.132Z"
   },
   {
    "duration": 26,
    "start_time": "2022-09-12T13:11:27.146Z"
   },
   {
    "duration": 7,
    "start_time": "2022-09-12T13:11:27.174Z"
   },
   {
    "duration": 9,
    "start_time": "2022-09-12T13:11:27.183Z"
   },
   {
    "duration": 19,
    "start_time": "2022-09-12T13:11:27.194Z"
   },
   {
    "duration": 12,
    "start_time": "2022-09-12T13:11:27.215Z"
   },
   {
    "duration": 9,
    "start_time": "2022-09-12T13:11:27.229Z"
   },
   {
    "duration": 30,
    "start_time": "2022-09-12T13:11:27.239Z"
   },
   {
    "duration": 33,
    "start_time": "2022-09-12T13:11:27.270Z"
   },
   {
    "duration": 21,
    "start_time": "2022-09-12T13:11:27.305Z"
   },
   {
    "duration": 4,
    "start_time": "2022-09-12T13:11:27.327Z"
   },
   {
    "duration": 22,
    "start_time": "2022-09-12T13:11:27.333Z"
   },
   {
    "duration": 8,
    "start_time": "2022-09-12T13:11:27.357Z"
   },
   {
    "duration": 14,
    "start_time": "2022-09-12T13:11:27.367Z"
   },
   {
    "duration": 26,
    "start_time": "2022-09-12T13:11:27.383Z"
   },
   {
    "duration": 17,
    "start_time": "2022-09-12T13:11:27.411Z"
   },
   {
    "duration": 38,
    "start_time": "2022-09-12T13:11:27.429Z"
   },
   {
    "duration": 5,
    "start_time": "2022-09-12T13:11:27.469Z"
   },
   {
    "duration": 7,
    "start_time": "2022-09-12T13:11:27.475Z"
   },
   {
    "duration": 11,
    "start_time": "2022-09-12T13:11:27.483Z"
   },
   {
    "duration": 21,
    "start_time": "2022-09-12T13:11:27.495Z"
   },
   {
    "duration": 20,
    "start_time": "2022-09-12T13:11:27.517Z"
   },
   {
    "duration": 14,
    "start_time": "2022-09-12T13:11:27.538Z"
   },
   {
    "duration": 41,
    "start_time": "2022-09-12T13:11:27.553Z"
   },
   {
    "duration": 30,
    "start_time": "2022-09-12T13:11:27.596Z"
   },
   {
    "duration": 3,
    "start_time": "2022-09-12T13:11:27.628Z"
   },
   {
    "duration": 17,
    "start_time": "2022-09-12T13:11:27.633Z"
   },
   {
    "duration": 3,
    "start_time": "2022-09-12T13:11:27.651Z"
   },
   {
    "duration": 7,
    "start_time": "2022-09-12T13:11:27.655Z"
   },
   {
    "duration": 7,
    "start_time": "2022-09-12T13:11:27.664Z"
   },
   {
    "duration": 15,
    "start_time": "2022-09-12T13:11:27.673Z"
   },
   {
    "duration": 5,
    "start_time": "2022-09-12T13:11:27.690Z"
   },
   {
    "duration": 15,
    "start_time": "2022-09-12T13:11:27.697Z"
   },
   {
    "duration": 14,
    "start_time": "2022-09-12T13:11:27.714Z"
   },
   {
    "duration": 6,
    "start_time": "2022-09-12T13:11:27.730Z"
   },
   {
    "duration": 23,
    "start_time": "2022-09-12T13:11:27.738Z"
   },
   {
    "duration": 8,
    "start_time": "2022-09-12T13:11:27.764Z"
   },
   {
    "duration": 7,
    "start_time": "2022-09-12T13:11:27.774Z"
   },
   {
    "duration": 7,
    "start_time": "2022-09-12T13:11:27.783Z"
   },
   {
    "duration": 7,
    "start_time": "2022-09-12T13:11:27.792Z"
   },
   {
    "duration": 7,
    "start_time": "2022-09-12T13:11:27.801Z"
   },
   {
    "duration": 13,
    "start_time": "2022-09-12T13:11:27.810Z"
   },
   {
    "duration": 15,
    "start_time": "2022-09-12T13:11:27.825Z"
   },
   {
    "duration": 904,
    "start_time": "2022-09-12T13:11:27.842Z"
   },
   {
    "duration": 0,
    "start_time": "2022-09-12T13:11:28.748Z"
   },
   {
    "duration": 0,
    "start_time": "2022-09-12T13:11:28.750Z"
   },
   {
    "duration": 0,
    "start_time": "2022-09-12T13:11:28.751Z"
   },
   {
    "duration": 470,
    "start_time": "2022-09-12T13:12:10.150Z"
   },
   {
    "duration": 4,
    "start_time": "2022-09-12T13:12:10.622Z"
   },
   {
    "duration": 22,
    "start_time": "2022-09-12T13:12:10.628Z"
   },
   {
    "duration": 29,
    "start_time": "2022-09-12T13:12:10.652Z"
   },
   {
    "duration": 21,
    "start_time": "2022-09-12T13:12:10.682Z"
   },
   {
    "duration": 37,
    "start_time": "2022-09-12T13:12:10.705Z"
   },
   {
    "duration": 11,
    "start_time": "2022-09-12T13:12:10.743Z"
   },
   {
    "duration": 16,
    "start_time": "2022-09-12T13:12:10.755Z"
   },
   {
    "duration": 11,
    "start_time": "2022-09-12T13:12:10.773Z"
   },
   {
    "duration": 35,
    "start_time": "2022-09-12T13:12:10.786Z"
   },
   {
    "duration": 3,
    "start_time": "2022-09-12T13:12:10.822Z"
   },
   {
    "duration": 13,
    "start_time": "2022-09-12T13:12:10.827Z"
   },
   {
    "duration": 11,
    "start_time": "2022-09-12T13:12:10.842Z"
   },
   {
    "duration": 11,
    "start_time": "2022-09-12T13:12:10.854Z"
   },
   {
    "duration": 8,
    "start_time": "2022-09-12T13:12:10.867Z"
   },
   {
    "duration": 11,
    "start_time": "2022-09-12T13:12:10.877Z"
   },
   {
    "duration": 33,
    "start_time": "2022-09-12T13:12:10.889Z"
   },
   {
    "duration": 8,
    "start_time": "2022-09-12T13:12:10.924Z"
   },
   {
    "duration": 9,
    "start_time": "2022-09-12T13:12:10.933Z"
   },
   {
    "duration": 13,
    "start_time": "2022-09-12T13:12:10.944Z"
   },
   {
    "duration": 11,
    "start_time": "2022-09-12T13:12:10.960Z"
   },
   {
    "duration": 7,
    "start_time": "2022-09-12T13:12:10.973Z"
   },
   {
    "duration": 41,
    "start_time": "2022-09-12T13:12:10.981Z"
   },
   {
    "duration": 12,
    "start_time": "2022-09-12T13:12:11.024Z"
   },
   {
    "duration": 5,
    "start_time": "2022-09-12T13:12:11.038Z"
   },
   {
    "duration": 14,
    "start_time": "2022-09-12T13:12:11.044Z"
   },
   {
    "duration": 3,
    "start_time": "2022-09-12T13:12:11.060Z"
   },
   {
    "duration": 4,
    "start_time": "2022-09-12T13:12:11.067Z"
   },
   {
    "duration": 16,
    "start_time": "2022-09-12T13:12:11.073Z"
   },
   {
    "duration": 7,
    "start_time": "2022-09-12T13:12:11.121Z"
   },
   {
    "duration": 11,
    "start_time": "2022-09-12T13:12:11.130Z"
   },
   {
    "duration": 8,
    "start_time": "2022-09-12T13:12:11.143Z"
   },
   {
    "duration": 13,
    "start_time": "2022-09-12T13:12:11.154Z"
   },
   {
    "duration": 6,
    "start_time": "2022-09-12T13:12:11.169Z"
   },
   {
    "duration": 30,
    "start_time": "2022-09-12T13:12:11.176Z"
   },
   {
    "duration": 41,
    "start_time": "2022-09-12T13:12:11.207Z"
   },
   {
    "duration": 19,
    "start_time": "2022-09-12T13:12:11.250Z"
   },
   {
    "duration": 4,
    "start_time": "2022-09-12T13:12:11.270Z"
   },
   {
    "duration": 9,
    "start_time": "2022-09-12T13:12:11.276Z"
   },
   {
    "duration": 16,
    "start_time": "2022-09-12T13:12:11.287Z"
   },
   {
    "duration": 20,
    "start_time": "2022-09-12T13:12:11.304Z"
   },
   {
    "duration": 23,
    "start_time": "2022-09-12T13:12:11.325Z"
   },
   {
    "duration": 39,
    "start_time": "2022-09-12T13:12:11.351Z"
   },
   {
    "duration": 43,
    "start_time": "2022-09-12T13:12:11.393Z"
   },
   {
    "duration": 4,
    "start_time": "2022-09-12T13:12:11.437Z"
   },
   {
    "duration": 15,
    "start_time": "2022-09-12T13:12:11.443Z"
   },
   {
    "duration": 9,
    "start_time": "2022-09-12T13:12:11.459Z"
   },
   {
    "duration": 29,
    "start_time": "2022-09-12T13:12:11.469Z"
   },
   {
    "duration": 11,
    "start_time": "2022-09-12T13:12:11.500Z"
   },
   {
    "duration": 13,
    "start_time": "2022-09-12T13:12:11.513Z"
   },
   {
    "duration": 8,
    "start_time": "2022-09-12T13:12:11.528Z"
   },
   {
    "duration": 23,
    "start_time": "2022-09-12T13:12:11.538Z"
   },
   {
    "duration": 2,
    "start_time": "2022-09-12T13:12:11.564Z"
   },
   {
    "duration": 37,
    "start_time": "2022-09-12T13:12:11.568Z"
   },
   {
    "duration": 3,
    "start_time": "2022-09-12T13:12:11.607Z"
   },
   {
    "duration": 13,
    "start_time": "2022-09-12T13:12:11.612Z"
   },
   {
    "duration": 6,
    "start_time": "2022-09-12T13:12:11.628Z"
   },
   {
    "duration": 10,
    "start_time": "2022-09-12T13:12:11.636Z"
   },
   {
    "duration": 8,
    "start_time": "2022-09-12T13:12:11.648Z"
   },
   {
    "duration": 7,
    "start_time": "2022-09-12T13:12:11.658Z"
   },
   {
    "duration": 22,
    "start_time": "2022-09-12T13:12:11.666Z"
   },
   {
    "duration": 7,
    "start_time": "2022-09-12T13:12:11.689Z"
   },
   {
    "duration": 14,
    "start_time": "2022-09-12T13:12:11.698Z"
   },
   {
    "duration": 9,
    "start_time": "2022-09-12T13:12:11.713Z"
   },
   {
    "duration": 10,
    "start_time": "2022-09-12T13:12:11.723Z"
   },
   {
    "duration": 9,
    "start_time": "2022-09-12T13:12:11.735Z"
   },
   {
    "duration": 7,
    "start_time": "2022-09-12T13:12:11.746Z"
   },
   {
    "duration": 10,
    "start_time": "2022-09-12T13:12:11.755Z"
   },
   {
    "duration": 7,
    "start_time": "2022-09-12T13:12:11.766Z"
   },
   {
    "duration": 19,
    "start_time": "2022-09-12T13:12:11.775Z"
   },
   {
    "duration": 73,
    "start_time": "2022-09-12T13:12:11.795Z"
   },
   {
    "duration": 0,
    "start_time": "2022-09-12T13:12:11.870Z"
   },
   {
    "duration": 0,
    "start_time": "2022-09-12T13:12:11.871Z"
   },
   {
    "duration": 0,
    "start_time": "2022-09-12T13:12:11.872Z"
   },
   {
    "duration": 4,
    "start_time": "2022-09-12T13:18:04.227Z"
   },
   {
    "duration": 66,
    "start_time": "2022-09-12T13:18:21.317Z"
   },
   {
    "duration": 9,
    "start_time": "2022-09-12T13:18:32.669Z"
   },
   {
    "duration": 543,
    "start_time": "2022-09-12T13:19:11.505Z"
   },
   {
    "duration": 5,
    "start_time": "2022-09-12T13:19:12.050Z"
   },
   {
    "duration": 16,
    "start_time": "2022-09-12T13:19:12.056Z"
   },
   {
    "duration": 24,
    "start_time": "2022-09-12T13:19:12.074Z"
   },
   {
    "duration": 42,
    "start_time": "2022-09-12T13:19:12.099Z"
   },
   {
    "duration": 23,
    "start_time": "2022-09-12T13:19:12.143Z"
   },
   {
    "duration": 53,
    "start_time": "2022-09-12T13:19:12.168Z"
   },
   {
    "duration": 11,
    "start_time": "2022-09-12T13:19:12.223Z"
   },
   {
    "duration": 17,
    "start_time": "2022-09-12T13:19:12.236Z"
   },
   {
    "duration": 6,
    "start_time": "2022-09-12T13:19:12.256Z"
   },
   {
    "duration": 7,
    "start_time": "2022-09-12T13:19:12.264Z"
   },
   {
    "duration": 10,
    "start_time": "2022-09-12T13:19:12.272Z"
   },
   {
    "duration": 39,
    "start_time": "2022-09-12T13:19:12.284Z"
   },
   {
    "duration": 18,
    "start_time": "2022-09-12T13:19:12.325Z"
   },
   {
    "duration": 33,
    "start_time": "2022-09-12T13:19:12.344Z"
   },
   {
    "duration": 11,
    "start_time": "2022-09-12T13:19:12.378Z"
   },
   {
    "duration": 5,
    "start_time": "2022-09-12T13:19:12.391Z"
   },
   {
    "duration": 6,
    "start_time": "2022-09-12T13:19:12.398Z"
   },
   {
    "duration": 10,
    "start_time": "2022-09-12T13:19:12.406Z"
   },
   {
    "duration": 11,
    "start_time": "2022-09-12T13:19:12.418Z"
   },
   {
    "duration": 10,
    "start_time": "2022-09-12T13:19:12.431Z"
   },
   {
    "duration": 6,
    "start_time": "2022-09-12T13:19:12.443Z"
   },
   {
    "duration": 23,
    "start_time": "2022-09-12T13:19:12.451Z"
   },
   {
    "duration": 17,
    "start_time": "2022-09-12T13:19:12.476Z"
   },
   {
    "duration": 5,
    "start_time": "2022-09-12T13:19:12.495Z"
   },
   {
    "duration": 12,
    "start_time": "2022-09-12T13:19:12.520Z"
   },
   {
    "duration": 9,
    "start_time": "2022-09-12T13:19:12.534Z"
   },
   {
    "duration": 12,
    "start_time": "2022-09-12T13:19:12.547Z"
   },
   {
    "duration": 20,
    "start_time": "2022-09-12T13:19:12.561Z"
   },
   {
    "duration": 8,
    "start_time": "2022-09-12T13:19:12.583Z"
   },
   {
    "duration": 12,
    "start_time": "2022-09-12T13:19:12.592Z"
   },
   {
    "duration": 17,
    "start_time": "2022-09-12T13:19:12.605Z"
   },
   {
    "duration": 3,
    "start_time": "2022-09-12T13:19:12.624Z"
   },
   {
    "duration": 8,
    "start_time": "2022-09-12T13:19:12.628Z"
   },
   {
    "duration": 42,
    "start_time": "2022-09-12T13:19:12.638Z"
   },
   {
    "duration": 42,
    "start_time": "2022-09-12T13:19:12.682Z"
   },
   {
    "duration": 22,
    "start_time": "2022-09-12T13:19:12.727Z"
   },
   {
    "duration": 10,
    "start_time": "2022-09-12T13:19:12.751Z"
   },
   {
    "duration": 23,
    "start_time": "2022-09-12T13:19:12.762Z"
   },
   {
    "duration": 8,
    "start_time": "2022-09-12T13:19:12.787Z"
   },
   {
    "duration": 8,
    "start_time": "2022-09-12T13:19:12.797Z"
   },
   {
    "duration": 17,
    "start_time": "2022-09-12T13:19:12.807Z"
   },
   {
    "duration": 26,
    "start_time": "2022-09-12T13:19:12.826Z"
   },
   {
    "duration": 43,
    "start_time": "2022-09-12T13:19:12.853Z"
   },
   {
    "duration": 5,
    "start_time": "2022-09-12T13:19:12.898Z"
   },
   {
    "duration": 8,
    "start_time": "2022-09-12T13:19:12.905Z"
   },
   {
    "duration": 7,
    "start_time": "2022-09-12T13:19:12.914Z"
   },
   {
    "duration": 9,
    "start_time": "2022-09-12T13:19:12.922Z"
   },
   {
    "duration": 11,
    "start_time": "2022-09-12T13:19:12.932Z"
   },
   {
    "duration": 10,
    "start_time": "2022-09-12T13:19:12.945Z"
   },
   {
    "duration": 4,
    "start_time": "2022-09-12T13:19:12.957Z"
   },
   {
    "duration": 22,
    "start_time": "2022-09-12T13:19:12.962Z"
   },
   {
    "duration": 85,
    "start_time": "2022-09-12T13:19:12.985Z"
   },
   {
    "duration": 0,
    "start_time": "2022-09-12T13:19:13.072Z"
   },
   {
    "duration": 0,
    "start_time": "2022-09-12T13:19:13.073Z"
   },
   {
    "duration": 0,
    "start_time": "2022-09-12T13:19:13.075Z"
   },
   {
    "duration": 0,
    "start_time": "2022-09-12T13:19:13.076Z"
   },
   {
    "duration": 0,
    "start_time": "2022-09-12T13:19:13.077Z"
   },
   {
    "duration": 0,
    "start_time": "2022-09-12T13:19:13.078Z"
   },
   {
    "duration": 0,
    "start_time": "2022-09-12T13:19:13.079Z"
   },
   {
    "duration": 0,
    "start_time": "2022-09-12T13:19:13.080Z"
   },
   {
    "duration": 0,
    "start_time": "2022-09-12T13:19:13.081Z"
   },
   {
    "duration": 0,
    "start_time": "2022-09-12T13:19:13.082Z"
   },
   {
    "duration": 0,
    "start_time": "2022-09-12T13:19:13.083Z"
   },
   {
    "duration": 0,
    "start_time": "2022-09-12T13:19:13.085Z"
   },
   {
    "duration": 0,
    "start_time": "2022-09-12T13:19:13.086Z"
   },
   {
    "duration": 0,
    "start_time": "2022-09-12T13:19:13.087Z"
   },
   {
    "duration": 0,
    "start_time": "2022-09-12T13:19:13.087Z"
   },
   {
    "duration": 0,
    "start_time": "2022-09-12T13:19:13.089Z"
   },
   {
    "duration": 0,
    "start_time": "2022-09-12T13:19:13.090Z"
   },
   {
    "duration": 0,
    "start_time": "2022-09-12T13:19:13.121Z"
   },
   {
    "duration": 0,
    "start_time": "2022-09-12T13:19:13.122Z"
   },
   {
    "duration": 0,
    "start_time": "2022-09-12T13:19:13.124Z"
   },
   {
    "duration": 0,
    "start_time": "2022-09-12T13:19:13.124Z"
   },
   {
    "duration": 18,
    "start_time": "2022-09-12T13:20:39.863Z"
   },
   {
    "duration": 19,
    "start_time": "2022-09-12T13:21:10.231Z"
   },
   {
    "duration": 8,
    "start_time": "2022-09-12T13:23:52.029Z"
   },
   {
    "duration": 19,
    "start_time": "2022-09-12T13:26:14.727Z"
   },
   {
    "duration": 3,
    "start_time": "2022-09-12T13:27:51.389Z"
   },
   {
    "duration": 19,
    "start_time": "2022-09-12T13:28:02.680Z"
   },
   {
    "duration": 42,
    "start_time": "2022-09-12T17:35:49.250Z"
   },
   {
    "duration": 713,
    "start_time": "2022-09-12T17:36:00.714Z"
   },
   {
    "duration": 73,
    "start_time": "2022-09-12T17:36:04.912Z"
   },
   {
    "duration": 3,
    "start_time": "2022-09-12T17:36:06.139Z"
   },
   {
    "duration": 11,
    "start_time": "2022-09-12T17:36:06.494Z"
   },
   {
    "duration": 23,
    "start_time": "2022-09-12T17:36:06.958Z"
   },
   {
    "duration": 22,
    "start_time": "2022-09-12T17:36:07.462Z"
   },
   {
    "duration": 20,
    "start_time": "2022-09-12T17:36:07.998Z"
   },
   {
    "duration": 12,
    "start_time": "2022-09-12T17:36:09.101Z"
   },
   {
    "duration": 10,
    "start_time": "2022-09-12T17:36:09.521Z"
   },
   {
    "duration": 13,
    "start_time": "2022-09-12T17:36:10.277Z"
   },
   {
    "duration": 6,
    "start_time": "2022-09-12T17:36:11.056Z"
   },
   {
    "duration": 2,
    "start_time": "2022-09-12T17:36:11.757Z"
   },
   {
    "duration": 5,
    "start_time": "2022-09-12T17:36:12.612Z"
   },
   {
    "duration": 10,
    "start_time": "2022-09-12T17:36:12.860Z"
   },
   {
    "duration": 5,
    "start_time": "2022-09-12T17:36:13.082Z"
   },
   {
    "duration": 9,
    "start_time": "2022-09-12T17:36:13.501Z"
   },
   {
    "duration": 12,
    "start_time": "2022-09-12T17:36:13.934Z"
   },
   {
    "duration": 7,
    "start_time": "2022-09-12T17:36:14.132Z"
   },
   {
    "duration": 4,
    "start_time": "2022-09-12T17:36:14.545Z"
   },
   {
    "duration": 5,
    "start_time": "2022-09-12T17:36:14.796Z"
   },
   {
    "duration": 10,
    "start_time": "2022-09-12T17:36:15.347Z"
   },
   {
    "duration": 12,
    "start_time": "2022-09-12T17:36:15.974Z"
   },
   {
    "duration": 5,
    "start_time": "2022-09-12T17:36:16.241Z"
   },
   {
    "duration": 5,
    "start_time": "2022-09-12T17:36:16.694Z"
   },
   {
    "duration": 14,
    "start_time": "2022-09-12T17:36:17.138Z"
   },
   {
    "duration": 6,
    "start_time": "2022-09-12T17:36:17.353Z"
   },
   {
    "duration": 10,
    "start_time": "2022-09-12T17:36:17.803Z"
   },
   {
    "duration": 2,
    "start_time": "2022-09-12T17:36:18.033Z"
   },
   {
    "duration": 3,
    "start_time": "2022-09-12T17:36:18.264Z"
   },
   {
    "duration": 11,
    "start_time": "2022-09-12T17:36:18.689Z"
   },
   {
    "duration": 7,
    "start_time": "2022-09-12T17:36:18.873Z"
   },
   {
    "duration": 782,
    "start_time": "2022-09-12T17:37:11.133Z"
   },
   {
    "duration": 0,
    "start_time": "2022-09-12T17:37:11.917Z"
   },
   {
    "duration": 722,
    "start_time": "2022-09-12T17:37:12.185Z"
   },
   {
    "duration": 777,
    "start_time": "2022-09-12T17:37:17.522Z"
   },
   {
    "duration": 493,
    "start_time": "2022-09-12T17:37:29.522Z"
   },
   {
    "duration": 3,
    "start_time": "2022-09-12T17:37:30.017Z"
   },
   {
    "duration": 17,
    "start_time": "2022-09-12T17:37:30.022Z"
   },
   {
    "duration": 27,
    "start_time": "2022-09-12T17:37:30.041Z"
   },
   {
    "duration": 27,
    "start_time": "2022-09-12T17:37:30.070Z"
   },
   {
    "duration": 21,
    "start_time": "2022-09-12T17:37:30.099Z"
   },
   {
    "duration": 23,
    "start_time": "2022-09-12T17:37:30.122Z"
   },
   {
    "duration": 16,
    "start_time": "2022-09-12T17:37:30.146Z"
   },
   {
    "duration": 14,
    "start_time": "2022-09-12T17:37:30.163Z"
   },
   {
    "duration": 6,
    "start_time": "2022-09-12T17:37:30.180Z"
   },
   {
    "duration": 20,
    "start_time": "2022-09-12T17:37:30.187Z"
   },
   {
    "duration": 15,
    "start_time": "2022-09-12T17:37:30.208Z"
   },
   {
    "duration": 27,
    "start_time": "2022-09-12T17:37:30.225Z"
   },
   {
    "duration": 19,
    "start_time": "2022-09-12T17:37:30.254Z"
   },
   {
    "duration": 12,
    "start_time": "2022-09-12T17:37:30.274Z"
   },
   {
    "duration": 11,
    "start_time": "2022-09-12T17:37:30.288Z"
   },
   {
    "duration": 7,
    "start_time": "2022-09-12T17:37:30.300Z"
   },
   {
    "duration": 19,
    "start_time": "2022-09-12T17:37:30.308Z"
   },
   {
    "duration": 13,
    "start_time": "2022-09-12T17:37:30.328Z"
   },
   {
    "duration": 11,
    "start_time": "2022-09-12T17:37:30.343Z"
   },
   {
    "duration": 10,
    "start_time": "2022-09-12T17:37:30.355Z"
   },
   {
    "duration": 5,
    "start_time": "2022-09-12T17:37:30.366Z"
   },
   {
    "duration": 9,
    "start_time": "2022-09-12T17:37:30.373Z"
   },
   {
    "duration": 35,
    "start_time": "2022-09-12T17:37:30.384Z"
   },
   {
    "duration": 16,
    "start_time": "2022-09-12T17:37:30.420Z"
   },
   {
    "duration": 27,
    "start_time": "2022-09-12T17:37:30.437Z"
   },
   {
    "duration": 14,
    "start_time": "2022-09-12T17:37:30.466Z"
   },
   {
    "duration": 29,
    "start_time": "2022-09-12T17:37:30.484Z"
   },
   {
    "duration": 26,
    "start_time": "2022-09-12T17:37:30.515Z"
   },
   {
    "duration": 19,
    "start_time": "2022-09-12T17:37:30.543Z"
   },
   {
    "duration": 40,
    "start_time": "2022-09-12T17:37:30.563Z"
   },
   {
    "duration": 21,
    "start_time": "2022-09-12T17:37:30.605Z"
   },
   {
    "duration": 30,
    "start_time": "2022-09-12T17:37:30.628Z"
   },
   {
    "duration": 18,
    "start_time": "2022-09-12T17:37:30.660Z"
   },
   {
    "duration": 96,
    "start_time": "2022-09-12T17:37:30.680Z"
   },
   {
    "duration": 39,
    "start_time": "2022-09-12T17:37:30.778Z"
   },
   {
    "duration": 47,
    "start_time": "2022-09-12T17:37:30.819Z"
   },
   {
    "duration": 11,
    "start_time": "2022-09-12T17:37:30.868Z"
   },
   {
    "duration": 14,
    "start_time": "2022-09-12T17:37:30.880Z"
   },
   {
    "duration": 8,
    "start_time": "2022-09-12T17:37:30.895Z"
   },
   {
    "duration": 17,
    "start_time": "2022-09-12T17:37:30.905Z"
   },
   {
    "duration": 27,
    "start_time": "2022-09-12T17:37:30.924Z"
   },
   {
    "duration": 34,
    "start_time": "2022-09-12T17:37:30.952Z"
   },
   {
    "duration": 54,
    "start_time": "2022-09-12T17:37:30.988Z"
   },
   {
    "duration": 5,
    "start_time": "2022-09-12T17:37:31.045Z"
   },
   {
    "duration": 20,
    "start_time": "2022-09-12T17:37:31.051Z"
   },
   {
    "duration": 17,
    "start_time": "2022-09-12T17:37:31.073Z"
   },
   {
    "duration": 16,
    "start_time": "2022-09-12T17:37:31.092Z"
   },
   {
    "duration": 18,
    "start_time": "2022-09-12T17:37:31.110Z"
   },
   {
    "duration": 16,
    "start_time": "2022-09-12T17:37:31.130Z"
   },
   {
    "duration": 22,
    "start_time": "2022-09-12T17:37:31.148Z"
   },
   {
    "duration": 32,
    "start_time": "2022-09-12T17:37:31.171Z"
   },
   {
    "duration": 30,
    "start_time": "2022-09-12T17:37:31.205Z"
   },
   {
    "duration": 22,
    "start_time": "2022-09-12T17:37:31.237Z"
   },
   {
    "duration": 5,
    "start_time": "2022-09-12T17:37:31.262Z"
   },
   {
    "duration": 30,
    "start_time": "2022-09-12T17:37:31.269Z"
   },
   {
    "duration": 11,
    "start_time": "2022-09-12T17:37:31.301Z"
   },
   {
    "duration": 12,
    "start_time": "2022-09-12T17:37:31.313Z"
   },
   {
    "duration": 16,
    "start_time": "2022-09-12T17:37:31.326Z"
   },
   {
    "duration": 11,
    "start_time": "2022-09-12T17:37:31.344Z"
   },
   {
    "duration": 7,
    "start_time": "2022-09-12T17:37:31.357Z"
   },
   {
    "duration": 7,
    "start_time": "2022-09-12T17:37:31.366Z"
   },
   {
    "duration": 12,
    "start_time": "2022-09-12T17:37:31.374Z"
   },
   {
    "duration": 17,
    "start_time": "2022-09-12T17:37:31.387Z"
   },
   {
    "duration": 10,
    "start_time": "2022-09-12T17:37:31.405Z"
   },
   {
    "duration": 12,
    "start_time": "2022-09-12T17:37:31.417Z"
   },
   {
    "duration": 10,
    "start_time": "2022-09-12T17:37:31.431Z"
   },
   {
    "duration": 9,
    "start_time": "2022-09-12T17:37:31.443Z"
   },
   {
    "duration": 17,
    "start_time": "2022-09-12T17:37:31.453Z"
   },
   {
    "duration": 9,
    "start_time": "2022-09-12T17:37:31.472Z"
   },
   {
    "duration": 50,
    "start_time": "2022-09-12T17:37:31.483Z"
   },
   {
    "duration": 0,
    "start_time": "2022-09-12T17:37:31.535Z"
   },
   {
    "duration": 0,
    "start_time": "2022-09-12T17:37:31.536Z"
   },
   {
    "duration": 0,
    "start_time": "2022-09-12T17:37:31.537Z"
   },
   {
    "duration": 15,
    "start_time": "2022-09-12T17:37:59.629Z"
   },
   {
    "duration": 18,
    "start_time": "2022-09-12T17:38:52.810Z"
   },
   {
    "duration": 19,
    "start_time": "2022-09-12T17:39:21.602Z"
   },
   {
    "duration": 18,
    "start_time": "2022-09-12T17:40:05.652Z"
   },
   {
    "duration": 18,
    "start_time": "2022-09-12T17:40:20.874Z"
   },
   {
    "duration": 17,
    "start_time": "2022-09-12T17:40:27.883Z"
   },
   {
    "duration": 24,
    "start_time": "2022-09-12T17:40:42.728Z"
   },
   {
    "duration": 22,
    "start_time": "2022-09-12T17:41:11.573Z"
   },
   {
    "duration": 16,
    "start_time": "2022-09-12T17:41:26.586Z"
   },
   {
    "duration": 4,
    "start_time": "2022-09-12T17:45:42.808Z"
   },
   {
    "duration": 4,
    "start_time": "2022-09-12T17:46:43.123Z"
   },
   {
    "duration": 4,
    "start_time": "2022-09-12T17:46:46.216Z"
   },
   {
    "duration": 5,
    "start_time": "2022-09-12T17:47:36.199Z"
   },
   {
    "duration": 4,
    "start_time": "2022-09-12T17:48:03.089Z"
   },
   {
    "duration": 5,
    "start_time": "2022-09-12T17:48:04.852Z"
   },
   {
    "duration": 455,
    "start_time": "2022-09-12T17:48:44.496Z"
   },
   {
    "duration": 3,
    "start_time": "2022-09-12T17:48:44.953Z"
   },
   {
    "duration": 22,
    "start_time": "2022-09-12T17:48:44.958Z"
   },
   {
    "duration": 32,
    "start_time": "2022-09-12T17:48:44.982Z"
   },
   {
    "duration": 53,
    "start_time": "2022-09-12T17:48:45.016Z"
   },
   {
    "duration": 20,
    "start_time": "2022-09-12T17:48:45.071Z"
   },
   {
    "duration": 10,
    "start_time": "2022-09-12T17:48:45.093Z"
   },
   {
    "duration": 16,
    "start_time": "2022-09-12T17:48:45.104Z"
   },
   {
    "duration": 26,
    "start_time": "2022-09-12T17:48:45.121Z"
   },
   {
    "duration": 8,
    "start_time": "2022-09-12T17:48:45.149Z"
   },
   {
    "duration": 3,
    "start_time": "2022-09-12T17:48:45.158Z"
   },
   {
    "duration": 11,
    "start_time": "2022-09-12T17:48:45.163Z"
   },
   {
    "duration": 9,
    "start_time": "2022-09-12T17:48:45.176Z"
   },
   {
    "duration": 5,
    "start_time": "2022-09-12T17:48:45.187Z"
   },
   {
    "duration": 7,
    "start_time": "2022-09-12T17:48:45.194Z"
   },
   {
    "duration": 45,
    "start_time": "2022-09-12T17:48:45.203Z"
   },
   {
    "duration": 16,
    "start_time": "2022-09-12T17:48:45.252Z"
   },
   {
    "duration": 5,
    "start_time": "2022-09-12T17:48:45.270Z"
   },
   {
    "duration": 6,
    "start_time": "2022-09-12T17:48:45.277Z"
   },
   {
    "duration": 10,
    "start_time": "2022-09-12T17:48:45.284Z"
   },
   {
    "duration": 9,
    "start_time": "2022-09-12T17:48:45.296Z"
   },
   {
    "duration": 5,
    "start_time": "2022-09-12T17:48:45.306Z"
   },
   {
    "duration": 6,
    "start_time": "2022-09-12T17:48:45.312Z"
   },
   {
    "duration": 31,
    "start_time": "2022-09-12T17:48:45.320Z"
   },
   {
    "duration": 10,
    "start_time": "2022-09-12T17:48:45.353Z"
   },
   {
    "duration": 12,
    "start_time": "2022-09-12T17:48:45.365Z"
   },
   {
    "duration": 1,
    "start_time": "2022-09-12T17:48:45.379Z"
   },
   {
    "duration": 3,
    "start_time": "2022-09-12T17:48:45.384Z"
   },
   {
    "duration": 13,
    "start_time": "2022-09-12T17:48:45.388Z"
   },
   {
    "duration": 8,
    "start_time": "2022-09-12T17:48:45.403Z"
   },
   {
    "duration": 29,
    "start_time": "2022-09-12T17:48:45.413Z"
   },
   {
    "duration": 16,
    "start_time": "2022-09-12T17:48:45.443Z"
   },
   {
    "duration": 4,
    "start_time": "2022-09-12T17:48:45.460Z"
   },
   {
    "duration": 7,
    "start_time": "2022-09-12T17:48:45.465Z"
   },
   {
    "duration": 22,
    "start_time": "2022-09-12T17:48:45.474Z"
   },
   {
    "duration": 27,
    "start_time": "2022-09-12T17:48:45.498Z"
   },
   {
    "duration": 23,
    "start_time": "2022-09-12T17:48:45.527Z"
   },
   {
    "duration": 3,
    "start_time": "2022-09-12T17:48:45.552Z"
   },
   {
    "duration": 9,
    "start_time": "2022-09-12T17:48:45.556Z"
   },
   {
    "duration": 6,
    "start_time": "2022-09-12T17:48:45.566Z"
   },
   {
    "duration": 8,
    "start_time": "2022-09-12T17:48:45.573Z"
   },
   {
    "duration": 14,
    "start_time": "2022-09-12T17:48:45.583Z"
   },
   {
    "duration": 7,
    "start_time": "2022-09-12T17:48:45.598Z"
   },
   {
    "duration": 46,
    "start_time": "2022-09-12T17:48:45.606Z"
   },
   {
    "duration": 4,
    "start_time": "2022-09-12T17:48:45.653Z"
   },
   {
    "duration": 7,
    "start_time": "2022-09-12T17:48:45.658Z"
   },
   {
    "duration": 5,
    "start_time": "2022-09-12T17:48:45.667Z"
   },
   {
    "duration": 6,
    "start_time": "2022-09-12T17:48:45.674Z"
   },
   {
    "duration": 9,
    "start_time": "2022-09-12T17:48:45.682Z"
   },
   {
    "duration": 9,
    "start_time": "2022-09-12T17:48:45.692Z"
   },
   {
    "duration": 5,
    "start_time": "2022-09-12T17:48:45.702Z"
   },
   {
    "duration": 42,
    "start_time": "2022-09-12T17:48:45.708Z"
   },
   {
    "duration": 17,
    "start_time": "2022-09-12T17:48:45.752Z"
   },
   {
    "duration": 16,
    "start_time": "2022-09-12T17:48:45.770Z"
   },
   {
    "duration": 3,
    "start_time": "2022-09-12T17:48:45.788Z"
   },
   {
    "duration": 9,
    "start_time": "2022-09-12T17:48:45.792Z"
   },
   {
    "duration": 7,
    "start_time": "2022-09-12T17:48:45.802Z"
   },
   {
    "duration": 7,
    "start_time": "2022-09-12T17:48:45.810Z"
   },
   {
    "duration": 4,
    "start_time": "2022-09-12T17:48:45.819Z"
   },
   {
    "duration": 23,
    "start_time": "2022-09-12T17:48:45.824Z"
   },
   {
    "duration": 5,
    "start_time": "2022-09-12T17:48:45.849Z"
   },
   {
    "duration": 6,
    "start_time": "2022-09-12T17:48:45.855Z"
   },
   {
    "duration": 5,
    "start_time": "2022-09-12T17:48:45.863Z"
   },
   {
    "duration": 5,
    "start_time": "2022-09-12T17:48:45.869Z"
   },
   {
    "duration": 6,
    "start_time": "2022-09-12T17:48:45.875Z"
   },
   {
    "duration": 8,
    "start_time": "2022-09-12T17:48:45.882Z"
   },
   {
    "duration": 10,
    "start_time": "2022-09-12T17:48:45.892Z"
   },
   {
    "duration": 5,
    "start_time": "2022-09-12T17:48:45.903Z"
   },
   {
    "duration": 9,
    "start_time": "2022-09-12T17:48:45.909Z"
   },
   {
    "duration": 7,
    "start_time": "2022-09-12T17:48:45.919Z"
   },
   {
    "duration": 59,
    "start_time": "2022-09-12T17:48:45.927Z"
   },
   {
    "duration": 0,
    "start_time": "2022-09-12T17:48:45.987Z"
   },
   {
    "duration": 0,
    "start_time": "2022-09-12T17:48:45.989Z"
   },
   {
    "duration": 0,
    "start_time": "2022-09-12T17:48:45.990Z"
   },
   {
    "duration": 11,
    "start_time": "2022-09-12T17:49:34.641Z"
   },
   {
    "duration": 8,
    "start_time": "2022-09-12T17:50:31.047Z"
   },
   {
    "duration": 6,
    "start_time": "2022-09-12T17:50:42.365Z"
   },
   {
    "duration": 7,
    "start_time": "2022-09-12T17:50:53.347Z"
   },
   {
    "duration": 7,
    "start_time": "2022-09-12T17:51:08.879Z"
   },
   {
    "duration": 48,
    "start_time": "2022-09-12T17:51:24.210Z"
   },
   {
    "duration": 8,
    "start_time": "2022-09-12T17:51:28.378Z"
   },
   {
    "duration": 7,
    "start_time": "2022-09-12T17:51:30.828Z"
   },
   {
    "duration": 453,
    "start_time": "2022-09-12T17:51:59.383Z"
   },
   {
    "duration": 3,
    "start_time": "2022-09-12T17:51:59.837Z"
   },
   {
    "duration": 49,
    "start_time": "2022-09-12T17:51:59.842Z"
   },
   {
    "duration": 58,
    "start_time": "2022-09-12T17:51:59.893Z"
   },
   {
    "duration": 21,
    "start_time": "2022-09-12T17:51:59.952Z"
   },
   {
    "duration": 31,
    "start_time": "2022-09-12T17:51:59.974Z"
   },
   {
    "duration": 15,
    "start_time": "2022-09-12T17:52:00.007Z"
   },
   {
    "duration": 46,
    "start_time": "2022-09-12T17:52:00.023Z"
   },
   {
    "duration": 34,
    "start_time": "2022-09-12T17:52:00.071Z"
   },
   {
    "duration": 32,
    "start_time": "2022-09-12T17:52:00.108Z"
   },
   {
    "duration": 37,
    "start_time": "2022-09-12T17:52:00.142Z"
   },
   {
    "duration": 34,
    "start_time": "2022-09-12T17:52:00.181Z"
   },
   {
    "duration": 37,
    "start_time": "2022-09-12T17:52:00.217Z"
   },
   {
    "duration": 39,
    "start_time": "2022-09-12T17:52:00.256Z"
   },
   {
    "duration": 40,
    "start_time": "2022-09-12T17:52:00.297Z"
   },
   {
    "duration": 37,
    "start_time": "2022-09-12T17:52:00.339Z"
   },
   {
    "duration": 46,
    "start_time": "2022-09-12T17:52:00.378Z"
   },
   {
    "duration": 47,
    "start_time": "2022-09-12T17:52:00.426Z"
   },
   {
    "duration": 34,
    "start_time": "2022-09-12T17:52:00.474Z"
   },
   {
    "duration": 40,
    "start_time": "2022-09-12T17:52:00.510Z"
   },
   {
    "duration": 37,
    "start_time": "2022-09-12T17:52:00.552Z"
   },
   {
    "duration": 59,
    "start_time": "2022-09-12T17:52:00.591Z"
   },
   {
    "duration": 36,
    "start_time": "2022-09-12T17:52:00.652Z"
   },
   {
    "duration": 55,
    "start_time": "2022-09-12T17:52:00.689Z"
   },
   {
    "duration": 38,
    "start_time": "2022-09-12T17:52:00.746Z"
   },
   {
    "duration": 52,
    "start_time": "2022-09-12T17:52:00.785Z"
   },
   {
    "duration": 25,
    "start_time": "2022-09-12T17:52:00.838Z"
   },
   {
    "duration": 28,
    "start_time": "2022-09-12T17:52:00.867Z"
   },
   {
    "duration": 47,
    "start_time": "2022-09-12T17:52:00.897Z"
   },
   {
    "duration": 41,
    "start_time": "2022-09-12T17:52:00.946Z"
   },
   {
    "duration": 29,
    "start_time": "2022-09-12T17:52:00.989Z"
   },
   {
    "duration": 48,
    "start_time": "2022-09-12T17:52:01.019Z"
   },
   {
    "duration": 28,
    "start_time": "2022-09-12T17:52:01.069Z"
   },
   {
    "duration": 28,
    "start_time": "2022-09-12T17:52:01.099Z"
   },
   {
    "duration": 46,
    "start_time": "2022-09-12T17:52:01.129Z"
   },
   {
    "duration": 35,
    "start_time": "2022-09-12T17:52:01.177Z"
   },
   {
    "duration": 16,
    "start_time": "2022-09-12T17:52:01.214Z"
   },
   {
    "duration": 14,
    "start_time": "2022-09-12T17:52:01.232Z"
   },
   {
    "duration": 20,
    "start_time": "2022-09-12T17:52:01.248Z"
   },
   {
    "duration": 53,
    "start_time": "2022-09-12T17:52:01.270Z"
   },
   {
    "duration": 25,
    "start_time": "2022-09-12T17:52:01.324Z"
   },
   {
    "duration": 36,
    "start_time": "2022-09-12T17:52:01.351Z"
   },
   {
    "duration": 21,
    "start_time": "2022-09-12T17:52:01.388Z"
   },
   {
    "duration": 62,
    "start_time": "2022-09-12T17:52:01.411Z"
   },
   {
    "duration": 4,
    "start_time": "2022-09-12T17:52:01.475Z"
   },
   {
    "duration": 29,
    "start_time": "2022-09-12T17:52:01.481Z"
   },
   {
    "duration": 27,
    "start_time": "2022-09-12T17:52:01.512Z"
   },
   {
    "duration": 27,
    "start_time": "2022-09-12T17:52:01.541Z"
   },
   {
    "duration": 31,
    "start_time": "2022-09-12T17:52:01.570Z"
   },
   {
    "duration": 29,
    "start_time": "2022-09-12T17:52:01.603Z"
   },
   {
    "duration": 25,
    "start_time": "2022-09-12T17:52:01.634Z"
   },
   {
    "duration": 31,
    "start_time": "2022-09-12T17:52:01.660Z"
   },
   {
    "duration": 27,
    "start_time": "2022-09-12T17:52:01.693Z"
   },
   {
    "duration": 18,
    "start_time": "2022-09-12T17:52:01.722Z"
   },
   {
    "duration": 16,
    "start_time": "2022-09-12T17:52:01.741Z"
   },
   {
    "duration": 45,
    "start_time": "2022-09-12T17:52:01.759Z"
   },
   {
    "duration": 25,
    "start_time": "2022-09-12T17:52:01.806Z"
   },
   {
    "duration": 48,
    "start_time": "2022-09-12T17:52:01.833Z"
   },
   {
    "duration": 61,
    "start_time": "2022-09-12T17:52:01.883Z"
   },
   {
    "duration": 95,
    "start_time": "2022-09-12T17:52:01.946Z"
   },
   {
    "duration": 57,
    "start_time": "2022-09-12T17:52:02.043Z"
   },
   {
    "duration": 31,
    "start_time": "2022-09-12T17:52:02.101Z"
   },
   {
    "duration": 38,
    "start_time": "2022-09-12T17:52:02.134Z"
   },
   {
    "duration": 36,
    "start_time": "2022-09-12T17:52:02.174Z"
   },
   {
    "duration": 55,
    "start_time": "2022-09-12T17:52:02.212Z"
   },
   {
    "duration": 27,
    "start_time": "2022-09-12T17:52:02.269Z"
   },
   {
    "duration": 23,
    "start_time": "2022-09-12T17:52:02.298Z"
   },
   {
    "duration": 23,
    "start_time": "2022-09-12T17:52:02.323Z"
   },
   {
    "duration": 29,
    "start_time": "2022-09-12T17:52:02.347Z"
   },
   {
    "duration": 36,
    "start_time": "2022-09-12T17:52:02.378Z"
   },
   {
    "duration": 102,
    "start_time": "2022-09-12T17:52:02.415Z"
   },
   {
    "duration": 0,
    "start_time": "2022-09-12T17:52:02.518Z"
   },
   {
    "duration": 0,
    "start_time": "2022-09-12T17:52:02.520Z"
   },
   {
    "duration": 0,
    "start_time": "2022-09-12T17:52:02.521Z"
   },
   {
    "duration": 5,
    "start_time": "2022-09-12T17:52:44.390Z"
   },
   {
    "duration": 6,
    "start_time": "2022-09-12T17:58:47.029Z"
   },
   {
    "duration": 6,
    "start_time": "2022-09-12T17:58:48.364Z"
   },
   {
    "duration": 6,
    "start_time": "2022-09-12T17:58:48.926Z"
   },
   {
    "duration": 8,
    "start_time": "2022-09-12T17:59:26.398Z"
   },
   {
    "duration": 12,
    "start_time": "2022-09-12T17:59:52.550Z"
   },
   {
    "duration": 7,
    "start_time": "2022-09-12T18:00:00.045Z"
   },
   {
    "duration": 60,
    "start_time": "2022-09-12T18:00:27.853Z"
   },
   {
    "duration": 8,
    "start_time": "2022-09-12T18:00:46.650Z"
   },
   {
    "duration": 479,
    "start_time": "2022-09-12T18:01:06.703Z"
   },
   {
    "duration": 4,
    "start_time": "2022-09-12T18:01:07.183Z"
   },
   {
    "duration": 16,
    "start_time": "2022-09-12T18:01:07.188Z"
   },
   {
    "duration": 32,
    "start_time": "2022-09-12T18:01:07.206Z"
   },
   {
    "duration": 29,
    "start_time": "2022-09-12T18:01:07.240Z"
   },
   {
    "duration": 26,
    "start_time": "2022-09-12T18:01:07.271Z"
   },
   {
    "duration": 39,
    "start_time": "2022-09-12T18:01:07.298Z"
   },
   {
    "duration": 11,
    "start_time": "2022-09-12T18:01:07.339Z"
   },
   {
    "duration": 14,
    "start_time": "2022-09-12T18:01:07.352Z"
   },
   {
    "duration": 7,
    "start_time": "2022-09-12T18:01:07.369Z"
   },
   {
    "duration": 4,
    "start_time": "2022-09-12T18:01:07.379Z"
   },
   {
    "duration": 15,
    "start_time": "2022-09-12T18:01:07.384Z"
   },
   {
    "duration": 44,
    "start_time": "2022-09-12T18:01:07.401Z"
   },
   {
    "duration": 11,
    "start_time": "2022-09-12T18:01:07.447Z"
   },
   {
    "duration": 22,
    "start_time": "2022-09-12T18:01:07.459Z"
   },
   {
    "duration": 18,
    "start_time": "2022-09-12T18:01:07.483Z"
   },
   {
    "duration": 13,
    "start_time": "2022-09-12T18:01:07.503Z"
   },
   {
    "duration": 13,
    "start_time": "2022-09-12T18:01:07.518Z"
   },
   {
    "duration": 26,
    "start_time": "2022-09-12T18:01:07.536Z"
   },
   {
    "duration": 15,
    "start_time": "2022-09-12T18:01:07.564Z"
   },
   {
    "duration": 11,
    "start_time": "2022-09-12T18:01:07.581Z"
   },
   {
    "duration": 5,
    "start_time": "2022-09-12T18:01:07.594Z"
   },
   {
    "duration": 16,
    "start_time": "2022-09-12T18:01:07.600Z"
   },
   {
    "duration": 13,
    "start_time": "2022-09-12T18:01:07.618Z"
   },
   {
    "duration": 9,
    "start_time": "2022-09-12T18:01:07.632Z"
   },
   {
    "duration": 10,
    "start_time": "2022-09-12T18:01:07.643Z"
   },
   {
    "duration": 4,
    "start_time": "2022-09-12T18:01:07.654Z"
   },
   {
    "duration": 6,
    "start_time": "2022-09-12T18:01:07.663Z"
   },
   {
    "duration": 19,
    "start_time": "2022-09-12T18:01:07.671Z"
   },
   {
    "duration": 88,
    "start_time": "2022-09-12T18:01:07.691Z"
   },
   {
    "duration": 0,
    "start_time": "2022-09-12T18:01:07.781Z"
   },
   {
    "duration": 0,
    "start_time": "2022-09-12T18:01:07.782Z"
   },
   {
    "duration": 0,
    "start_time": "2022-09-12T18:01:07.784Z"
   },
   {
    "duration": 0,
    "start_time": "2022-09-12T18:01:07.785Z"
   },
   {
    "duration": 0,
    "start_time": "2022-09-12T18:01:07.786Z"
   },
   {
    "duration": 0,
    "start_time": "2022-09-12T18:01:07.787Z"
   },
   {
    "duration": 0,
    "start_time": "2022-09-12T18:01:07.788Z"
   },
   {
    "duration": 0,
    "start_time": "2022-09-12T18:01:07.789Z"
   },
   {
    "duration": 0,
    "start_time": "2022-09-12T18:01:07.789Z"
   },
   {
    "duration": 0,
    "start_time": "2022-09-12T18:01:07.790Z"
   },
   {
    "duration": 0,
    "start_time": "2022-09-12T18:01:07.792Z"
   },
   {
    "duration": 0,
    "start_time": "2022-09-12T18:01:07.792Z"
   },
   {
    "duration": 0,
    "start_time": "2022-09-12T18:01:07.794Z"
   },
   {
    "duration": 0,
    "start_time": "2022-09-12T18:01:07.795Z"
   },
   {
    "duration": 0,
    "start_time": "2022-09-12T18:01:07.796Z"
   },
   {
    "duration": 0,
    "start_time": "2022-09-12T18:01:07.798Z"
   },
   {
    "duration": 0,
    "start_time": "2022-09-12T18:01:07.799Z"
   },
   {
    "duration": 0,
    "start_time": "2022-09-12T18:01:07.800Z"
   },
   {
    "duration": 0,
    "start_time": "2022-09-12T18:01:07.837Z"
   },
   {
    "duration": 0,
    "start_time": "2022-09-12T18:01:07.839Z"
   },
   {
    "duration": 0,
    "start_time": "2022-09-12T18:01:07.840Z"
   },
   {
    "duration": 0,
    "start_time": "2022-09-12T18:01:07.841Z"
   },
   {
    "duration": 0,
    "start_time": "2022-09-12T18:01:07.843Z"
   },
   {
    "duration": 0,
    "start_time": "2022-09-12T18:01:07.844Z"
   },
   {
    "duration": 0,
    "start_time": "2022-09-12T18:01:07.845Z"
   },
   {
    "duration": 0,
    "start_time": "2022-09-12T18:01:07.847Z"
   },
   {
    "duration": 0,
    "start_time": "2022-09-12T18:01:07.848Z"
   },
   {
    "duration": 0,
    "start_time": "2022-09-12T18:01:07.849Z"
   },
   {
    "duration": 0,
    "start_time": "2022-09-12T18:01:07.851Z"
   },
   {
    "duration": 0,
    "start_time": "2022-09-12T18:01:07.852Z"
   },
   {
    "duration": 0,
    "start_time": "2022-09-12T18:01:07.853Z"
   },
   {
    "duration": 0,
    "start_time": "2022-09-12T18:01:07.855Z"
   },
   {
    "duration": 0,
    "start_time": "2022-09-12T18:01:07.856Z"
   },
   {
    "duration": 0,
    "start_time": "2022-09-12T18:01:07.857Z"
   },
   {
    "duration": 0,
    "start_time": "2022-09-12T18:01:07.859Z"
   },
   {
    "duration": 0,
    "start_time": "2022-09-12T18:01:07.860Z"
   },
   {
    "duration": 0,
    "start_time": "2022-09-12T18:01:07.862Z"
   },
   {
    "duration": 0,
    "start_time": "2022-09-12T18:01:07.863Z"
   },
   {
    "duration": 0,
    "start_time": "2022-09-12T18:01:07.864Z"
   },
   {
    "duration": 0,
    "start_time": "2022-09-12T18:01:07.865Z"
   },
   {
    "duration": 0,
    "start_time": "2022-09-12T18:01:07.866Z"
   },
   {
    "duration": 0,
    "start_time": "2022-09-12T18:01:07.867Z"
   },
   {
    "duration": 0,
    "start_time": "2022-09-12T18:01:07.868Z"
   },
   {
    "duration": 0,
    "start_time": "2022-09-12T18:01:07.869Z"
   },
   {
    "duration": 8,
    "start_time": "2022-09-12T18:01:38.583Z"
   },
   {
    "duration": 7,
    "start_time": "2022-09-12T18:01:46.170Z"
   },
   {
    "duration": 9,
    "start_time": "2022-09-12T18:02:53.256Z"
   },
   {
    "duration": 5,
    "start_time": "2022-09-12T18:06:14.908Z"
   },
   {
    "duration": 6,
    "start_time": "2022-09-12T18:06:17.152Z"
   },
   {
    "duration": 9,
    "start_time": "2022-09-12T18:07:58.039Z"
   },
   {
    "duration": 5,
    "start_time": "2022-09-12T18:10:56.122Z"
   },
   {
    "duration": 9,
    "start_time": "2022-09-12T18:11:02.651Z"
   },
   {
    "duration": 442,
    "start_time": "2022-09-12T18:12:25.989Z"
   },
   {
    "duration": 4,
    "start_time": "2022-09-12T18:12:26.432Z"
   },
   {
    "duration": 38,
    "start_time": "2022-09-12T18:12:26.437Z"
   },
   {
    "duration": 51,
    "start_time": "2022-09-12T18:12:26.477Z"
   },
   {
    "duration": 22,
    "start_time": "2022-09-12T18:12:26.530Z"
   },
   {
    "duration": 32,
    "start_time": "2022-09-12T18:12:26.553Z"
   },
   {
    "duration": 36,
    "start_time": "2022-09-12T18:12:26.586Z"
   },
   {
    "duration": 31,
    "start_time": "2022-09-12T18:12:26.623Z"
   },
   {
    "duration": 25,
    "start_time": "2022-09-12T18:12:26.655Z"
   },
   {
    "duration": 24,
    "start_time": "2022-09-12T18:12:26.682Z"
   },
   {
    "duration": 22,
    "start_time": "2022-09-12T18:12:26.708Z"
   },
   {
    "duration": 25,
    "start_time": "2022-09-12T18:12:26.731Z"
   },
   {
    "duration": 36,
    "start_time": "2022-09-12T18:12:26.757Z"
   },
   {
    "duration": 47,
    "start_time": "2022-09-12T18:12:26.795Z"
   },
   {
    "duration": 25,
    "start_time": "2022-09-12T18:12:26.844Z"
   },
   {
    "duration": 45,
    "start_time": "2022-09-12T18:12:26.870Z"
   },
   {
    "duration": 29,
    "start_time": "2022-09-12T18:12:26.917Z"
   },
   {
    "duration": 21,
    "start_time": "2022-09-12T18:12:26.948Z"
   },
   {
    "duration": 28,
    "start_time": "2022-09-12T18:12:26.971Z"
   },
   {
    "duration": 34,
    "start_time": "2022-09-12T18:12:27.000Z"
   },
   {
    "duration": 19,
    "start_time": "2022-09-12T18:12:27.036Z"
   },
   {
    "duration": 16,
    "start_time": "2022-09-12T18:12:27.057Z"
   },
   {
    "duration": 30,
    "start_time": "2022-09-12T18:12:27.075Z"
   },
   {
    "duration": 18,
    "start_time": "2022-09-12T18:12:27.106Z"
   },
   {
    "duration": 9,
    "start_time": "2022-09-12T18:12:27.125Z"
   },
   {
    "duration": 35,
    "start_time": "2022-09-12T18:12:27.135Z"
   },
   {
    "duration": 15,
    "start_time": "2022-09-12T18:12:27.171Z"
   },
   {
    "duration": 28,
    "start_time": "2022-09-12T18:12:27.190Z"
   },
   {
    "duration": 37,
    "start_time": "2022-09-12T18:12:27.219Z"
   },
   {
    "duration": 70,
    "start_time": "2022-09-12T18:12:27.258Z"
   },
   {
    "duration": 35,
    "start_time": "2022-09-12T18:12:27.330Z"
   },
   {
    "duration": 28,
    "start_time": "2022-09-12T18:12:27.366Z"
   },
   {
    "duration": 38,
    "start_time": "2022-09-12T18:12:27.396Z"
   },
   {
    "duration": 32,
    "start_time": "2022-09-12T18:12:27.436Z"
   },
   {
    "duration": 52,
    "start_time": "2022-09-12T18:12:27.470Z"
   },
   {
    "duration": 37,
    "start_time": "2022-09-12T18:12:27.523Z"
   },
   {
    "duration": 17,
    "start_time": "2022-09-12T18:12:27.562Z"
   },
   {
    "duration": 12,
    "start_time": "2022-09-12T18:12:27.580Z"
   },
   {
    "duration": 44,
    "start_time": "2022-09-12T18:12:27.593Z"
   },
   {
    "duration": 28,
    "start_time": "2022-09-12T18:12:27.639Z"
   },
   {
    "duration": 27,
    "start_time": "2022-09-12T18:12:27.670Z"
   },
   {
    "duration": 41,
    "start_time": "2022-09-12T18:12:27.698Z"
   },
   {
    "duration": 15,
    "start_time": "2022-09-12T18:12:27.740Z"
   },
   {
    "duration": 64,
    "start_time": "2022-09-12T18:12:27.757Z"
   },
   {
    "duration": 4,
    "start_time": "2022-09-12T18:12:27.823Z"
   },
   {
    "duration": 33,
    "start_time": "2022-09-12T18:12:27.828Z"
   },
   {
    "duration": 20,
    "start_time": "2022-09-12T18:12:27.862Z"
   },
   {
    "duration": 33,
    "start_time": "2022-09-12T18:12:27.883Z"
   },
   {
    "duration": 28,
    "start_time": "2022-09-12T18:12:27.917Z"
   },
   {
    "duration": 32,
    "start_time": "2022-09-12T18:12:27.946Z"
   },
   {
    "duration": 53,
    "start_time": "2022-09-12T18:12:27.980Z"
   },
   {
    "duration": 41,
    "start_time": "2022-09-12T18:12:28.035Z"
   },
   {
    "duration": 45,
    "start_time": "2022-09-12T18:12:28.077Z"
   },
   {
    "duration": 25,
    "start_time": "2022-09-12T18:12:28.123Z"
   },
   {
    "duration": 19,
    "start_time": "2022-09-12T18:12:28.149Z"
   },
   {
    "duration": 27,
    "start_time": "2022-09-12T18:12:28.169Z"
   },
   {
    "duration": 42,
    "start_time": "2022-09-12T18:12:28.198Z"
   },
   {
    "duration": 38,
    "start_time": "2022-09-12T18:12:28.242Z"
   },
   {
    "duration": 32,
    "start_time": "2022-09-12T18:12:28.281Z"
   },
   {
    "duration": 37,
    "start_time": "2022-09-12T18:12:28.314Z"
   },
   {
    "duration": 30,
    "start_time": "2022-09-12T18:12:28.352Z"
   },
   {
    "duration": 49,
    "start_time": "2022-09-12T18:12:28.384Z"
   },
   {
    "duration": 25,
    "start_time": "2022-09-12T18:12:28.434Z"
   },
   {
    "duration": 21,
    "start_time": "2022-09-12T18:12:28.460Z"
   },
   {
    "duration": 28,
    "start_time": "2022-09-12T18:12:28.483Z"
   },
   {
    "duration": 17,
    "start_time": "2022-09-12T18:12:28.512Z"
   },
   {
    "duration": 29,
    "start_time": "2022-09-12T18:12:28.530Z"
   },
   {
    "duration": 34,
    "start_time": "2022-09-12T18:12:28.561Z"
   },
   {
    "duration": 22,
    "start_time": "2022-09-12T18:12:28.596Z"
   },
   {
    "duration": 45,
    "start_time": "2022-09-12T18:12:28.620Z"
   },
   {
    "duration": 47,
    "start_time": "2022-09-12T18:12:28.667Z"
   },
   {
    "duration": 0,
    "start_time": "2022-09-12T18:12:28.715Z"
   },
   {
    "duration": 0,
    "start_time": "2022-09-12T18:12:28.717Z"
   },
   {
    "duration": 0,
    "start_time": "2022-09-12T18:12:28.718Z"
   },
   {
    "duration": 39,
    "start_time": "2022-09-12T18:12:43.774Z"
   },
   {
    "duration": 70,
    "start_time": "2022-09-12T18:12:47.657Z"
   },
   {
    "duration": 6,
    "start_time": "2022-09-12T18:13:02.668Z"
   },
   {
    "duration": 501,
    "start_time": "2022-09-12T18:29:10.522Z"
   },
   {
    "duration": 3,
    "start_time": "2022-09-12T18:29:11.025Z"
   },
   {
    "duration": 34,
    "start_time": "2022-09-12T18:29:11.029Z"
   },
   {
    "duration": 47,
    "start_time": "2022-09-12T18:29:11.065Z"
   },
   {
    "duration": 25,
    "start_time": "2022-09-12T18:29:11.113Z"
   },
   {
    "duration": 32,
    "start_time": "2022-09-12T18:29:11.139Z"
   },
   {
    "duration": 24,
    "start_time": "2022-09-12T18:29:11.173Z"
   },
   {
    "duration": 53,
    "start_time": "2022-09-12T18:29:11.198Z"
   },
   {
    "duration": 36,
    "start_time": "2022-09-12T18:29:11.253Z"
   },
   {
    "duration": 12,
    "start_time": "2022-09-12T18:29:11.292Z"
   },
   {
    "duration": 28,
    "start_time": "2022-09-12T18:29:11.306Z"
   },
   {
    "duration": 25,
    "start_time": "2022-09-12T18:29:11.335Z"
   },
   {
    "duration": 27,
    "start_time": "2022-09-12T18:29:11.361Z"
   },
   {
    "duration": 32,
    "start_time": "2022-09-12T18:29:11.389Z"
   },
   {
    "duration": 31,
    "start_time": "2022-09-12T18:29:11.423Z"
   },
   {
    "duration": 26,
    "start_time": "2022-09-12T18:29:11.456Z"
   },
   {
    "duration": 29,
    "start_time": "2022-09-12T18:29:11.483Z"
   },
   {
    "duration": 21,
    "start_time": "2022-09-12T18:29:11.513Z"
   },
   {
    "duration": 41,
    "start_time": "2022-09-12T18:29:11.536Z"
   },
   {
    "duration": 24,
    "start_time": "2022-09-12T18:29:11.579Z"
   },
   {
    "duration": 40,
    "start_time": "2022-09-12T18:29:11.605Z"
   },
   {
    "duration": 15,
    "start_time": "2022-09-12T18:29:11.647Z"
   },
   {
    "duration": 26,
    "start_time": "2022-09-12T18:29:11.664Z"
   },
   {
    "duration": 28,
    "start_time": "2022-09-12T18:29:11.692Z"
   },
   {
    "duration": 28,
    "start_time": "2022-09-12T18:29:11.722Z"
   },
   {
    "duration": 33,
    "start_time": "2022-09-12T18:29:11.751Z"
   },
   {
    "duration": 22,
    "start_time": "2022-09-12T18:29:11.786Z"
   },
   {
    "duration": 20,
    "start_time": "2022-09-12T18:29:11.811Z"
   },
   {
    "duration": 35,
    "start_time": "2022-09-12T18:29:11.833Z"
   },
   {
    "duration": 30,
    "start_time": "2022-09-12T18:29:11.869Z"
   },
   {
    "duration": 36,
    "start_time": "2022-09-12T18:29:11.901Z"
   },
   {
    "duration": 25,
    "start_time": "2022-09-12T18:29:11.938Z"
   },
   {
    "duration": 19,
    "start_time": "2022-09-12T18:29:11.965Z"
   },
   {
    "duration": 22,
    "start_time": "2022-09-12T18:29:11.985Z"
   },
   {
    "duration": 44,
    "start_time": "2022-09-12T18:29:12.009Z"
   },
   {
    "duration": 35,
    "start_time": "2022-09-12T18:29:12.055Z"
   },
   {
    "duration": 18,
    "start_time": "2022-09-12T18:29:12.092Z"
   },
   {
    "duration": 10,
    "start_time": "2022-09-12T18:29:12.111Z"
   },
   {
    "duration": 34,
    "start_time": "2022-09-12T18:29:12.122Z"
   },
   {
    "duration": 45,
    "start_time": "2022-09-12T18:29:12.157Z"
   },
   {
    "duration": 34,
    "start_time": "2022-09-12T18:29:12.204Z"
   },
   {
    "duration": 34,
    "start_time": "2022-09-12T18:29:12.240Z"
   },
   {
    "duration": 21,
    "start_time": "2022-09-12T18:29:12.276Z"
   },
   {
    "duration": 44,
    "start_time": "2022-09-12T18:29:12.299Z"
   },
   {
    "duration": 6,
    "start_time": "2022-09-12T18:29:12.344Z"
   },
   {
    "duration": 29,
    "start_time": "2022-09-12T18:29:12.351Z"
   },
   {
    "duration": 25,
    "start_time": "2022-09-12T18:29:12.382Z"
   },
   {
    "duration": 26,
    "start_time": "2022-09-12T18:29:12.409Z"
   },
   {
    "duration": 28,
    "start_time": "2022-09-12T18:29:12.436Z"
   },
   {
    "duration": 22,
    "start_time": "2022-09-12T18:29:12.466Z"
   },
   {
    "duration": 26,
    "start_time": "2022-09-12T18:29:12.489Z"
   },
   {
    "duration": 42,
    "start_time": "2022-09-12T18:29:12.517Z"
   },
   {
    "duration": 34,
    "start_time": "2022-09-12T18:29:12.560Z"
   },
   {
    "duration": 22,
    "start_time": "2022-09-12T18:29:12.596Z"
   },
   {
    "duration": 41,
    "start_time": "2022-09-12T18:29:12.619Z"
   },
   {
    "duration": 23,
    "start_time": "2022-09-12T18:29:12.662Z"
   },
   {
    "duration": 27,
    "start_time": "2022-09-12T18:29:12.687Z"
   },
   {
    "duration": 21,
    "start_time": "2022-09-12T18:29:12.716Z"
   },
   {
    "duration": 28,
    "start_time": "2022-09-12T18:29:12.738Z"
   },
   {
    "duration": 38,
    "start_time": "2022-09-12T18:29:12.768Z"
   },
   {
    "duration": 21,
    "start_time": "2022-09-12T18:29:12.808Z"
   },
   {
    "duration": 48,
    "start_time": "2022-09-12T18:29:12.831Z"
   },
   {
    "duration": 29,
    "start_time": "2022-09-12T18:29:12.881Z"
   },
   {
    "duration": 29,
    "start_time": "2022-09-12T18:29:12.912Z"
   },
   {
    "duration": 35,
    "start_time": "2022-09-12T18:29:12.942Z"
   },
   {
    "duration": 31,
    "start_time": "2022-09-12T18:29:12.979Z"
   },
   {
    "duration": 34,
    "start_time": "2022-09-12T18:29:13.012Z"
   },
   {
    "duration": 20,
    "start_time": "2022-09-12T18:29:13.048Z"
   },
   {
    "duration": 27,
    "start_time": "2022-09-12T18:29:13.070Z"
   },
   {
    "duration": 30,
    "start_time": "2022-09-12T18:29:13.099Z"
   },
   {
    "duration": 46,
    "start_time": "2022-09-12T18:29:13.131Z"
   },
   {
    "duration": 0,
    "start_time": "2022-09-12T18:29:13.179Z"
   },
   {
    "duration": 0,
    "start_time": "2022-09-12T18:29:13.180Z"
   },
   {
    "duration": 0,
    "start_time": "2022-09-12T18:29:13.181Z"
   },
   {
    "duration": 15,
    "start_time": "2022-09-12T18:36:25.332Z"
   },
   {
    "duration": 62,
    "start_time": "2022-09-12T18:37:17.791Z"
   },
   {
    "duration": 8,
    "start_time": "2022-09-12T18:37:26.033Z"
   },
   {
    "duration": 8,
    "start_time": "2022-09-12T18:37:30.194Z"
   },
   {
    "duration": 8,
    "start_time": "2022-09-12T18:37:54.640Z"
   },
   {
    "duration": 4,
    "start_time": "2022-09-12T18:38:01.200Z"
   },
   {
    "duration": 998,
    "start_time": "2022-09-12T18:46:33.995Z"
   },
   {
    "duration": 11,
    "start_time": "2022-09-12T18:46:49.393Z"
   },
   {
    "duration": 15,
    "start_time": "2022-09-12T18:48:43.923Z"
   },
   {
    "duration": 3,
    "start_time": "2022-09-12T18:49:36.384Z"
   },
   {
    "duration": 4,
    "start_time": "2022-09-12T18:49:55.031Z"
   },
   {
    "duration": 13,
    "start_time": "2022-09-12T18:50:40.673Z"
   },
   {
    "duration": 7,
    "start_time": "2022-09-12T18:52:19.655Z"
   },
   {
    "duration": 7,
    "start_time": "2022-09-12T18:52:31.454Z"
   },
   {
    "duration": 10,
    "start_time": "2022-09-12T18:52:43.821Z"
   },
   {
    "duration": 7,
    "start_time": "2022-09-12T18:54:49.281Z"
   },
   {
    "duration": 5,
    "start_time": "2022-09-12T18:59:50.947Z"
   },
   {
    "duration": 4,
    "start_time": "2022-09-12T19:02:28.603Z"
   },
   {
    "duration": 7,
    "start_time": "2022-09-12T19:04:02.211Z"
   },
   {
    "duration": 19,
    "start_time": "2022-09-12T19:04:33.635Z"
   },
   {
    "duration": 5,
    "start_time": "2022-09-12T19:05:43.214Z"
   },
   {
    "duration": 512,
    "start_time": "2022-09-12T19:05:51.643Z"
   },
   {
    "duration": 4,
    "start_time": "2022-09-12T19:05:52.157Z"
   },
   {
    "duration": 14,
    "start_time": "2022-09-12T19:05:52.163Z"
   },
   {
    "duration": 33,
    "start_time": "2022-09-12T19:05:52.178Z"
   },
   {
    "duration": 36,
    "start_time": "2022-09-12T19:05:52.213Z"
   },
   {
    "duration": 21,
    "start_time": "2022-09-12T19:05:52.251Z"
   },
   {
    "duration": 12,
    "start_time": "2022-09-12T19:05:52.274Z"
   },
   {
    "duration": 17,
    "start_time": "2022-09-12T19:05:52.287Z"
   },
   {
    "duration": 39,
    "start_time": "2022-09-12T19:05:52.305Z"
   },
   {
    "duration": 11,
    "start_time": "2022-09-12T19:05:52.346Z"
   },
   {
    "duration": 4,
    "start_time": "2022-09-12T19:05:52.359Z"
   },
   {
    "duration": 12,
    "start_time": "2022-09-12T19:05:52.364Z"
   },
   {
    "duration": 12,
    "start_time": "2022-09-12T19:05:52.378Z"
   },
   {
    "duration": 12,
    "start_time": "2022-09-12T19:05:52.393Z"
   },
   {
    "duration": 11,
    "start_time": "2022-09-12T19:05:52.407Z"
   },
   {
    "duration": 13,
    "start_time": "2022-09-12T19:05:52.436Z"
   },
   {
    "duration": 9,
    "start_time": "2022-09-12T19:05:52.450Z"
   },
   {
    "duration": 12,
    "start_time": "2022-09-12T19:05:52.460Z"
   },
   {
    "duration": 15,
    "start_time": "2022-09-12T19:05:52.474Z"
   },
   {
    "duration": 20,
    "start_time": "2022-09-12T19:05:52.490Z"
   },
   {
    "duration": 14,
    "start_time": "2022-09-12T19:05:52.512Z"
   },
   {
    "duration": 5,
    "start_time": "2022-09-12T19:05:52.528Z"
   },
   {
    "duration": 6,
    "start_time": "2022-09-12T19:05:52.537Z"
   },
   {
    "duration": 12,
    "start_time": "2022-09-12T19:05:52.545Z"
   },
   {
    "duration": 11,
    "start_time": "2022-09-12T19:05:52.559Z"
   },
   {
    "duration": 17,
    "start_time": "2022-09-12T19:05:52.571Z"
   },
   {
    "duration": 2,
    "start_time": "2022-09-12T19:05:52.589Z"
   },
   {
    "duration": 8,
    "start_time": "2022-09-12T19:05:52.593Z"
   },
   {
    "duration": 16,
    "start_time": "2022-09-12T19:05:52.603Z"
   },
   {
    "duration": 7,
    "start_time": "2022-09-12T19:05:52.637Z"
   },
   {
    "duration": 17,
    "start_time": "2022-09-12T19:05:52.646Z"
   },
   {
    "duration": 9,
    "start_time": "2022-09-12T19:05:52.665Z"
   },
   {
    "duration": 3,
    "start_time": "2022-09-12T19:05:52.676Z"
   },
   {
    "duration": 9,
    "start_time": "2022-09-12T19:05:52.680Z"
   },
   {
    "duration": 21,
    "start_time": "2022-09-12T19:05:52.690Z"
   },
   {
    "duration": 47,
    "start_time": "2022-09-12T19:05:52.712Z"
   },
   {
    "duration": 18,
    "start_time": "2022-09-12T19:05:52.761Z"
   },
   {
    "duration": 4,
    "start_time": "2022-09-12T19:05:52.781Z"
   },
   {
    "duration": 6,
    "start_time": "2022-09-12T19:05:52.787Z"
   },
   {
    "duration": 6,
    "start_time": "2022-09-12T19:05:52.795Z"
   },
   {
    "duration": 32,
    "start_time": "2022-09-12T19:05:52.806Z"
   },
   {
    "duration": 11,
    "start_time": "2022-09-12T19:05:52.839Z"
   },
   {
    "duration": 8,
    "start_time": "2022-09-12T19:05:52.851Z"
   },
   {
    "duration": 37,
    "start_time": "2022-09-12T19:05:52.861Z"
   },
   {
    "duration": 4,
    "start_time": "2022-09-12T19:05:52.900Z"
   },
   {
    "duration": 32,
    "start_time": "2022-09-12T19:05:52.906Z"
   },
   {
    "duration": 4,
    "start_time": "2022-09-12T19:05:52.940Z"
   },
   {
    "duration": 6,
    "start_time": "2022-09-12T19:05:52.946Z"
   },
   {
    "duration": 5,
    "start_time": "2022-09-12T19:05:52.953Z"
   },
   {
    "duration": 8,
    "start_time": "2022-09-12T19:05:52.960Z"
   },
   {
    "duration": 7,
    "start_time": "2022-09-12T19:05:52.969Z"
   },
   {
    "duration": 20,
    "start_time": "2022-09-12T19:05:52.978Z"
   },
   {
    "duration": 46,
    "start_time": "2022-09-12T19:05:52.999Z"
   },
   {
    "duration": 20,
    "start_time": "2022-09-12T19:05:53.047Z"
   },
   {
    "duration": 5,
    "start_time": "2022-09-12T19:05:53.069Z"
   },
   {
    "duration": 13,
    "start_time": "2022-09-12T19:05:53.075Z"
   },
   {
    "duration": 10,
    "start_time": "2022-09-12T19:05:53.089Z"
   },
   {
    "duration": 8,
    "start_time": "2022-09-12T19:05:53.101Z"
   },
   {
    "duration": 26,
    "start_time": "2022-09-12T19:05:53.111Z"
   },
   {
    "duration": 23,
    "start_time": "2022-09-12T19:05:53.140Z"
   },
   {
    "duration": 17,
    "start_time": "2022-09-12T19:05:53.165Z"
   },
   {
    "duration": 8,
    "start_time": "2022-09-12T19:05:53.183Z"
   },
   {
    "duration": 14,
    "start_time": "2022-09-12T19:05:53.193Z"
   },
   {
    "duration": 46,
    "start_time": "2022-09-12T19:05:53.209Z"
   },
   {
    "duration": 7,
    "start_time": "2022-09-12T19:05:53.257Z"
   },
   {
    "duration": 7,
    "start_time": "2022-09-12T19:05:53.266Z"
   },
   {
    "duration": 11,
    "start_time": "2022-09-12T19:05:53.274Z"
   },
   {
    "duration": 8,
    "start_time": "2022-09-12T19:05:53.288Z"
   },
   {
    "duration": 8,
    "start_time": "2022-09-12T19:05:53.298Z"
   },
   {
    "duration": 12,
    "start_time": "2022-09-12T19:05:53.308Z"
   },
   {
    "duration": 107,
    "start_time": "2022-09-12T19:05:53.322Z"
   },
   {
    "duration": 0,
    "start_time": "2022-09-12T19:05:53.433Z"
   },
   {
    "duration": 0,
    "start_time": "2022-09-12T19:05:53.433Z"
   },
   {
    "duration": 0,
    "start_time": "2022-09-12T19:05:53.435Z"
   },
   {
    "duration": 5,
    "start_time": "2022-09-12T19:07:32.723Z"
   },
   {
    "duration": 8,
    "start_time": "2022-09-12T19:13:26.068Z"
   },
   {
    "duration": 58,
    "start_time": "2022-09-12T19:27:30.543Z"
   },
   {
    "duration": 66,
    "start_time": "2022-09-12T19:28:43.502Z"
   },
   {
    "duration": 16,
    "start_time": "2022-09-12T19:29:34.088Z"
   },
   {
    "duration": 17,
    "start_time": "2022-09-12T19:32:06.787Z"
   },
   {
    "duration": 25,
    "start_time": "2022-09-12T19:32:32.436Z"
   },
   {
    "duration": 16,
    "start_time": "2022-09-12T19:34:48.892Z"
   },
   {
    "duration": 9,
    "start_time": "2022-09-12T19:44:09.001Z"
   },
   {
    "duration": 10,
    "start_time": "2022-09-12T19:44:15.656Z"
   },
   {
    "duration": 11,
    "start_time": "2022-09-12T19:47:23.065Z"
   },
   {
    "duration": 10,
    "start_time": "2022-09-12T19:47:28.007Z"
   },
   {
    "duration": 502,
    "start_time": "2022-09-12T19:47:45.709Z"
   },
   {
    "duration": 3,
    "start_time": "2022-09-12T19:47:46.213Z"
   },
   {
    "duration": 15,
    "start_time": "2022-09-12T19:47:46.217Z"
   },
   {
    "duration": 23,
    "start_time": "2022-09-12T19:47:46.235Z"
   },
   {
    "duration": 19,
    "start_time": "2022-09-12T19:47:46.260Z"
   },
   {
    "duration": 20,
    "start_time": "2022-09-12T19:47:46.281Z"
   },
   {
    "duration": 35,
    "start_time": "2022-09-12T19:47:46.303Z"
   },
   {
    "duration": 10,
    "start_time": "2022-09-12T19:47:46.340Z"
   },
   {
    "duration": 12,
    "start_time": "2022-09-12T19:47:46.352Z"
   },
   {
    "duration": 6,
    "start_time": "2022-09-12T19:47:46.367Z"
   },
   {
    "duration": 5,
    "start_time": "2022-09-12T19:47:46.374Z"
   },
   {
    "duration": 9,
    "start_time": "2022-09-12T19:47:46.380Z"
   },
   {
    "duration": 46,
    "start_time": "2022-09-12T19:47:46.391Z"
   },
   {
    "duration": 4,
    "start_time": "2022-09-12T19:47:46.439Z"
   },
   {
    "duration": 9,
    "start_time": "2022-09-12T19:47:46.445Z"
   },
   {
    "duration": 81,
    "start_time": "2022-09-12T19:47:46.456Z"
   },
   {
    "duration": 0,
    "start_time": "2022-09-12T19:47:46.540Z"
   },
   {
    "duration": 0,
    "start_time": "2022-09-12T19:47:46.541Z"
   },
   {
    "duration": 0,
    "start_time": "2022-09-12T19:47:46.542Z"
   },
   {
    "duration": 0,
    "start_time": "2022-09-12T19:47:46.543Z"
   },
   {
    "duration": 0,
    "start_time": "2022-09-12T19:47:46.544Z"
   },
   {
    "duration": 0,
    "start_time": "2022-09-12T19:47:46.546Z"
   },
   {
    "duration": 0,
    "start_time": "2022-09-12T19:47:46.547Z"
   },
   {
    "duration": 0,
    "start_time": "2022-09-12T19:47:46.548Z"
   },
   {
    "duration": 0,
    "start_time": "2022-09-12T19:47:46.550Z"
   },
   {
    "duration": 0,
    "start_time": "2022-09-12T19:47:46.551Z"
   },
   {
    "duration": 0,
    "start_time": "2022-09-12T19:47:46.552Z"
   },
   {
    "duration": 0,
    "start_time": "2022-09-12T19:47:46.554Z"
   },
   {
    "duration": 0,
    "start_time": "2022-09-12T19:47:46.555Z"
   },
   {
    "duration": 0,
    "start_time": "2022-09-12T19:47:46.556Z"
   },
   {
    "duration": 0,
    "start_time": "2022-09-12T19:47:46.559Z"
   },
   {
    "duration": 0,
    "start_time": "2022-09-12T19:47:46.560Z"
   },
   {
    "duration": 0,
    "start_time": "2022-09-12T19:47:46.561Z"
   },
   {
    "duration": 0,
    "start_time": "2022-09-12T19:47:46.562Z"
   },
   {
    "duration": 0,
    "start_time": "2022-09-12T19:47:46.563Z"
   },
   {
    "duration": 0,
    "start_time": "2022-09-12T19:47:46.564Z"
   },
   {
    "duration": 0,
    "start_time": "2022-09-12T19:47:46.565Z"
   },
   {
    "duration": 0,
    "start_time": "2022-09-12T19:47:46.566Z"
   },
   {
    "duration": 0,
    "start_time": "2022-09-12T19:47:46.567Z"
   },
   {
    "duration": 0,
    "start_time": "2022-09-12T19:47:46.568Z"
   },
   {
    "duration": 0,
    "start_time": "2022-09-12T19:47:46.570Z"
   },
   {
    "duration": 0,
    "start_time": "2022-09-12T19:47:46.570Z"
   },
   {
    "duration": 0,
    "start_time": "2022-09-12T19:47:46.571Z"
   },
   {
    "duration": 0,
    "start_time": "2022-09-12T19:47:46.572Z"
   },
   {
    "duration": 0,
    "start_time": "2022-09-12T19:47:46.573Z"
   },
   {
    "duration": 0,
    "start_time": "2022-09-12T19:47:46.574Z"
   },
   {
    "duration": 0,
    "start_time": "2022-09-12T19:47:46.575Z"
   },
   {
    "duration": 0,
    "start_time": "2022-09-12T19:47:46.576Z"
   },
   {
    "duration": 0,
    "start_time": "2022-09-12T19:47:46.577Z"
   },
   {
    "duration": 0,
    "start_time": "2022-09-12T19:47:46.637Z"
   },
   {
    "duration": 0,
    "start_time": "2022-09-12T19:47:46.638Z"
   },
   {
    "duration": 0,
    "start_time": "2022-09-12T19:47:46.639Z"
   },
   {
    "duration": 0,
    "start_time": "2022-09-12T19:47:46.640Z"
   },
   {
    "duration": 0,
    "start_time": "2022-09-12T19:47:46.641Z"
   },
   {
    "duration": 0,
    "start_time": "2022-09-12T19:47:46.642Z"
   },
   {
    "duration": 0,
    "start_time": "2022-09-12T19:47:46.643Z"
   },
   {
    "duration": 0,
    "start_time": "2022-09-12T19:47:46.644Z"
   },
   {
    "duration": 0,
    "start_time": "2022-09-12T19:47:46.645Z"
   },
   {
    "duration": 0,
    "start_time": "2022-09-12T19:47:46.646Z"
   },
   {
    "duration": 0,
    "start_time": "2022-09-12T19:47:46.646Z"
   },
   {
    "duration": 0,
    "start_time": "2022-09-12T19:47:46.647Z"
   },
   {
    "duration": 0,
    "start_time": "2022-09-12T19:47:46.648Z"
   },
   {
    "duration": 0,
    "start_time": "2022-09-12T19:47:46.649Z"
   },
   {
    "duration": 0,
    "start_time": "2022-09-12T19:47:46.650Z"
   },
   {
    "duration": 0,
    "start_time": "2022-09-12T19:47:46.651Z"
   },
   {
    "duration": 0,
    "start_time": "2022-09-12T19:47:46.652Z"
   },
   {
    "duration": 0,
    "start_time": "2022-09-12T19:47:46.653Z"
   },
   {
    "duration": 0,
    "start_time": "2022-09-12T19:47:46.654Z"
   },
   {
    "duration": 0,
    "start_time": "2022-09-12T19:47:46.654Z"
   },
   {
    "duration": 0,
    "start_time": "2022-09-12T19:47:46.656Z"
   },
   {
    "duration": 0,
    "start_time": "2022-09-12T19:47:46.657Z"
   },
   {
    "duration": 0,
    "start_time": "2022-09-12T19:47:46.658Z"
   },
   {
    "duration": 0,
    "start_time": "2022-09-12T19:47:46.659Z"
   },
   {
    "duration": 0,
    "start_time": "2022-09-12T19:47:46.660Z"
   },
   {
    "duration": 3,
    "start_time": "2022-09-12T19:48:15.626Z"
   },
   {
    "duration": 6,
    "start_time": "2022-09-12T19:48:18.723Z"
   },
   {
    "duration": 8,
    "start_time": "2022-09-12T19:48:40.143Z"
   },
   {
    "duration": 8,
    "start_time": "2022-09-12T19:48:41.878Z"
   },
   {
    "duration": 12,
    "start_time": "2022-09-12T19:49:13.250Z"
   },
   {
    "duration": 444,
    "start_time": "2022-09-12T19:49:32.598Z"
   },
   {
    "duration": 3,
    "start_time": "2022-09-12T19:49:33.044Z"
   },
   {
    "duration": 12,
    "start_time": "2022-09-12T19:49:33.049Z"
   },
   {
    "duration": 23,
    "start_time": "2022-09-12T19:49:33.063Z"
   },
   {
    "duration": 19,
    "start_time": "2022-09-12T19:49:33.088Z"
   },
   {
    "duration": 45,
    "start_time": "2022-09-12T19:49:33.108Z"
   },
   {
    "duration": 10,
    "start_time": "2022-09-12T19:49:33.154Z"
   },
   {
    "duration": 10,
    "start_time": "2022-09-12T19:49:33.165Z"
   },
   {
    "duration": 11,
    "start_time": "2022-09-12T19:49:33.176Z"
   },
   {
    "duration": 6,
    "start_time": "2022-09-12T19:49:33.189Z"
   },
   {
    "duration": 7,
    "start_time": "2022-09-12T19:49:33.196Z"
   },
   {
    "duration": 34,
    "start_time": "2022-09-12T19:49:33.204Z"
   },
   {
    "duration": 9,
    "start_time": "2022-09-12T19:49:33.239Z"
   },
   {
    "duration": 8,
    "start_time": "2022-09-12T19:49:33.251Z"
   },
   {
    "duration": 8,
    "start_time": "2022-09-12T19:49:33.261Z"
   },
   {
    "duration": 12,
    "start_time": "2022-09-12T19:49:33.271Z"
   },
   {
    "duration": 7,
    "start_time": "2022-09-12T19:49:33.284Z"
   },
   {
    "duration": 6,
    "start_time": "2022-09-12T19:49:33.292Z"
   },
   {
    "duration": 7,
    "start_time": "2022-09-12T19:49:33.299Z"
   },
   {
    "duration": 36,
    "start_time": "2022-09-12T19:49:33.307Z"
   },
   {
    "duration": 10,
    "start_time": "2022-09-12T19:49:33.345Z"
   },
   {
    "duration": 5,
    "start_time": "2022-09-12T19:49:33.356Z"
   },
   {
    "duration": 15,
    "start_time": "2022-09-12T19:49:33.363Z"
   },
   {
    "duration": 12,
    "start_time": "2022-09-12T19:49:33.380Z"
   },
   {
    "duration": 5,
    "start_time": "2022-09-12T19:49:33.393Z"
   },
   {
    "duration": 38,
    "start_time": "2022-09-12T19:49:33.400Z"
   },
   {
    "duration": 2,
    "start_time": "2022-09-12T19:49:33.440Z"
   },
   {
    "duration": 9,
    "start_time": "2022-09-12T19:49:33.444Z"
   },
   {
    "duration": 18,
    "start_time": "2022-09-12T19:49:33.454Z"
   },
   {
    "duration": 7,
    "start_time": "2022-09-12T19:49:33.474Z"
   },
   {
    "duration": 10,
    "start_time": "2022-09-12T19:49:33.482Z"
   },
   {
    "duration": 6,
    "start_time": "2022-09-12T19:49:33.494Z"
   },
   {
    "duration": 8,
    "start_time": "2022-09-12T19:49:33.502Z"
   },
   {
    "duration": 7,
    "start_time": "2022-09-12T19:49:33.511Z"
   },
   {
    "duration": 28,
    "start_time": "2022-09-12T19:49:33.519Z"
   },
   {
    "duration": 33,
    "start_time": "2022-09-12T19:49:33.548Z"
   },
   {
    "duration": 18,
    "start_time": "2022-09-12T19:49:33.582Z"
   },
   {
    "duration": 4,
    "start_time": "2022-09-12T19:49:33.602Z"
   },
   {
    "duration": 34,
    "start_time": "2022-09-12T19:49:33.607Z"
   },
   {
    "duration": 5,
    "start_time": "2022-09-12T19:49:33.642Z"
   },
   {
    "duration": 4,
    "start_time": "2022-09-12T19:49:33.651Z"
   },
   {
    "duration": 11,
    "start_time": "2022-09-12T19:49:33.657Z"
   },
   {
    "duration": 6,
    "start_time": "2022-09-12T19:49:33.670Z"
   },
   {
    "duration": 34,
    "start_time": "2022-09-12T19:49:33.678Z"
   },
   {
    "duration": 5,
    "start_time": "2022-09-12T19:49:33.738Z"
   },
   {
    "duration": 11,
    "start_time": "2022-09-12T19:49:33.744Z"
   },
   {
    "duration": 6,
    "start_time": "2022-09-12T19:49:33.756Z"
   },
   {
    "duration": 6,
    "start_time": "2022-09-12T19:49:33.763Z"
   },
   {
    "duration": 5,
    "start_time": "2022-09-12T19:49:33.770Z"
   },
   {
    "duration": 5,
    "start_time": "2022-09-12T19:49:33.777Z"
   },
   {
    "duration": 3,
    "start_time": "2022-09-12T19:49:33.784Z"
   },
   {
    "duration": 19,
    "start_time": "2022-09-12T19:49:33.788Z"
   },
   {
    "duration": 41,
    "start_time": "2022-09-12T19:49:33.808Z"
   },
   {
    "duration": 15,
    "start_time": "2022-09-12T19:49:33.851Z"
   },
   {
    "duration": 4,
    "start_time": "2022-09-12T19:49:33.867Z"
   },
   {
    "duration": 8,
    "start_time": "2022-09-12T19:49:33.873Z"
   },
   {
    "duration": 7,
    "start_time": "2022-09-12T19:49:33.883Z"
   },
   {
    "duration": 6,
    "start_time": "2022-09-12T19:49:33.891Z"
   },
   {
    "duration": 7,
    "start_time": "2022-09-12T19:49:33.898Z"
   },
   {
    "duration": 35,
    "start_time": "2022-09-12T19:49:33.906Z"
   },
   {
    "duration": 10,
    "start_time": "2022-09-12T19:49:33.943Z"
   },
   {
    "duration": 8,
    "start_time": "2022-09-12T19:49:33.955Z"
   },
   {
    "duration": 7,
    "start_time": "2022-09-12T19:49:33.964Z"
   },
   {
    "duration": 23,
    "start_time": "2022-09-12T19:49:33.972Z"
   },
   {
    "duration": 4,
    "start_time": "2022-09-12T19:49:33.996Z"
   },
   {
    "duration": 11,
    "start_time": "2022-09-12T19:49:34.001Z"
   },
   {
    "duration": 50,
    "start_time": "2022-09-12T19:49:34.036Z"
   },
   {
    "duration": 0,
    "start_time": "2022-09-12T19:49:34.087Z"
   },
   {
    "duration": 0,
    "start_time": "2022-09-12T19:49:34.089Z"
   },
   {
    "duration": 0,
    "start_time": "2022-09-12T19:49:34.090Z"
   },
   {
    "duration": 0,
    "start_time": "2022-09-12T19:49:34.091Z"
   },
   {
    "duration": 0,
    "start_time": "2022-09-12T19:49:34.092Z"
   },
   {
    "duration": 0,
    "start_time": "2022-09-12T19:49:34.093Z"
   },
   {
    "duration": 0,
    "start_time": "2022-09-12T19:49:34.094Z"
   },
   {
    "duration": 418,
    "start_time": "2022-09-12T19:50:30.382Z"
   },
   {
    "duration": 4,
    "start_time": "2022-09-12T19:50:30.802Z"
   },
   {
    "duration": 30,
    "start_time": "2022-09-12T19:50:30.807Z"
   },
   {
    "duration": 58,
    "start_time": "2022-09-12T19:50:30.839Z"
   },
   {
    "duration": 23,
    "start_time": "2022-09-12T19:50:30.900Z"
   },
   {
    "duration": 21,
    "start_time": "2022-09-12T19:50:30.924Z"
   },
   {
    "duration": 14,
    "start_time": "2022-09-12T19:50:30.946Z"
   },
   {
    "duration": 21,
    "start_time": "2022-09-12T19:50:30.961Z"
   },
   {
    "duration": 27,
    "start_time": "2022-09-12T19:50:30.984Z"
   },
   {
    "duration": 22,
    "start_time": "2022-09-12T19:50:31.012Z"
   },
   {
    "duration": 39,
    "start_time": "2022-09-12T19:50:31.036Z"
   },
   {
    "duration": 17,
    "start_time": "2022-09-12T19:50:31.077Z"
   },
   {
    "duration": 31,
    "start_time": "2022-09-12T19:50:31.096Z"
   },
   {
    "duration": 29,
    "start_time": "2022-09-12T19:50:31.130Z"
   },
   {
    "duration": 26,
    "start_time": "2022-09-12T19:50:31.161Z"
   },
   {
    "duration": 30,
    "start_time": "2022-09-12T19:50:31.188Z"
   },
   {
    "duration": 25,
    "start_time": "2022-09-12T19:50:31.219Z"
   },
   {
    "duration": 30,
    "start_time": "2022-09-12T19:50:31.246Z"
   },
   {
    "duration": 18,
    "start_time": "2022-09-12T19:50:31.278Z"
   },
   {
    "duration": 36,
    "start_time": "2022-09-12T19:50:31.297Z"
   },
   {
    "duration": 35,
    "start_time": "2022-09-12T19:50:31.335Z"
   },
   {
    "duration": 39,
    "start_time": "2022-09-12T19:50:31.371Z"
   },
   {
    "duration": 19,
    "start_time": "2022-09-12T19:50:31.411Z"
   },
   {
    "duration": 14,
    "start_time": "2022-09-12T19:50:31.433Z"
   },
   {
    "duration": 5,
    "start_time": "2022-09-12T19:50:31.449Z"
   },
   {
    "duration": 28,
    "start_time": "2022-09-12T19:50:31.455Z"
   },
   {
    "duration": 8,
    "start_time": "2022-09-12T19:50:31.484Z"
   },
   {
    "duration": 32,
    "start_time": "2022-09-12T19:50:31.493Z"
   },
   {
    "duration": 26,
    "start_time": "2022-09-12T19:50:31.527Z"
   },
   {
    "duration": 22,
    "start_time": "2022-09-12T19:50:31.555Z"
   },
   {
    "duration": 9,
    "start_time": "2022-09-12T19:50:31.579Z"
   },
   {
    "duration": 24,
    "start_time": "2022-09-12T19:50:31.590Z"
   },
   {
    "duration": 5,
    "start_time": "2022-09-12T19:50:31.616Z"
   },
   {
    "duration": 7,
    "start_time": "2022-09-12T19:50:31.623Z"
   },
   {
    "duration": 22,
    "start_time": "2022-09-12T19:50:31.632Z"
   },
   {
    "duration": 32,
    "start_time": "2022-09-12T19:50:31.656Z"
   },
   {
    "duration": 17,
    "start_time": "2022-09-12T19:50:31.690Z"
   },
   {
    "duration": 3,
    "start_time": "2022-09-12T19:50:31.709Z"
   },
   {
    "duration": 6,
    "start_time": "2022-09-12T19:50:31.737Z"
   },
   {
    "duration": 12,
    "start_time": "2022-09-12T19:50:31.744Z"
   },
   {
    "duration": 5,
    "start_time": "2022-09-12T19:50:31.761Z"
   },
   {
    "duration": 11,
    "start_time": "2022-09-12T19:50:31.768Z"
   },
   {
    "duration": 12,
    "start_time": "2022-09-12T19:50:31.781Z"
   },
   {
    "duration": 43,
    "start_time": "2022-09-12T19:50:31.794Z"
   },
   {
    "duration": 4,
    "start_time": "2022-09-12T19:50:31.839Z"
   },
   {
    "duration": 27,
    "start_time": "2022-09-12T19:50:31.844Z"
   },
   {
    "duration": 7,
    "start_time": "2022-09-12T19:50:31.873Z"
   },
   {
    "duration": 6,
    "start_time": "2022-09-12T19:50:31.882Z"
   },
   {
    "duration": 12,
    "start_time": "2022-09-12T19:50:31.889Z"
   },
   {
    "duration": 12,
    "start_time": "2022-09-12T19:50:31.903Z"
   },
   {
    "duration": 8,
    "start_time": "2022-09-12T19:50:31.916Z"
   },
   {
    "duration": 20,
    "start_time": "2022-09-12T19:50:31.925Z"
   },
   {
    "duration": 25,
    "start_time": "2022-09-12T19:50:31.947Z"
   },
   {
    "duration": 16,
    "start_time": "2022-09-12T19:50:31.974Z"
   },
   {
    "duration": 4,
    "start_time": "2022-09-12T19:50:31.992Z"
   },
   {
    "duration": 8,
    "start_time": "2022-09-12T19:50:31.997Z"
   },
   {
    "duration": 5,
    "start_time": "2022-09-12T19:50:32.007Z"
   },
   {
    "duration": 26,
    "start_time": "2022-09-12T19:50:32.014Z"
   },
   {
    "duration": 5,
    "start_time": "2022-09-12T19:50:32.042Z"
   },
   {
    "duration": 28,
    "start_time": "2022-09-12T19:50:32.049Z"
   },
   {
    "duration": 16,
    "start_time": "2022-09-12T19:50:32.079Z"
   },
   {
    "duration": 11,
    "start_time": "2022-09-12T19:50:32.096Z"
   },
   {
    "duration": 12,
    "start_time": "2022-09-12T19:50:32.109Z"
   },
   {
    "duration": 28,
    "start_time": "2022-09-12T19:50:32.123Z"
   },
   {
    "duration": 5,
    "start_time": "2022-09-12T19:50:32.153Z"
   },
   {
    "duration": 15,
    "start_time": "2022-09-12T19:50:32.159Z"
   },
   {
    "duration": 66,
    "start_time": "2022-09-12T19:50:32.175Z"
   },
   {
    "duration": 0,
    "start_time": "2022-09-12T19:50:32.243Z"
   },
   {
    "duration": 0,
    "start_time": "2022-09-12T19:50:32.244Z"
   },
   {
    "duration": 0,
    "start_time": "2022-09-12T19:50:32.245Z"
   },
   {
    "duration": 0,
    "start_time": "2022-09-12T19:50:32.246Z"
   },
   {
    "duration": 0,
    "start_time": "2022-09-12T19:50:32.247Z"
   },
   {
    "duration": 0,
    "start_time": "2022-09-12T19:50:32.248Z"
   },
   {
    "duration": 0,
    "start_time": "2022-09-12T19:50:32.249Z"
   },
   {
    "duration": 474,
    "start_time": "2022-09-12T19:50:59.482Z"
   },
   {
    "duration": 4,
    "start_time": "2022-09-12T19:50:59.958Z"
   },
   {
    "duration": 16,
    "start_time": "2022-09-12T19:50:59.963Z"
   },
   {
    "duration": 26,
    "start_time": "2022-09-12T19:50:59.981Z"
   },
   {
    "duration": 44,
    "start_time": "2022-09-12T19:51:00.009Z"
   },
   {
    "duration": 22,
    "start_time": "2022-09-12T19:51:00.055Z"
   },
   {
    "duration": 11,
    "start_time": "2022-09-12T19:51:00.079Z"
   },
   {
    "duration": 23,
    "start_time": "2022-09-12T19:51:00.092Z"
   },
   {
    "duration": 29,
    "start_time": "2022-09-12T19:51:00.117Z"
   },
   {
    "duration": 12,
    "start_time": "2022-09-12T19:51:00.148Z"
   },
   {
    "duration": 23,
    "start_time": "2022-09-12T19:51:00.161Z"
   },
   {
    "duration": 16,
    "start_time": "2022-09-12T19:51:00.186Z"
   },
   {
    "duration": 13,
    "start_time": "2022-09-12T19:51:00.204Z"
   },
   {
    "duration": 14,
    "start_time": "2022-09-12T19:51:00.223Z"
   },
   {
    "duration": 15,
    "start_time": "2022-09-12T19:51:00.239Z"
   },
   {
    "duration": 30,
    "start_time": "2022-09-12T19:51:00.256Z"
   },
   {
    "duration": 10,
    "start_time": "2022-09-12T19:51:00.289Z"
   },
   {
    "duration": 11,
    "start_time": "2022-09-12T19:51:00.301Z"
   },
   {
    "duration": 9,
    "start_time": "2022-09-12T19:51:00.314Z"
   },
   {
    "duration": 20,
    "start_time": "2022-09-12T19:51:00.325Z"
   },
   {
    "duration": 28,
    "start_time": "2022-09-12T19:51:00.346Z"
   },
   {
    "duration": 5,
    "start_time": "2022-09-12T19:51:00.376Z"
   },
   {
    "duration": 8,
    "start_time": "2022-09-12T19:51:00.382Z"
   },
   {
    "duration": 16,
    "start_time": "2022-09-12T19:51:00.391Z"
   },
   {
    "duration": 12,
    "start_time": "2022-09-12T19:51:00.408Z"
   },
   {
    "duration": 33,
    "start_time": "2022-09-12T19:51:00.422Z"
   },
   {
    "duration": 4,
    "start_time": "2022-09-12T19:51:00.457Z"
   },
   {
    "duration": 14,
    "start_time": "2022-09-12T19:51:00.463Z"
   },
   {
    "duration": 21,
    "start_time": "2022-09-12T19:51:00.478Z"
   },
   {
    "duration": 14,
    "start_time": "2022-09-12T19:51:00.500Z"
   },
   {
    "duration": 18,
    "start_time": "2022-09-12T19:51:00.516Z"
   },
   {
    "duration": 42,
    "start_time": "2022-09-12T19:51:00.537Z"
   },
   {
    "duration": 47,
    "start_time": "2022-09-12T19:51:00.581Z"
   },
   {
    "duration": 91,
    "start_time": "2022-09-12T19:51:00.630Z"
   },
   {
    "duration": 76,
    "start_time": "2022-09-12T19:51:00.723Z"
   },
   {
    "duration": 68,
    "start_time": "2022-09-12T19:51:00.801Z"
   },
   {
    "duration": 20,
    "start_time": "2022-09-12T19:51:00.870Z"
   },
   {
    "duration": 4,
    "start_time": "2022-09-12T19:51:00.892Z"
   },
   {
    "duration": 32,
    "start_time": "2022-09-12T19:51:00.897Z"
   },
   {
    "duration": 15,
    "start_time": "2022-09-12T19:51:00.931Z"
   },
   {
    "duration": 25,
    "start_time": "2022-09-12T19:51:00.951Z"
   },
   {
    "duration": 22,
    "start_time": "2022-09-12T19:51:00.978Z"
   },
   {
    "duration": 15,
    "start_time": "2022-09-12T19:51:01.002Z"
   },
   {
    "duration": 52,
    "start_time": "2022-09-12T19:51:01.019Z"
   },
   {
    "duration": 5,
    "start_time": "2022-09-12T19:51:01.073Z"
   },
   {
    "duration": 21,
    "start_time": "2022-09-12T19:51:01.079Z"
   },
   {
    "duration": 15,
    "start_time": "2022-09-12T19:51:01.102Z"
   },
   {
    "duration": 11,
    "start_time": "2022-09-12T19:51:01.118Z"
   },
   {
    "duration": 9,
    "start_time": "2022-09-12T19:51:01.131Z"
   },
   {
    "duration": 16,
    "start_time": "2022-09-12T19:51:01.142Z"
   },
   {
    "duration": 38,
    "start_time": "2022-09-12T19:51:01.160Z"
   },
   {
    "duration": 100,
    "start_time": "2022-09-12T19:51:01.200Z"
   },
   {
    "duration": 41,
    "start_time": "2022-09-12T19:51:01.302Z"
   },
   {
    "duration": 80,
    "start_time": "2022-09-12T19:51:01.345Z"
   },
   {
    "duration": 20,
    "start_time": "2022-09-12T19:51:01.427Z"
   },
   {
    "duration": 16,
    "start_time": "2022-09-12T19:51:01.450Z"
   },
   {
    "duration": 19,
    "start_time": "2022-09-12T19:51:01.469Z"
   },
   {
    "duration": 16,
    "start_time": "2022-09-12T19:51:01.491Z"
   },
   {
    "duration": 7,
    "start_time": "2022-09-12T19:51:01.509Z"
   },
   {
    "duration": 78,
    "start_time": "2022-09-12T19:51:01.517Z"
   },
   {
    "duration": 25,
    "start_time": "2022-09-12T19:51:01.597Z"
   },
   {
    "duration": 8,
    "start_time": "2022-09-12T19:51:01.624Z"
   },
   {
    "duration": 5,
    "start_time": "2022-09-12T19:51:01.634Z"
   },
   {
    "duration": 28,
    "start_time": "2022-09-12T19:51:01.640Z"
   },
   {
    "duration": 24,
    "start_time": "2022-09-12T19:51:01.670Z"
   },
   {
    "duration": 33,
    "start_time": "2022-09-12T19:51:01.696Z"
   },
   {
    "duration": 49,
    "start_time": "2022-09-12T19:51:01.731Z"
   },
   {
    "duration": 0,
    "start_time": "2022-09-12T19:51:01.782Z"
   },
   {
    "duration": 0,
    "start_time": "2022-09-12T19:51:01.783Z"
   },
   {
    "duration": 0,
    "start_time": "2022-09-12T19:51:01.784Z"
   },
   {
    "duration": 0,
    "start_time": "2022-09-12T19:51:01.785Z"
   },
   {
    "duration": 0,
    "start_time": "2022-09-12T19:51:01.787Z"
   },
   {
    "duration": 0,
    "start_time": "2022-09-12T19:51:01.793Z"
   },
   {
    "duration": 0,
    "start_time": "2022-09-12T19:51:01.794Z"
   },
   {
    "duration": 474,
    "start_time": "2022-09-12T19:53:29.880Z"
   },
   {
    "duration": 4,
    "start_time": "2022-09-12T19:53:30.356Z"
   },
   {
    "duration": 36,
    "start_time": "2022-09-12T19:53:30.362Z"
   },
   {
    "duration": 35,
    "start_time": "2022-09-12T19:53:30.400Z"
   },
   {
    "duration": 18,
    "start_time": "2022-09-12T19:53:30.438Z"
   },
   {
    "duration": 19,
    "start_time": "2022-09-12T19:53:30.457Z"
   },
   {
    "duration": 12,
    "start_time": "2022-09-12T19:53:30.478Z"
   },
   {
    "duration": 27,
    "start_time": "2022-09-12T19:53:30.491Z"
   },
   {
    "duration": 36,
    "start_time": "2022-09-12T19:53:30.519Z"
   },
   {
    "duration": 9,
    "start_time": "2022-09-12T19:53:30.557Z"
   },
   {
    "duration": 6,
    "start_time": "2022-09-12T19:53:30.567Z"
   },
   {
    "duration": 24,
    "start_time": "2022-09-12T19:53:30.574Z"
   },
   {
    "duration": 37,
    "start_time": "2022-09-12T19:53:30.600Z"
   },
   {
    "duration": 14,
    "start_time": "2022-09-12T19:53:30.640Z"
   },
   {
    "duration": 14,
    "start_time": "2022-09-12T19:53:30.656Z"
   },
   {
    "duration": 12,
    "start_time": "2022-09-12T19:53:30.672Z"
   },
   {
    "duration": 14,
    "start_time": "2022-09-12T19:53:30.686Z"
   },
   {
    "duration": 15,
    "start_time": "2022-09-12T19:53:30.702Z"
   },
   {
    "duration": 17,
    "start_time": "2022-09-12T19:53:30.719Z"
   },
   {
    "duration": 44,
    "start_time": "2022-09-12T19:53:30.737Z"
   },
   {
    "duration": 14,
    "start_time": "2022-09-12T19:53:30.782Z"
   },
   {
    "duration": 12,
    "start_time": "2022-09-12T19:53:30.797Z"
   },
   {
    "duration": 13,
    "start_time": "2022-09-12T19:53:30.810Z"
   },
   {
    "duration": 15,
    "start_time": "2022-09-12T19:53:30.825Z"
   },
   {
    "duration": 5,
    "start_time": "2022-09-12T19:53:30.841Z"
   },
   {
    "duration": 18,
    "start_time": "2022-09-12T19:53:30.848Z"
   },
   {
    "duration": 10,
    "start_time": "2022-09-12T19:53:30.867Z"
   },
   {
    "duration": 22,
    "start_time": "2022-09-12T19:53:30.879Z"
   },
   {
    "duration": 16,
    "start_time": "2022-09-12T19:53:30.904Z"
   },
   {
    "duration": 26,
    "start_time": "2022-09-12T19:53:30.922Z"
   },
   {
    "duration": 13,
    "start_time": "2022-09-12T19:53:30.949Z"
   },
   {
    "duration": 14,
    "start_time": "2022-09-12T19:53:30.964Z"
   },
   {
    "duration": 7,
    "start_time": "2022-09-12T19:53:30.980Z"
   },
   {
    "duration": 8,
    "start_time": "2022-09-12T19:53:30.988Z"
   },
   {
    "duration": 58,
    "start_time": "2022-09-12T19:53:30.998Z"
   },
   {
    "duration": 46,
    "start_time": "2022-09-12T19:53:31.058Z"
   },
   {
    "duration": 17,
    "start_time": "2022-09-12T19:53:31.106Z"
   },
   {
    "duration": 13,
    "start_time": "2022-09-12T19:53:31.125Z"
   },
   {
    "duration": 22,
    "start_time": "2022-09-12T19:53:31.139Z"
   },
   {
    "duration": 29,
    "start_time": "2022-09-12T19:53:31.163Z"
   },
   {
    "duration": 15,
    "start_time": "2022-09-12T19:53:31.196Z"
   },
   {
    "duration": 30,
    "start_time": "2022-09-12T19:53:31.212Z"
   },
   {
    "duration": 13,
    "start_time": "2022-09-12T19:53:31.243Z"
   },
   {
    "duration": 44,
    "start_time": "2022-09-12T19:53:31.258Z"
   },
   {
    "duration": 4,
    "start_time": "2022-09-12T19:53:31.303Z"
   },
   {
    "duration": 13,
    "start_time": "2022-09-12T19:53:31.309Z"
   },
   {
    "duration": 8,
    "start_time": "2022-09-12T19:53:31.324Z"
   },
   {
    "duration": 10,
    "start_time": "2022-09-12T19:53:31.333Z"
   },
   {
    "duration": 18,
    "start_time": "2022-09-12T19:53:31.344Z"
   },
   {
    "duration": 8,
    "start_time": "2022-09-12T19:53:31.363Z"
   },
   {
    "duration": 8,
    "start_time": "2022-09-12T19:53:31.372Z"
   },
   {
    "duration": 22,
    "start_time": "2022-09-12T19:53:31.381Z"
   },
   {
    "duration": 29,
    "start_time": "2022-09-12T19:53:31.404Z"
   },
   {
    "duration": 18,
    "start_time": "2022-09-12T19:53:31.435Z"
   },
   {
    "duration": 6,
    "start_time": "2022-09-12T19:53:31.455Z"
   },
   {
    "duration": 17,
    "start_time": "2022-09-12T19:53:31.463Z"
   },
   {
    "duration": 17,
    "start_time": "2022-09-12T19:53:31.482Z"
   },
   {
    "duration": 15,
    "start_time": "2022-09-12T19:53:31.501Z"
   },
   {
    "duration": 36,
    "start_time": "2022-09-12T19:53:31.518Z"
   },
   {
    "duration": 26,
    "start_time": "2022-09-12T19:53:31.556Z"
   },
   {
    "duration": 14,
    "start_time": "2022-09-12T19:53:31.584Z"
   },
   {
    "duration": 7,
    "start_time": "2022-09-12T19:53:31.599Z"
   },
   {
    "duration": 9,
    "start_time": "2022-09-12T19:53:31.609Z"
   },
   {
    "duration": 28,
    "start_time": "2022-09-12T19:53:31.619Z"
   },
   {
    "duration": 15,
    "start_time": "2022-09-12T19:53:31.649Z"
   },
   {
    "duration": 14,
    "start_time": "2022-09-12T19:53:31.666Z"
   },
   {
    "duration": 49,
    "start_time": "2022-09-12T19:53:31.681Z"
   },
   {
    "duration": 0,
    "start_time": "2022-09-12T19:53:31.731Z"
   },
   {
    "duration": 1,
    "start_time": "2022-09-12T19:53:31.732Z"
   },
   {
    "duration": 0,
    "start_time": "2022-09-12T19:53:31.733Z"
   },
   {
    "duration": 0,
    "start_time": "2022-09-12T19:53:31.735Z"
   },
   {
    "duration": 0,
    "start_time": "2022-09-12T19:53:31.736Z"
   },
   {
    "duration": 0,
    "start_time": "2022-09-12T19:53:31.737Z"
   },
   {
    "duration": 0,
    "start_time": "2022-09-12T19:53:31.738Z"
   },
   {
    "duration": 20,
    "start_time": "2022-09-12T19:54:16.025Z"
   },
   {
    "duration": 65,
    "start_time": "2022-09-12T20:02:31.891Z"
   },
   {
    "duration": 1025,
    "start_time": "2022-09-12T20:02:50.732Z"
   },
   {
    "duration": 1176,
    "start_time": "2022-09-12T20:04:00.381Z"
   },
   {
    "duration": 8,
    "start_time": "2022-09-12T20:04:49.144Z"
   },
   {
    "duration": 5,
    "start_time": "2022-09-12T20:04:59.718Z"
   },
   {
    "duration": 20,
    "start_time": "2022-09-12T20:05:08.800Z"
   },
   {
    "duration": 16,
    "start_time": "2022-09-12T20:05:12.099Z"
   },
   {
    "duration": 16,
    "start_time": "2022-09-12T20:10:55.356Z"
   },
   {
    "duration": 6,
    "start_time": "2022-09-12T20:11:10.404Z"
   },
   {
    "duration": 5,
    "start_time": "2022-09-12T20:12:24.596Z"
   },
   {
    "duration": 9,
    "start_time": "2022-09-12T20:12:26.442Z"
   },
   {
    "duration": 8,
    "start_time": "2022-09-12T20:33:07.252Z"
   },
   {
    "duration": 18,
    "start_time": "2022-09-12T20:33:48.320Z"
   },
   {
    "duration": 11,
    "start_time": "2022-09-12T20:53:53.022Z"
   },
   {
    "duration": 19,
    "start_time": "2022-09-12T20:54:02.775Z"
   },
   {
    "duration": 4,
    "start_time": "2022-09-12T21:15:27.450Z"
   },
   {
    "duration": 8,
    "start_time": "2022-09-12T21:16:01.613Z"
   },
   {
    "duration": 6,
    "start_time": "2022-09-12T21:16:03.216Z"
   },
   {
    "duration": 21,
    "start_time": "2022-09-12T21:34:05.260Z"
   },
   {
    "duration": 18,
    "start_time": "2022-09-12T21:34:21.937Z"
   },
   {
    "duration": 14,
    "start_time": "2022-09-12T21:34:39.184Z"
   },
   {
    "duration": 5,
    "start_time": "2022-09-12T21:55:26.430Z"
   },
   {
    "duration": 11,
    "start_time": "2022-09-12T21:55:30.260Z"
   },
   {
    "duration": 6,
    "start_time": "2022-09-12T21:55:32.527Z"
   },
   {
    "duration": 6,
    "start_time": "2022-09-12T21:55:54.862Z"
   },
   {
    "duration": 7,
    "start_time": "2022-09-12T21:56:00.770Z"
   },
   {
    "duration": 5,
    "start_time": "2022-09-12T21:57:09.156Z"
   },
   {
    "duration": 10,
    "start_time": "2022-09-12T21:57:13.561Z"
   },
   {
    "duration": 7,
    "start_time": "2022-09-12T21:57:15.133Z"
   },
   {
    "duration": 5,
    "start_time": "2022-09-12T21:58:11.133Z"
   },
   {
    "duration": 12,
    "start_time": "2022-09-12T21:58:13.122Z"
   },
   {
    "duration": 11,
    "start_time": "2022-09-12T21:58:14.018Z"
   },
   {
    "duration": 7,
    "start_time": "2022-09-12T21:58:15.235Z"
   },
   {
    "duration": 5,
    "start_time": "2022-09-12T21:58:40.150Z"
   },
   {
    "duration": 9,
    "start_time": "2022-09-12T21:58:41.729Z"
   },
   {
    "duration": 7,
    "start_time": "2022-09-12T21:58:43.343Z"
   },
   {
    "duration": 7,
    "start_time": "2022-09-12T22:00:22.640Z"
   },
   {
    "duration": 18,
    "start_time": "2022-09-12T22:00:51.186Z"
   },
   {
    "duration": 17,
    "start_time": "2022-09-12T22:01:18.697Z"
   },
   {
    "duration": 16,
    "start_time": "2022-09-12T22:01:41.529Z"
   },
   {
    "duration": 22,
    "start_time": "2022-09-12T22:01:47.664Z"
   },
   {
    "duration": 6,
    "start_time": "2022-09-12T22:03:32.344Z"
   },
   {
    "duration": 64,
    "start_time": "2022-09-12T22:04:17.221Z"
   },
   {
    "duration": 10,
    "start_time": "2022-09-12T22:04:23.280Z"
   },
   {
    "duration": 6,
    "start_time": "2022-09-12T22:06:01.902Z"
   },
   {
    "duration": 7,
    "start_time": "2022-09-12T22:06:17.785Z"
   },
   {
    "duration": 9,
    "start_time": "2022-09-12T22:07:12.427Z"
   },
   {
    "duration": 18,
    "start_time": "2022-09-12T22:35:18.092Z"
   },
   {
    "duration": 5,
    "start_time": "2022-09-12T22:37:18.082Z"
   },
   {
    "duration": 10,
    "start_time": "2022-09-12T22:37:20.276Z"
   },
   {
    "duration": 6,
    "start_time": "2022-09-12T22:37:21.782Z"
   },
   {
    "duration": 9,
    "start_time": "2022-09-12T22:37:25.232Z"
   },
   {
    "duration": 17,
    "start_time": "2022-09-12T22:37:30.207Z"
   },
   {
    "duration": 18,
    "start_time": "2022-09-12T22:37:34.713Z"
   },
   {
    "duration": 5,
    "start_time": "2022-09-12T22:38:25.797Z"
   },
   {
    "duration": 9,
    "start_time": "2022-09-12T22:38:26.934Z"
   },
   {
    "duration": 6,
    "start_time": "2022-09-12T22:38:28.146Z"
   },
   {
    "duration": 16,
    "start_time": "2022-09-12T22:38:31.852Z"
   },
   {
    "duration": 6,
    "start_time": "2022-09-12T22:39:58.128Z"
   },
   {
    "duration": 4,
    "start_time": "2022-09-12T22:41:07.365Z"
   },
   {
    "duration": 11,
    "start_time": "2022-09-12T22:41:09.602Z"
   },
   {
    "duration": 10,
    "start_time": "2022-09-12T22:41:10.255Z"
   },
   {
    "duration": 6,
    "start_time": "2022-09-12T22:41:10.689Z"
   },
   {
    "duration": 10,
    "start_time": "2022-09-12T22:41:15.404Z"
   },
   {
    "duration": 20,
    "start_time": "2022-09-12T22:41:20.636Z"
   },
   {
    "duration": 20,
    "start_time": "2022-09-12T22:43:05.382Z"
   },
   {
    "duration": 25,
    "start_time": "2022-09-12T22:53:28.475Z"
   },
   {
    "duration": 17,
    "start_time": "2022-09-12T22:53:40.847Z"
   },
   {
    "duration": 20,
    "start_time": "2022-09-12T22:53:48.647Z"
   },
   {
    "duration": 508,
    "start_time": "2022-09-12T22:58:21.706Z"
   },
   {
    "duration": 4,
    "start_time": "2022-09-12T22:58:22.215Z"
   },
   {
    "duration": 14,
    "start_time": "2022-09-12T22:58:22.221Z"
   },
   {
    "duration": 24,
    "start_time": "2022-09-12T22:58:22.238Z"
   },
   {
    "duration": 19,
    "start_time": "2022-09-12T22:58:22.264Z"
   },
   {
    "duration": 19,
    "start_time": "2022-09-12T22:58:22.284Z"
   },
   {
    "duration": 37,
    "start_time": "2022-09-12T22:58:22.305Z"
   },
   {
    "duration": 10,
    "start_time": "2022-09-12T22:58:22.344Z"
   },
   {
    "duration": 10,
    "start_time": "2022-09-12T22:58:22.355Z"
   },
   {
    "duration": 6,
    "start_time": "2022-09-12T22:58:22.367Z"
   },
   {
    "duration": 4,
    "start_time": "2022-09-12T22:58:22.374Z"
   },
   {
    "duration": 8,
    "start_time": "2022-09-12T22:58:22.379Z"
   },
   {
    "duration": 10,
    "start_time": "2022-09-12T22:58:22.388Z"
   },
   {
    "duration": 42,
    "start_time": "2022-09-12T22:58:22.399Z"
   },
   {
    "duration": 8,
    "start_time": "2022-09-12T22:58:22.442Z"
   },
   {
    "duration": 7,
    "start_time": "2022-09-12T22:58:22.452Z"
   },
   {
    "duration": 8,
    "start_time": "2022-09-12T22:58:22.460Z"
   },
   {
    "duration": 5,
    "start_time": "2022-09-12T22:58:22.470Z"
   },
   {
    "duration": 8,
    "start_time": "2022-09-12T22:58:22.477Z"
   },
   {
    "duration": 12,
    "start_time": "2022-09-12T22:58:22.487Z"
   },
   {
    "duration": 42,
    "start_time": "2022-09-12T22:58:22.500Z"
   },
   {
    "duration": 6,
    "start_time": "2022-09-12T22:58:22.544Z"
   },
   {
    "duration": 8,
    "start_time": "2022-09-12T22:58:22.552Z"
   },
   {
    "duration": 11,
    "start_time": "2022-09-12T22:58:22.561Z"
   },
   {
    "duration": 7,
    "start_time": "2022-09-12T22:58:22.573Z"
   },
   {
    "duration": 12,
    "start_time": "2022-09-12T22:58:22.581Z"
   },
   {
    "duration": 3,
    "start_time": "2022-09-12T22:58:22.594Z"
   },
   {
    "duration": 2,
    "start_time": "2022-09-12T22:58:22.601Z"
   },
   {
    "duration": 11,
    "start_time": "2022-09-12T22:58:22.637Z"
   },
   {
    "duration": 11,
    "start_time": "2022-09-12T22:58:22.649Z"
   },
   {
    "duration": 10,
    "start_time": "2022-09-12T22:58:22.661Z"
   },
   {
    "duration": 7,
    "start_time": "2022-09-12T22:58:22.672Z"
   },
   {
    "duration": 7,
    "start_time": "2022-09-12T22:58:22.681Z"
   },
   {
    "duration": 9,
    "start_time": "2022-09-12T22:58:22.690Z"
   },
   {
    "duration": 26,
    "start_time": "2022-09-12T22:58:22.700Z"
   },
   {
    "duration": 38,
    "start_time": "2022-09-12T22:58:22.727Z"
   },
   {
    "duration": 24,
    "start_time": "2022-09-12T22:58:22.767Z"
   },
   {
    "duration": 4,
    "start_time": "2022-09-12T22:58:22.793Z"
   },
   {
    "duration": 8,
    "start_time": "2022-09-12T22:58:22.798Z"
   },
   {
    "duration": 4,
    "start_time": "2022-09-12T22:58:22.807Z"
   },
   {
    "duration": 11,
    "start_time": "2022-09-12T22:58:22.837Z"
   },
   {
    "duration": 20,
    "start_time": "2022-09-12T22:58:22.850Z"
   },
   {
    "duration": 10,
    "start_time": "2022-09-12T22:58:22.871Z"
   },
   {
    "duration": 34,
    "start_time": "2022-09-12T22:58:22.882Z"
   },
   {
    "duration": 5,
    "start_time": "2022-09-12T22:58:22.917Z"
   },
   {
    "duration": 6,
    "start_time": "2022-09-12T22:58:22.937Z"
   },
   {
    "duration": 9,
    "start_time": "2022-09-12T22:58:22.944Z"
   },
   {
    "duration": 6,
    "start_time": "2022-09-12T22:58:22.954Z"
   },
   {
    "duration": 5,
    "start_time": "2022-09-12T22:58:22.961Z"
   },
   {
    "duration": 8,
    "start_time": "2022-09-12T22:58:22.967Z"
   },
   {
    "duration": 5,
    "start_time": "2022-09-12T22:58:22.976Z"
   },
   {
    "duration": 18,
    "start_time": "2022-09-12T22:58:22.982Z"
   },
   {
    "duration": 47,
    "start_time": "2022-09-12T22:58:23.002Z"
   },
   {
    "duration": 19,
    "start_time": "2022-09-12T22:58:23.051Z"
   },
   {
    "duration": 4,
    "start_time": "2022-09-12T22:58:23.071Z"
   },
   {
    "duration": 8,
    "start_time": "2022-09-12T22:58:23.077Z"
   },
   {
    "duration": 6,
    "start_time": "2022-09-12T22:58:23.086Z"
   },
   {
    "duration": 10,
    "start_time": "2022-09-12T22:58:23.093Z"
   },
   {
    "duration": 4,
    "start_time": "2022-09-12T22:58:23.105Z"
   },
   {
    "duration": 34,
    "start_time": "2022-09-12T22:58:23.110Z"
   },
   {
    "duration": 10,
    "start_time": "2022-09-12T22:58:23.146Z"
   },
   {
    "duration": 5,
    "start_time": "2022-09-12T22:58:23.158Z"
   },
   {
    "duration": 46,
    "start_time": "2022-09-12T22:58:23.165Z"
   },
   {
    "duration": 0,
    "start_time": "2022-09-12T22:58:23.212Z"
   },
   {
    "duration": 0,
    "start_time": "2022-09-12T22:58:23.214Z"
   },
   {
    "duration": 0,
    "start_time": "2022-09-12T22:58:23.215Z"
   },
   {
    "duration": 0,
    "start_time": "2022-09-12T22:58:23.216Z"
   },
   {
    "duration": 0,
    "start_time": "2022-09-12T22:58:23.216Z"
   },
   {
    "duration": 0,
    "start_time": "2022-09-12T22:58:23.218Z"
   },
   {
    "duration": 0,
    "start_time": "2022-09-12T22:58:23.219Z"
   },
   {
    "duration": 0,
    "start_time": "2022-09-12T22:58:23.220Z"
   },
   {
    "duration": 0,
    "start_time": "2022-09-12T22:58:23.221Z"
   },
   {
    "duration": 0,
    "start_time": "2022-09-12T22:58:23.222Z"
   },
   {
    "duration": 0,
    "start_time": "2022-09-12T22:58:23.223Z"
   },
   {
    "duration": 459,
    "start_time": "2022-09-12T22:58:45.061Z"
   },
   {
    "duration": 3,
    "start_time": "2022-09-12T22:58:45.522Z"
   },
   {
    "duration": 17,
    "start_time": "2022-09-12T22:58:45.527Z"
   },
   {
    "duration": 23,
    "start_time": "2022-09-12T22:58:45.546Z"
   },
   {
    "duration": 18,
    "start_time": "2022-09-12T22:58:45.571Z"
   },
   {
    "duration": 19,
    "start_time": "2022-09-12T22:58:45.591Z"
   },
   {
    "duration": 12,
    "start_time": "2022-09-12T22:58:45.637Z"
   },
   {
    "duration": 11,
    "start_time": "2022-09-12T22:58:45.650Z"
   },
   {
    "duration": 10,
    "start_time": "2022-09-12T22:58:45.662Z"
   },
   {
    "duration": 6,
    "start_time": "2022-09-12T22:58:45.675Z"
   },
   {
    "duration": 5,
    "start_time": "2022-09-12T22:58:45.682Z"
   },
   {
    "duration": 9,
    "start_time": "2022-09-12T22:58:45.688Z"
   },
   {
    "duration": 42,
    "start_time": "2022-09-12T22:58:45.699Z"
   },
   {
    "duration": 13,
    "start_time": "2022-09-12T22:58:45.742Z"
   },
   {
    "duration": 8,
    "start_time": "2022-09-12T22:58:45.757Z"
   },
   {
    "duration": 3,
    "start_time": "2022-09-12T22:58:45.766Z"
   },
   {
    "duration": 10,
    "start_time": "2022-09-12T22:58:45.771Z"
   },
   {
    "duration": 8,
    "start_time": "2022-09-12T22:58:45.783Z"
   },
   {
    "duration": 7,
    "start_time": "2022-09-12T22:58:45.792Z"
   },
   {
    "duration": 9,
    "start_time": "2022-09-12T22:58:45.800Z"
   },
   {
    "duration": 11,
    "start_time": "2022-09-12T22:58:45.837Z"
   },
   {
    "duration": 5,
    "start_time": "2022-09-12T22:58:45.849Z"
   },
   {
    "duration": 10,
    "start_time": "2022-09-12T22:58:45.856Z"
   },
   {
    "duration": 10,
    "start_time": "2022-09-12T22:58:45.868Z"
   },
   {
    "duration": 5,
    "start_time": "2022-09-12T22:58:45.880Z"
   },
   {
    "duration": 12,
    "start_time": "2022-09-12T22:58:45.887Z"
   },
   {
    "duration": 2,
    "start_time": "2022-09-12T22:58:45.901Z"
   },
   {
    "duration": 3,
    "start_time": "2022-09-12T22:58:45.939Z"
   },
   {
    "duration": 14,
    "start_time": "2022-09-12T22:58:45.944Z"
   },
   {
    "duration": 7,
    "start_time": "2022-09-12T22:58:45.960Z"
   },
   {
    "duration": 10,
    "start_time": "2022-09-12T22:58:45.969Z"
   },
   {
    "duration": 9,
    "start_time": "2022-09-12T22:58:45.980Z"
   },
   {
    "duration": 5,
    "start_time": "2022-09-12T22:58:45.991Z"
   },
   {
    "duration": 7,
    "start_time": "2022-09-12T22:58:45.997Z"
   },
   {
    "duration": 35,
    "start_time": "2022-09-12T22:58:46.006Z"
   },
   {
    "duration": 31,
    "start_time": "2022-09-12T22:58:46.042Z"
   },
   {
    "duration": 16,
    "start_time": "2022-09-12T22:58:46.074Z"
   },
   {
    "duration": 3,
    "start_time": "2022-09-12T22:58:46.091Z"
   },
   {
    "duration": 9,
    "start_time": "2022-09-12T22:58:46.095Z"
   },
   {
    "duration": 4,
    "start_time": "2022-09-12T22:58:46.105Z"
   },
   {
    "duration": 3,
    "start_time": "2022-09-12T22:58:46.137Z"
   },
   {
    "duration": 19,
    "start_time": "2022-09-12T22:58:46.143Z"
   },
   {
    "duration": 7,
    "start_time": "2022-09-12T22:58:46.164Z"
   },
   {
    "duration": 34,
    "start_time": "2022-09-12T22:58:46.172Z"
   },
   {
    "duration": 4,
    "start_time": "2022-09-12T22:58:46.208Z"
   },
   {
    "duration": 27,
    "start_time": "2022-09-12T22:58:46.213Z"
   },
   {
    "duration": 5,
    "start_time": "2022-09-12T22:58:46.241Z"
   },
   {
    "duration": 5,
    "start_time": "2022-09-12T22:58:46.248Z"
   },
   {
    "duration": 9,
    "start_time": "2022-09-12T22:58:46.254Z"
   },
   {
    "duration": 6,
    "start_time": "2022-09-12T22:58:46.264Z"
   },
   {
    "duration": 4,
    "start_time": "2022-09-12T22:58:46.272Z"
   },
   {
    "duration": 19,
    "start_time": "2022-09-12T22:58:46.277Z"
   },
   {
    "duration": 42,
    "start_time": "2022-09-12T22:58:46.297Z"
   },
   {
    "duration": 18,
    "start_time": "2022-09-12T22:58:46.341Z"
   },
   {
    "duration": 4,
    "start_time": "2022-09-12T22:58:46.361Z"
   },
   {
    "duration": 10,
    "start_time": "2022-09-12T22:58:46.367Z"
   },
   {
    "duration": 6,
    "start_time": "2022-09-12T22:58:46.379Z"
   },
   {
    "duration": 6,
    "start_time": "2022-09-12T22:58:46.387Z"
   },
   {
    "duration": 4,
    "start_time": "2022-09-12T22:58:46.394Z"
   },
   {
    "duration": 41,
    "start_time": "2022-09-12T22:58:46.400Z"
   },
   {
    "duration": 12,
    "start_time": "2022-09-12T22:58:46.442Z"
   },
   {
    "duration": 6,
    "start_time": "2022-09-12T22:58:46.455Z"
   },
   {
    "duration": 4,
    "start_time": "2022-09-12T22:58:46.462Z"
   },
   {
    "duration": 22,
    "start_time": "2022-09-12T22:58:46.467Z"
   },
   {
    "duration": 7,
    "start_time": "2022-09-12T22:58:46.491Z"
   },
   {
    "duration": 39,
    "start_time": "2022-09-12T22:58:46.499Z"
   },
   {
    "duration": 5,
    "start_time": "2022-09-12T22:58:46.539Z"
   },
   {
    "duration": 16,
    "start_time": "2022-09-12T22:58:46.546Z"
   },
   {
    "duration": 6,
    "start_time": "2022-09-12T22:58:46.564Z"
   },
   {
    "duration": 10,
    "start_time": "2022-09-12T22:58:46.572Z"
   },
   {
    "duration": 21,
    "start_time": "2022-09-12T22:58:46.583Z"
   },
   {
    "duration": 45,
    "start_time": "2022-09-12T22:58:46.606Z"
   },
   {
    "duration": 18,
    "start_time": "2022-09-12T22:58:46.652Z"
   },
   {
    "duration": 18,
    "start_time": "2022-09-12T22:58:46.671Z"
   },
   {
    "duration": 407,
    "start_time": "2022-09-12T23:31:45.595Z"
   },
   {
    "duration": 3,
    "start_time": "2022-09-12T23:31:46.005Z"
   },
   {
    "duration": 23,
    "start_time": "2022-09-12T23:31:46.009Z"
   },
   {
    "duration": 23,
    "start_time": "2022-09-12T23:31:46.033Z"
   },
   {
    "duration": 19,
    "start_time": "2022-09-12T23:31:46.058Z"
   },
   {
    "duration": 29,
    "start_time": "2022-09-12T23:31:46.079Z"
   },
   {
    "duration": 10,
    "start_time": "2022-09-12T23:31:46.109Z"
   },
   {
    "duration": 20,
    "start_time": "2022-09-12T23:31:46.121Z"
   },
   {
    "duration": 10,
    "start_time": "2022-09-12T23:31:46.142Z"
   },
   {
    "duration": 6,
    "start_time": "2022-09-12T23:31:46.154Z"
   },
   {
    "duration": 7,
    "start_time": "2022-09-12T23:31:46.162Z"
   },
   {
    "duration": 27,
    "start_time": "2022-09-12T23:31:46.170Z"
   },
   {
    "duration": 17,
    "start_time": "2022-09-12T23:31:46.198Z"
   },
   {
    "duration": 15,
    "start_time": "2022-09-12T23:31:46.218Z"
   },
   {
    "duration": 10,
    "start_time": "2022-09-12T23:31:46.234Z"
   },
   {
    "duration": 7,
    "start_time": "2022-09-12T23:31:46.246Z"
   },
   {
    "duration": 16,
    "start_time": "2022-09-12T23:31:46.254Z"
   },
   {
    "duration": 19,
    "start_time": "2022-09-12T23:31:46.271Z"
   },
   {
    "duration": 13,
    "start_time": "2022-09-12T23:31:46.291Z"
   },
   {
    "duration": 21,
    "start_time": "2022-09-12T23:31:46.306Z"
   },
   {
    "duration": 15,
    "start_time": "2022-09-12T23:31:46.328Z"
   },
   {
    "duration": 16,
    "start_time": "2022-09-12T23:31:46.345Z"
   },
   {
    "duration": 19,
    "start_time": "2022-09-12T23:31:46.363Z"
   },
   {
    "duration": 10,
    "start_time": "2022-09-12T23:31:46.384Z"
   },
   {
    "duration": 14,
    "start_time": "2022-09-12T23:31:46.396Z"
   },
   {
    "duration": 16,
    "start_time": "2022-09-12T23:31:46.411Z"
   },
   {
    "duration": 16,
    "start_time": "2022-09-12T23:31:46.429Z"
   },
   {
    "duration": 12,
    "start_time": "2022-09-12T23:31:46.447Z"
   },
   {
    "duration": 24,
    "start_time": "2022-09-12T23:31:46.461Z"
   },
   {
    "duration": 15,
    "start_time": "2022-09-12T23:31:46.487Z"
   },
   {
    "duration": 7,
    "start_time": "2022-09-12T23:31:46.504Z"
   },
   {
    "duration": 10,
    "start_time": "2022-09-12T23:31:46.513Z"
   },
   {
    "duration": 5,
    "start_time": "2022-09-12T23:31:46.525Z"
   },
   {
    "duration": 21,
    "start_time": "2022-09-12T23:31:46.532Z"
   },
   {
    "duration": 22,
    "start_time": "2022-09-12T23:31:46.554Z"
   },
   {
    "duration": 31,
    "start_time": "2022-09-12T23:31:46.577Z"
   },
   {
    "duration": 16,
    "start_time": "2022-09-12T23:31:46.610Z"
   },
   {
    "duration": 3,
    "start_time": "2022-09-12T23:31:46.627Z"
   },
   {
    "duration": 9,
    "start_time": "2022-09-12T23:31:46.632Z"
   },
   {
    "duration": 8,
    "start_time": "2022-09-12T23:31:46.643Z"
   },
   {
    "duration": 19,
    "start_time": "2022-09-12T23:31:46.654Z"
   },
   {
    "duration": 12,
    "start_time": "2022-09-12T23:31:46.674Z"
   },
   {
    "duration": 7,
    "start_time": "2022-09-12T23:31:46.687Z"
   },
   {
    "duration": 39,
    "start_time": "2022-09-12T23:31:46.695Z"
   },
   {
    "duration": 4,
    "start_time": "2022-09-12T23:31:46.736Z"
   },
   {
    "duration": 13,
    "start_time": "2022-09-12T23:31:46.741Z"
   },
   {
    "duration": 22,
    "start_time": "2022-09-12T23:31:46.755Z"
   },
   {
    "duration": 27,
    "start_time": "2022-09-12T23:31:46.779Z"
   },
   {
    "duration": 13,
    "start_time": "2022-09-12T23:31:46.808Z"
   },
   {
    "duration": 25,
    "start_time": "2022-09-12T23:31:46.823Z"
   },
   {
    "duration": 5,
    "start_time": "2022-09-12T23:31:46.850Z"
   },
   {
    "duration": 36,
    "start_time": "2022-09-12T23:31:46.857Z"
   },
   {
    "duration": 18,
    "start_time": "2022-09-12T23:31:46.895Z"
   },
   {
    "duration": 16,
    "start_time": "2022-09-12T23:31:46.915Z"
   },
   {
    "duration": 4,
    "start_time": "2022-09-12T23:31:46.932Z"
   },
   {
    "duration": 11,
    "start_time": "2022-09-12T23:31:46.938Z"
   },
   {
    "duration": 14,
    "start_time": "2022-09-12T23:31:46.950Z"
   },
   {
    "duration": 14,
    "start_time": "2022-09-12T23:31:46.966Z"
   },
   {
    "duration": 19,
    "start_time": "2022-09-12T23:31:46.981Z"
   },
   {
    "duration": 27,
    "start_time": "2022-09-12T23:31:47.002Z"
   },
   {
    "duration": 11,
    "start_time": "2022-09-12T23:31:47.030Z"
   },
   {
    "duration": 21,
    "start_time": "2022-09-12T23:31:47.042Z"
   },
   {
    "duration": 14,
    "start_time": "2022-09-12T23:31:47.065Z"
   },
   {
    "duration": 25,
    "start_time": "2022-09-12T23:31:47.080Z"
   },
   {
    "duration": 25,
    "start_time": "2022-09-12T23:31:47.107Z"
   },
   {
    "duration": 21,
    "start_time": "2022-09-12T23:31:47.134Z"
   },
   {
    "duration": 13,
    "start_time": "2022-09-12T23:31:47.157Z"
   },
   {
    "duration": 27,
    "start_time": "2022-09-12T23:31:47.172Z"
   },
   {
    "duration": 18,
    "start_time": "2022-09-12T23:31:47.202Z"
   },
   {
    "duration": 24,
    "start_time": "2022-09-12T23:31:47.221Z"
   },
   {
    "duration": 30,
    "start_time": "2022-09-12T23:31:47.247Z"
   },
   {
    "duration": 20,
    "start_time": "2022-09-12T23:31:47.278Z"
   },
   {
    "duration": 16,
    "start_time": "2022-09-12T23:31:47.299Z"
   },
   {
    "duration": 25,
    "start_time": "2022-09-12T23:31:47.317Z"
   }
  ],
  "kernelspec": {
   "display_name": "Python 3 (ipykernel)",
   "language": "python",
   "name": "python3"
  },
  "language_info": {
   "codemirror_mode": {
    "name": "ipython",
    "version": 3
   },
   "file_extension": ".py",
   "mimetype": "text/x-python",
   "name": "python",
   "nbconvert_exporter": "python",
   "pygments_lexer": "ipython3",
   "version": "3.9.5"
  },
  "toc": {
   "base_numbering": 1,
   "nav_menu": {},
   "number_sections": true,
   "sideBar": true,
   "skip_h1_title": true,
   "title_cell": "Table of Contents",
   "title_sidebar": "Contents",
   "toc_cell": false,
   "toc_position": {},
   "toc_section_display": true,
   "toc_window_display": true
  }
 },
 "nbformat": 4,
 "nbformat_minor": 2
}
